{
  "nbformat": 4,
  "nbformat_minor": 0,
  "metadata": {
    "colab": {
      "provenance": [],
      "gpuType": "T4",
      "history_visible": true
    },
    "kernelspec": {
      "name": "python3",
      "display_name": "Python 3"
    },
    "language_info": {
      "name": "python"
    },
    "accelerator": "GPU"
  },
  "cells": [
    {
      "cell_type": "code",
      "execution_count": null,
      "metadata": {
        "id": "eueccXSfQQIn"
      },
      "outputs": [],
      "source": [
        "import numpy as np\n",
        "import pandas as pd\n",
        "\n",
        "import os\n",
        "\n",
        "dataset_path = r'C:\\Users\\nehaa\\OneDrive\\Desktop\\GrapeDataset.zip'\n",
        "for dirname, _, filenames in os.walk(dataset_path):\n",
        "    for filename in filenames:\n",
        "        print(os.path.join(dirname, filename))"
      ]
    },
    {
      "cell_type": "code",
      "source": [
        "import os\n",
        "import zipfile\n",
        "from google.colab import drive\n",
        "import shutil\n",
        "\n",
        "# Mount Google Drive\n",
        "drive.mount('/content/drive')\n",
        "\n",
        "# Paths\n",
        "zip_file_path = '/content/drive/MyDrive/GrapeDataset.zip'\n",
        "extract_path = '/content/GrapeDataset'\n",
        "\n",
        "# Extract dataset\n",
        "if not os.path.exists(extract_path):\n",
        "    with zipfile.ZipFile(zip_file_path, 'r') as zip_ref:\n",
        "        zip_ref.extractall(extract_path)\n",
        "    print(f\"Dataset extracted to {extract_path}\")\n",
        "else:\n",
        "    print(f\"Dataset already extracted at {extract_path}\")\n",
        "\n",
        "# Source and target directories\n",
        "source_data_dir = os.path.join(extract_path, \"Grape Plant from Plant Village Dataset\")\n",
        "target_data_dir = '/content/PartialGrapeDataset'\n",
        "\n",
        "# Verify dataset structure\n",
        "if os.path.exists(source_data_dir):\n",
        "    print(\"Dataset folder structure:\")\n",
        "    print(os.listdir(source_data_dir))  # Should list class folders\n",
        "else:\n",
        "    print(f\"Error: {source_data_dir} not found.\")\n",
        "\n",
        "# Function to extract partial data\n",
        "def extract_partial_data(source_dir, target_dir, num_images_per_class):\n",
        "    os.makedirs(target_dir, exist_ok=True)\n",
        "    for class_folder in os.listdir(source_dir):\n",
        "        class_path = os.path.join(source_dir, class_folder)\n",
        "        target_class_path = os.path.join(target_dir, class_folder)\n",
        "        os.makedirs(target_class_path, exist_ok=True)\n",
        "\n",
        "        if os.path.isdir(class_path):\n",
        "            # List only supported image files\n",
        "            images = [\n",
        "                img for img in os.listdir(class_path)\n",
        "                if img.lower().endswith(('.jpg', '.jpeg', '.png'))\n",
        "            ][:num_images_per_class]\n",
        "\n",
        "            for image in images:\n",
        "                src = os.path.join(class_path, image)\n",
        "                dest = os.path.join(target_class_path, image)\n",
        "                shutil.copy(src, dest)\n",
        "\n",
        "    print(f\"Data extraction completed. {num_images_per_class} images per class extracted to {target_dir}.\")\n",
        "\n",
        "# Extract partial data\n",
        "extract_partial_data(source_data_dir, target_data_dir, num_images_per_class=100)\n",
        "\n"
      ],
      "metadata": {
        "colab": {
          "base_uri": "https://localhost:8080/"
        },
        "id": "CeC2e4tFRkBc",
        "outputId": "b97077ea-55be-4aa0-8957-7d89331ca5c0"
      },
      "execution_count": null,
      "outputs": [
        {
          "output_type": "stream",
          "name": "stdout",
          "text": [
            "Drive already mounted at /content/drive; to attempt to forcibly remount, call drive.mount(\"/content/drive\", force_remount=True).\n",
            "Dataset extracted to /content/GrapeDataset\n",
            "Dataset folder structure:\n",
            "['Grape___Black_rot', 'Grape___Esca_(Black_Measles)', 'Grape___Leaf_blight_(Isariopsis_Leaf_Spot)', 'Grape___healthy']\n",
            "Data extraction completed. 100 images per class extracted to /content/PartialGrapeDataset.\n"
          ]
        }
      ]
    },
    {
      "cell_type": "code",
      "source": [
        "import os\n",
        "import shutil\n",
        "from PIL import Image\n",
        "import torch\n",
        "import torch.nn as nn\n",
        "import torch.optim as optim\n",
        "from torch.optim.lr_scheduler import CosineAnnealingLR\n",
        "from torch.utils.data import DataLoader\n",
        "from torchvision import datasets, transforms, models\n",
        "from torchvision.models import inception_v3\n",
        "import numpy as np\n",
        "from matplotlib import pyplot as plt\n",
        "from tqdm import tqdm\n",
        "import time\n",
        "from scipy import linalg\n",
        "from torch.optim.lr_scheduler import ReduceLROnPlateau\n",
        "\n",
        "class Generator(nn.Module):\n",
        "    def __init__(self, noise_dim):\n",
        "        super(Generator, self).__init__()\n",
        "        self.model = nn.Sequential(\n",
        "            nn.Linear(noise_dim, 8*8*256),\n",
        "            nn.BatchNorm1d(8*8*256),\n",
        "            nn.LeakyReLU(0.2),\n",
        "            nn.Unflatten(1, (256, 8, 8)),\n",
        "\n",
        "            nn.ConvTranspose2d(256, 128, 5, stride=2, padding=2, output_padding=1),\n",
        "            nn.BatchNorm2d(128),\n",
        "            nn.LeakyReLU(0.2),\n",
        "\n",
        "            nn.ConvTranspose2d(128, 64, 5, stride=2, padding=2, output_padding=1),\n",
        "            nn.BatchNorm2d(64),\n",
        "            nn.LeakyReLU(0.2),\n",
        "\n",
        "            nn.ConvTranspose2d(64, 32, 5, stride=2, padding=2, output_padding=1),\n",
        "            nn.BatchNorm2d(32),\n",
        "            nn.LeakyReLU(0.2),\n",
        "\n",
        "            nn.ConvTranspose2d(32, 3, 5, stride=2, padding=2, output_padding=1),\n",
        "            nn.Tanh()\n",
        "        )\n",
        "\n",
        "    def forward(self, x):\n",
        "      return self.model(x)\n",
        "\n",
        "\n",
        "class Discriminator(nn.Module):\n",
        "    def __init__(self, input_channels=3, input_height=128, input_width=128):\n",
        "        super(Discriminator, self).__init__()\n",
        "        self.main = nn.Sequential(\n",
        "            nn.Conv2d(input_channels, 64, 5, stride=2, padding=2),\n",
        "            nn.LeakyReLU(0.2),\n",
        "            nn.Dropout(0.3),\n",
        "\n",
        "            nn.Conv2d(64, 128, 5, stride=2, padding=2),\n",
        "            nn.LeakyReLU(0.2),\n",
        "            nn.Dropout(0.3),\n",
        "\n",
        "            nn.Conv2d(128, 256, 5, stride=2, padding=2),\n",
        "            nn.LeakyReLU(0.2),\n",
        "            nn.Dropout(0.3),\n",
        "\n",
        "            nn.Flatten()\n",
        "        )\n",
        "\n",
        "        # Calculate conv_out_size dynamically\n",
        "        with torch.no_grad():\n",
        "            dummy_input = torch.zeros(1, input_channels, input_height, input_width)\n",
        "            conv_out = self.main(dummy_input)\n",
        "            self.conv_out_size = conv_out.view(1, -1).size(1)\n",
        "\n",
        "        self.fc = nn.Linear(self.conv_out_size, 1)\n",
        "\n",
        "    def forward(self, x):\n",
        "        x = self.main(x)\n",
        "        return self.fc(x.view(x.size(0), -1))\n",
        "\n",
        "\n",
        "\n",
        "def discriminator_loss(real_output, fake_output):\n",
        "    real_loss = nn.BCEWithLogitsLoss()(real_output, torch.ones_like(real_output))\n",
        "    fake_loss = nn.BCEWithLogitsLoss()(fake_output, torch.zeros_like(fake_output))\n",
        "    total_loss = real_loss + fake_loss\n",
        "    return total_loss\n",
        "\n",
        "def generator_loss(fake_output):\n",
        "    return nn.BCEWithLogitsLoss()(fake_output, torch.ones_like(fake_output))\n",
        "\n",
        "\n",
        "# Function to calculate FID score\n",
        "def calculate_fid(real_images, fake_images, device, batch_size=64):\n",
        "    inception_model = inception_v3(pretrained=True, transform_input=False).to(device)\n",
        "    inception_model.fc = nn.Identity()\n",
        "    inception_model.eval()\n",
        "\n",
        "    def get_activations(images):\n",
        "        activations = []\n",
        "        with torch.no_grad():\n",
        "            for i in range(0, images.shape[0], batch_size):\n",
        "                batch = images[i:i+batch_size]\n",
        "                batch = torch.nn.functional.interpolate(batch, size=(299, 299), mode='bilinear', align_corners=False)\n",
        "                batch = batch.to(device)\n",
        "                pred = inception_model(batch)\n",
        "                activations.append(pred.cpu().numpy())\n",
        "        return np.concatenate(activations, axis=0)\n",
        "\n",
        "    real_activations = get_activations(real_images)\n",
        "    fake_activations = get_activations(fake_images)\n",
        "\n",
        "    mu_real, sigma_real = real_activations.mean(axis=0), np.cov(real_activations, rowvar=False)\n",
        "    mu_fake, sigma_fake = fake_activations.mean(axis=0), np.cov(fake_activations, rowvar=False)\n",
        "\n",
        "    diff = mu_real - mu_fake\n",
        "    covmean, _ = linalg.sqrtm(sigma_real.dot(sigma_fake), disp=False)\n",
        "    if np.iscomplexobj(covmean):\n",
        "        covmean = covmean.real\n",
        "    fid = diff.dot(diff) + np.trace(sigma_real + sigma_fake - 2 * covmean)\n",
        "    return fid\n",
        "\n",
        "\n",
        "def save_generated_images(epoch, generator, noise_dim, device, output_dir=\"GrapeDataset/Grape Plant from Plant Village Dataset\"):\n",
        "    generator.eval()\n",
        "    with torch.no_grad():\n",
        "        noise = torch.randn(100, noise_dim, device=device)  # Generate 100 images\n",
        "        generated_images = generator(noise).cpu()\n",
        "        generated_images = (generated_images + 1) / 2  # Scale to [0, 1]\n",
        "\n",
        "        # Save each generated image in the corresponding class folder\n",
        "        for i, img_tensor in enumerate(generated_images):\n",
        "            class_folder = os.path.join(output_dir, f\"class_{i % 4}\")\n",
        "            os.makedirs(class_folder, exist_ok=True)\n",
        "            img = transforms.ToPILImage()(img_tensor)\n",
        "            img.save(os.path.join(class_folder, f\"epoch_{epoch}_image_{i + 1}.png\"))\n",
        "\n",
        "    print(f\"Generated images for epoch {epoch} saved to {output_dir}.\")\n",
        "\n",
        "\n",
        "# Function to load image dataset\n",
        "def load_image_dataset(directory, batch_size):\n",
        "    transform = transforms.Compose([\n",
        "    transforms.Resize((128, 128)),  # Ensure dimensions match Discriminator input\n",
        "    transforms.RandomHorizontalFlip(),\n",
        "    transforms.RandomRotation(10),\n",
        "    transforms.ColorJitter(brightness=0.1, contrast=0.1, saturation=0.1, hue=0.1),\n",
        "    transforms.ToTensor(),\n",
        "    transforms.Normalize(mean=[0.5, 0.5, 0.5], std=[0.5, 0.5, 0.5])  # Normalize to [-1, 1]\n",
        "    ])\n",
        "\n",
        "    dataset = datasets.ImageFolder(directory, transform=transform)\n",
        "    dataloader = DataLoader(dataset, batch_size=batch_size, shuffle=True, num_workers=4, pin_memory=True)\n",
        "    return dataloader\n",
        "\n",
        "\n",
        "# Early stopping mechanism based on FID\n",
        "def should_early_stop(fid_scores, patience=10, threshold=0.1):\n",
        "    if len(fid_scores) < patience:\n",
        "        return False\n",
        "    recent_scores = fid_scores[-patience:]\n",
        "    return max(recent_scores) - min(recent_scores) < threshold\n",
        "\n",
        "\n",
        "# Training step\n",
        "def train_step(images, generator, discriminator, generator_optimizer, discriminator_optimizer, noise_dim):\n",
        "    batch_size = images.size(0)\n",
        "    noise = torch.randn(batch_size, noise_dim, device=images.device)\n",
        "\n",
        "    # Train Generator\n",
        "    generator_optimizer.zero_grad()\n",
        "    generated_images = generator(noise)\n",
        "    fake_output = discriminator(generated_images)\n",
        "    gen_loss = generator_loss(fake_output)\n",
        "    gen_loss.backward()\n",
        "    generator_optimizer.step()\n",
        "\n",
        "    # Train Discriminator\n",
        "    discriminator_optimizer.zero_grad()\n",
        "    real_output = discriminator(images)\n",
        "    fake_output = discriminator(generated_images.detach())\n",
        "    disc_loss = discriminator_loss(real_output, fake_output)\n",
        "    disc_loss.backward()\n",
        "    discriminator_optimizer.step()\n",
        "\n",
        "    return gen_loss.item(), disc_loss.item()\n",
        "\n",
        "\n",
        "def train(dataloader, epochs, noise_dim, generator, discriminator, generator_optimizer, discriminator_optimizer, gen_scheduler, disc_scheduler, device):\n",
        "    seed = torch.randn(16, noise_dim, device=device)\n",
        "    fid_scores = []\n",
        "\n",
        "    start_time = time.time()\n",
        "\n",
        "    for epoch in range(epochs):\n",
        "        print(f\"Epoch {epoch + 1}/{epochs}\")\n",
        "\n",
        "        with tqdm(total=len(dataloader), desc=f\"Epoch {epoch + 1}/{epochs}\", unit=\"batch\") as pbar:\n",
        "            for image_batch, _ in dataloader:\n",
        "                image_batch = image_batch.to(device)\n",
        "                gen_loss, disc_loss = train_step(image_batch, generator, discriminator, generator_optimizer, discriminator_optimizer, noise_dim)\n",
        "                pbar.update(1)\n",
        "                pbar.set_postfix({\"Gen Loss\": f\"{gen_loss:.4f}\", \"Disc Loss\": f\"{disc_loss:.4f}\"})\n",
        "\n",
        "        # Save generated images and calculate FID every 5 epochs\n",
        "        if (epoch + 1) % 5 == 0:\n",
        "            save_generated_images(epoch, generator=generator, noise_dim=noise_dim, device=device)\n",
        "\n",
        "            # Add FID calculation here (using actual real_images and fake_images)\n",
        "            # Example:\n",
        "            # real_images = get_real_images(dataloader)  # Define function to fetch real images\n",
        "            # fake_images = get_fake_images(generator, noise_dim, device)\n",
        "            # fid_score = calculate_fid(real_images, fake_images, device)\n",
        "            # fid_scores.append(fid_score)\n",
        "            fid_score = 0  # Placeholder until real FID calculation is implemented\n",
        "\n",
        "            # Step the schedulers\n",
        "            gen_scheduler.step(fid_score)\n",
        "            disc_scheduler.step(fid_score)\n",
        "\n",
        "        elapsed_time = time.time() - start_time\n",
        "        estimated_time = (elapsed_time / (epoch + 1)) * epochs\n",
        "        remaining_time = estimated_time - elapsed_time\n",
        "\n",
        "        print(f\"Estimated time remaining: {remaining_time/60:.2f} minutes\")\n",
        "        print(f\"Current learning rates - Generator: {gen_scheduler.optimizer.param_groups[0]['lr']:.6f}, Discriminator: {disc_scheduler.optimizer.param_groups[0]['lr']:.6f}\")\n",
        "\n",
        "    # Plot FID scores if available\n",
        "    if fid_scores:\n",
        "        plt.figure(figsize=(10, 5))\n",
        "        plt.plot(range(5, len(fid_scores) * 5 + 1, 5), fid_scores)\n",
        "        plt.xlabel('Epoch')\n",
        "        plt.ylabel('FID Score')\n",
        "        plt.title('FID Score over Training')\n",
        "        plt.savefig('fid_scores.png')\n",
        "        plt.close()\n",
        "\n",
        "\n",
        "\n",
        "# Main function\n",
        "def main():\n",
        "    # Hyperparameters\n",
        "    BATCH_SIZE = 64\n",
        "    EPOCHS = 1000\n",
        "    noise_dim = 100\n",
        "    initial_lr = 1e-4\n",
        "\n",
        "    # Set device\n",
        "    device = torch.device(\"cuda\" if torch.cuda.is_available() else \"cpu\")\n",
        "\n",
        "    # Dataset paths\n",
        "    source_data_dir = \"/content/GrapeDataset/Grape Plant from Plant Village Dataset\"\n",
        "    target_data_dir = \"/content/PartialGrapeDataset\"\n",
        "    os.makedirs(target_data_dir, exist_ok=True)\n",
        "\n",
        "    extract_partial_data(source_data_dir, target_data_dir, num_images_per_class=100)\n",
        "\n",
        "    # Load dataset\n",
        "    dataloader = load_image_dataset(target_data_dir, BATCH_SIZE)\n",
        "\n",
        "    # Model initialization\n",
        "    generator = Generator(noise_dim).to(device)\n",
        "    discriminator = Discriminator(3, 128, 128).to(device)\n",
        "\n",
        "    # Optimizers\n",
        "    generator_optimizer = optim.Adam(generator.parameters(), lr=initial_lr, betas=(0.5, 0.999))\n",
        "    discriminator_optimizer = optim.Adam(discriminator.parameters(), lr=initial_lr, betas=(0.5, 0.999))\n",
        "\n",
        "    # Learning rate schedulers\n",
        "    gen_scheduler = ReduceLROnPlateau(generator_optimizer, 'min', factor=0.5, patience=10, min_lr=1e-6)\n",
        "    disc_scheduler = ReduceLROnPlateau(discriminator_optimizer, 'min', factor=0.5, patience=10, min_lr=1e-6)\n",
        "\n",
        "    # Training\n",
        "    train(dataloader, EPOCHS, noise_dim, generator, discriminator, generator_optimizer, discriminator_optimizer, gen_scheduler, disc_scheduler, device)\n",
        "\n",
        "\n",
        "if __name__ == \"__main__\":\n",
        "    main()"
      ],
      "metadata": {
        "colab": {
          "base_uri": "https://localhost:8080/"
        },
        "id": "G411oSx3L9rT",
        "outputId": "336c5d81-957d-4544-adf8-0321d237b105"
      },
      "execution_count": null,
      "outputs": [
        {
          "output_type": "stream",
          "name": "stdout",
          "text": [
            "Data extraction completed. 100 images per class extracted to /content/PartialGrapeDataset.\n",
            "Epoch 1/1000\n"
          ]
        },
        {
          "output_type": "stream",
          "name": "stderr",
          "text": [
            "Epoch 1/1000: 100%|██████████| 13/13 [00:04<00:00,  3.22batch/s, Gen Loss=3.4142, Disc Loss=0.0913]\n"
          ]
        },
        {
          "output_type": "stream",
          "name": "stdout",
          "text": [
            "Estimated time remaining: 67.29 minutes\n",
            "Current learning rates - Generator: 0.000100, Discriminator: 0.000100\n",
            "Epoch 2/1000\n"
          ]
        },
        {
          "output_type": "stream",
          "name": "stderr",
          "text": [
            "Epoch 2/1000: 100%|██████████| 13/13 [00:05<00:00,  2.43batch/s, Gen Loss=2.1099, Disc Loss=0.2749]\n"
          ]
        },
        {
          "output_type": "stream",
          "name": "stdout",
          "text": [
            "Estimated time remaining: 78.19 minutes\n",
            "Current learning rates - Generator: 0.000100, Discriminator: 0.000100\n",
            "Epoch 3/1000\n"
          ]
        },
        {
          "output_type": "stream",
          "name": "stderr",
          "text": [
            "Epoch 3/1000: 100%|██████████| 13/13 [00:03<00:00,  3.29batch/s, Gen Loss=2.8617, Disc Loss=0.0971]\n"
          ]
        },
        {
          "output_type": "stream",
          "name": "stdout",
          "text": [
            "Estimated time remaining: 74.01 minutes\n",
            "Current learning rates - Generator: 0.000100, Discriminator: 0.000100\n",
            "Epoch 4/1000\n"
          ]
        },
        {
          "output_type": "stream",
          "name": "stderr",
          "text": [
            "Epoch 4/1000: 100%|██████████| 13/13 [00:03<00:00,  3.26batch/s, Gen Loss=3.0859, Disc Loss=0.1470]\n"
          ]
        },
        {
          "output_type": "stream",
          "name": "stdout",
          "text": [
            "Estimated time remaining: 72.02 minutes\n",
            "Current learning rates - Generator: 0.000100, Discriminator: 0.000100\n",
            "Epoch 5/1000\n"
          ]
        },
        {
          "output_type": "stream",
          "name": "stderr",
          "text": [
            "Epoch 5/1000: 100%|██████████| 13/13 [00:04<00:00,  2.67batch/s, Gen Loss=2.4277, Disc Loss=0.1181]\n"
          ]
        },
        {
          "output_type": "stream",
          "name": "stdout",
          "text": [
            "Generated images for epoch 4 saved to GrapeDataset/Grape Plant from Plant Village Dataset.\n",
            "Estimated time remaining: 75.29 minutes\n",
            "Current learning rates - Generator: 0.000100, Discriminator: 0.000100\n",
            "Epoch 6/1000\n"
          ]
        },
        {
          "output_type": "stream",
          "name": "stderr",
          "text": [
            "Epoch 6/1000: 100%|██████████| 13/13 [00:03<00:00,  3.35batch/s, Gen Loss=4.9911, Disc Loss=1.6488]\n"
          ]
        },
        {
          "output_type": "stream",
          "name": "stdout",
          "text": [
            "Estimated time remaining: 73.40 minutes\n",
            "Current learning rates - Generator: 0.000100, Discriminator: 0.000100\n",
            "Epoch 7/1000\n"
          ]
        },
        {
          "output_type": "stream",
          "name": "stderr",
          "text": [
            "Epoch 7/1000: 100%|██████████| 13/13 [00:03<00:00,  3.27batch/s, Gen Loss=1.4753, Disc Loss=0.4088]\n"
          ]
        },
        {
          "output_type": "stream",
          "name": "stdout",
          "text": [
            "Estimated time remaining: 72.27 minutes\n",
            "Current learning rates - Generator: 0.000100, Discriminator: 0.000100\n",
            "Epoch 8/1000\n"
          ]
        },
        {
          "output_type": "stream",
          "name": "stderr",
          "text": [
            "Epoch 8/1000: 100%|██████████| 13/13 [00:04<00:00,  3.07batch/s, Gen Loss=0.5894, Disc Loss=0.8941]\n"
          ]
        },
        {
          "output_type": "stream",
          "name": "stdout",
          "text": [
            "Estimated time remaining: 71.94 minutes\n",
            "Current learning rates - Generator: 0.000100, Discriminator: 0.000100\n",
            "Epoch 9/1000\n"
          ]
        },
        {
          "output_type": "stream",
          "name": "stderr",
          "text": [
            "Epoch 9/1000: 100%|██████████| 13/13 [00:05<00:00,  2.55batch/s, Gen Loss=4.7206, Disc Loss=1.6141]\n"
          ]
        },
        {
          "output_type": "stream",
          "name": "stdout",
          "text": [
            "Estimated time remaining: 73.26 minutes\n",
            "Current learning rates - Generator: 0.000100, Discriminator: 0.000100\n",
            "Epoch 10/1000\n"
          ]
        },
        {
          "output_type": "stream",
          "name": "stderr",
          "text": [
            "Epoch 10/1000: 100%|██████████| 13/13 [00:04<00:00,  3.24batch/s, Gen Loss=1.5012, Disc Loss=0.5935]\n"
          ]
        },
        {
          "output_type": "stream",
          "name": "stdout",
          "text": [
            "Generated images for epoch 9 saved to GrapeDataset/Grape Plant from Plant Village Dataset.\n",
            "Estimated time remaining: 73.11 minutes\n",
            "Current learning rates - Generator: 0.000100, Discriminator: 0.000100\n",
            "Epoch 11/1000\n"
          ]
        },
        {
          "output_type": "stream",
          "name": "stderr",
          "text": [
            "Epoch 11/1000: 100%|██████████| 13/13 [00:03<00:00,  3.28batch/s, Gen Loss=1.2476, Disc Loss=0.7349]\n"
          ]
        },
        {
          "output_type": "stream",
          "name": "stdout",
          "text": [
            "Estimated time remaining: 72.35 minutes\n",
            "Current learning rates - Generator: 0.000100, Discriminator: 0.000100\n",
            "Epoch 12/1000\n"
          ]
        },
        {
          "output_type": "stream",
          "name": "stderr",
          "text": [
            "Epoch 12/1000: 100%|██████████| 13/13 [00:05<00:00,  2.36batch/s, Gen Loss=1.3466, Disc Loss=0.4870]\n"
          ]
        },
        {
          "output_type": "stream",
          "name": "stdout",
          "text": [
            "Estimated time remaining: 73.82 minutes\n",
            "Current learning rates - Generator: 0.000100, Discriminator: 0.000100\n",
            "Epoch 13/1000\n"
          ]
        },
        {
          "output_type": "stream",
          "name": "stderr",
          "text": [
            "Epoch 13/1000: 100%|██████████| 13/13 [00:04<00:00,  3.24batch/s, Gen Loss=1.3399, Disc Loss=0.7266]\n"
          ]
        },
        {
          "output_type": "stream",
          "name": "stdout",
          "text": [
            "Estimated time remaining: 73.16 minutes\n",
            "Current learning rates - Generator: 0.000100, Discriminator: 0.000100\n",
            "Epoch 14/1000\n"
          ]
        },
        {
          "output_type": "stream",
          "name": "stderr",
          "text": [
            "Epoch 14/1000: 100%|██████████| 13/13 [00:03<00:00,  3.27batch/s, Gen Loss=1.6893, Disc Loss=0.2571]\n"
          ]
        },
        {
          "output_type": "stream",
          "name": "stdout",
          "text": [
            "Estimated time remaining: 72.54 minutes\n",
            "Current learning rates - Generator: 0.000100, Discriminator: 0.000100\n",
            "Epoch 15/1000\n"
          ]
        },
        {
          "output_type": "stream",
          "name": "stderr",
          "text": [
            "Epoch 15/1000: 100%|██████████| 13/13 [00:04<00:00,  2.61batch/s, Gen Loss=1.9859, Disc Loss=0.4114]\n"
          ]
        },
        {
          "output_type": "stream",
          "name": "stdout",
          "text": [
            "Generated images for epoch 14 saved to GrapeDataset/Grape Plant from Plant Village Dataset.\n",
            "Estimated time remaining: 73.57 minutes\n",
            "Current learning rates - Generator: 0.000100, Discriminator: 0.000100\n",
            "Epoch 16/1000\n"
          ]
        },
        {
          "output_type": "stream",
          "name": "stderr",
          "text": [
            "Epoch 16/1000: 100%|██████████| 13/13 [00:03<00:00,  3.35batch/s, Gen Loss=1.4219, Disc Loss=0.4448]\n"
          ]
        },
        {
          "output_type": "stream",
          "name": "stdout",
          "text": [
            "Estimated time remaining: 72.88 minutes\n",
            "Current learning rates - Generator: 0.000100, Discriminator: 0.000100\n",
            "Epoch 17/1000\n"
          ]
        },
        {
          "output_type": "stream",
          "name": "stderr",
          "text": [
            "Epoch 17/1000: 100%|██████████| 13/13 [00:04<00:00,  3.19batch/s, Gen Loss=1.9293, Disc Loss=0.4499]\n"
          ]
        },
        {
          "output_type": "stream",
          "name": "stdout",
          "text": [
            "Estimated time remaining: 72.46 minutes\n",
            "Current learning rates - Generator: 0.000100, Discriminator: 0.000100\n",
            "Epoch 18/1000\n"
          ]
        },
        {
          "output_type": "stream",
          "name": "stderr",
          "text": [
            "Epoch 18/1000: 100%|██████████| 13/13 [00:04<00:00,  3.03batch/s, Gen Loss=1.6372, Disc Loss=0.5803]\n"
          ]
        },
        {
          "output_type": "stream",
          "name": "stdout",
          "text": [
            "Estimated time remaining: 72.27 minutes\n",
            "Current learning rates - Generator: 0.000100, Discriminator: 0.000100\n",
            "Epoch 19/1000\n"
          ]
        },
        {
          "output_type": "stream",
          "name": "stderr",
          "text": [
            "Epoch 19/1000: 100%|██████████| 13/13 [00:04<00:00,  2.61batch/s, Gen Loss=1.8168, Disc Loss=0.5797]\n"
          ]
        },
        {
          "output_type": "stream",
          "name": "stdout",
          "text": [
            "Estimated time remaining: 72.69 minutes\n",
            "Current learning rates - Generator: 0.000100, Discriminator: 0.000100\n",
            "Epoch 20/1000\n"
          ]
        },
        {
          "output_type": "stream",
          "name": "stderr",
          "text": [
            "Epoch 20/1000: 100%|██████████| 13/13 [00:03<00:00,  3.29batch/s, Gen Loss=1.5758, Disc Loss=0.3233]\n"
          ]
        },
        {
          "output_type": "stream",
          "name": "stdout",
          "text": [
            "Generated images for epoch 19 saved to GrapeDataset/Grape Plant from Plant Village Dataset.\n",
            "Estimated time remaining: 72.54 minutes\n",
            "Current learning rates - Generator: 0.000100, Discriminator: 0.000100\n",
            "Epoch 21/1000\n"
          ]
        },
        {
          "output_type": "stream",
          "name": "stderr",
          "text": [
            "Epoch 21/1000: 100%|██████████| 13/13 [00:03<00:00,  3.29batch/s, Gen Loss=2.3623, Disc Loss=0.5845]\n"
          ]
        },
        {
          "output_type": "stream",
          "name": "stdout",
          "text": [
            "Estimated time remaining: 72.10 minutes\n",
            "Current learning rates - Generator: 0.000100, Discriminator: 0.000100\n",
            "Epoch 22/1000\n"
          ]
        },
        {
          "output_type": "stream",
          "name": "stderr",
          "text": [
            "Epoch 22/1000: 100%|██████████| 13/13 [00:05<00:00,  2.36batch/s, Gen Loss=2.2579, Disc Loss=0.2354]\n"
          ]
        },
        {
          "output_type": "stream",
          "name": "stdout",
          "text": [
            "Estimated time remaining: 72.83 minutes\n",
            "Current learning rates - Generator: 0.000100, Discriminator: 0.000100\n",
            "Epoch 23/1000\n"
          ]
        },
        {
          "output_type": "stream",
          "name": "stderr",
          "text": [
            "Epoch 23/1000: 100%|██████████| 13/13 [00:03<00:00,  3.40batch/s, Gen Loss=3.1256, Disc Loss=0.9136]\n"
          ]
        },
        {
          "output_type": "stream",
          "name": "stdout",
          "text": [
            "Estimated time remaining: 72.31 minutes\n",
            "Current learning rates - Generator: 0.000100, Discriminator: 0.000100\n",
            "Epoch 24/1000\n"
          ]
        },
        {
          "output_type": "stream",
          "name": "stderr",
          "text": [
            "Epoch 24/1000: 100%|██████████| 13/13 [00:03<00:00,  3.26batch/s, Gen Loss=1.9665, Disc Loss=0.2759]\n"
          ]
        },
        {
          "output_type": "stream",
          "name": "stdout",
          "text": [
            "Estimated time remaining: 71.94 minutes\n",
            "Current learning rates - Generator: 0.000100, Discriminator: 0.000100\n",
            "Epoch 25/1000\n"
          ]
        },
        {
          "output_type": "stream",
          "name": "stderr",
          "text": [
            "Epoch 25/1000: 100%|██████████| 13/13 [00:04<00:00,  2.76batch/s, Gen Loss=1.9291, Disc Loss=0.5460]\n"
          ]
        },
        {
          "output_type": "stream",
          "name": "stdout",
          "text": [
            "Generated images for epoch 24 saved to GrapeDataset/Grape Plant from Plant Village Dataset.\n",
            "Estimated time remaining: 72.41 minutes\n",
            "Current learning rates - Generator: 0.000100, Discriminator: 0.000100\n",
            "Epoch 26/1000\n"
          ]
        },
        {
          "output_type": "stream",
          "name": "stderr",
          "text": [
            "Epoch 26/1000: 100%|██████████| 13/13 [00:04<00:00,  3.25batch/s, Gen Loss=2.3667, Disc Loss=0.2854]\n"
          ]
        },
        {
          "output_type": "stream",
          "name": "stdout",
          "text": [
            "Estimated time remaining: 72.06 minutes\n",
            "Current learning rates - Generator: 0.000100, Discriminator: 0.000100\n",
            "Epoch 27/1000\n"
          ]
        },
        {
          "output_type": "stream",
          "name": "stderr",
          "text": [
            "Epoch 27/1000: 100%|██████████| 13/13 [00:03<00:00,  3.36batch/s, Gen Loss=2.8347, Disc Loss=0.2789]\n"
          ]
        },
        {
          "output_type": "stream",
          "name": "stdout",
          "text": [
            "Estimated time remaining: 71.65 minutes\n",
            "Current learning rates - Generator: 0.000100, Discriminator: 0.000100\n",
            "Epoch 28/1000\n"
          ]
        },
        {
          "output_type": "stream",
          "name": "stderr",
          "text": [
            "Epoch 28/1000: 100%|██████████| 13/13 [00:04<00:00,  3.10batch/s, Gen Loss=6.4757, Disc Loss=1.2938]\n"
          ]
        },
        {
          "output_type": "stream",
          "name": "stdout",
          "text": [
            "Estimated time remaining: 71.45 minutes\n",
            "Current learning rates - Generator: 0.000100, Discriminator: 0.000100\n",
            "Epoch 29/1000\n"
          ]
        },
        {
          "output_type": "stream",
          "name": "stderr",
          "text": [
            "Epoch 29/1000: 100%|██████████| 13/13 [00:05<00:00,  2.52batch/s, Gen Loss=2.4034, Disc Loss=0.1709]\n"
          ]
        },
        {
          "output_type": "stream",
          "name": "stdout",
          "text": [
            "Estimated time remaining: 71.79 minutes\n",
            "Current learning rates - Generator: 0.000100, Discriminator: 0.000100\n",
            "Epoch 30/1000\n"
          ]
        },
        {
          "output_type": "stream",
          "name": "stderr",
          "text": [
            "Epoch 30/1000: 100%|██████████| 13/13 [00:03<00:00,  3.30batch/s, Gen Loss=0.4641, Disc Loss=1.1309]\n"
          ]
        },
        {
          "output_type": "stream",
          "name": "stdout",
          "text": [
            "Generated images for epoch 29 saved to GrapeDataset/Grape Plant from Plant Village Dataset.\n",
            "Estimated time remaining: 71.67 minutes\n",
            "Current learning rates - Generator: 0.000100, Discriminator: 0.000100\n",
            "Epoch 31/1000\n"
          ]
        },
        {
          "output_type": "stream",
          "name": "stderr",
          "text": [
            "Epoch 31/1000: 100%|██████████| 13/13 [00:04<00:00,  3.24batch/s, Gen Loss=1.5180, Disc Loss=0.5776]\n"
          ]
        },
        {
          "output_type": "stream",
          "name": "stdout",
          "text": [
            "Estimated time remaining: 71.38 minutes\n",
            "Current learning rates - Generator: 0.000100, Discriminator: 0.000100\n",
            "Epoch 32/1000\n"
          ]
        },
        {
          "output_type": "stream",
          "name": "stderr",
          "text": [
            "Epoch 32/1000: 100%|██████████| 13/13 [00:05<00:00,  2.40batch/s, Gen Loss=1.5406, Disc Loss=0.3678]\n"
          ]
        },
        {
          "output_type": "stream",
          "name": "stdout",
          "text": [
            "Estimated time remaining: 71.82 minutes\n",
            "Current learning rates - Generator: 0.000100, Discriminator: 0.000100\n",
            "Epoch 33/1000\n"
          ]
        },
        {
          "output_type": "stream",
          "name": "stderr",
          "text": [
            "Epoch 33/1000: 100%|██████████| 13/13 [00:04<00:00,  3.21batch/s, Gen Loss=1.9830, Disc Loss=0.7113]\n"
          ]
        },
        {
          "output_type": "stream",
          "name": "stdout",
          "text": [
            "Estimated time remaining: 71.55 minutes\n",
            "Current learning rates - Generator: 0.000100, Discriminator: 0.000100\n",
            "Epoch 34/1000\n"
          ]
        },
        {
          "output_type": "stream",
          "name": "stderr",
          "text": [
            "Epoch 34/1000: 100%|██████████| 13/13 [00:03<00:00,  3.25batch/s, Gen Loss=1.1126, Disc Loss=0.9687]\n"
          ]
        },
        {
          "output_type": "stream",
          "name": "stdout",
          "text": [
            "Estimated time remaining: 71.27 minutes\n",
            "Current learning rates - Generator: 0.000100, Discriminator: 0.000100\n",
            "Epoch 35/1000\n"
          ]
        },
        {
          "output_type": "stream",
          "name": "stderr",
          "text": [
            "Epoch 35/1000: 100%|██████████| 13/13 [00:04<00:00,  2.80batch/s, Gen Loss=2.4482, Disc Loss=0.4486]\n"
          ]
        },
        {
          "output_type": "stream",
          "name": "stdout",
          "text": [
            "Generated images for epoch 34 saved to GrapeDataset/Grape Plant from Plant Village Dataset.\n",
            "Estimated time remaining: 71.56 minutes\n",
            "Current learning rates - Generator: 0.000100, Discriminator: 0.000100\n",
            "Epoch 36/1000\n"
          ]
        },
        {
          "output_type": "stream",
          "name": "stderr",
          "text": [
            "Epoch 36/1000: 100%|██████████| 13/13 [00:04<00:00,  3.11batch/s, Gen Loss=1.7851, Disc Loss=0.6551]\n"
          ]
        },
        {
          "output_type": "stream",
          "name": "stdout",
          "text": [
            "Estimated time remaining: 71.37 minutes\n",
            "Current learning rates - Generator: 0.000100, Discriminator: 0.000100\n",
            "Epoch 37/1000\n"
          ]
        },
        {
          "output_type": "stream",
          "name": "stderr",
          "text": [
            "Epoch 37/1000: 100%|██████████| 13/13 [00:03<00:00,  3.27batch/s, Gen Loss=1.2557, Disc Loss=0.6705]\n"
          ]
        },
        {
          "output_type": "stream",
          "name": "stdout",
          "text": [
            "Estimated time remaining: 71.10 minutes\n",
            "Current learning rates - Generator: 0.000100, Discriminator: 0.000100\n",
            "Epoch 38/1000\n"
          ]
        },
        {
          "output_type": "stream",
          "name": "stderr",
          "text": [
            "Epoch 38/1000: 100%|██████████| 13/13 [00:04<00:00,  3.23batch/s, Gen Loss=2.2210, Disc Loss=0.2594]\n"
          ]
        },
        {
          "output_type": "stream",
          "name": "stdout",
          "text": [
            "Estimated time remaining: 70.86 minutes\n",
            "Current learning rates - Generator: 0.000100, Discriminator: 0.000100\n",
            "Epoch 39/1000\n"
          ]
        },
        {
          "output_type": "stream",
          "name": "stderr",
          "text": [
            "Epoch 39/1000: 100%|██████████| 13/13 [00:05<00:00,  2.53batch/s, Gen Loss=2.6534, Disc Loss=0.2365]\n"
          ]
        },
        {
          "output_type": "stream",
          "name": "stdout",
          "text": [
            "Estimated time remaining: 71.08 minutes\n",
            "Current learning rates - Generator: 0.000100, Discriminator: 0.000100\n",
            "Epoch 40/1000\n"
          ]
        },
        {
          "output_type": "stream",
          "name": "stderr",
          "text": [
            "Epoch 40/1000: 100%|██████████| 13/13 [00:03<00:00,  3.37batch/s, Gen Loss=4.4341, Disc Loss=0.3794]\n"
          ]
        },
        {
          "output_type": "stream",
          "name": "stdout",
          "text": [
            "Generated images for epoch 39 saved to GrapeDataset/Grape Plant from Plant Village Dataset.\n",
            "Estimated time remaining: 70.96 minutes\n",
            "Current learning rates - Generator: 0.000100, Discriminator: 0.000100\n",
            "Epoch 41/1000\n"
          ]
        },
        {
          "output_type": "stream",
          "name": "stderr",
          "text": [
            "Epoch 41/1000: 100%|██████████| 13/13 [00:03<00:00,  3.36batch/s, Gen Loss=1.9880, Disc Loss=0.4551]\n"
          ]
        },
        {
          "output_type": "stream",
          "name": "stdout",
          "text": [
            "Estimated time remaining: 70.67 minutes\n",
            "Current learning rates - Generator: 0.000100, Discriminator: 0.000100\n",
            "Epoch 42/1000\n"
          ]
        },
        {
          "output_type": "stream",
          "name": "stderr",
          "text": [
            "Epoch 42/1000: 100%|██████████| 13/13 [00:05<00:00,  2.42batch/s, Gen Loss=1.0919, Disc Loss=0.7303]\n"
          ]
        },
        {
          "output_type": "stream",
          "name": "stdout",
          "text": [
            "Estimated time remaining: 70.96 minutes\n",
            "Current learning rates - Generator: 0.000100, Discriminator: 0.000100\n",
            "Epoch 43/1000\n"
          ]
        },
        {
          "output_type": "stream",
          "name": "stderr",
          "text": [
            "Epoch 43/1000: 100%|██████████| 13/13 [00:03<00:00,  3.27batch/s, Gen Loss=1.2296, Disc Loss=0.5536]\n"
          ]
        },
        {
          "output_type": "stream",
          "name": "stdout",
          "text": [
            "Estimated time remaining: 70.71 minutes\n",
            "Current learning rates - Generator: 0.000100, Discriminator: 0.000100\n",
            "Epoch 44/1000\n"
          ]
        },
        {
          "output_type": "stream",
          "name": "stderr",
          "text": [
            "Epoch 44/1000: 100%|██████████| 13/13 [00:03<00:00,  3.36batch/s, Gen Loss=0.7101, Disc Loss=1.1300]\n"
          ]
        },
        {
          "output_type": "stream",
          "name": "stdout",
          "text": [
            "Estimated time remaining: 70.44 minutes\n",
            "Current learning rates - Generator: 0.000100, Discriminator: 0.000100\n",
            "Epoch 45/1000\n"
          ]
        },
        {
          "output_type": "stream",
          "name": "stderr",
          "text": [
            "Epoch 45/1000: 100%|██████████| 13/13 [00:04<00:00,  3.15batch/s, Gen Loss=1.3373, Disc Loss=0.8206]\n"
          ]
        },
        {
          "output_type": "stream",
          "name": "stdout",
          "text": [
            "Generated images for epoch 44 saved to GrapeDataset/Grape Plant from Plant Village Dataset.\n",
            "Estimated time remaining: 70.45 minutes\n",
            "Current learning rates - Generator: 0.000100, Discriminator: 0.000100\n",
            "Epoch 46/1000\n"
          ]
        },
        {
          "output_type": "stream",
          "name": "stderr",
          "text": [
            "Epoch 46/1000: 100%|██████████| 13/13 [00:05<00:00,  2.58batch/s, Gen Loss=4.1537, Disc Loss=0.4917]\n"
          ]
        },
        {
          "output_type": "stream",
          "name": "stdout",
          "text": [
            "Estimated time remaining: 70.59 minutes\n",
            "Current learning rates - Generator: 0.000100, Discriminator: 0.000100\n",
            "Epoch 47/1000\n"
          ]
        },
        {
          "output_type": "stream",
          "name": "stderr",
          "text": [
            "Epoch 47/1000: 100%|██████████| 13/13 [00:03<00:00,  3.35batch/s, Gen Loss=1.2622, Disc Loss=0.4682]\n"
          ]
        },
        {
          "output_type": "stream",
          "name": "stdout",
          "text": [
            "Estimated time remaining: 70.33 minutes\n",
            "Current learning rates - Generator: 0.000100, Discriminator: 0.000100\n",
            "Epoch 48/1000\n"
          ]
        },
        {
          "output_type": "stream",
          "name": "stderr",
          "text": [
            "Epoch 48/1000: 100%|██████████| 13/13 [00:04<00:00,  3.16batch/s, Gen Loss=2.0277, Disc Loss=0.3378]\n"
          ]
        },
        {
          "output_type": "stream",
          "name": "stdout",
          "text": [
            "Estimated time remaining: 70.16 minutes\n",
            "Current learning rates - Generator: 0.000100, Discriminator: 0.000100\n",
            "Epoch 49/1000\n"
          ]
        },
        {
          "output_type": "stream",
          "name": "stderr",
          "text": [
            "Epoch 49/1000: 100%|██████████| 13/13 [00:05<00:00,  2.33batch/s, Gen Loss=2.3718, Disc Loss=0.4438]\n"
          ]
        },
        {
          "output_type": "stream",
          "name": "stdout",
          "text": [
            "Estimated time remaining: 70.46 minutes\n",
            "Current learning rates - Generator: 0.000100, Discriminator: 0.000100\n",
            "Epoch 50/1000\n"
          ]
        },
        {
          "output_type": "stream",
          "name": "stderr",
          "text": [
            "Epoch 50/1000: 100%|██████████| 13/13 [00:03<00:00,  3.28batch/s, Gen Loss=2.6059, Disc Loss=0.1422]\n"
          ]
        },
        {
          "output_type": "stream",
          "name": "stdout",
          "text": [
            "Generated images for epoch 49 saved to GrapeDataset/Grape Plant from Plant Village Dataset.\n",
            "Estimated time remaining: 70.51 minutes\n",
            "Current learning rates - Generator: 0.000100, Discriminator: 0.000100\n",
            "Epoch 51/1000\n"
          ]
        },
        {
          "output_type": "stream",
          "name": "stderr",
          "text": [
            "Epoch 51/1000: 100%|██████████| 13/13 [00:03<00:00,  3.37batch/s, Gen Loss=1.7294, Disc Loss=0.4292]\n"
          ]
        },
        {
          "output_type": "stream",
          "name": "stdout",
          "text": [
            "Estimated time remaining: 70.25 minutes\n",
            "Current learning rates - Generator: 0.000100, Discriminator: 0.000100\n",
            "Epoch 52/1000\n"
          ]
        },
        {
          "output_type": "stream",
          "name": "stderr",
          "text": [
            "Epoch 52/1000: 100%|██████████| 13/13 [00:05<00:00,  2.54batch/s, Gen Loss=1.8006, Disc Loss=0.4747]\n"
          ]
        },
        {
          "output_type": "stream",
          "name": "stdout",
          "text": [
            "Estimated time remaining: 70.38 minutes\n",
            "Current learning rates - Generator: 0.000100, Discriminator: 0.000100\n",
            "Epoch 53/1000\n"
          ]
        },
        {
          "output_type": "stream",
          "name": "stderr",
          "text": [
            "Epoch 53/1000: 100%|██████████| 13/13 [00:04<00:00,  3.22batch/s, Gen Loss=1.7507, Disc Loss=0.5497]\n"
          ]
        },
        {
          "output_type": "stream",
          "name": "stdout",
          "text": [
            "Estimated time remaining: 70.19 minutes\n",
            "Current learning rates - Generator: 0.000100, Discriminator: 0.000100\n",
            "Epoch 54/1000\n"
          ]
        },
        {
          "output_type": "stream",
          "name": "stderr",
          "text": [
            "Epoch 54/1000: 100%|██████████| 13/13 [00:03<00:00,  3.33batch/s, Gen Loss=1.8673, Disc Loss=0.8022]\n"
          ]
        },
        {
          "output_type": "stream",
          "name": "stdout",
          "text": [
            "Estimated time remaining: 69.96 minutes\n",
            "Current learning rates - Generator: 0.000100, Discriminator: 0.000100\n",
            "Epoch 55/1000\n"
          ]
        },
        {
          "output_type": "stream",
          "name": "stderr",
          "text": [
            "Epoch 55/1000: 100%|██████████| 13/13 [00:04<00:00,  3.19batch/s, Gen Loss=2.1584, Disc Loss=0.3668]\n"
          ]
        },
        {
          "output_type": "stream",
          "name": "stdout",
          "text": [
            "Generated images for epoch 54 saved to GrapeDataset/Grape Plant from Plant Village Dataset.\n",
            "Estimated time remaining: 69.94 minutes\n",
            "Current learning rates - Generator: 0.000100, Discriminator: 0.000100\n",
            "Epoch 56/1000\n"
          ]
        },
        {
          "output_type": "stream",
          "name": "stderr",
          "text": [
            "Epoch 56/1000: 100%|██████████| 13/13 [00:05<00:00,  2.55batch/s, Gen Loss=1.6901, Disc Loss=0.8362]\n"
          ]
        },
        {
          "output_type": "stream",
          "name": "stdout",
          "text": [
            "Estimated time remaining: 70.05 minutes\n",
            "Current learning rates - Generator: 0.000100, Discriminator: 0.000100\n",
            "Epoch 57/1000\n"
          ]
        },
        {
          "output_type": "stream",
          "name": "stderr",
          "text": [
            "Epoch 57/1000: 100%|██████████| 13/13 [00:03<00:00,  3.28batch/s, Gen Loss=1.7317, Disc Loss=0.5131]\n"
          ]
        },
        {
          "output_type": "stream",
          "name": "stdout",
          "text": [
            "Estimated time remaining: 69.84 minutes\n",
            "Current learning rates - Generator: 0.000100, Discriminator: 0.000100\n",
            "Epoch 58/1000\n"
          ]
        },
        {
          "output_type": "stream",
          "name": "stderr",
          "text": [
            "Epoch 58/1000: 100%|██████████| 13/13 [00:04<00:00,  3.24batch/s, Gen Loss=1.5805, Disc Loss=0.4715]\n"
          ]
        },
        {
          "output_type": "stream",
          "name": "stdout",
          "text": [
            "Estimated time remaining: 69.65 minutes\n",
            "Current learning rates - Generator: 0.000100, Discriminator: 0.000100\n",
            "Epoch 59/1000\n"
          ]
        },
        {
          "output_type": "stream",
          "name": "stderr",
          "text": [
            "Epoch 59/1000: 100%|██████████| 13/13 [00:05<00:00,  2.34batch/s, Gen Loss=1.5782, Disc Loss=0.3991]\n"
          ]
        },
        {
          "output_type": "stream",
          "name": "stdout",
          "text": [
            "Estimated time remaining: 69.88 minutes\n",
            "Current learning rates - Generator: 0.000100, Discriminator: 0.000100\n",
            "Epoch 60/1000\n"
          ]
        },
        {
          "output_type": "stream",
          "name": "stderr",
          "text": [
            "Epoch 60/1000: 100%|██████████| 13/13 [00:04<00:00,  3.15batch/s, Gen Loss=0.7452, Disc Loss=0.8937]\n"
          ]
        },
        {
          "output_type": "stream",
          "name": "stdout",
          "text": [
            "Generated images for epoch 59 saved to GrapeDataset/Grape Plant from Plant Village Dataset.\n",
            "Estimated time remaining: 69.83 minutes\n",
            "Current learning rates - Generator: 0.000050, Discriminator: 0.000050\n",
            "Epoch 61/1000\n"
          ]
        },
        {
          "output_type": "stream",
          "name": "stderr",
          "text": [
            "Epoch 61/1000: 100%|██████████| 13/13 [00:03<00:00,  3.30batch/s, Gen Loss=1.5807, Disc Loss=0.4328]\n"
          ]
        },
        {
          "output_type": "stream",
          "name": "stdout",
          "text": [
            "Estimated time remaining: 69.62 minutes\n",
            "Current learning rates - Generator: 0.000050, Discriminator: 0.000050\n",
            "Epoch 62/1000\n"
          ]
        },
        {
          "output_type": "stream",
          "name": "stderr",
          "text": [
            "Epoch 62/1000: 100%|██████████| 13/13 [00:04<00:00,  2.63batch/s, Gen Loss=1.4520, Disc Loss=0.5377]\n"
          ]
        },
        {
          "output_type": "stream",
          "name": "stdout",
          "text": [
            "Estimated time remaining: 69.67 minutes\n",
            "Current learning rates - Generator: 0.000050, Discriminator: 0.000050\n",
            "Epoch 63/1000\n"
          ]
        },
        {
          "output_type": "stream",
          "name": "stderr",
          "text": [
            "Epoch 63/1000: 100%|██████████| 13/13 [00:04<00:00,  2.91batch/s, Gen Loss=1.8401, Disc Loss=0.4321]\n"
          ]
        },
        {
          "output_type": "stream",
          "name": "stdout",
          "text": [
            "Estimated time remaining: 69.60 minutes\n",
            "Current learning rates - Generator: 0.000050, Discriminator: 0.000050\n",
            "Epoch 64/1000\n"
          ]
        },
        {
          "output_type": "stream",
          "name": "stderr",
          "text": [
            "Epoch 64/1000: 100%|██████████| 13/13 [00:04<00:00,  3.16batch/s, Gen Loss=1.5797, Disc Loss=0.6178]\n"
          ]
        },
        {
          "output_type": "stream",
          "name": "stdout",
          "text": [
            "Estimated time remaining: 69.45 minutes\n",
            "Current learning rates - Generator: 0.000050, Discriminator: 0.000050\n",
            "Epoch 65/1000\n"
          ]
        },
        {
          "output_type": "stream",
          "name": "stderr",
          "text": [
            "Epoch 65/1000: 100%|██████████| 13/13 [00:04<00:00,  2.69batch/s, Gen Loss=1.9738, Disc Loss=0.2707]\n"
          ]
        },
        {
          "output_type": "stream",
          "name": "stdout",
          "text": [
            "Generated images for epoch 64 saved to GrapeDataset/Grape Plant from Plant Village Dataset.\n",
            "Estimated time remaining: 69.67 minutes\n",
            "Current learning rates - Generator: 0.000050, Discriminator: 0.000050\n",
            "Epoch 66/1000\n"
          ]
        },
        {
          "output_type": "stream",
          "name": "stderr",
          "text": [
            "Epoch 66/1000: 100%|██████████| 13/13 [00:04<00:00,  2.98batch/s, Gen Loss=2.0897, Disc Loss=0.4717]\n"
          ]
        },
        {
          "output_type": "stream",
          "name": "stdout",
          "text": [
            "Estimated time remaining: 69.57 minutes\n",
            "Current learning rates - Generator: 0.000050, Discriminator: 0.000050\n",
            "Epoch 67/1000\n"
          ]
        },
        {
          "output_type": "stream",
          "name": "stderr",
          "text": [
            "Epoch 67/1000: 100%|██████████| 13/13 [00:04<00:00,  3.11batch/s, Gen Loss=1.7671, Disc Loss=0.4276]\n"
          ]
        },
        {
          "output_type": "stream",
          "name": "stdout",
          "text": [
            "Estimated time remaining: 69.43 minutes\n",
            "Current learning rates - Generator: 0.000050, Discriminator: 0.000050\n",
            "Epoch 68/1000\n"
          ]
        },
        {
          "output_type": "stream",
          "name": "stderr",
          "text": [
            "Epoch 68/1000: 100%|██████████| 13/13 [00:04<00:00,  2.75batch/s, Gen Loss=1.7674, Disc Loss=0.3346]\n"
          ]
        },
        {
          "output_type": "stream",
          "name": "stdout",
          "text": [
            "Estimated time remaining: 69.42 minutes\n",
            "Current learning rates - Generator: 0.000050, Discriminator: 0.000050\n",
            "Epoch 69/1000\n"
          ]
        },
        {
          "output_type": "stream",
          "name": "stderr",
          "text": [
            "Epoch 69/1000: 100%|██████████| 13/13 [00:05<00:00,  2.43batch/s, Gen Loss=1.6294, Disc Loss=0.4270]\n"
          ]
        },
        {
          "output_type": "stream",
          "name": "stdout",
          "text": [
            "Estimated time remaining: 69.55 minutes\n",
            "Current learning rates - Generator: 0.000050, Discriminator: 0.000050\n",
            "Epoch 70/1000\n"
          ]
        },
        {
          "output_type": "stream",
          "name": "stderr",
          "text": [
            "Epoch 70/1000: 100%|██████████| 13/13 [00:04<00:00,  3.22batch/s, Gen Loss=1.8108, Disc Loss=0.4149]\n"
          ]
        },
        {
          "output_type": "stream",
          "name": "stdout",
          "text": [
            "Generated images for epoch 69 saved to GrapeDataset/Grape Plant from Plant Village Dataset.\n",
            "Estimated time remaining: 69.53 minutes\n",
            "Current learning rates - Generator: 0.000050, Discriminator: 0.000050\n",
            "Epoch 71/1000\n"
          ]
        },
        {
          "output_type": "stream",
          "name": "stderr",
          "text": [
            "Epoch 71/1000: 100%|██████████| 13/13 [00:04<00:00,  3.15batch/s, Gen Loss=2.1405, Disc Loss=0.6135]\n"
          ]
        },
        {
          "output_type": "stream",
          "name": "stdout",
          "text": [
            "Estimated time remaining: 69.38 minutes\n",
            "Current learning rates - Generator: 0.000050, Discriminator: 0.000050\n",
            "Epoch 72/1000\n"
          ]
        },
        {
          "output_type": "stream",
          "name": "stderr",
          "text": [
            "Epoch 72/1000: 100%|██████████| 13/13 [00:05<00:00,  2.34batch/s, Gen Loss=2.2554, Disc Loss=0.1639]\n"
          ]
        },
        {
          "output_type": "stream",
          "name": "stdout",
          "text": [
            "Estimated time remaining: 69.54 minutes\n",
            "Current learning rates - Generator: 0.000050, Discriminator: 0.000050\n",
            "Epoch 73/1000\n"
          ]
        },
        {
          "output_type": "stream",
          "name": "stderr",
          "text": [
            "Epoch 73/1000: 100%|██████████| 13/13 [00:04<00:00,  3.20batch/s, Gen Loss=2.6432, Disc Loss=0.1815]\n"
          ]
        },
        {
          "output_type": "stream",
          "name": "stdout",
          "text": [
            "Estimated time remaining: 69.37 minutes\n",
            "Current learning rates - Generator: 0.000050, Discriminator: 0.000050\n",
            "Epoch 74/1000\n"
          ]
        },
        {
          "output_type": "stream",
          "name": "stderr",
          "text": [
            "Epoch 74/1000: 100%|██████████| 13/13 [00:04<00:00,  3.13batch/s, Gen Loss=2.7861, Disc Loss=0.2946]\n"
          ]
        },
        {
          "output_type": "stream",
          "name": "stdout",
          "text": [
            "Estimated time remaining: 69.23 minutes\n",
            "Current learning rates - Generator: 0.000050, Discriminator: 0.000050\n",
            "Epoch 75/1000\n"
          ]
        },
        {
          "output_type": "stream",
          "name": "stderr",
          "text": [
            "Epoch 75/1000: 100%|██████████| 13/13 [00:05<00:00,  2.27batch/s, Gen Loss=2.4308, Disc Loss=0.2923]\n"
          ]
        },
        {
          "output_type": "stream",
          "name": "stdout",
          "text": [
            "Generated images for epoch 74 saved to GrapeDataset/Grape Plant from Plant Village Dataset.\n",
            "Estimated time remaining: 69.61 minutes\n",
            "Current learning rates - Generator: 0.000050, Discriminator: 0.000050\n",
            "Epoch 76/1000\n"
          ]
        },
        {
          "output_type": "stream",
          "name": "stderr",
          "text": [
            "Epoch 76/1000: 100%|██████████| 13/13 [00:04<00:00,  3.21batch/s, Gen Loss=2.2243, Disc Loss=0.2752]\n"
          ]
        },
        {
          "output_type": "stream",
          "name": "stdout",
          "text": [
            "Estimated time remaining: 69.44 minutes\n",
            "Current learning rates - Generator: 0.000050, Discriminator: 0.000050\n",
            "Epoch 77/1000\n"
          ]
        },
        {
          "output_type": "stream",
          "name": "stderr",
          "text": [
            "Epoch 77/1000: 100%|██████████| 13/13 [00:04<00:00,  3.15batch/s, Gen Loss=1.9839, Disc Loss=0.2590]\n"
          ]
        },
        {
          "output_type": "stream",
          "name": "stdout",
          "text": [
            "Estimated time remaining: 69.29 minutes\n",
            "Current learning rates - Generator: 0.000050, Discriminator: 0.000050\n",
            "Epoch 78/1000\n"
          ]
        },
        {
          "output_type": "stream",
          "name": "stderr",
          "text": [
            "Epoch 78/1000: 100%|██████████| 13/13 [00:05<00:00,  2.40batch/s, Gen Loss=1.9408, Disc Loss=0.2443]\n"
          ]
        },
        {
          "output_type": "stream",
          "name": "stdout",
          "text": [
            "Estimated time remaining: 69.40 minutes\n",
            "Current learning rates - Generator: 0.000050, Discriminator: 0.000050\n",
            "Epoch 79/1000\n"
          ]
        },
        {
          "output_type": "stream",
          "name": "stderr",
          "text": [
            "Epoch 79/1000: 100%|██████████| 13/13 [00:04<00:00,  3.03batch/s, Gen Loss=2.0324, Disc Loss=0.3794]\n"
          ]
        },
        {
          "output_type": "stream",
          "name": "stdout",
          "text": [
            "Estimated time remaining: 69.28 minutes\n",
            "Current learning rates - Generator: 0.000050, Discriminator: 0.000050\n",
            "Epoch 80/1000\n"
          ]
        },
        {
          "output_type": "stream",
          "name": "stderr",
          "text": [
            "Epoch 80/1000: 100%|██████████| 13/13 [00:04<00:00,  3.19batch/s, Gen Loss=2.3501, Disc Loss=0.2793]\n"
          ]
        },
        {
          "output_type": "stream",
          "name": "stdout",
          "text": [
            "Generated images for epoch 79 saved to GrapeDataset/Grape Plant from Plant Village Dataset.\n",
            "Estimated time remaining: 69.30 minutes\n",
            "Current learning rates - Generator: 0.000050, Discriminator: 0.000050\n",
            "Epoch 81/1000\n"
          ]
        },
        {
          "output_type": "stream",
          "name": "stderr",
          "text": [
            "Epoch 81/1000: 100%|██████████| 13/13 [00:05<00:00,  2.50batch/s, Gen Loss=2.2921, Disc Loss=0.3290]\n"
          ]
        },
        {
          "output_type": "stream",
          "name": "stdout",
          "text": [
            "Estimated time remaining: 69.36 minutes\n",
            "Current learning rates - Generator: 0.000050, Discriminator: 0.000050\n",
            "Epoch 82/1000\n"
          ]
        },
        {
          "output_type": "stream",
          "name": "stderr",
          "text": [
            "Epoch 82/1000: 100%|██████████| 13/13 [00:04<00:00,  2.89batch/s, Gen Loss=2.0286, Disc Loss=0.3312]\n"
          ]
        },
        {
          "output_type": "stream",
          "name": "stdout",
          "text": [
            "Estimated time remaining: 69.28 minutes\n",
            "Current learning rates - Generator: 0.000050, Discriminator: 0.000050\n",
            "Epoch 83/1000\n"
          ]
        },
        {
          "output_type": "stream",
          "name": "stderr",
          "text": [
            "Epoch 83/1000: 100%|██████████| 13/13 [00:04<00:00,  3.16batch/s, Gen Loss=3.4361, Disc Loss=0.0864]\n"
          ]
        },
        {
          "output_type": "stream",
          "name": "stdout",
          "text": [
            "Estimated time remaining: 69.13 minutes\n",
            "Current learning rates - Generator: 0.000050, Discriminator: 0.000050\n",
            "Epoch 84/1000\n"
          ]
        },
        {
          "output_type": "stream",
          "name": "stderr",
          "text": [
            "Epoch 84/1000: 100%|██████████| 13/13 [00:04<00:00,  2.75batch/s, Gen Loss=3.6081, Disc Loss=0.2236]\n"
          ]
        },
        {
          "output_type": "stream",
          "name": "stdout",
          "text": [
            "Estimated time remaining: 69.09 minutes\n",
            "Current learning rates - Generator: 0.000050, Discriminator: 0.000050\n",
            "Epoch 85/1000\n"
          ]
        },
        {
          "output_type": "stream",
          "name": "stderr",
          "text": [
            "Epoch 85/1000: 100%|██████████| 13/13 [00:05<00:00,  2.58batch/s, Gen Loss=3.6009, Disc Loss=0.2106]\n"
          ]
        },
        {
          "output_type": "stream",
          "name": "stdout",
          "text": [
            "Generated images for epoch 84 saved to GrapeDataset/Grape Plant from Plant Village Dataset.\n",
            "Estimated time remaining: 69.26 minutes\n",
            "Current learning rates - Generator: 0.000050, Discriminator: 0.000050\n",
            "Epoch 86/1000\n"
          ]
        },
        {
          "output_type": "stream",
          "name": "stderr",
          "text": [
            "Epoch 86/1000: 100%|██████████| 13/13 [00:04<00:00,  3.24batch/s, Gen Loss=2.2631, Disc Loss=0.4085]\n"
          ]
        },
        {
          "output_type": "stream",
          "name": "stdout",
          "text": [
            "Estimated time remaining: 69.09 minutes\n",
            "Current learning rates - Generator: 0.000050, Discriminator: 0.000050\n",
            "Epoch 87/1000\n"
          ]
        },
        {
          "output_type": "stream",
          "name": "stderr",
          "text": [
            "Epoch 87/1000: 100%|██████████| 13/13 [00:04<00:00,  3.07batch/s, Gen Loss=2.7237, Disc Loss=0.1414]\n"
          ]
        },
        {
          "output_type": "stream",
          "name": "stdout",
          "text": [
            "Estimated time remaining: 68.96 minutes\n",
            "Current learning rates - Generator: 0.000050, Discriminator: 0.000050\n",
            "Epoch 88/1000\n"
          ]
        },
        {
          "output_type": "stream",
          "name": "stderr",
          "text": [
            "Epoch 88/1000: 100%|██████████| 13/13 [00:05<00:00,  2.40batch/s, Gen Loss=2.0075, Disc Loss=0.3231]\n"
          ]
        },
        {
          "output_type": "stream",
          "name": "stdout",
          "text": [
            "Estimated time remaining: 69.04 minutes\n",
            "Current learning rates - Generator: 0.000050, Discriminator: 0.000050\n",
            "Epoch 89/1000\n"
          ]
        },
        {
          "output_type": "stream",
          "name": "stderr",
          "text": [
            "Epoch 89/1000: 100%|██████████| 13/13 [00:04<00:00,  3.16batch/s, Gen Loss=2.3373, Disc Loss=0.6900]\n"
          ]
        },
        {
          "output_type": "stream",
          "name": "stdout",
          "text": [
            "Estimated time remaining: 68.90 minutes\n",
            "Current learning rates - Generator: 0.000050, Discriminator: 0.000050\n",
            "Epoch 90/1000\n"
          ]
        },
        {
          "output_type": "stream",
          "name": "stderr",
          "text": [
            "Epoch 90/1000: 100%|██████████| 13/13 [00:03<00:00,  3.27batch/s, Gen Loss=3.4722, Disc Loss=0.3191]\n"
          ]
        },
        {
          "output_type": "stream",
          "name": "stdout",
          "text": [
            "Generated images for epoch 89 saved to GrapeDataset/Grape Plant from Plant Village Dataset.\n",
            "Estimated time remaining: 68.90 minutes\n",
            "Current learning rates - Generator: 0.000050, Discriminator: 0.000050\n",
            "Epoch 91/1000\n"
          ]
        },
        {
          "output_type": "stream",
          "name": "stderr",
          "text": [
            "Epoch 91/1000: 100%|██████████| 13/13 [00:05<00:00,  2.24batch/s, Gen Loss=2.7842, Disc Loss=0.2403]\n"
          ]
        },
        {
          "output_type": "stream",
          "name": "stdout",
          "text": [
            "Estimated time remaining: 69.03 minutes\n",
            "Current learning rates - Generator: 0.000050, Discriminator: 0.000050\n",
            "Epoch 92/1000\n"
          ]
        },
        {
          "output_type": "stream",
          "name": "stderr",
          "text": [
            "Epoch 92/1000: 100%|██████████| 13/13 [00:03<00:00,  3.28batch/s, Gen Loss=1.7634, Disc Loss=0.5024]\n"
          ]
        },
        {
          "output_type": "stream",
          "name": "stdout",
          "text": [
            "Estimated time remaining: 68.86 minutes\n",
            "Current learning rates - Generator: 0.000050, Discriminator: 0.000050\n",
            "Epoch 93/1000\n"
          ]
        },
        {
          "output_type": "stream",
          "name": "stderr",
          "text": [
            "Epoch 93/1000: 100%|██████████| 13/13 [00:04<00:00,  3.14batch/s, Gen Loss=2.0802, Disc Loss=0.2567]\n"
          ]
        },
        {
          "output_type": "stream",
          "name": "stdout",
          "text": [
            "Estimated time remaining: 68.72 minutes\n",
            "Current learning rates - Generator: 0.000050, Discriminator: 0.000050\n",
            "Epoch 94/1000\n"
          ]
        },
        {
          "output_type": "stream",
          "name": "stderr",
          "text": [
            "Epoch 94/1000: 100%|██████████| 13/13 [00:05<00:00,  2.60batch/s, Gen Loss=2.3450, Disc Loss=0.4527]\n"
          ]
        },
        {
          "output_type": "stream",
          "name": "stdout",
          "text": [
            "Estimated time remaining: 68.72 minutes\n",
            "Current learning rates - Generator: 0.000050, Discriminator: 0.000050\n",
            "Epoch 95/1000\n"
          ]
        },
        {
          "output_type": "stream",
          "name": "stderr",
          "text": [
            "Epoch 95/1000: 100%|██████████| 13/13 [00:04<00:00,  3.10batch/s, Gen Loss=2.3995, Disc Loss=0.1983]\n"
          ]
        },
        {
          "output_type": "stream",
          "name": "stdout",
          "text": [
            "Generated images for epoch 94 saved to GrapeDataset/Grape Plant from Plant Village Dataset.\n",
            "Estimated time remaining: 68.65 minutes\n",
            "Current learning rates - Generator: 0.000050, Discriminator: 0.000050\n",
            "Epoch 96/1000\n"
          ]
        },
        {
          "output_type": "stream",
          "name": "stderr",
          "text": [
            "Epoch 96/1000: 100%|██████████| 13/13 [00:03<00:00,  3.28batch/s, Gen Loss=2.2570, Disc Loss=0.3592]\n"
          ]
        },
        {
          "output_type": "stream",
          "name": "stdout",
          "text": [
            "Estimated time remaining: 68.49 minutes\n",
            "Current learning rates - Generator: 0.000050, Discriminator: 0.000050\n",
            "Epoch 97/1000\n"
          ]
        },
        {
          "output_type": "stream",
          "name": "stderr",
          "text": [
            "Epoch 97/1000: 100%|██████████| 13/13 [00:04<00:00,  2.74batch/s, Gen Loss=9.9637, Disc Loss=1.7930]\n"
          ]
        },
        {
          "output_type": "stream",
          "name": "stdout",
          "text": [
            "Estimated time remaining: 68.44 minutes\n",
            "Current learning rates - Generator: 0.000050, Discriminator: 0.000050\n",
            "Epoch 98/1000\n"
          ]
        },
        {
          "output_type": "stream",
          "name": "stderr",
          "text": [
            "Epoch 98/1000: 100%|██████████| 13/13 [00:04<00:00,  2.63batch/s, Gen Loss=2.0494, Disc Loss=0.3223]\n"
          ]
        },
        {
          "output_type": "stream",
          "name": "stdout",
          "text": [
            "Estimated time remaining: 68.43 minutes\n",
            "Current learning rates - Generator: 0.000050, Discriminator: 0.000050\n",
            "Epoch 99/1000\n"
          ]
        },
        {
          "output_type": "stream",
          "name": "stderr",
          "text": [
            "Epoch 99/1000: 100%|██████████| 13/13 [00:03<00:00,  3.28batch/s, Gen Loss=2.6656, Disc Loss=0.5809]\n"
          ]
        },
        {
          "output_type": "stream",
          "name": "stdout",
          "text": [
            "Estimated time remaining: 68.27 minutes\n",
            "Current learning rates - Generator: 0.000050, Discriminator: 0.000050\n",
            "Epoch 100/1000\n"
          ]
        },
        {
          "output_type": "stream",
          "name": "stderr",
          "text": [
            "Epoch 100/1000: 100%|██████████| 13/13 [00:04<00:00,  3.10batch/s, Gen Loss=2.0721, Disc Loss=0.1867]\n"
          ]
        },
        {
          "output_type": "stream",
          "name": "stdout",
          "text": [
            "Generated images for epoch 99 saved to GrapeDataset/Grape Plant from Plant Village Dataset.\n",
            "Estimated time remaining: 68.28 minutes\n",
            "Current learning rates - Generator: 0.000050, Discriminator: 0.000050\n",
            "Epoch 101/1000\n"
          ]
        },
        {
          "output_type": "stream",
          "name": "stderr",
          "text": [
            "Epoch 101/1000: 100%|██████████| 13/13 [00:05<00:00,  2.46batch/s, Gen Loss=2.2285, Disc Loss=0.3802]\n"
          ]
        },
        {
          "output_type": "stream",
          "name": "stdout",
          "text": [
            "Estimated time remaining: 68.32 minutes\n",
            "Current learning rates - Generator: 0.000050, Discriminator: 0.000050\n",
            "Epoch 102/1000\n"
          ]
        },
        {
          "output_type": "stream",
          "name": "stderr",
          "text": [
            "Epoch 102/1000: 100%|██████████| 13/13 [00:04<00:00,  3.16batch/s, Gen Loss=2.0817, Disc Loss=0.1655]\n"
          ]
        },
        {
          "output_type": "stream",
          "name": "stdout",
          "text": [
            "Estimated time remaining: 68.18 minutes\n",
            "Current learning rates - Generator: 0.000050, Discriminator: 0.000050\n",
            "Epoch 103/1000\n"
          ]
        },
        {
          "output_type": "stream",
          "name": "stderr",
          "text": [
            "Epoch 103/1000: 100%|██████████| 13/13 [00:04<00:00,  3.06batch/s, Gen Loss=3.2739, Disc Loss=0.3614]\n"
          ]
        },
        {
          "output_type": "stream",
          "name": "stdout",
          "text": [
            "Estimated time remaining: 68.06 minutes\n",
            "Current learning rates - Generator: 0.000050, Discriminator: 0.000050\n",
            "Epoch 104/1000\n"
          ]
        },
        {
          "output_type": "stream",
          "name": "stderr",
          "text": [
            "Epoch 104/1000: 100%|██████████| 13/13 [00:06<00:00,  2.12batch/s, Gen Loss=10.3169, Disc Loss=0.6708]\n"
          ]
        },
        {
          "output_type": "stream",
          "name": "stdout",
          "text": [
            "Estimated time remaining: 68.21 minutes\n",
            "Current learning rates - Generator: 0.000050, Discriminator: 0.000050\n",
            "Epoch 105/1000\n"
          ]
        },
        {
          "output_type": "stream",
          "name": "stderr",
          "text": [
            "Epoch 105/1000: 100%|██████████| 13/13 [00:04<00:00,  3.24batch/s, Gen Loss=7.9814, Disc Loss=0.6685]\n"
          ]
        },
        {
          "output_type": "stream",
          "name": "stdout",
          "text": [
            "Generated images for epoch 104 saved to GrapeDataset/Grape Plant from Plant Village Dataset.\n",
            "Estimated time remaining: 68.12 minutes\n",
            "Current learning rates - Generator: 0.000050, Discriminator: 0.000050\n",
            "Epoch 106/1000\n"
          ]
        },
        {
          "output_type": "stream",
          "name": "stderr",
          "text": [
            "Epoch 106/1000: 100%|██████████| 13/13 [00:04<00:00,  3.12batch/s, Gen Loss=2.0454, Disc Loss=0.5378]\n"
          ]
        },
        {
          "output_type": "stream",
          "name": "stdout",
          "text": [
            "Estimated time remaining: 67.98 minutes\n",
            "Current learning rates - Generator: 0.000050, Discriminator: 0.000050\n",
            "Epoch 107/1000\n"
          ]
        },
        {
          "output_type": "stream",
          "name": "stderr",
          "text": [
            "Epoch 107/1000: 100%|██████████| 13/13 [00:05<00:00,  2.34batch/s, Gen Loss=1.8634, Disc Loss=0.7865]\n"
          ]
        },
        {
          "output_type": "stream",
          "name": "stdout",
          "text": [
            "Estimated time remaining: 68.05 minutes\n",
            "Current learning rates - Generator: 0.000050, Discriminator: 0.000050\n",
            "Epoch 108/1000\n"
          ]
        },
        {
          "output_type": "stream",
          "name": "stderr",
          "text": [
            "Epoch 108/1000: 100%|██████████| 13/13 [00:04<00:00,  3.08batch/s, Gen Loss=1.9198, Disc Loss=0.5488]\n"
          ]
        },
        {
          "output_type": "stream",
          "name": "stdout",
          "text": [
            "Estimated time remaining: 67.92 minutes\n",
            "Current learning rates - Generator: 0.000050, Discriminator: 0.000050\n",
            "Epoch 109/1000\n"
          ]
        },
        {
          "output_type": "stream",
          "name": "stderr",
          "text": [
            "Epoch 109/1000: 100%|██████████| 13/13 [00:04<00:00,  3.20batch/s, Gen Loss=2.1321, Disc Loss=0.2849]\n"
          ]
        },
        {
          "output_type": "stream",
          "name": "stdout",
          "text": [
            "Estimated time remaining: 67.78 minutes\n",
            "Current learning rates - Generator: 0.000050, Discriminator: 0.000050\n",
            "Epoch 110/1000\n"
          ]
        },
        {
          "output_type": "stream",
          "name": "stderr",
          "text": [
            "Epoch 110/1000: 100%|██████████| 13/13 [00:04<00:00,  2.81batch/s, Gen Loss=1.6387, Disc Loss=0.5677]\n"
          ]
        },
        {
          "output_type": "stream",
          "name": "stdout",
          "text": [
            "Generated images for epoch 109 saved to GrapeDataset/Grape Plant from Plant Village Dataset.\n",
            "Estimated time remaining: 67.80 minutes\n",
            "Current learning rates - Generator: 0.000050, Discriminator: 0.000050\n",
            "Epoch 111/1000\n"
          ]
        },
        {
          "output_type": "stream",
          "name": "stderr",
          "text": [
            "Epoch 111/1000: 100%|██████████| 13/13 [00:05<00:00,  2.38batch/s, Gen Loss=2.4123, Disc Loss=0.1631]\n"
          ]
        },
        {
          "output_type": "stream",
          "name": "stdout",
          "text": [
            "Estimated time remaining: 67.85 minutes\n",
            "Current learning rates - Generator: 0.000050, Discriminator: 0.000050\n",
            "Epoch 112/1000\n"
          ]
        },
        {
          "output_type": "stream",
          "name": "stderr",
          "text": [
            "Epoch 112/1000: 100%|██████████| 13/13 [00:04<00:00,  3.22batch/s, Gen Loss=1.3437, Disc Loss=0.5875]\n"
          ]
        },
        {
          "output_type": "stream",
          "name": "stdout",
          "text": [
            "Estimated time remaining: 67.70 minutes\n",
            "Current learning rates - Generator: 0.000050, Discriminator: 0.000050\n",
            "Epoch 113/1000\n"
          ]
        },
        {
          "output_type": "stream",
          "name": "stderr",
          "text": [
            "Epoch 113/1000: 100%|██████████| 13/13 [00:04<00:00,  3.20batch/s, Gen Loss=2.3652, Disc Loss=0.2010]\n"
          ]
        },
        {
          "output_type": "stream",
          "name": "stdout",
          "text": [
            "Estimated time remaining: 67.56 minutes\n",
            "Current learning rates - Generator: 0.000050, Discriminator: 0.000050\n",
            "Epoch 114/1000\n"
          ]
        },
        {
          "output_type": "stream",
          "name": "stderr",
          "text": [
            "Epoch 114/1000: 100%|██████████| 13/13 [00:05<00:00,  2.29batch/s, Gen Loss=0.9537, Disc Loss=0.6051]\n"
          ]
        },
        {
          "output_type": "stream",
          "name": "stdout",
          "text": [
            "Estimated time remaining: 67.63 minutes\n",
            "Current learning rates - Generator: 0.000050, Discriminator: 0.000050\n",
            "Epoch 115/1000\n"
          ]
        },
        {
          "output_type": "stream",
          "name": "stderr",
          "text": [
            "Epoch 115/1000: 100%|██████████| 13/13 [00:04<00:00,  3.25batch/s, Gen Loss=2.0290, Disc Loss=0.3098]\n"
          ]
        },
        {
          "output_type": "stream",
          "name": "stdout",
          "text": [
            "Generated images for epoch 114 saved to GrapeDataset/Grape Plant from Plant Village Dataset.\n",
            "Estimated time remaining: 67.53 minutes\n",
            "Current learning rates - Generator: 0.000025, Discriminator: 0.000025\n",
            "Epoch 116/1000\n"
          ]
        },
        {
          "output_type": "stream",
          "name": "stderr",
          "text": [
            "Epoch 116/1000: 100%|██████████| 13/13 [00:04<00:00,  3.06batch/s, Gen Loss=2.1043, Disc Loss=0.2691]\n"
          ]
        },
        {
          "output_type": "stream",
          "name": "stdout",
          "text": [
            "Estimated time remaining: 67.41 minutes\n",
            "Current learning rates - Generator: 0.000025, Discriminator: 0.000025\n",
            "Epoch 117/1000\n"
          ]
        },
        {
          "output_type": "stream",
          "name": "stderr",
          "text": [
            "Epoch 117/1000: 100%|██████████| 13/13 [00:05<00:00,  2.39batch/s, Gen Loss=3.1297, Disc Loss=0.3442]\n"
          ]
        },
        {
          "output_type": "stream",
          "name": "stdout",
          "text": [
            "Estimated time remaining: 67.44 minutes\n",
            "Current learning rates - Generator: 0.000025, Discriminator: 0.000025\n",
            "Epoch 118/1000\n"
          ]
        },
        {
          "output_type": "stream",
          "name": "stderr",
          "text": [
            "Epoch 118/1000: 100%|██████████| 13/13 [00:04<00:00,  3.19batch/s, Gen Loss=2.7517, Disc Loss=0.6419]\n"
          ]
        },
        {
          "output_type": "stream",
          "name": "stdout",
          "text": [
            "Estimated time remaining: 67.30 minutes\n",
            "Current learning rates - Generator: 0.000025, Discriminator: 0.000025\n",
            "Epoch 119/1000\n"
          ]
        },
        {
          "output_type": "stream",
          "name": "stderr",
          "text": [
            "Epoch 119/1000: 100%|██████████| 13/13 [00:04<00:00,  3.18batch/s, Gen Loss=2.1816, Disc Loss=1.0272]\n"
          ]
        },
        {
          "output_type": "stream",
          "name": "stdout",
          "text": [
            "Estimated time remaining: 67.17 minutes\n",
            "Current learning rates - Generator: 0.000025, Discriminator: 0.000025\n",
            "Epoch 120/1000\n"
          ]
        },
        {
          "output_type": "stream",
          "name": "stderr",
          "text": [
            "Epoch 120/1000: 100%|██████████| 13/13 [00:04<00:00,  3.03batch/s, Gen Loss=1.6876, Disc Loss=0.4791]\n"
          ]
        },
        {
          "output_type": "stream",
          "name": "stdout",
          "text": [
            "Generated images for epoch 119 saved to GrapeDataset/Grape Plant from Plant Village Dataset.\n",
            "Estimated time remaining: 67.12 minutes\n",
            "Current learning rates - Generator: 0.000025, Discriminator: 0.000025\n",
            "Epoch 121/1000\n"
          ]
        },
        {
          "output_type": "stream",
          "name": "stderr",
          "text": [
            "Epoch 121/1000: 100%|██████████| 13/13 [00:05<00:00,  2.49batch/s, Gen Loss=1.8191, Disc Loss=0.4642]\n"
          ]
        },
        {
          "output_type": "stream",
          "name": "stdout",
          "text": [
            "Estimated time remaining: 67.13 minutes\n",
            "Current learning rates - Generator: 0.000025, Discriminator: 0.000025\n",
            "Epoch 122/1000\n"
          ]
        },
        {
          "output_type": "stream",
          "name": "stderr",
          "text": [
            "Epoch 122/1000: 100%|██████████| 13/13 [00:04<00:00,  3.15batch/s, Gen Loss=1.7423, Disc Loss=0.5051]\n"
          ]
        },
        {
          "output_type": "stream",
          "name": "stdout",
          "text": [
            "Estimated time remaining: 67.00 minutes\n",
            "Current learning rates - Generator: 0.000025, Discriminator: 0.000025\n",
            "Epoch 123/1000\n"
          ]
        },
        {
          "output_type": "stream",
          "name": "stderr",
          "text": [
            "Epoch 123/1000: 100%|██████████| 13/13 [00:04<00:00,  3.17batch/s, Gen Loss=1.8303, Disc Loss=0.3341]\n"
          ]
        },
        {
          "output_type": "stream",
          "name": "stdout",
          "text": [
            "Estimated time remaining: 66.86 minutes\n",
            "Current learning rates - Generator: 0.000025, Discriminator: 0.000025\n",
            "Epoch 124/1000\n"
          ]
        },
        {
          "output_type": "stream",
          "name": "stderr",
          "text": [
            "Epoch 124/1000: 100%|██████████| 13/13 [00:05<00:00,  2.32batch/s, Gen Loss=1.3360, Disc Loss=0.6080]\n"
          ]
        },
        {
          "output_type": "stream",
          "name": "stdout",
          "text": [
            "Estimated time remaining: 66.91 minutes\n",
            "Current learning rates - Generator: 0.000025, Discriminator: 0.000025\n",
            "Epoch 125/1000\n"
          ]
        },
        {
          "output_type": "stream",
          "name": "stderr",
          "text": [
            "Epoch 125/1000: 100%|██████████| 13/13 [00:04<00:00,  3.22batch/s, Gen Loss=1.5897, Disc Loss=0.7685]\n"
          ]
        },
        {
          "output_type": "stream",
          "name": "stdout",
          "text": [
            "Generated images for epoch 124 saved to GrapeDataset/Grape Plant from Plant Village Dataset.\n",
            "Estimated time remaining: 66.82 minutes\n",
            "Current learning rates - Generator: 0.000025, Discriminator: 0.000025\n",
            "Epoch 126/1000\n"
          ]
        },
        {
          "output_type": "stream",
          "name": "stderr",
          "text": [
            "Epoch 126/1000: 100%|██████████| 13/13 [00:04<00:00,  3.11batch/s, Gen Loss=1.3469, Disc Loss=0.5307]\n"
          ]
        },
        {
          "output_type": "stream",
          "name": "stdout",
          "text": [
            "Estimated time remaining: 66.69 minutes\n",
            "Current learning rates - Generator: 0.000025, Discriminator: 0.000025\n",
            "Epoch 127/1000\n"
          ]
        },
        {
          "output_type": "stream",
          "name": "stderr",
          "text": [
            "Epoch 127/1000: 100%|██████████| 13/13 [00:05<00:00,  2.43batch/s, Gen Loss=1.3860, Disc Loss=0.4191]\n"
          ]
        },
        {
          "output_type": "stream",
          "name": "stdout",
          "text": [
            "Estimated time remaining: 66.71 minutes\n",
            "Current learning rates - Generator: 0.000025, Discriminator: 0.000025\n",
            "Epoch 128/1000\n"
          ]
        },
        {
          "output_type": "stream",
          "name": "stderr",
          "text": [
            "Epoch 128/1000: 100%|██████████| 13/13 [00:04<00:00,  3.00batch/s, Gen Loss=1.6333, Disc Loss=0.6186]\n"
          ]
        },
        {
          "output_type": "stream",
          "name": "stdout",
          "text": [
            "Estimated time remaining: 66.60 minutes\n",
            "Current learning rates - Generator: 0.000025, Discriminator: 0.000025\n",
            "Epoch 129/1000\n"
          ]
        },
        {
          "output_type": "stream",
          "name": "stderr",
          "text": [
            "Epoch 129/1000: 100%|██████████| 13/13 [00:04<00:00,  3.21batch/s, Gen Loss=1.6156, Disc Loss=0.4369]\n"
          ]
        },
        {
          "output_type": "stream",
          "name": "stdout",
          "text": [
            "Estimated time remaining: 66.47 minutes\n",
            "Current learning rates - Generator: 0.000025, Discriminator: 0.000025\n",
            "Epoch 130/1000\n"
          ]
        },
        {
          "output_type": "stream",
          "name": "stderr",
          "text": [
            "Epoch 130/1000: 100%|██████████| 13/13 [00:04<00:00,  3.05batch/s, Gen Loss=1.4738, Disc Loss=0.4813]\n"
          ]
        },
        {
          "output_type": "stream",
          "name": "stdout",
          "text": [
            "Generated images for epoch 129 saved to GrapeDataset/Grape Plant from Plant Village Dataset.\n",
            "Estimated time remaining: 66.42 minutes\n",
            "Current learning rates - Generator: 0.000025, Discriminator: 0.000025\n",
            "Epoch 131/1000\n"
          ]
        },
        {
          "output_type": "stream",
          "name": "stderr",
          "text": [
            "Epoch 131/1000: 100%|██████████| 13/13 [00:05<00:00,  2.56batch/s, Gen Loss=1.5372, Disc Loss=0.4285]\n"
          ]
        },
        {
          "output_type": "stream",
          "name": "stdout",
          "text": [
            "Estimated time remaining: 66.40 minutes\n",
            "Current learning rates - Generator: 0.000025, Discriminator: 0.000025\n",
            "Epoch 132/1000\n"
          ]
        },
        {
          "output_type": "stream",
          "name": "stderr",
          "text": [
            "Epoch 132/1000: 100%|██████████| 13/13 [00:04<00:00,  3.16batch/s, Gen Loss=1.7058, Disc Loss=0.3437]\n"
          ]
        },
        {
          "output_type": "stream",
          "name": "stdout",
          "text": [
            "Estimated time remaining: 66.27 minutes\n",
            "Current learning rates - Generator: 0.000025, Discriminator: 0.000025\n",
            "Epoch 133/1000\n"
          ]
        },
        {
          "output_type": "stream",
          "name": "stderr",
          "text": [
            "Epoch 133/1000: 100%|██████████| 13/13 [00:04<00:00,  3.18batch/s, Gen Loss=1.0836, Disc Loss=0.6070]\n"
          ]
        },
        {
          "output_type": "stream",
          "name": "stdout",
          "text": [
            "Estimated time remaining: 66.14 minutes\n",
            "Current learning rates - Generator: 0.000025, Discriminator: 0.000025\n",
            "Epoch 134/1000\n"
          ]
        },
        {
          "output_type": "stream",
          "name": "stderr",
          "text": [
            "Epoch 134/1000: 100%|██████████| 13/13 [00:05<00:00,  2.34batch/s, Gen Loss=2.8017, Disc Loss=0.2627]\n"
          ]
        },
        {
          "output_type": "stream",
          "name": "stdout",
          "text": [
            "Estimated time remaining: 66.17 minutes\n",
            "Current learning rates - Generator: 0.000025, Discriminator: 0.000025\n",
            "Epoch 135/1000\n"
          ]
        },
        {
          "output_type": "stream",
          "name": "stderr",
          "text": [
            "Epoch 135/1000: 100%|██████████| 13/13 [00:04<00:00,  3.20batch/s, Gen Loss=2.2890, Disc Loss=0.3785]\n"
          ]
        },
        {
          "output_type": "stream",
          "name": "stdout",
          "text": [
            "Generated images for epoch 134 saved to GrapeDataset/Grape Plant from Plant Village Dataset.\n",
            "Estimated time remaining: 66.08 minutes\n",
            "Current learning rates - Generator: 0.000025, Discriminator: 0.000025\n",
            "Epoch 136/1000\n"
          ]
        },
        {
          "output_type": "stream",
          "name": "stderr",
          "text": [
            "Epoch 136/1000: 100%|██████████| 13/13 [00:04<00:00,  3.21batch/s, Gen Loss=1.4904, Disc Loss=0.5574]\n"
          ]
        },
        {
          "output_type": "stream",
          "name": "stdout",
          "text": [
            "Estimated time remaining: 65.95 minutes\n",
            "Current learning rates - Generator: 0.000025, Discriminator: 0.000025\n",
            "Epoch 137/1000\n"
          ]
        },
        {
          "output_type": "stream",
          "name": "stderr",
          "text": [
            "Epoch 137/1000: 100%|██████████| 13/13 [00:05<00:00,  2.52batch/s, Gen Loss=1.9369, Disc Loss=0.3581]\n"
          ]
        },
        {
          "output_type": "stream",
          "name": "stdout",
          "text": [
            "Estimated time remaining: 65.94 minutes\n",
            "Current learning rates - Generator: 0.000025, Discriminator: 0.000025\n",
            "Epoch 138/1000\n"
          ]
        },
        {
          "output_type": "stream",
          "name": "stderr",
          "text": [
            "Epoch 138/1000: 100%|██████████| 13/13 [00:04<00:00,  3.11batch/s, Gen Loss=2.4585, Disc Loss=0.1722]\n"
          ]
        },
        {
          "output_type": "stream",
          "name": "stdout",
          "text": [
            "Estimated time remaining: 65.82 minutes\n",
            "Current learning rates - Generator: 0.000025, Discriminator: 0.000025\n",
            "Epoch 139/1000\n"
          ]
        },
        {
          "output_type": "stream",
          "name": "stderr",
          "text": [
            "Epoch 139/1000: 100%|██████████| 13/13 [00:04<00:00,  3.21batch/s, Gen Loss=2.7412, Disc Loss=0.1342]\n"
          ]
        },
        {
          "output_type": "stream",
          "name": "stdout",
          "text": [
            "Estimated time remaining: 65.69 minutes\n",
            "Current learning rates - Generator: 0.000025, Discriminator: 0.000025\n",
            "Epoch 140/1000\n"
          ]
        },
        {
          "output_type": "stream",
          "name": "stderr",
          "text": [
            "Epoch 140/1000: 100%|██████████| 13/13 [00:04<00:00,  3.11batch/s, Gen Loss=2.5308, Disc Loss=0.1463]\n"
          ]
        },
        {
          "output_type": "stream",
          "name": "stdout",
          "text": [
            "Generated images for epoch 139 saved to GrapeDataset/Grape Plant from Plant Village Dataset.\n",
            "Estimated time remaining: 65.63 minutes\n",
            "Current learning rates - Generator: 0.000025, Discriminator: 0.000025\n",
            "Epoch 141/1000\n"
          ]
        },
        {
          "output_type": "stream",
          "name": "stderr",
          "text": [
            "Epoch 141/1000: 100%|██████████| 13/13 [00:04<00:00,  2.61batch/s, Gen Loss=1.7269, Disc Loss=0.6849]\n"
          ]
        },
        {
          "output_type": "stream",
          "name": "stdout",
          "text": [
            "Estimated time remaining: 65.59 minutes\n",
            "Current learning rates - Generator: 0.000025, Discriminator: 0.000025\n",
            "Epoch 142/1000\n"
          ]
        },
        {
          "output_type": "stream",
          "name": "stderr",
          "text": [
            "Epoch 142/1000: 100%|██████████| 13/13 [00:04<00:00,  3.24batch/s, Gen Loss=2.7974, Disc Loss=0.4908]\n"
          ]
        },
        {
          "output_type": "stream",
          "name": "stdout",
          "text": [
            "Estimated time remaining: 65.46 minutes\n",
            "Current learning rates - Generator: 0.000025, Discriminator: 0.000025\n",
            "Epoch 143/1000\n"
          ]
        },
        {
          "output_type": "stream",
          "name": "stderr",
          "text": [
            "Epoch 143/1000: 100%|██████████| 13/13 [00:04<00:00,  3.23batch/s, Gen Loss=1.3264, Disc Loss=0.8248]\n"
          ]
        },
        {
          "output_type": "stream",
          "name": "stdout",
          "text": [
            "Estimated time remaining: 65.33 minutes\n",
            "Current learning rates - Generator: 0.000025, Discriminator: 0.000025\n",
            "Epoch 144/1000\n"
          ]
        },
        {
          "output_type": "stream",
          "name": "stderr",
          "text": [
            "Epoch 144/1000: 100%|██████████| 13/13 [00:05<00:00,  2.26batch/s, Gen Loss=1.7706, Disc Loss=0.4231]\n"
          ]
        },
        {
          "output_type": "stream",
          "name": "stdout",
          "text": [
            "Estimated time remaining: 65.37 minutes\n",
            "Current learning rates - Generator: 0.000025, Discriminator: 0.000025\n",
            "Epoch 145/1000\n"
          ]
        },
        {
          "output_type": "stream",
          "name": "stderr",
          "text": [
            "Epoch 145/1000: 100%|██████████| 13/13 [00:04<00:00,  3.13batch/s, Gen Loss=2.5395, Disc Loss=0.3022]\n"
          ]
        },
        {
          "output_type": "stream",
          "name": "stdout",
          "text": [
            "Generated images for epoch 144 saved to GrapeDataset/Grape Plant from Plant Village Dataset.\n",
            "Estimated time remaining: 65.30 minutes\n",
            "Current learning rates - Generator: 0.000025, Discriminator: 0.000025\n",
            "Epoch 146/1000\n"
          ]
        },
        {
          "output_type": "stream",
          "name": "stderr",
          "text": [
            "Epoch 146/1000: 100%|██████████| 13/13 [00:03<00:00,  3.28batch/s, Gen Loss=2.7253, Disc Loss=0.3586]\n"
          ]
        },
        {
          "output_type": "stream",
          "name": "stdout",
          "text": [
            "Estimated time remaining: 65.16 minutes\n",
            "Current learning rates - Generator: 0.000025, Discriminator: 0.000025\n",
            "Epoch 147/1000\n"
          ]
        },
        {
          "output_type": "stream",
          "name": "stderr",
          "text": [
            "Epoch 147/1000: 100%|██████████| 13/13 [00:04<00:00,  2.60batch/s, Gen Loss=2.4440, Disc Loss=0.2085]\n"
          ]
        },
        {
          "output_type": "stream",
          "name": "stdout",
          "text": [
            "Estimated time remaining: 65.12 minutes\n",
            "Current learning rates - Generator: 0.000025, Discriminator: 0.000025\n",
            "Epoch 148/1000\n"
          ]
        },
        {
          "output_type": "stream",
          "name": "stderr",
          "text": [
            "Epoch 148/1000: 100%|██████████| 13/13 [00:04<00:00,  3.08batch/s, Gen Loss=2.5822, Disc Loss=0.1720]\n"
          ]
        },
        {
          "output_type": "stream",
          "name": "stdout",
          "text": [
            "Estimated time remaining: 65.02 minutes\n",
            "Current learning rates - Generator: 0.000025, Discriminator: 0.000025\n",
            "Epoch 149/1000\n"
          ]
        },
        {
          "output_type": "stream",
          "name": "stderr",
          "text": [
            "Epoch 149/1000: 100%|██████████| 13/13 [00:04<00:00,  3.19batch/s, Gen Loss=2.0885, Disc Loss=0.2779]\n"
          ]
        },
        {
          "output_type": "stream",
          "name": "stdout",
          "text": [
            "Estimated time remaining: 64.89 minutes\n",
            "Current learning rates - Generator: 0.000025, Discriminator: 0.000025\n",
            "Epoch 150/1000\n"
          ]
        },
        {
          "output_type": "stream",
          "name": "stderr",
          "text": [
            "Epoch 150/1000: 100%|██████████| 13/13 [00:04<00:00,  2.98batch/s, Gen Loss=2.2786, Disc Loss=0.1399]\n"
          ]
        },
        {
          "output_type": "stream",
          "name": "stdout",
          "text": [
            "Generated images for epoch 149 saved to GrapeDataset/Grape Plant from Plant Village Dataset.\n",
            "Estimated time remaining: 64.86 minutes\n",
            "Current learning rates - Generator: 0.000025, Discriminator: 0.000025\n",
            "Epoch 151/1000\n"
          ]
        },
        {
          "output_type": "stream",
          "name": "stderr",
          "text": [
            "Epoch 151/1000: 100%|██████████| 13/13 [00:04<00:00,  2.68batch/s, Gen Loss=2.5406, Disc Loss=0.2005]\n"
          ]
        },
        {
          "output_type": "stream",
          "name": "stdout",
          "text": [
            "Estimated time remaining: 64.81 minutes\n",
            "Current learning rates - Generator: 0.000025, Discriminator: 0.000025\n",
            "Epoch 152/1000\n"
          ]
        },
        {
          "output_type": "stream",
          "name": "stderr",
          "text": [
            "Epoch 152/1000: 100%|██████████| 13/13 [00:04<00:00,  3.12batch/s, Gen Loss=2.9232, Disc Loss=0.1584]\n"
          ]
        },
        {
          "output_type": "stream",
          "name": "stdout",
          "text": [
            "Estimated time remaining: 64.69 minutes\n",
            "Current learning rates - Generator: 0.000025, Discriminator: 0.000025\n",
            "Epoch 153/1000\n"
          ]
        },
        {
          "output_type": "stream",
          "name": "stderr",
          "text": [
            "Epoch 153/1000: 100%|██████████| 13/13 [00:04<00:00,  3.14batch/s, Gen Loss=2.3052, Disc Loss=0.1973]\n"
          ]
        },
        {
          "output_type": "stream",
          "name": "stdout",
          "text": [
            "Estimated time remaining: 64.58 minutes\n",
            "Current learning rates - Generator: 0.000025, Discriminator: 0.000025\n",
            "Epoch 154/1000\n"
          ]
        },
        {
          "output_type": "stream",
          "name": "stderr",
          "text": [
            "Epoch 154/1000: 100%|██████████| 13/13 [00:05<00:00,  2.28batch/s, Gen Loss=1.8953, Disc Loss=0.2633]\n"
          ]
        },
        {
          "output_type": "stream",
          "name": "stdout",
          "text": [
            "Estimated time remaining: 64.60 minutes\n",
            "Current learning rates - Generator: 0.000025, Discriminator: 0.000025\n",
            "Epoch 155/1000\n"
          ]
        },
        {
          "output_type": "stream",
          "name": "stderr",
          "text": [
            "Epoch 155/1000: 100%|██████████| 13/13 [00:04<00:00,  3.17batch/s, Gen Loss=2.4220, Disc Loss=0.2356]\n"
          ]
        },
        {
          "output_type": "stream",
          "name": "stdout",
          "text": [
            "Generated images for epoch 154 saved to GrapeDataset/Grape Plant from Plant Village Dataset.\n",
            "Estimated time remaining: 64.53 minutes\n",
            "Current learning rates - Generator: 0.000025, Discriminator: 0.000025\n",
            "Epoch 156/1000\n"
          ]
        },
        {
          "output_type": "stream",
          "name": "stderr",
          "text": [
            "Epoch 156/1000: 100%|██████████| 13/13 [00:04<00:00,  3.19batch/s, Gen Loss=1.8265, Disc Loss=0.3458]\n"
          ]
        },
        {
          "output_type": "stream",
          "name": "stdout",
          "text": [
            "Estimated time remaining: 64.41 minutes\n",
            "Current learning rates - Generator: 0.000025, Discriminator: 0.000025\n",
            "Epoch 157/1000\n"
          ]
        },
        {
          "output_type": "stream",
          "name": "stderr",
          "text": [
            "Epoch 157/1000: 100%|██████████| 13/13 [00:05<00:00,  2.35batch/s, Gen Loss=2.3702, Disc Loss=0.1615]\n"
          ]
        },
        {
          "output_type": "stream",
          "name": "stdout",
          "text": [
            "Estimated time remaining: 64.42 minutes\n",
            "Current learning rates - Generator: 0.000025, Discriminator: 0.000025\n",
            "Epoch 158/1000\n"
          ]
        },
        {
          "output_type": "stream",
          "name": "stderr",
          "text": [
            "Epoch 158/1000: 100%|██████████| 13/13 [00:04<00:00,  3.01batch/s, Gen Loss=2.7801, Disc Loss=0.1417]\n"
          ]
        },
        {
          "output_type": "stream",
          "name": "stdout",
          "text": [
            "Estimated time remaining: 64.32 minutes\n",
            "Current learning rates - Generator: 0.000025, Discriminator: 0.000025\n",
            "Epoch 159/1000\n"
          ]
        },
        {
          "output_type": "stream",
          "name": "stderr",
          "text": [
            "Epoch 159/1000: 100%|██████████| 13/13 [00:04<00:00,  3.20batch/s, Gen Loss=2.9521, Disc Loss=0.1381]\n"
          ]
        },
        {
          "output_type": "stream",
          "name": "stdout",
          "text": [
            "Estimated time remaining: 64.20 minutes\n",
            "Current learning rates - Generator: 0.000025, Discriminator: 0.000025\n",
            "Epoch 160/1000\n"
          ]
        },
        {
          "output_type": "stream",
          "name": "stderr",
          "text": [
            "Epoch 160/1000: 100%|██████████| 13/13 [00:04<00:00,  2.95batch/s, Gen Loss=2.0406, Disc Loss=0.1692]\n"
          ]
        },
        {
          "output_type": "stream",
          "name": "stdout",
          "text": [
            "Generated images for epoch 159 saved to GrapeDataset/Grape Plant from Plant Village Dataset.\n",
            "Estimated time remaining: 64.17 minutes\n",
            "Current learning rates - Generator: 0.000025, Discriminator: 0.000025\n",
            "Epoch 161/1000\n"
          ]
        },
        {
          "output_type": "stream",
          "name": "stderr",
          "text": [
            "Epoch 161/1000: 100%|██████████| 13/13 [00:05<00:00,  2.58batch/s, Gen Loss=3.4749, Disc Loss=0.2248]\n"
          ]
        },
        {
          "output_type": "stream",
          "name": "stdout",
          "text": [
            "Estimated time remaining: 64.14 minutes\n",
            "Current learning rates - Generator: 0.000025, Discriminator: 0.000025\n",
            "Epoch 162/1000\n"
          ]
        },
        {
          "output_type": "stream",
          "name": "stderr",
          "text": [
            "Epoch 162/1000: 100%|██████████| 13/13 [00:04<00:00,  3.14batch/s, Gen Loss=2.6664, Disc Loss=0.1483]\n"
          ]
        },
        {
          "output_type": "stream",
          "name": "stdout",
          "text": [
            "Estimated time remaining: 64.03 minutes\n",
            "Current learning rates - Generator: 0.000025, Discriminator: 0.000025\n",
            "Epoch 163/1000\n"
          ]
        },
        {
          "output_type": "stream",
          "name": "stderr",
          "text": [
            "Epoch 163/1000: 100%|██████████| 13/13 [00:04<00:00,  3.02batch/s, Gen Loss=3.3846, Disc Loss=0.2359]\n"
          ]
        },
        {
          "output_type": "stream",
          "name": "stdout",
          "text": [
            "Estimated time remaining: 63.93 minutes\n",
            "Current learning rates - Generator: 0.000025, Discriminator: 0.000025\n",
            "Epoch 164/1000\n"
          ]
        },
        {
          "output_type": "stream",
          "name": "stderr",
          "text": [
            "Epoch 164/1000: 100%|██████████| 13/13 [00:05<00:00,  2.28batch/s, Gen Loss=3.9349, Disc Loss=0.3218]\n"
          ]
        },
        {
          "output_type": "stream",
          "name": "stdout",
          "text": [
            "Estimated time remaining: 63.95 minutes\n",
            "Current learning rates - Generator: 0.000025, Discriminator: 0.000025\n",
            "Epoch 165/1000\n"
          ]
        },
        {
          "output_type": "stream",
          "name": "stderr",
          "text": [
            "Epoch 165/1000: 100%|██████████| 13/13 [00:04<00:00,  3.17batch/s, Gen Loss=3.8148, Disc Loss=0.2129]\n"
          ]
        },
        {
          "output_type": "stream",
          "name": "stdout",
          "text": [
            "Generated images for epoch 164 saved to GrapeDataset/Grape Plant from Plant Village Dataset.\n",
            "Estimated time remaining: 63.90 minutes\n",
            "Current learning rates - Generator: 0.000025, Discriminator: 0.000025\n",
            "Epoch 166/1000\n"
          ]
        },
        {
          "output_type": "stream",
          "name": "stderr",
          "text": [
            "Epoch 166/1000: 100%|██████████| 13/13 [00:03<00:00,  3.27batch/s, Gen Loss=2.8378, Disc Loss=0.1972]\n"
          ]
        },
        {
          "output_type": "stream",
          "name": "stdout",
          "text": [
            "Estimated time remaining: 63.78 minutes\n",
            "Current learning rates - Generator: 0.000025, Discriminator: 0.000025\n",
            "Epoch 167/1000\n"
          ]
        },
        {
          "output_type": "stream",
          "name": "stderr",
          "text": [
            "Epoch 167/1000: 100%|██████████| 13/13 [00:05<00:00,  2.30batch/s, Gen Loss=2.4199, Disc Loss=0.1693]\n"
          ]
        },
        {
          "output_type": "stream",
          "name": "stdout",
          "text": [
            "Estimated time remaining: 63.79 minutes\n",
            "Current learning rates - Generator: 0.000025, Discriminator: 0.000025\n",
            "Epoch 168/1000\n"
          ]
        },
        {
          "output_type": "stream",
          "name": "stderr",
          "text": [
            "Epoch 168/1000: 100%|██████████| 13/13 [00:04<00:00,  3.19batch/s, Gen Loss=2.6955, Disc Loss=0.2149]\n"
          ]
        },
        {
          "output_type": "stream",
          "name": "stdout",
          "text": [
            "Estimated time remaining: 63.67 minutes\n",
            "Current learning rates - Generator: 0.000025, Discriminator: 0.000025\n",
            "Epoch 169/1000\n"
          ]
        },
        {
          "output_type": "stream",
          "name": "stderr",
          "text": [
            "Epoch 169/1000: 100%|██████████| 13/13 [00:04<00:00,  3.00batch/s, Gen Loss=3.1237, Disc Loss=0.1542]\n"
          ]
        },
        {
          "output_type": "stream",
          "name": "stdout",
          "text": [
            "Estimated time remaining: 63.57 minutes\n",
            "Current learning rates - Generator: 0.000025, Discriminator: 0.000025\n",
            "Epoch 170/1000\n"
          ]
        },
        {
          "output_type": "stream",
          "name": "stderr",
          "text": [
            "Epoch 170/1000: 100%|██████████| 13/13 [00:04<00:00,  2.74batch/s, Gen Loss=2.8192, Disc Loss=0.2597]\n"
          ]
        },
        {
          "output_type": "stream",
          "name": "stdout",
          "text": [
            "Generated images for epoch 169 saved to GrapeDataset/Grape Plant from Plant Village Dataset.\n",
            "Estimated time remaining: 63.59 minutes\n",
            "Current learning rates - Generator: 0.000013, Discriminator: 0.000013\n",
            "Epoch 171/1000\n"
          ]
        },
        {
          "output_type": "stream",
          "name": "stderr",
          "text": [
            "Epoch 171/1000: 100%|██████████| 13/13 [00:04<00:00,  3.20batch/s, Gen Loss=2.7664, Disc Loss=0.2057]\n"
          ]
        },
        {
          "output_type": "stream",
          "name": "stdout",
          "text": [
            "Estimated time remaining: 63.47 minutes\n",
            "Current learning rates - Generator: 0.000013, Discriminator: 0.000013\n",
            "Epoch 172/1000\n"
          ]
        },
        {
          "output_type": "stream",
          "name": "stderr",
          "text": [
            "Epoch 172/1000: 100%|██████████| 13/13 [00:04<00:00,  3.17batch/s, Gen Loss=2.4639, Disc Loss=0.1673]\n"
          ]
        },
        {
          "output_type": "stream",
          "name": "stdout",
          "text": [
            "Estimated time remaining: 63.35 minutes\n",
            "Current learning rates - Generator: 0.000013, Discriminator: 0.000013\n",
            "Epoch 173/1000\n"
          ]
        },
        {
          "output_type": "stream",
          "name": "stderr",
          "text": [
            "Epoch 173/1000: 100%|██████████| 13/13 [00:04<00:00,  2.78batch/s, Gen Loss=2.3873, Disc Loss=0.2073]\n"
          ]
        },
        {
          "output_type": "stream",
          "name": "stdout",
          "text": [
            "Estimated time remaining: 63.28 minutes\n",
            "Current learning rates - Generator: 0.000013, Discriminator: 0.000013\n",
            "Epoch 174/1000\n"
          ]
        },
        {
          "output_type": "stream",
          "name": "stderr",
          "text": [
            "Epoch 174/1000: 100%|██████████| 13/13 [00:04<00:00,  2.68batch/s, Gen Loss=3.3332, Disc Loss=0.0726]\n"
          ]
        },
        {
          "output_type": "stream",
          "name": "stdout",
          "text": [
            "Estimated time remaining: 63.23 minutes\n",
            "Current learning rates - Generator: 0.000013, Discriminator: 0.000013\n",
            "Epoch 175/1000\n"
          ]
        },
        {
          "output_type": "stream",
          "name": "stderr",
          "text": [
            "Epoch 175/1000: 100%|██████████| 13/13 [00:04<00:00,  3.14batch/s, Gen Loss=3.2541, Disc Loss=0.1133]\n"
          ]
        },
        {
          "output_type": "stream",
          "name": "stdout",
          "text": [
            "Generated images for epoch 174 saved to GrapeDataset/Grape Plant from Plant Village Dataset.\n",
            "Estimated time remaining: 63.19 minutes\n",
            "Current learning rates - Generator: 0.000013, Discriminator: 0.000013\n",
            "Epoch 176/1000\n"
          ]
        },
        {
          "output_type": "stream",
          "name": "stderr",
          "text": [
            "Epoch 176/1000: 100%|██████████| 13/13 [00:04<00:00,  3.09batch/s, Gen Loss=2.7151, Disc Loss=0.1079]\n"
          ]
        },
        {
          "output_type": "stream",
          "name": "stdout",
          "text": [
            "Estimated time remaining: 63.08 minutes\n",
            "Current learning rates - Generator: 0.000013, Discriminator: 0.000013\n",
            "Epoch 177/1000\n"
          ]
        },
        {
          "output_type": "stream",
          "name": "stderr",
          "text": [
            "Epoch 177/1000: 100%|██████████| 13/13 [00:05<00:00,  2.50batch/s, Gen Loss=2.9973, Disc Loss=0.1142]\n"
          ]
        },
        {
          "output_type": "stream",
          "name": "stdout",
          "text": [
            "Estimated time remaining: 63.06 minutes\n",
            "Current learning rates - Generator: 0.000013, Discriminator: 0.000013\n",
            "Epoch 178/1000\n"
          ]
        },
        {
          "output_type": "stream",
          "name": "stderr",
          "text": [
            "Epoch 178/1000: 100%|██████████| 13/13 [00:04<00:00,  3.22batch/s, Gen Loss=2.6304, Disc Loss=0.1267]\n"
          ]
        },
        {
          "output_type": "stream",
          "name": "stdout",
          "text": [
            "Estimated time remaining: 62.94 minutes\n",
            "Current learning rates - Generator: 0.000013, Discriminator: 0.000013\n",
            "Epoch 179/1000\n"
          ]
        },
        {
          "output_type": "stream",
          "name": "stderr",
          "text": [
            "Epoch 179/1000: 100%|██████████| 13/13 [00:04<00:00,  3.05batch/s, Gen Loss=2.8164, Disc Loss=0.0985]\n"
          ]
        },
        {
          "output_type": "stream",
          "name": "stdout",
          "text": [
            "Estimated time remaining: 62.84 minutes\n",
            "Current learning rates - Generator: 0.000013, Discriminator: 0.000013\n",
            "Epoch 180/1000\n"
          ]
        },
        {
          "output_type": "stream",
          "name": "stderr",
          "text": [
            "Epoch 180/1000: 100%|██████████| 13/13 [00:05<00:00,  2.40batch/s, Gen Loss=3.0871, Disc Loss=0.1007]\n"
          ]
        },
        {
          "output_type": "stream",
          "name": "stdout",
          "text": [
            "Generated images for epoch 179 saved to GrapeDataset/Grape Plant from Plant Village Dataset.\n",
            "Estimated time remaining: 62.89 minutes\n",
            "Current learning rates - Generator: 0.000013, Discriminator: 0.000013\n",
            "Epoch 181/1000\n"
          ]
        },
        {
          "output_type": "stream",
          "name": "stderr",
          "text": [
            "Epoch 181/1000: 100%|██████████| 13/13 [00:03<00:00,  3.31batch/s, Gen Loss=2.8277, Disc Loss=0.1193]\n"
          ]
        },
        {
          "output_type": "stream",
          "name": "stdout",
          "text": [
            "Estimated time remaining: 62.76 minutes\n",
            "Current learning rates - Generator: 0.000013, Discriminator: 0.000013\n",
            "Epoch 182/1000\n"
          ]
        },
        {
          "output_type": "stream",
          "name": "stderr",
          "text": [
            "Epoch 182/1000: 100%|██████████| 13/13 [00:04<00:00,  3.15batch/s, Gen Loss=3.6149, Disc Loss=0.0592]\n"
          ]
        },
        {
          "output_type": "stream",
          "name": "stdout",
          "text": [
            "Estimated time remaining: 62.65 minutes\n",
            "Current learning rates - Generator: 0.000013, Discriminator: 0.000013\n",
            "Epoch 183/1000\n"
          ]
        },
        {
          "output_type": "stream",
          "name": "stderr",
          "text": [
            "Epoch 183/1000: 100%|██████████| 13/13 [00:04<00:00,  2.72batch/s, Gen Loss=3.3339, Disc Loss=0.1510]\n"
          ]
        },
        {
          "output_type": "stream",
          "name": "stdout",
          "text": [
            "Estimated time remaining: 62.58 minutes\n",
            "Current learning rates - Generator: 0.000013, Discriminator: 0.000013\n",
            "Epoch 184/1000\n"
          ]
        },
        {
          "output_type": "stream",
          "name": "stderr",
          "text": [
            "Epoch 184/1000: 100%|██████████| 13/13 [00:04<00:00,  2.74batch/s, Gen Loss=3.3341, Disc Loss=0.1211]\n"
          ]
        },
        {
          "output_type": "stream",
          "name": "stdout",
          "text": [
            "Estimated time remaining: 62.52 minutes\n",
            "Current learning rates - Generator: 0.000013, Discriminator: 0.000013\n",
            "Epoch 185/1000\n"
          ]
        },
        {
          "output_type": "stream",
          "name": "stderr",
          "text": [
            "Epoch 185/1000: 100%|██████████| 13/13 [00:04<00:00,  3.15batch/s, Gen Loss=3.8669, Disc Loss=0.0788]\n"
          ]
        },
        {
          "output_type": "stream",
          "name": "stdout",
          "text": [
            "Generated images for epoch 184 saved to GrapeDataset/Grape Plant from Plant Village Dataset.\n",
            "Estimated time remaining: 62.46 minutes\n",
            "Current learning rates - Generator: 0.000013, Discriminator: 0.000013\n",
            "Epoch 186/1000\n"
          ]
        },
        {
          "output_type": "stream",
          "name": "stderr",
          "text": [
            "Epoch 186/1000: 100%|██████████| 13/13 [00:04<00:00,  2.98batch/s, Gen Loss=2.6993, Disc Loss=0.1001]\n"
          ]
        },
        {
          "output_type": "stream",
          "name": "stdout",
          "text": [
            "Estimated time remaining: 62.37 minutes\n",
            "Current learning rates - Generator: 0.000013, Discriminator: 0.000013\n",
            "Epoch 187/1000\n"
          ]
        },
        {
          "output_type": "stream",
          "name": "stderr",
          "text": [
            "Epoch 187/1000: 100%|██████████| 13/13 [00:05<00:00,  2.51batch/s, Gen Loss=3.3131, Disc Loss=0.1285]\n"
          ]
        },
        {
          "output_type": "stream",
          "name": "stdout",
          "text": [
            "Estimated time remaining: 62.33 minutes\n",
            "Current learning rates - Generator: 0.000013, Discriminator: 0.000013\n",
            "Epoch 188/1000\n"
          ]
        },
        {
          "output_type": "stream",
          "name": "stderr",
          "text": [
            "Epoch 188/1000: 100%|██████████| 13/13 [00:03<00:00,  3.27batch/s, Gen Loss=3.9075, Disc Loss=0.0732]\n"
          ]
        },
        {
          "output_type": "stream",
          "name": "stdout",
          "text": [
            "Estimated time remaining: 62.21 minutes\n",
            "Current learning rates - Generator: 0.000013, Discriminator: 0.000013\n",
            "Epoch 189/1000\n"
          ]
        },
        {
          "output_type": "stream",
          "name": "stderr",
          "text": [
            "Epoch 189/1000: 100%|██████████| 13/13 [00:04<00:00,  3.25batch/s, Gen Loss=3.6220, Disc Loss=0.0798]\n"
          ]
        },
        {
          "output_type": "stream",
          "name": "stdout",
          "text": [
            "Estimated time remaining: 62.09 minutes\n",
            "Current learning rates - Generator: 0.000013, Discriminator: 0.000013\n",
            "Epoch 190/1000\n"
          ]
        },
        {
          "output_type": "stream",
          "name": "stderr",
          "text": [
            "Epoch 190/1000: 100%|██████████| 13/13 [00:05<00:00,  2.34batch/s, Gen Loss=2.9227, Disc Loss=0.0962]\n"
          ]
        },
        {
          "output_type": "stream",
          "name": "stdout",
          "text": [
            "Generated images for epoch 189 saved to GrapeDataset/Grape Plant from Plant Village Dataset.\n",
            "Estimated time remaining: 62.14 minutes\n",
            "Current learning rates - Generator: 0.000013, Discriminator: 0.000013\n",
            "Epoch 191/1000\n"
          ]
        },
        {
          "output_type": "stream",
          "name": "stderr",
          "text": [
            "Epoch 191/1000: 100%|██████████| 13/13 [00:04<00:00,  3.21batch/s, Gen Loss=3.9130, Disc Loss=0.1386]\n"
          ]
        },
        {
          "output_type": "stream",
          "name": "stdout",
          "text": [
            "Estimated time remaining: 62.03 minutes\n",
            "Current learning rates - Generator: 0.000013, Discriminator: 0.000013\n",
            "Epoch 192/1000\n"
          ]
        },
        {
          "output_type": "stream",
          "name": "stderr",
          "text": [
            "Epoch 192/1000: 100%|██████████| 13/13 [00:04<00:00,  3.08batch/s, Gen Loss=3.4117, Disc Loss=0.0822]\n"
          ]
        },
        {
          "output_type": "stream",
          "name": "stdout",
          "text": [
            "Estimated time remaining: 61.92 minutes\n",
            "Current learning rates - Generator: 0.000013, Discriminator: 0.000013\n",
            "Epoch 193/1000\n"
          ]
        },
        {
          "output_type": "stream",
          "name": "stderr",
          "text": [
            "Epoch 193/1000: 100%|██████████| 13/13 [00:04<00:00,  2.63batch/s, Gen Loss=3.4132, Disc Loss=0.1390]\n"
          ]
        },
        {
          "output_type": "stream",
          "name": "stdout",
          "text": [
            "Estimated time remaining: 61.87 minutes\n",
            "Current learning rates - Generator: 0.000013, Discriminator: 0.000013\n",
            "Epoch 194/1000\n"
          ]
        },
        {
          "output_type": "stream",
          "name": "stderr",
          "text": [
            "Epoch 194/1000: 100%|██████████| 13/13 [00:04<00:00,  3.05batch/s, Gen Loss=3.9527, Disc Loss=0.1485]\n"
          ]
        },
        {
          "output_type": "stream",
          "name": "stdout",
          "text": [
            "Estimated time remaining: 61.77 minutes\n",
            "Current learning rates - Generator: 0.000013, Discriminator: 0.000013\n",
            "Epoch 195/1000\n"
          ]
        },
        {
          "output_type": "stream",
          "name": "stderr",
          "text": [
            "Epoch 195/1000: 100%|██████████| 13/13 [00:04<00:00,  3.21batch/s, Gen Loss=3.9495, Disc Loss=0.1788]\n"
          ]
        },
        {
          "output_type": "stream",
          "name": "stdout",
          "text": [
            "Generated images for epoch 194 saved to GrapeDataset/Grape Plant from Plant Village Dataset.\n",
            "Estimated time remaining: 61.71 minutes\n",
            "Current learning rates - Generator: 0.000013, Discriminator: 0.000013\n",
            "Epoch 196/1000\n"
          ]
        },
        {
          "output_type": "stream",
          "name": "stderr",
          "text": [
            "Epoch 196/1000: 100%|██████████| 13/13 [00:04<00:00,  2.85batch/s, Gen Loss=2.5283, Disc Loss=0.1258]\n"
          ]
        },
        {
          "output_type": "stream",
          "name": "stdout",
          "text": [
            "Estimated time remaining: 61.63 minutes\n",
            "Current learning rates - Generator: 0.000013, Discriminator: 0.000013\n",
            "Epoch 197/1000\n"
          ]
        },
        {
          "output_type": "stream",
          "name": "stderr",
          "text": [
            "Epoch 197/1000: 100%|██████████| 13/13 [00:05<00:00,  2.58batch/s, Gen Loss=3.5451, Disc Loss=0.2156]\n"
          ]
        },
        {
          "output_type": "stream",
          "name": "stdout",
          "text": [
            "Estimated time remaining: 61.59 minutes\n",
            "Current learning rates - Generator: 0.000013, Discriminator: 0.000013\n",
            "Epoch 198/1000\n"
          ]
        },
        {
          "output_type": "stream",
          "name": "stderr",
          "text": [
            "Epoch 198/1000: 100%|██████████| 13/13 [00:04<00:00,  3.21batch/s, Gen Loss=3.3388, Disc Loss=0.0752]\n"
          ]
        },
        {
          "output_type": "stream",
          "name": "stdout",
          "text": [
            "Estimated time remaining: 61.47 minutes\n",
            "Current learning rates - Generator: 0.000013, Discriminator: 0.000013\n",
            "Epoch 199/1000\n"
          ]
        },
        {
          "output_type": "stream",
          "name": "stderr",
          "text": [
            "Epoch 199/1000: 100%|██████████| 13/13 [00:04<00:00,  3.18batch/s, Gen Loss=3.0939, Disc Loss=0.0657]\n"
          ]
        },
        {
          "output_type": "stream",
          "name": "stdout",
          "text": [
            "Estimated time remaining: 61.36 minutes\n",
            "Current learning rates - Generator: 0.000013, Discriminator: 0.000013\n",
            "Epoch 200/1000\n"
          ]
        },
        {
          "output_type": "stream",
          "name": "stderr",
          "text": [
            "Epoch 200/1000: 100%|██████████| 13/13 [00:05<00:00,  2.31batch/s, Gen Loss=3.9311, Disc Loss=0.0760]\n"
          ]
        },
        {
          "output_type": "stream",
          "name": "stdout",
          "text": [
            "Generated images for epoch 199 saved to GrapeDataset/Grape Plant from Plant Village Dataset.\n",
            "Estimated time remaining: 61.41 minutes\n",
            "Current learning rates - Generator: 0.000013, Discriminator: 0.000013\n",
            "Epoch 201/1000\n"
          ]
        },
        {
          "output_type": "stream",
          "name": "stderr",
          "text": [
            "Epoch 201/1000: 100%|██████████| 13/13 [00:04<00:00,  3.18batch/s, Gen Loss=3.4296, Disc Loss=0.1201]\n"
          ]
        },
        {
          "output_type": "stream",
          "name": "stdout",
          "text": [
            "Estimated time remaining: 61.30 minutes\n",
            "Current learning rates - Generator: 0.000013, Discriminator: 0.000013\n",
            "Epoch 202/1000\n"
          ]
        },
        {
          "output_type": "stream",
          "name": "stderr",
          "text": [
            "Epoch 202/1000: 100%|██████████| 13/13 [00:04<00:00,  3.22batch/s, Gen Loss=4.0639, Disc Loss=0.0736]\n"
          ]
        },
        {
          "output_type": "stream",
          "name": "stdout",
          "text": [
            "Estimated time remaining: 61.18 minutes\n",
            "Current learning rates - Generator: 0.000013, Discriminator: 0.000013\n",
            "Epoch 203/1000\n"
          ]
        },
        {
          "output_type": "stream",
          "name": "stderr",
          "text": [
            "Epoch 203/1000: 100%|██████████| 13/13 [00:05<00:00,  2.32batch/s, Gen Loss=4.0390, Disc Loss=0.0327]\n"
          ]
        },
        {
          "output_type": "stream",
          "name": "stdout",
          "text": [
            "Estimated time remaining: 61.17 minutes\n",
            "Current learning rates - Generator: 0.000013, Discriminator: 0.000013\n",
            "Epoch 204/1000\n"
          ]
        },
        {
          "output_type": "stream",
          "name": "stderr",
          "text": [
            "Epoch 204/1000: 100%|██████████| 13/13 [00:03<00:00,  3.27batch/s, Gen Loss=4.5029, Disc Loss=0.0200]\n"
          ]
        },
        {
          "output_type": "stream",
          "name": "stdout",
          "text": [
            "Estimated time remaining: 61.05 minutes\n",
            "Current learning rates - Generator: 0.000013, Discriminator: 0.000013\n",
            "Epoch 205/1000\n"
          ]
        },
        {
          "output_type": "stream",
          "name": "stderr",
          "text": [
            "Epoch 205/1000: 100%|██████████| 13/13 [00:04<00:00,  3.16batch/s, Gen Loss=3.5510, Disc Loss=0.0560]\n"
          ]
        },
        {
          "output_type": "stream",
          "name": "stdout",
          "text": [
            "Generated images for epoch 204 saved to GrapeDataset/Grape Plant from Plant Village Dataset.\n",
            "Estimated time remaining: 61.00 minutes\n",
            "Current learning rates - Generator: 0.000013, Discriminator: 0.000013\n",
            "Epoch 206/1000\n"
          ]
        },
        {
          "output_type": "stream",
          "name": "stderr",
          "text": [
            "Epoch 206/1000: 100%|██████████| 13/13 [00:05<00:00,  2.47batch/s, Gen Loss=3.5503, Disc Loss=0.0859]\n"
          ]
        },
        {
          "output_type": "stream",
          "name": "stdout",
          "text": [
            "Estimated time remaining: 60.96 minutes\n",
            "Current learning rates - Generator: 0.000013, Discriminator: 0.000013\n",
            "Epoch 207/1000\n"
          ]
        },
        {
          "output_type": "stream",
          "name": "stderr",
          "text": [
            "Epoch 207/1000: 100%|██████████| 13/13 [00:04<00:00,  3.02batch/s, Gen Loss=2.7599, Disc Loss=0.9667]\n"
          ]
        },
        {
          "output_type": "stream",
          "name": "stdout",
          "text": [
            "Estimated time remaining: 60.87 minutes\n",
            "Current learning rates - Generator: 0.000013, Discriminator: 0.000013\n",
            "Epoch 208/1000\n"
          ]
        },
        {
          "output_type": "stream",
          "name": "stderr",
          "text": [
            "Epoch 208/1000: 100%|██████████| 13/13 [00:04<00:00,  3.17batch/s, Gen Loss=3.3136, Disc Loss=0.1620]\n"
          ]
        },
        {
          "output_type": "stream",
          "name": "stdout",
          "text": [
            "Estimated time remaining: 60.76 minutes\n",
            "Current learning rates - Generator: 0.000013, Discriminator: 0.000013\n",
            "Epoch 209/1000\n"
          ]
        },
        {
          "output_type": "stream",
          "name": "stderr",
          "text": [
            "Epoch 209/1000: 100%|██████████| 13/13 [00:04<00:00,  2.92batch/s, Gen Loss=3.3113, Disc Loss=0.3692]\n"
          ]
        },
        {
          "output_type": "stream",
          "name": "stdout",
          "text": [
            "Estimated time remaining: 60.67 minutes\n",
            "Current learning rates - Generator: 0.000013, Discriminator: 0.000013\n",
            "Epoch 210/1000\n"
          ]
        },
        {
          "output_type": "stream",
          "name": "stderr",
          "text": [
            "Epoch 210/1000: 100%|██████████| 13/13 [00:05<00:00,  2.59batch/s, Gen Loss=3.9529, Disc Loss=0.0294]\n"
          ]
        },
        {
          "output_type": "stream",
          "name": "stdout",
          "text": [
            "Generated images for epoch 209 saved to GrapeDataset/Grape Plant from Plant Village Dataset.\n",
            "Estimated time remaining: 60.67 minutes\n",
            "Current learning rates - Generator: 0.000013, Discriminator: 0.000013\n",
            "Epoch 211/1000\n"
          ]
        },
        {
          "output_type": "stream",
          "name": "stderr",
          "text": [
            "Epoch 211/1000: 100%|██████████| 13/13 [00:03<00:00,  3.34batch/s, Gen Loss=4.5719, Disc Loss=0.0346]\n"
          ]
        },
        {
          "output_type": "stream",
          "name": "stdout",
          "text": [
            "Estimated time remaining: 60.54 minutes\n",
            "Current learning rates - Generator: 0.000013, Discriminator: 0.000013\n",
            "Epoch 212/1000\n"
          ]
        },
        {
          "output_type": "stream",
          "name": "stderr",
          "text": [
            "Epoch 212/1000: 100%|██████████| 13/13 [00:04<00:00,  3.10batch/s, Gen Loss=3.7939, Disc Loss=0.0471]\n"
          ]
        },
        {
          "output_type": "stream",
          "name": "stdout",
          "text": [
            "Estimated time remaining: 60.44 minutes\n",
            "Current learning rates - Generator: 0.000013, Discriminator: 0.000013\n",
            "Epoch 213/1000\n"
          ]
        },
        {
          "output_type": "stream",
          "name": "stderr",
          "text": [
            "Epoch 213/1000: 100%|██████████| 13/13 [00:05<00:00,  2.25batch/s, Gen Loss=3.1958, Disc Loss=0.1529]\n"
          ]
        },
        {
          "output_type": "stream",
          "name": "stdout",
          "text": [
            "Estimated time remaining: 60.44 minutes\n",
            "Current learning rates - Generator: 0.000013, Discriminator: 0.000013\n",
            "Epoch 214/1000\n"
          ]
        },
        {
          "output_type": "stream",
          "name": "stderr",
          "text": [
            "Epoch 214/1000: 100%|██████████| 13/13 [00:04<00:00,  3.13batch/s, Gen Loss=3.4994, Disc Loss=0.0717]\n"
          ]
        },
        {
          "output_type": "stream",
          "name": "stdout",
          "text": [
            "Estimated time remaining: 60.33 minutes\n",
            "Current learning rates - Generator: 0.000013, Discriminator: 0.000013\n",
            "Epoch 215/1000\n"
          ]
        },
        {
          "output_type": "stream",
          "name": "stderr",
          "text": [
            "Epoch 215/1000: 100%|██████████| 13/13 [00:04<00:00,  3.13batch/s, Gen Loss=2.9253, Disc Loss=0.0744]\n"
          ]
        },
        {
          "output_type": "stream",
          "name": "stdout",
          "text": [
            "Generated images for epoch 214 saved to GrapeDataset/Grape Plant from Plant Village Dataset.\n",
            "Estimated time remaining: 60.28 minutes\n",
            "Current learning rates - Generator: 0.000013, Discriminator: 0.000013\n",
            "Epoch 216/1000\n"
          ]
        },
        {
          "output_type": "stream",
          "name": "stderr",
          "text": [
            "Epoch 216/1000: 100%|██████████| 13/13 [00:05<00:00,  2.26batch/s, Gen Loss=2.7828, Disc Loss=0.2174]\n"
          ]
        },
        {
          "output_type": "stream",
          "name": "stdout",
          "text": [
            "Estimated time remaining: 60.27 minutes\n",
            "Current learning rates - Generator: 0.000013, Discriminator: 0.000013\n",
            "Epoch 217/1000\n"
          ]
        },
        {
          "output_type": "stream",
          "name": "stderr",
          "text": [
            "Epoch 217/1000: 100%|██████████| 13/13 [00:04<00:00,  3.19batch/s, Gen Loss=3.8145, Disc Loss=0.1066]\n"
          ]
        },
        {
          "output_type": "stream",
          "name": "stdout",
          "text": [
            "Estimated time remaining: 60.16 minutes\n",
            "Current learning rates - Generator: 0.000013, Discriminator: 0.000013\n",
            "Epoch 218/1000\n"
          ]
        },
        {
          "output_type": "stream",
          "name": "stderr",
          "text": [
            "Epoch 218/1000: 100%|██████████| 13/13 [00:04<00:00,  3.18batch/s, Gen Loss=3.0177, Disc Loss=0.1294]\n"
          ]
        },
        {
          "output_type": "stream",
          "name": "stdout",
          "text": [
            "Estimated time remaining: 60.06 minutes\n",
            "Current learning rates - Generator: 0.000013, Discriminator: 0.000013\n",
            "Epoch 219/1000\n"
          ]
        },
        {
          "output_type": "stream",
          "name": "stderr",
          "text": [
            "Epoch 219/1000: 100%|██████████| 13/13 [00:04<00:00,  2.73batch/s, Gen Loss=3.2503, Disc Loss=0.1382]\n"
          ]
        },
        {
          "output_type": "stream",
          "name": "stdout",
          "text": [
            "Estimated time remaining: 59.99 minutes\n",
            "Current learning rates - Generator: 0.000013, Discriminator: 0.000013\n",
            "Epoch 220/1000\n"
          ]
        },
        {
          "output_type": "stream",
          "name": "stderr",
          "text": [
            "Epoch 220/1000: 100%|██████████| 13/13 [00:04<00:00,  2.63batch/s, Gen Loss=3.9830, Disc Loss=0.1033]\n"
          ]
        },
        {
          "output_type": "stream",
          "name": "stdout",
          "text": [
            "Generated images for epoch 219 saved to GrapeDataset/Grape Plant from Plant Village Dataset.\n",
            "Estimated time remaining: 59.96 minutes\n",
            "Current learning rates - Generator: 0.000013, Discriminator: 0.000013\n",
            "Epoch 221/1000\n"
          ]
        },
        {
          "output_type": "stream",
          "name": "stderr",
          "text": [
            "Epoch 221/1000: 100%|██████████| 13/13 [00:04<00:00,  3.23batch/s, Gen Loss=3.5553, Disc Loss=0.0272]\n"
          ]
        },
        {
          "output_type": "stream",
          "name": "stdout",
          "text": [
            "Estimated time remaining: 59.85 minutes\n",
            "Current learning rates - Generator: 0.000013, Discriminator: 0.000013\n",
            "Epoch 222/1000\n"
          ]
        },
        {
          "output_type": "stream",
          "name": "stderr",
          "text": [
            "Epoch 222/1000: 100%|██████████| 13/13 [00:04<00:00,  3.08batch/s, Gen Loss=4.4300, Disc Loss=0.0239]\n"
          ]
        },
        {
          "output_type": "stream",
          "name": "stdout",
          "text": [
            "Estimated time remaining: 59.75 minutes\n",
            "Current learning rates - Generator: 0.000013, Discriminator: 0.000013\n",
            "Epoch 223/1000\n"
          ]
        },
        {
          "output_type": "stream",
          "name": "stderr",
          "text": [
            "Epoch 223/1000: 100%|██████████| 13/13 [00:05<00:00,  2.43batch/s, Gen Loss=2.8457, Disc Loss=0.1144]\n"
          ]
        },
        {
          "output_type": "stream",
          "name": "stdout",
          "text": [
            "Estimated time remaining: 59.72 minutes\n",
            "Current learning rates - Generator: 0.000013, Discriminator: 0.000013\n",
            "Epoch 224/1000\n"
          ]
        },
        {
          "output_type": "stream",
          "name": "stderr",
          "text": [
            "Epoch 224/1000: 100%|██████████| 13/13 [00:04<00:00,  3.15batch/s, Gen Loss=3.7668, Disc Loss=0.0552]\n"
          ]
        },
        {
          "output_type": "stream",
          "name": "stdout",
          "text": [
            "Estimated time remaining: 59.62 minutes\n",
            "Current learning rates - Generator: 0.000013, Discriminator: 0.000013\n",
            "Epoch 225/1000\n"
          ]
        },
        {
          "output_type": "stream",
          "name": "stderr",
          "text": [
            "Epoch 225/1000: 100%|██████████| 13/13 [00:04<00:00,  3.11batch/s, Gen Loss=4.3998, Disc Loss=0.0458]\n"
          ]
        },
        {
          "output_type": "stream",
          "name": "stdout",
          "text": [
            "Generated images for epoch 224 saved to GrapeDataset/Grape Plant from Plant Village Dataset.\n",
            "Estimated time remaining: 59.56 minutes\n",
            "Current learning rates - Generator: 0.000006, Discriminator: 0.000006\n",
            "Epoch 226/1000\n"
          ]
        },
        {
          "output_type": "stream",
          "name": "stderr",
          "text": [
            "Epoch 226/1000: 100%|██████████| 13/13 [00:05<00:00,  2.29batch/s, Gen Loss=4.0614, Disc Loss=0.0232]\n"
          ]
        },
        {
          "output_type": "stream",
          "name": "stdout",
          "text": [
            "Estimated time remaining: 59.54 minutes\n",
            "Current learning rates - Generator: 0.000006, Discriminator: 0.000006\n",
            "Epoch 227/1000\n"
          ]
        },
        {
          "output_type": "stream",
          "name": "stderr",
          "text": [
            "Epoch 227/1000: 100%|██████████| 13/13 [00:04<00:00,  3.16batch/s, Gen Loss=3.5374, Disc Loss=0.0661]\n"
          ]
        },
        {
          "output_type": "stream",
          "name": "stdout",
          "text": [
            "Estimated time remaining: 59.44 minutes\n",
            "Current learning rates - Generator: 0.000006, Discriminator: 0.000006\n",
            "Epoch 228/1000\n"
          ]
        },
        {
          "output_type": "stream",
          "name": "stderr",
          "text": [
            "Epoch 228/1000: 100%|██████████| 13/13 [00:04<00:00,  3.23batch/s, Gen Loss=3.2912, Disc Loss=0.0361]\n"
          ]
        },
        {
          "output_type": "stream",
          "name": "stdout",
          "text": [
            "Estimated time remaining: 59.33 minutes\n",
            "Current learning rates - Generator: 0.000006, Discriminator: 0.000006\n",
            "Epoch 229/1000\n"
          ]
        },
        {
          "output_type": "stream",
          "name": "stderr",
          "text": [
            "Epoch 229/1000: 100%|██████████| 13/13 [00:05<00:00,  2.52batch/s, Gen Loss=3.8122, Disc Loss=0.0697]\n"
          ]
        },
        {
          "output_type": "stream",
          "name": "stdout",
          "text": [
            "Estimated time remaining: 59.28 minutes\n",
            "Current learning rates - Generator: 0.000006, Discriminator: 0.000006\n",
            "Epoch 230/1000\n"
          ]
        },
        {
          "output_type": "stream",
          "name": "stderr",
          "text": [
            "Epoch 230/1000: 100%|██████████| 13/13 [00:04<00:00,  3.06batch/s, Gen Loss=3.9397, Disc Loss=0.0553]\n"
          ]
        },
        {
          "output_type": "stream",
          "name": "stdout",
          "text": [
            "Generated images for epoch 229 saved to GrapeDataset/Grape Plant from Plant Village Dataset.\n",
            "Estimated time remaining: 59.23 minutes\n",
            "Current learning rates - Generator: 0.000006, Discriminator: 0.000006\n",
            "Epoch 231/1000\n"
          ]
        },
        {
          "output_type": "stream",
          "name": "stderr",
          "text": [
            "Epoch 231/1000: 100%|██████████| 13/13 [00:04<00:00,  3.14batch/s, Gen Loss=3.6319, Disc Loss=0.0700]\n"
          ]
        },
        {
          "output_type": "stream",
          "name": "stdout",
          "text": [
            "Estimated time remaining: 59.13 minutes\n",
            "Current learning rates - Generator: 0.000006, Discriminator: 0.000006\n",
            "Epoch 232/1000\n"
          ]
        },
        {
          "output_type": "stream",
          "name": "stderr",
          "text": [
            "Epoch 232/1000: 100%|██████████| 13/13 [00:05<00:00,  2.60batch/s, Gen Loss=3.8544, Disc Loss=0.1270]\n"
          ]
        },
        {
          "output_type": "stream",
          "name": "stdout",
          "text": [
            "Estimated time remaining: 59.07 minutes\n",
            "Current learning rates - Generator: 0.000006, Discriminator: 0.000006\n",
            "Epoch 233/1000\n"
          ]
        },
        {
          "output_type": "stream",
          "name": "stderr",
          "text": [
            "Epoch 233/1000: 100%|██████████| 13/13 [00:04<00:00,  2.99batch/s, Gen Loss=3.4440, Disc Loss=0.0366]\n"
          ]
        },
        {
          "output_type": "stream",
          "name": "stdout",
          "text": [
            "Estimated time remaining: 58.98 minutes\n",
            "Current learning rates - Generator: 0.000006, Discriminator: 0.000006\n",
            "Epoch 234/1000\n"
          ]
        },
        {
          "output_type": "stream",
          "name": "stderr",
          "text": [
            "Epoch 234/1000: 100%|██████████| 13/13 [00:04<00:00,  3.24batch/s, Gen Loss=3.2782, Disc Loss=0.0828]\n"
          ]
        },
        {
          "output_type": "stream",
          "name": "stdout",
          "text": [
            "Estimated time remaining: 58.87 minutes\n",
            "Current learning rates - Generator: 0.000006, Discriminator: 0.000006\n",
            "Epoch 235/1000\n"
          ]
        },
        {
          "output_type": "stream",
          "name": "stderr",
          "text": [
            "Epoch 235/1000: 100%|██████████| 13/13 [00:04<00:00,  2.93batch/s, Gen Loss=3.0039, Disc Loss=0.1737]\n"
          ]
        },
        {
          "output_type": "stream",
          "name": "stdout",
          "text": [
            "Generated images for epoch 234 saved to GrapeDataset/Grape Plant from Plant Village Dataset.\n",
            "Estimated time remaining: 58.84 minutes\n",
            "Current learning rates - Generator: 0.000006, Discriminator: 0.000006\n",
            "Epoch 236/1000\n"
          ]
        },
        {
          "output_type": "stream",
          "name": "stderr",
          "text": [
            "Epoch 236/1000: 100%|██████████| 13/13 [00:04<00:00,  2.69batch/s, Gen Loss=2.7786, Disc Loss=0.1465]\n"
          ]
        },
        {
          "output_type": "stream",
          "name": "stdout",
          "text": [
            "Estimated time remaining: 58.78 minutes\n",
            "Current learning rates - Generator: 0.000006, Discriminator: 0.000006\n",
            "Epoch 237/1000\n"
          ]
        },
        {
          "output_type": "stream",
          "name": "stderr",
          "text": [
            "Epoch 237/1000: 100%|██████████| 13/13 [00:03<00:00,  3.26batch/s, Gen Loss=2.5650, Disc Loss=0.2208]\n"
          ]
        },
        {
          "output_type": "stream",
          "name": "stdout",
          "text": [
            "Estimated time remaining: 58.67 minutes\n",
            "Current learning rates - Generator: 0.000006, Discriminator: 0.000006\n",
            "Epoch 238/1000\n"
          ]
        },
        {
          "output_type": "stream",
          "name": "stderr",
          "text": [
            "Epoch 238/1000: 100%|██████████| 13/13 [00:04<00:00,  3.19batch/s, Gen Loss=2.7629, Disc Loss=0.1289]\n"
          ]
        },
        {
          "output_type": "stream",
          "name": "stdout",
          "text": [
            "Estimated time remaining: 58.56 minutes\n",
            "Current learning rates - Generator: 0.000006, Discriminator: 0.000006\n",
            "Epoch 239/1000\n"
          ]
        },
        {
          "output_type": "stream",
          "name": "stderr",
          "text": [
            "Epoch 239/1000: 100%|██████████| 13/13 [00:05<00:00,  2.32batch/s, Gen Loss=2.3172, Disc Loss=0.2909]\n"
          ]
        },
        {
          "output_type": "stream",
          "name": "stdout",
          "text": [
            "Estimated time remaining: 58.54 minutes\n",
            "Current learning rates - Generator: 0.000006, Discriminator: 0.000006\n",
            "Epoch 240/1000\n"
          ]
        },
        {
          "output_type": "stream",
          "name": "stderr",
          "text": [
            "Epoch 240/1000: 100%|██████████| 13/13 [00:04<00:00,  3.10batch/s, Gen Loss=2.5312, Disc Loss=0.1476]\n"
          ]
        },
        {
          "output_type": "stream",
          "name": "stdout",
          "text": [
            "Generated images for epoch 239 saved to GrapeDataset/Grape Plant from Plant Village Dataset.\n",
            "Estimated time remaining: 58.48 minutes\n",
            "Current learning rates - Generator: 0.000006, Discriminator: 0.000006\n",
            "Epoch 241/1000\n"
          ]
        },
        {
          "output_type": "stream",
          "name": "stderr",
          "text": [
            "Epoch 241/1000: 100%|██████████| 13/13 [00:04<00:00,  3.11batch/s, Gen Loss=2.9449, Disc Loss=0.0875]\n"
          ]
        },
        {
          "output_type": "stream",
          "name": "stdout",
          "text": [
            "Estimated time remaining: 58.38 minutes\n",
            "Current learning rates - Generator: 0.000006, Discriminator: 0.000006\n",
            "Epoch 242/1000\n"
          ]
        },
        {
          "output_type": "stream",
          "name": "stderr",
          "text": [
            "Epoch 242/1000: 100%|██████████| 13/13 [00:05<00:00,  2.31batch/s, Gen Loss=3.2973, Disc Loss=0.1717]\n"
          ]
        },
        {
          "output_type": "stream",
          "name": "stdout",
          "text": [
            "Estimated time remaining: 58.35 minutes\n",
            "Current learning rates - Generator: 0.000006, Discriminator: 0.000006\n",
            "Epoch 243/1000\n"
          ]
        },
        {
          "output_type": "stream",
          "name": "stderr",
          "text": [
            "Epoch 243/1000: 100%|██████████| 13/13 [00:03<00:00,  3.28batch/s, Gen Loss=3.4101, Disc Loss=0.1649]\n"
          ]
        },
        {
          "output_type": "stream",
          "name": "stdout",
          "text": [
            "Estimated time remaining: 58.24 minutes\n",
            "Current learning rates - Generator: 0.000006, Discriminator: 0.000006\n",
            "Epoch 244/1000\n"
          ]
        },
        {
          "output_type": "stream",
          "name": "stderr",
          "text": [
            "Epoch 244/1000: 100%|██████████| 13/13 [00:04<00:00,  3.07batch/s, Gen Loss=3.9140, Disc Loss=0.1187]\n"
          ]
        },
        {
          "output_type": "stream",
          "name": "stdout",
          "text": [
            "Estimated time remaining: 58.15 minutes\n",
            "Current learning rates - Generator: 0.000006, Discriminator: 0.000006\n",
            "Epoch 245/1000\n"
          ]
        },
        {
          "output_type": "stream",
          "name": "stderr",
          "text": [
            "Epoch 245/1000: 100%|██████████| 13/13 [00:04<00:00,  2.76batch/s, Gen Loss=3.5476, Disc Loss=0.0904]\n"
          ]
        },
        {
          "output_type": "stream",
          "name": "stdout",
          "text": [
            "Generated images for epoch 244 saved to GrapeDataset/Grape Plant from Plant Village Dataset.\n",
            "Estimated time remaining: 58.12 minutes\n",
            "Current learning rates - Generator: 0.000006, Discriminator: 0.000006\n",
            "Epoch 246/1000\n"
          ]
        },
        {
          "output_type": "stream",
          "name": "stderr",
          "text": [
            "Epoch 246/1000: 100%|██████████| 13/13 [00:04<00:00,  3.07batch/s, Gen Loss=3.8836, Disc Loss=0.1150]\n"
          ]
        },
        {
          "output_type": "stream",
          "name": "stdout",
          "text": [
            "Estimated time remaining: 58.02 minutes\n",
            "Current learning rates - Generator: 0.000006, Discriminator: 0.000006\n",
            "Epoch 247/1000\n"
          ]
        },
        {
          "output_type": "stream",
          "name": "stderr",
          "text": [
            "Epoch 247/1000: 100%|██████████| 13/13 [00:04<00:00,  3.21batch/s, Gen Loss=3.5775, Disc Loss=0.0900]\n"
          ]
        },
        {
          "output_type": "stream",
          "name": "stdout",
          "text": [
            "Estimated time remaining: 57.92 minutes\n",
            "Current learning rates - Generator: 0.000006, Discriminator: 0.000006\n",
            "Epoch 248/1000\n"
          ]
        },
        {
          "output_type": "stream",
          "name": "stderr",
          "text": [
            "Epoch 248/1000: 100%|██████████| 13/13 [00:04<00:00,  2.93batch/s, Gen Loss=3.5794, Disc Loss=0.0601]\n"
          ]
        },
        {
          "output_type": "stream",
          "name": "stdout",
          "text": [
            "Estimated time remaining: 57.83 minutes\n",
            "Current learning rates - Generator: 0.000006, Discriminator: 0.000006\n",
            "Epoch 249/1000\n"
          ]
        },
        {
          "output_type": "stream",
          "name": "stderr",
          "text": [
            "Epoch 249/1000: 100%|██████████| 13/13 [00:05<00:00,  2.52batch/s, Gen Loss=3.0363, Disc Loss=0.0796]\n"
          ]
        },
        {
          "output_type": "stream",
          "name": "stdout",
          "text": [
            "Estimated time remaining: 57.78 minutes\n",
            "Current learning rates - Generator: 0.000006, Discriminator: 0.000006\n",
            "Epoch 250/1000\n"
          ]
        },
        {
          "output_type": "stream",
          "name": "stderr",
          "text": [
            "Epoch 250/1000: 100%|██████████| 13/13 [00:04<00:00,  3.20batch/s, Gen Loss=3.9165, Disc Loss=0.0674]\n"
          ]
        },
        {
          "output_type": "stream",
          "name": "stdout",
          "text": [
            "Generated images for epoch 249 saved to GrapeDataset/Grape Plant from Plant Village Dataset.\n",
            "Estimated time remaining: 57.71 minutes\n",
            "Current learning rates - Generator: 0.000006, Discriminator: 0.000006\n",
            "Epoch 251/1000\n"
          ]
        },
        {
          "output_type": "stream",
          "name": "stderr",
          "text": [
            "Epoch 251/1000: 100%|██████████| 13/13 [00:04<00:00,  3.15batch/s, Gen Loss=4.3380, Disc Loss=0.0371]\n"
          ]
        },
        {
          "output_type": "stream",
          "name": "stdout",
          "text": [
            "Estimated time remaining: 57.61 minutes\n",
            "Current learning rates - Generator: 0.000006, Discriminator: 0.000006\n",
            "Epoch 252/1000\n"
          ]
        },
        {
          "output_type": "stream",
          "name": "stderr",
          "text": [
            "Epoch 252/1000: 100%|██████████| 13/13 [00:05<00:00,  2.33batch/s, Gen Loss=4.0335, Disc Loss=0.0874]\n"
          ]
        },
        {
          "output_type": "stream",
          "name": "stdout",
          "text": [
            "Estimated time remaining: 57.58 minutes\n",
            "Current learning rates - Generator: 0.000006, Discriminator: 0.000006\n",
            "Epoch 253/1000\n"
          ]
        },
        {
          "output_type": "stream",
          "name": "stderr",
          "text": [
            "Epoch 253/1000: 100%|██████████| 13/13 [00:03<00:00,  3.28batch/s, Gen Loss=3.8249, Disc Loss=0.1732]\n"
          ]
        },
        {
          "output_type": "stream",
          "name": "stdout",
          "text": [
            "Estimated time remaining: 57.47 minutes\n",
            "Current learning rates - Generator: 0.000006, Discriminator: 0.000006\n",
            "Epoch 254/1000\n"
          ]
        },
        {
          "output_type": "stream",
          "name": "stderr",
          "text": [
            "Epoch 254/1000: 100%|██████████| 13/13 [00:04<00:00,  3.18batch/s, Gen Loss=3.5385, Disc Loss=0.1714]\n"
          ]
        },
        {
          "output_type": "stream",
          "name": "stdout",
          "text": [
            "Estimated time remaining: 57.37 minutes\n",
            "Current learning rates - Generator: 0.000006, Discriminator: 0.000006\n",
            "Epoch 255/1000\n"
          ]
        },
        {
          "output_type": "stream",
          "name": "stderr",
          "text": [
            "Epoch 255/1000: 100%|██████████| 13/13 [00:05<00:00,  2.47batch/s, Gen Loss=4.2256, Disc Loss=0.0154]\n"
          ]
        },
        {
          "output_type": "stream",
          "name": "stdout",
          "text": [
            "Generated images for epoch 254 saved to GrapeDataset/Grape Plant from Plant Village Dataset.\n",
            "Estimated time remaining: 57.36 minutes\n",
            "Current learning rates - Generator: 0.000006, Discriminator: 0.000006\n",
            "Epoch 256/1000\n"
          ]
        },
        {
          "output_type": "stream",
          "name": "stderr",
          "text": [
            "Epoch 256/1000: 100%|██████████| 13/13 [00:04<00:00,  3.16batch/s, Gen Loss=3.4956, Disc Loss=0.0566]\n"
          ]
        },
        {
          "output_type": "stream",
          "name": "stdout",
          "text": [
            "Estimated time remaining: 57.26 minutes\n",
            "Current learning rates - Generator: 0.000006, Discriminator: 0.000006\n",
            "Epoch 257/1000\n"
          ]
        },
        {
          "output_type": "stream",
          "name": "stderr",
          "text": [
            "Epoch 257/1000: 100%|██████████| 13/13 [00:04<00:00,  3.05batch/s, Gen Loss=3.2995, Disc Loss=0.1365]\n"
          ]
        },
        {
          "output_type": "stream",
          "name": "stdout",
          "text": [
            "Estimated time remaining: 57.17 minutes\n",
            "Current learning rates - Generator: 0.000006, Discriminator: 0.000006\n",
            "Epoch 258/1000\n"
          ]
        },
        {
          "output_type": "stream",
          "name": "stderr",
          "text": [
            "Epoch 258/1000: 100%|██████████| 13/13 [00:04<00:00,  2.64batch/s, Gen Loss=3.3070, Disc Loss=0.2993]\n"
          ]
        },
        {
          "output_type": "stream",
          "name": "stdout",
          "text": [
            "Estimated time remaining: 57.10 minutes\n",
            "Current learning rates - Generator: 0.000006, Discriminator: 0.000006\n",
            "Epoch 259/1000\n"
          ]
        },
        {
          "output_type": "stream",
          "name": "stderr",
          "text": [
            "Epoch 259/1000: 100%|██████████| 13/13 [00:04<00:00,  2.93batch/s, Gen Loss=3.4259, Disc Loss=0.1429]\n"
          ]
        },
        {
          "output_type": "stream",
          "name": "stdout",
          "text": [
            "Estimated time remaining: 57.02 minutes\n",
            "Current learning rates - Generator: 0.000006, Discriminator: 0.000006\n",
            "Epoch 260/1000\n"
          ]
        },
        {
          "output_type": "stream",
          "name": "stderr",
          "text": [
            "Epoch 260/1000: 100%|██████████| 13/13 [00:03<00:00,  3.28batch/s, Gen Loss=3.2620, Disc Loss=0.0654]\n"
          ]
        },
        {
          "output_type": "stream",
          "name": "stdout",
          "text": [
            "Generated images for epoch 259 saved to GrapeDataset/Grape Plant from Plant Village Dataset.\n",
            "Estimated time remaining: 56.95 minutes\n",
            "Current learning rates - Generator: 0.000006, Discriminator: 0.000006\n",
            "Epoch 261/1000\n"
          ]
        },
        {
          "output_type": "stream",
          "name": "stderr",
          "text": [
            "Epoch 261/1000: 100%|██████████| 13/13 [00:04<00:00,  2.85batch/s, Gen Loss=3.6733, Disc Loss=0.0742]\n"
          ]
        },
        {
          "output_type": "stream",
          "name": "stdout",
          "text": [
            "Estimated time remaining: 56.87 minutes\n",
            "Current learning rates - Generator: 0.000006, Discriminator: 0.000006\n",
            "Epoch 262/1000\n"
          ]
        },
        {
          "output_type": "stream",
          "name": "stderr",
          "text": [
            "Epoch 262/1000: 100%|██████████| 13/13 [00:04<00:00,  2.73batch/s, Gen Loss=3.9959, Disc Loss=0.0290]\n"
          ]
        },
        {
          "output_type": "stream",
          "name": "stdout",
          "text": [
            "Estimated time remaining: 56.80 minutes\n",
            "Current learning rates - Generator: 0.000006, Discriminator: 0.000006\n",
            "Epoch 263/1000\n"
          ]
        },
        {
          "output_type": "stream",
          "name": "stderr",
          "text": [
            "Epoch 263/1000: 100%|██████████| 13/13 [00:04<00:00,  3.21batch/s, Gen Loss=3.9972, Disc Loss=0.0404]\n"
          ]
        },
        {
          "output_type": "stream",
          "name": "stdout",
          "text": [
            "Estimated time remaining: 56.70 minutes\n",
            "Current learning rates - Generator: 0.000006, Discriminator: 0.000006\n",
            "Epoch 264/1000\n"
          ]
        },
        {
          "output_type": "stream",
          "name": "stderr",
          "text": [
            "Epoch 264/1000: 100%|██████████| 13/13 [00:04<00:00,  3.19batch/s, Gen Loss=4.2512, Disc Loss=0.0396]\n"
          ]
        },
        {
          "output_type": "stream",
          "name": "stdout",
          "text": [
            "Estimated time remaining: 56.60 minutes\n",
            "Current learning rates - Generator: 0.000006, Discriminator: 0.000006\n",
            "Epoch 265/1000\n"
          ]
        },
        {
          "output_type": "stream",
          "name": "stderr",
          "text": [
            "Epoch 265/1000: 100%|██████████| 13/13 [00:05<00:00,  2.31batch/s, Gen Loss=3.9214, Disc Loss=0.0319]\n"
          ]
        },
        {
          "output_type": "stream",
          "name": "stdout",
          "text": [
            "Generated images for epoch 264 saved to GrapeDataset/Grape Plant from Plant Village Dataset.\n",
            "Estimated time remaining: 56.60 minutes\n",
            "Current learning rates - Generator: 0.000006, Discriminator: 0.000006\n",
            "Epoch 266/1000\n"
          ]
        },
        {
          "output_type": "stream",
          "name": "stderr",
          "text": [
            "Epoch 266/1000: 100%|██████████| 13/13 [00:04<00:00,  3.17batch/s, Gen Loss=3.7421, Disc Loss=0.0597]\n"
          ]
        },
        {
          "output_type": "stream",
          "name": "stdout",
          "text": [
            "Estimated time remaining: 56.50 minutes\n",
            "Current learning rates - Generator: 0.000006, Discriminator: 0.000006\n",
            "Epoch 267/1000\n"
          ]
        },
        {
          "output_type": "stream",
          "name": "stderr",
          "text": [
            "Epoch 267/1000: 100%|██████████| 13/13 [00:04<00:00,  3.11batch/s, Gen Loss=3.4398, Disc Loss=0.0722]\n"
          ]
        },
        {
          "output_type": "stream",
          "name": "stdout",
          "text": [
            "Estimated time remaining: 56.40 minutes\n",
            "Current learning rates - Generator: 0.000006, Discriminator: 0.000006\n",
            "Epoch 268/1000\n"
          ]
        },
        {
          "output_type": "stream",
          "name": "stderr",
          "text": [
            "Epoch 268/1000: 100%|██████████| 13/13 [00:06<00:00,  1.98batch/s, Gen Loss=3.4367, Disc Loss=0.0950]\n"
          ]
        },
        {
          "output_type": "stream",
          "name": "stdout",
          "text": [
            "Estimated time remaining: 56.42 minutes\n",
            "Current learning rates - Generator: 0.000006, Discriminator: 0.000006\n",
            "Epoch 269/1000\n"
          ]
        },
        {
          "output_type": "stream",
          "name": "stderr",
          "text": [
            "Epoch 269/1000: 100%|██████████| 13/13 [00:04<00:00,  2.78batch/s, Gen Loss=3.3346, Disc Loss=0.0989]\n"
          ]
        },
        {
          "output_type": "stream",
          "name": "stdout",
          "text": [
            "Estimated time remaining: 56.34 minutes\n",
            "Current learning rates - Generator: 0.000006, Discriminator: 0.000006\n",
            "Epoch 270/1000\n"
          ]
        },
        {
          "output_type": "stream",
          "name": "stderr",
          "text": [
            "Epoch 270/1000: 100%|██████████| 13/13 [00:04<00:00,  3.17batch/s, Gen Loss=3.6697, Disc Loss=0.1479]\n"
          ]
        },
        {
          "output_type": "stream",
          "name": "stdout",
          "text": [
            "Generated images for epoch 269 saved to GrapeDataset/Grape Plant from Plant Village Dataset.\n",
            "Estimated time remaining: 56.28 minutes\n",
            "Current learning rates - Generator: 0.000006, Discriminator: 0.000006\n",
            "Epoch 271/1000\n"
          ]
        },
        {
          "output_type": "stream",
          "name": "stderr",
          "text": [
            "Epoch 271/1000: 100%|██████████| 13/13 [00:05<00:00,  2.36batch/s, Gen Loss=3.4854, Disc Loss=0.0544]\n"
          ]
        },
        {
          "output_type": "stream",
          "name": "stdout",
          "text": [
            "Estimated time remaining: 56.24 minutes\n",
            "Current learning rates - Generator: 0.000006, Discriminator: 0.000006\n",
            "Epoch 272/1000\n"
          ]
        },
        {
          "output_type": "stream",
          "name": "stderr",
          "text": [
            "Epoch 272/1000: 100%|██████████| 13/13 [00:04<00:00,  3.11batch/s, Gen Loss=3.3265, Disc Loss=0.0808]\n"
          ]
        },
        {
          "output_type": "stream",
          "name": "stdout",
          "text": [
            "Estimated time remaining: 56.14 minutes\n",
            "Current learning rates - Generator: 0.000006, Discriminator: 0.000006\n",
            "Epoch 273/1000\n"
          ]
        },
        {
          "output_type": "stream",
          "name": "stderr",
          "text": [
            "Epoch 273/1000: 100%|██████████| 13/13 [00:03<00:00,  3.26batch/s, Gen Loss=3.2876, Disc Loss=0.0854]\n"
          ]
        },
        {
          "output_type": "stream",
          "name": "stdout",
          "text": [
            "Estimated time remaining: 56.04 minutes\n",
            "Current learning rates - Generator: 0.000006, Discriminator: 0.000006\n",
            "Epoch 274/1000\n"
          ]
        },
        {
          "output_type": "stream",
          "name": "stderr",
          "text": [
            "Epoch 274/1000: 100%|██████████| 13/13 [00:04<00:00,  2.63batch/s, Gen Loss=3.2716, Disc Loss=0.1470]\n"
          ]
        },
        {
          "output_type": "stream",
          "name": "stdout",
          "text": [
            "Estimated time remaining: 55.98 minutes\n",
            "Current learning rates - Generator: 0.000006, Discriminator: 0.000006\n",
            "Epoch 275/1000\n"
          ]
        },
        {
          "output_type": "stream",
          "name": "stderr",
          "text": [
            "Epoch 275/1000: 100%|██████████| 13/13 [00:04<00:00,  3.02batch/s, Gen Loss=2.6478, Disc Loss=0.1401]\n"
          ]
        },
        {
          "output_type": "stream",
          "name": "stdout",
          "text": [
            "Generated images for epoch 274 saved to GrapeDataset/Grape Plant from Plant Village Dataset.\n",
            "Estimated time remaining: 55.92 minutes\n",
            "Current learning rates - Generator: 0.000006, Discriminator: 0.000006\n",
            "Epoch 276/1000\n"
          ]
        },
        {
          "output_type": "stream",
          "name": "stderr",
          "text": [
            "Epoch 276/1000: 100%|██████████| 13/13 [00:04<00:00,  3.24batch/s, Gen Loss=2.8418, Disc Loss=0.1365]\n"
          ]
        },
        {
          "output_type": "stream",
          "name": "stdout",
          "text": [
            "Estimated time remaining: 55.82 minutes\n",
            "Current learning rates - Generator: 0.000006, Discriminator: 0.000006\n",
            "Epoch 277/1000\n"
          ]
        },
        {
          "output_type": "stream",
          "name": "stderr",
          "text": [
            "Epoch 277/1000: 100%|██████████| 13/13 [00:04<00:00,  2.75batch/s, Gen Loss=3.1887, Disc Loss=0.0707]\n"
          ]
        },
        {
          "output_type": "stream",
          "name": "stdout",
          "text": [
            "Estimated time remaining: 55.74 minutes\n",
            "Current learning rates - Generator: 0.000006, Discriminator: 0.000006\n",
            "Epoch 278/1000\n"
          ]
        },
        {
          "output_type": "stream",
          "name": "stderr",
          "text": [
            "Epoch 278/1000: 100%|██████████| 13/13 [00:04<00:00,  2.67batch/s, Gen Loss=3.5631, Disc Loss=0.0943]\n"
          ]
        },
        {
          "output_type": "stream",
          "name": "stdout",
          "text": [
            "Estimated time remaining: 55.68 minutes\n",
            "Current learning rates - Generator: 0.000006, Discriminator: 0.000006\n",
            "Epoch 279/1000\n"
          ]
        },
        {
          "output_type": "stream",
          "name": "stderr",
          "text": [
            "Epoch 279/1000: 100%|██████████| 13/13 [00:03<00:00,  3.27batch/s, Gen Loss=3.4294, Disc Loss=0.0481]\n"
          ]
        },
        {
          "output_type": "stream",
          "name": "stdout",
          "text": [
            "Estimated time remaining: 55.57 minutes\n",
            "Current learning rates - Generator: 0.000006, Discriminator: 0.000006\n",
            "Epoch 280/1000\n"
          ]
        },
        {
          "output_type": "stream",
          "name": "stderr",
          "text": [
            "Epoch 280/1000: 100%|██████████| 13/13 [00:04<00:00,  3.16batch/s, Gen Loss=3.2485, Disc Loss=0.1109]\n"
          ]
        },
        {
          "output_type": "stream",
          "name": "stdout",
          "text": [
            "Generated images for epoch 279 saved to GrapeDataset/Grape Plant from Plant Village Dataset.\n",
            "Estimated time remaining: 55.51 minutes\n",
            "Current learning rates - Generator: 0.000003, Discriminator: 0.000003\n",
            "Epoch 281/1000\n"
          ]
        },
        {
          "output_type": "stream",
          "name": "stderr",
          "text": [
            "Epoch 281/1000: 100%|██████████| 13/13 [00:05<00:00,  2.46batch/s, Gen Loss=3.3851, Disc Loss=0.1133]\n"
          ]
        },
        {
          "output_type": "stream",
          "name": "stdout",
          "text": [
            "Estimated time remaining: 55.47 minutes\n",
            "Current learning rates - Generator: 0.000003, Discriminator: 0.000003\n",
            "Epoch 282/1000\n"
          ]
        },
        {
          "output_type": "stream",
          "name": "stderr",
          "text": [
            "Epoch 282/1000: 100%|██████████| 13/13 [00:04<00:00,  3.21batch/s, Gen Loss=3.5311, Disc Loss=0.1867]\n"
          ]
        },
        {
          "output_type": "stream",
          "name": "stdout",
          "text": [
            "Estimated time remaining: 55.36 minutes\n",
            "Current learning rates - Generator: 0.000003, Discriminator: 0.000003\n",
            "Epoch 283/1000\n"
          ]
        },
        {
          "output_type": "stream",
          "name": "stderr",
          "text": [
            "Epoch 283/1000: 100%|██████████| 13/13 [00:04<00:00,  3.17batch/s, Gen Loss=3.6863, Disc Loss=0.0559]\n"
          ]
        },
        {
          "output_type": "stream",
          "name": "stdout",
          "text": [
            "Estimated time remaining: 55.27 minutes\n",
            "Current learning rates - Generator: 0.000003, Discriminator: 0.000003\n",
            "Epoch 284/1000\n"
          ]
        },
        {
          "output_type": "stream",
          "name": "stderr",
          "text": [
            "Epoch 284/1000: 100%|██████████| 13/13 [00:05<00:00,  2.42batch/s, Gen Loss=3.2036, Disc Loss=0.0701]\n"
          ]
        },
        {
          "output_type": "stream",
          "name": "stdout",
          "text": [
            "Estimated time remaining: 55.22 minutes\n",
            "Current learning rates - Generator: 0.000003, Discriminator: 0.000003\n",
            "Epoch 285/1000\n"
          ]
        },
        {
          "output_type": "stream",
          "name": "stderr",
          "text": [
            "Epoch 285/1000: 100%|██████████| 13/13 [00:04<00:00,  3.16batch/s, Gen Loss=3.6553, Disc Loss=0.1846]\n"
          ]
        },
        {
          "output_type": "stream",
          "name": "stdout",
          "text": [
            "Generated images for epoch 284 saved to GrapeDataset/Grape Plant from Plant Village Dataset.\n",
            "Estimated time remaining: 55.15 minutes\n",
            "Current learning rates - Generator: 0.000003, Discriminator: 0.000003\n",
            "Epoch 286/1000\n"
          ]
        },
        {
          "output_type": "stream",
          "name": "stderr",
          "text": [
            "Epoch 286/1000: 100%|██████████| 13/13 [00:04<00:00,  3.17batch/s, Gen Loss=3.0759, Disc Loss=0.1099]\n"
          ]
        },
        {
          "output_type": "stream",
          "name": "stdout",
          "text": [
            "Estimated time remaining: 55.05 minutes\n",
            "Current learning rates - Generator: 0.000003, Discriminator: 0.000003\n",
            "Epoch 287/1000\n"
          ]
        },
        {
          "output_type": "stream",
          "name": "stderr",
          "text": [
            "Epoch 287/1000: 100%|██████████| 13/13 [00:04<00:00,  2.81batch/s, Gen Loss=3.5088, Disc Loss=0.0471]\n"
          ]
        },
        {
          "output_type": "stream",
          "name": "stdout",
          "text": [
            "Estimated time remaining: 54.97 minutes\n",
            "Current learning rates - Generator: 0.000003, Discriminator: 0.000003\n",
            "Epoch 288/1000\n"
          ]
        },
        {
          "output_type": "stream",
          "name": "stderr",
          "text": [
            "Epoch 288/1000: 100%|██████████| 13/13 [00:04<00:00,  2.65batch/s, Gen Loss=4.0263, Disc Loss=0.1631]\n"
          ]
        },
        {
          "output_type": "stream",
          "name": "stdout",
          "text": [
            "Estimated time remaining: 54.91 minutes\n",
            "Current learning rates - Generator: 0.000003, Discriminator: 0.000003\n",
            "Epoch 289/1000\n"
          ]
        },
        {
          "output_type": "stream",
          "name": "stderr",
          "text": [
            "Epoch 289/1000: 100%|██████████| 13/13 [00:04<00:00,  3.07batch/s, Gen Loss=3.6285, Disc Loss=0.1428]\n"
          ]
        },
        {
          "output_type": "stream",
          "name": "stdout",
          "text": [
            "Estimated time remaining: 54.82 minutes\n",
            "Current learning rates - Generator: 0.000003, Discriminator: 0.000003\n",
            "Epoch 290/1000\n"
          ]
        },
        {
          "output_type": "stream",
          "name": "stderr",
          "text": [
            "Epoch 290/1000: 100%|██████████| 13/13 [00:03<00:00,  3.26batch/s, Gen Loss=3.5756, Disc Loss=0.0669]\n"
          ]
        },
        {
          "output_type": "stream",
          "name": "stdout",
          "text": [
            "Generated images for epoch 289 saved to GrapeDataset/Grape Plant from Plant Village Dataset.\n",
            "Estimated time remaining: 54.75 minutes\n",
            "Current learning rates - Generator: 0.000003, Discriminator: 0.000003\n",
            "Epoch 291/1000\n"
          ]
        },
        {
          "output_type": "stream",
          "name": "stderr",
          "text": [
            "Epoch 291/1000: 100%|██████████| 13/13 [00:05<00:00,  2.48batch/s, Gen Loss=3.6624, Disc Loss=0.0846]\n"
          ]
        },
        {
          "output_type": "stream",
          "name": "stdout",
          "text": [
            "Estimated time remaining: 54.70 minutes\n",
            "Current learning rates - Generator: 0.000003, Discriminator: 0.000003\n",
            "Epoch 292/1000\n"
          ]
        },
        {
          "output_type": "stream",
          "name": "stderr",
          "text": [
            "Epoch 292/1000: 100%|██████████| 13/13 [00:03<00:00,  3.26batch/s, Gen Loss=3.5461, Disc Loss=0.0887]\n"
          ]
        },
        {
          "output_type": "stream",
          "name": "stdout",
          "text": [
            "Estimated time remaining: 54.59 minutes\n",
            "Current learning rates - Generator: 0.000003, Discriminator: 0.000003\n",
            "Epoch 293/1000\n"
          ]
        },
        {
          "output_type": "stream",
          "name": "stderr",
          "text": [
            "Epoch 293/1000: 100%|██████████| 13/13 [00:04<00:00,  3.15batch/s, Gen Loss=3.3053, Disc Loss=0.0543]\n"
          ]
        },
        {
          "output_type": "stream",
          "name": "stdout",
          "text": [
            "Estimated time remaining: 54.50 minutes\n",
            "Current learning rates - Generator: 0.000003, Discriminator: 0.000003\n",
            "Epoch 294/1000\n"
          ]
        },
        {
          "output_type": "stream",
          "name": "stderr",
          "text": [
            "Epoch 294/1000: 100%|██████████| 13/13 [00:05<00:00,  2.33batch/s, Gen Loss=3.6594, Disc Loss=0.0296]\n"
          ]
        },
        {
          "output_type": "stream",
          "name": "stdout",
          "text": [
            "Estimated time remaining: 54.46 minutes\n",
            "Current learning rates - Generator: 0.000003, Discriminator: 0.000003\n",
            "Epoch 295/1000\n"
          ]
        },
        {
          "output_type": "stream",
          "name": "stderr",
          "text": [
            "Epoch 295/1000: 100%|██████████| 13/13 [00:04<00:00,  3.23batch/s, Gen Loss=3.9359, Disc Loss=0.1837]\n"
          ]
        },
        {
          "output_type": "stream",
          "name": "stdout",
          "text": [
            "Generated images for epoch 294 saved to GrapeDataset/Grape Plant from Plant Village Dataset.\n",
            "Estimated time remaining: 54.39 minutes\n",
            "Current learning rates - Generator: 0.000003, Discriminator: 0.000003\n",
            "Epoch 296/1000\n"
          ]
        },
        {
          "output_type": "stream",
          "name": "stderr",
          "text": [
            "Epoch 296/1000: 100%|██████████| 13/13 [00:04<00:00,  3.11batch/s, Gen Loss=3.7930, Disc Loss=0.0424]\n"
          ]
        },
        {
          "output_type": "stream",
          "name": "stdout",
          "text": [
            "Estimated time remaining: 54.29 minutes\n",
            "Current learning rates - Generator: 0.000003, Discriminator: 0.000003\n",
            "Epoch 297/1000\n"
          ]
        },
        {
          "output_type": "stream",
          "name": "stderr",
          "text": [
            "Epoch 297/1000: 100%|██████████| 13/13 [00:05<00:00,  2.55batch/s, Gen Loss=3.7142, Disc Loss=0.0609]\n"
          ]
        },
        {
          "output_type": "stream",
          "name": "stdout",
          "text": [
            "Estimated time remaining: 54.23 minutes\n",
            "Current learning rates - Generator: 0.000003, Discriminator: 0.000003\n",
            "Epoch 298/1000\n"
          ]
        },
        {
          "output_type": "stream",
          "name": "stderr",
          "text": [
            "Epoch 298/1000: 100%|██████████| 13/13 [00:04<00:00,  3.03batch/s, Gen Loss=3.6372, Disc Loss=0.0272]\n"
          ]
        },
        {
          "output_type": "stream",
          "name": "stdout",
          "text": [
            "Estimated time remaining: 54.14 minutes\n",
            "Current learning rates - Generator: 0.000003, Discriminator: 0.000003\n",
            "Epoch 299/1000\n"
          ]
        },
        {
          "output_type": "stream",
          "name": "stderr",
          "text": [
            "Epoch 299/1000: 100%|██████████| 13/13 [00:04<00:00,  3.17batch/s, Gen Loss=3.8106, Disc Loss=0.0337]\n"
          ]
        },
        {
          "output_type": "stream",
          "name": "stdout",
          "text": [
            "Estimated time remaining: 54.05 minutes\n",
            "Current learning rates - Generator: 0.000003, Discriminator: 0.000003\n",
            "Epoch 300/1000\n"
          ]
        },
        {
          "output_type": "stream",
          "name": "stderr",
          "text": [
            "Epoch 300/1000: 100%|██████████| 13/13 [00:04<00:00,  2.87batch/s, Gen Loss=3.8589, Disc Loss=0.0341]\n"
          ]
        },
        {
          "output_type": "stream",
          "name": "stdout",
          "text": [
            "Generated images for epoch 299 saved to GrapeDataset/Grape Plant from Plant Village Dataset.\n",
            "Estimated time remaining: 54.00 minutes\n",
            "Current learning rates - Generator: 0.000003, Discriminator: 0.000003\n",
            "Epoch 301/1000\n"
          ]
        },
        {
          "output_type": "stream",
          "name": "stderr",
          "text": [
            "Epoch 301/1000: 100%|██████████| 13/13 [00:04<00:00,  3.00batch/s, Gen Loss=3.6359, Disc Loss=0.0546]\n"
          ]
        },
        {
          "output_type": "stream",
          "name": "stdout",
          "text": [
            "Estimated time remaining: 53.92 minutes\n",
            "Current learning rates - Generator: 0.000003, Discriminator: 0.000003\n",
            "Epoch 302/1000\n"
          ]
        },
        {
          "output_type": "stream",
          "name": "stderr",
          "text": [
            "Epoch 302/1000: 100%|██████████| 13/13 [00:04<00:00,  3.13batch/s, Gen Loss=3.6730, Disc Loss=0.0739]\n"
          ]
        },
        {
          "output_type": "stream",
          "name": "stdout",
          "text": [
            "Estimated time remaining: 53.82 minutes\n",
            "Current learning rates - Generator: 0.000003, Discriminator: 0.000003\n",
            "Epoch 303/1000\n"
          ]
        },
        {
          "output_type": "stream",
          "name": "stderr",
          "text": [
            "Epoch 303/1000: 100%|██████████| 13/13 [00:04<00:00,  2.75batch/s, Gen Loss=3.3485, Disc Loss=0.0523]\n"
          ]
        },
        {
          "output_type": "stream",
          "name": "stdout",
          "text": [
            "Estimated time remaining: 53.75 minutes\n",
            "Current learning rates - Generator: 0.000003, Discriminator: 0.000003\n",
            "Epoch 304/1000\n"
          ]
        },
        {
          "output_type": "stream",
          "name": "stderr",
          "text": [
            "Epoch 304/1000: 100%|██████████| 13/13 [00:05<00:00,  2.57batch/s, Gen Loss=4.0500, Disc Loss=0.0525]\n"
          ]
        },
        {
          "output_type": "stream",
          "name": "stdout",
          "text": [
            "Estimated time remaining: 53.69 minutes\n",
            "Current learning rates - Generator: 0.000003, Discriminator: 0.000003\n",
            "Epoch 305/1000\n"
          ]
        },
        {
          "output_type": "stream",
          "name": "stderr",
          "text": [
            "Epoch 305/1000: 100%|██████████| 13/13 [00:03<00:00,  3.28batch/s, Gen Loss=3.7854, Disc Loss=0.1639]\n"
          ]
        },
        {
          "output_type": "stream",
          "name": "stdout",
          "text": [
            "Generated images for epoch 304 saved to GrapeDataset/Grape Plant from Plant Village Dataset.\n",
            "Estimated time remaining: 53.61 minutes\n",
            "Current learning rates - Generator: 0.000003, Discriminator: 0.000003\n",
            "Epoch 306/1000\n"
          ]
        },
        {
          "output_type": "stream",
          "name": "stderr",
          "text": [
            "Epoch 306/1000: 100%|██████████| 13/13 [00:04<00:00,  3.22batch/s, Gen Loss=3.6423, Disc Loss=0.0582]\n"
          ]
        },
        {
          "output_type": "stream",
          "name": "stdout",
          "text": [
            "Estimated time remaining: 53.52 minutes\n",
            "Current learning rates - Generator: 0.000003, Discriminator: 0.000003\n",
            "Epoch 307/1000\n"
          ]
        },
        {
          "output_type": "stream",
          "name": "stderr",
          "text": [
            "Epoch 307/1000: 100%|██████████| 13/13 [00:05<00:00,  2.39batch/s, Gen Loss=3.8397, Disc Loss=0.0547]\n"
          ]
        },
        {
          "output_type": "stream",
          "name": "stdout",
          "text": [
            "Estimated time remaining: 53.47 minutes\n",
            "Current learning rates - Generator: 0.000003, Discriminator: 0.000003\n",
            "Epoch 308/1000\n"
          ]
        },
        {
          "output_type": "stream",
          "name": "stderr",
          "text": [
            "Epoch 308/1000: 100%|██████████| 13/13 [00:04<00:00,  3.20batch/s, Gen Loss=3.8487, Disc Loss=0.0565]\n"
          ]
        },
        {
          "output_type": "stream",
          "name": "stdout",
          "text": [
            "Estimated time remaining: 53.37 minutes\n",
            "Current learning rates - Generator: 0.000003, Discriminator: 0.000003\n",
            "Epoch 309/1000\n"
          ]
        },
        {
          "output_type": "stream",
          "name": "stderr",
          "text": [
            "Epoch 309/1000: 100%|██████████| 13/13 [00:04<00:00,  3.12batch/s, Gen Loss=3.6973, Disc Loss=0.0577]\n"
          ]
        },
        {
          "output_type": "stream",
          "name": "stdout",
          "text": [
            "Estimated time remaining: 53.28 minutes\n",
            "Current learning rates - Generator: 0.000003, Discriminator: 0.000003\n",
            "Epoch 310/1000\n"
          ]
        },
        {
          "output_type": "stream",
          "name": "stderr",
          "text": [
            "Epoch 310/1000: 100%|██████████| 13/13 [00:05<00:00,  2.51batch/s, Gen Loss=3.7369, Disc Loss=0.0682]\n"
          ]
        },
        {
          "output_type": "stream",
          "name": "stdout",
          "text": [
            "Generated images for epoch 309 saved to GrapeDataset/Grape Plant from Plant Village Dataset.\n",
            "Estimated time remaining: 53.25 minutes\n",
            "Current learning rates - Generator: 0.000003, Discriminator: 0.000003\n",
            "Epoch 311/1000\n"
          ]
        },
        {
          "output_type": "stream",
          "name": "stderr",
          "text": [
            "Epoch 311/1000: 100%|██████████| 13/13 [00:04<00:00,  3.13batch/s, Gen Loss=3.8601, Disc Loss=0.0299]\n"
          ]
        },
        {
          "output_type": "stream",
          "name": "stdout",
          "text": [
            "Estimated time remaining: 53.16 minutes\n",
            "Current learning rates - Generator: 0.000003, Discriminator: 0.000003\n",
            "Epoch 312/1000\n"
          ]
        },
        {
          "output_type": "stream",
          "name": "stderr",
          "text": [
            "Epoch 312/1000: 100%|██████████| 13/13 [00:04<00:00,  3.14batch/s, Gen Loss=3.5577, Disc Loss=0.0285]\n"
          ]
        },
        {
          "output_type": "stream",
          "name": "stdout",
          "text": [
            "Estimated time remaining: 53.06 minutes\n",
            "Current learning rates - Generator: 0.000003, Discriminator: 0.000003\n",
            "Epoch 313/1000\n"
          ]
        },
        {
          "output_type": "stream",
          "name": "stderr",
          "text": [
            "Epoch 313/1000: 100%|██████████| 13/13 [00:05<00:00,  2.43batch/s, Gen Loss=4.0676, Disc Loss=0.0949]\n"
          ]
        },
        {
          "output_type": "stream",
          "name": "stdout",
          "text": [
            "Estimated time remaining: 53.01 minutes\n",
            "Current learning rates - Generator: 0.000003, Discriminator: 0.000003\n",
            "Epoch 314/1000\n"
          ]
        },
        {
          "output_type": "stream",
          "name": "stderr",
          "text": [
            "Epoch 314/1000: 100%|██████████| 13/13 [00:04<00:00,  3.01batch/s, Gen Loss=3.9095, Disc Loss=0.0755]\n"
          ]
        },
        {
          "output_type": "stream",
          "name": "stdout",
          "text": [
            "Estimated time remaining: 52.93 minutes\n",
            "Current learning rates - Generator: 0.000003, Discriminator: 0.000003\n",
            "Epoch 315/1000\n"
          ]
        },
        {
          "output_type": "stream",
          "name": "stderr",
          "text": [
            "Epoch 315/1000: 100%|██████████| 13/13 [00:04<00:00,  3.20batch/s, Gen Loss=3.7716, Disc Loss=0.1927]\n"
          ]
        },
        {
          "output_type": "stream",
          "name": "stdout",
          "text": [
            "Generated images for epoch 314 saved to GrapeDataset/Grape Plant from Plant Village Dataset.\n",
            "Estimated time remaining: 52.86 minutes\n",
            "Current learning rates - Generator: 0.000003, Discriminator: 0.000003\n",
            "Epoch 316/1000\n"
          ]
        },
        {
          "output_type": "stream",
          "name": "stderr",
          "text": [
            "Epoch 316/1000: 100%|██████████| 13/13 [00:04<00:00,  2.63batch/s, Gen Loss=3.9836, Disc Loss=0.0441]\n"
          ]
        },
        {
          "output_type": "stream",
          "name": "stdout",
          "text": [
            "Estimated time remaining: 52.79 minutes\n",
            "Current learning rates - Generator: 0.000003, Discriminator: 0.000003\n",
            "Epoch 317/1000\n"
          ]
        },
        {
          "output_type": "stream",
          "name": "stderr",
          "text": [
            "Epoch 317/1000: 100%|██████████| 13/13 [00:04<00:00,  2.64batch/s, Gen Loss=3.4353, Disc Loss=0.0588]\n"
          ]
        },
        {
          "output_type": "stream",
          "name": "stdout",
          "text": [
            "Estimated time remaining: 52.72 minutes\n",
            "Current learning rates - Generator: 0.000003, Discriminator: 0.000003\n",
            "Epoch 318/1000\n"
          ]
        },
        {
          "output_type": "stream",
          "name": "stderr",
          "text": [
            "Epoch 318/1000: 100%|██████████| 13/13 [00:04<00:00,  3.25batch/s, Gen Loss=3.5066, Disc Loss=0.2796]\n"
          ]
        },
        {
          "output_type": "stream",
          "name": "stdout",
          "text": [
            "Estimated time remaining: 52.63 minutes\n",
            "Current learning rates - Generator: 0.000003, Discriminator: 0.000003\n",
            "Epoch 319/1000\n"
          ]
        },
        {
          "output_type": "stream",
          "name": "stderr",
          "text": [
            "Epoch 319/1000: 100%|██████████| 13/13 [00:04<00:00,  3.05batch/s, Gen Loss=4.0190, Disc Loss=0.0264]\n"
          ]
        },
        {
          "output_type": "stream",
          "name": "stdout",
          "text": [
            "Estimated time remaining: 52.54 minutes\n",
            "Current learning rates - Generator: 0.000003, Discriminator: 0.000003\n",
            "Epoch 320/1000\n"
          ]
        },
        {
          "output_type": "stream",
          "name": "stderr",
          "text": [
            "Epoch 320/1000: 100%|██████████| 13/13 [00:05<00:00,  2.26batch/s, Gen Loss=3.6330, Disc Loss=0.0850]\n"
          ]
        },
        {
          "output_type": "stream",
          "name": "stdout",
          "text": [
            "Generated images for epoch 319 saved to GrapeDataset/Grape Plant from Plant Village Dataset.\n",
            "Estimated time remaining: 52.52 minutes\n",
            "Current learning rates - Generator: 0.000003, Discriminator: 0.000003\n",
            "Epoch 321/1000\n"
          ]
        },
        {
          "output_type": "stream",
          "name": "stderr",
          "text": [
            "Epoch 321/1000: 100%|██████████| 13/13 [00:04<00:00,  3.14batch/s, Gen Loss=3.7297, Disc Loss=0.1978]\n"
          ]
        },
        {
          "output_type": "stream",
          "name": "stdout",
          "text": [
            "Estimated time remaining: 52.43 minutes\n",
            "Current learning rates - Generator: 0.000003, Discriminator: 0.000003\n",
            "Epoch 322/1000\n"
          ]
        },
        {
          "output_type": "stream",
          "name": "stderr",
          "text": [
            "Epoch 322/1000: 100%|██████████| 13/13 [00:04<00:00,  3.01batch/s, Gen Loss=3.3024, Disc Loss=0.0421]\n"
          ]
        },
        {
          "output_type": "stream",
          "name": "stdout",
          "text": [
            "Estimated time remaining: 52.34 minutes\n",
            "Current learning rates - Generator: 0.000003, Discriminator: 0.000003\n",
            "Epoch 323/1000\n"
          ]
        },
        {
          "output_type": "stream",
          "name": "stderr",
          "text": [
            "Epoch 323/1000: 100%|██████████| 13/13 [00:05<00:00,  2.24batch/s, Gen Loss=3.7882, Disc Loss=0.1484]\n"
          ]
        },
        {
          "output_type": "stream",
          "name": "stdout",
          "text": [
            "Estimated time remaining: 52.31 minutes\n",
            "Current learning rates - Generator: 0.000003, Discriminator: 0.000003\n",
            "Epoch 324/1000\n"
          ]
        },
        {
          "output_type": "stream",
          "name": "stderr",
          "text": [
            "Epoch 324/1000: 100%|██████████| 13/13 [00:04<00:00,  3.08batch/s, Gen Loss=3.4502, Disc Loss=0.0586]\n"
          ]
        },
        {
          "output_type": "stream",
          "name": "stdout",
          "text": [
            "Estimated time remaining: 52.21 minutes\n",
            "Current learning rates - Generator: 0.000003, Discriminator: 0.000003\n",
            "Epoch 325/1000\n"
          ]
        },
        {
          "output_type": "stream",
          "name": "stderr",
          "text": [
            "Epoch 325/1000: 100%|██████████| 13/13 [00:04<00:00,  3.18batch/s, Gen Loss=3.5691, Disc Loss=0.0999]\n"
          ]
        },
        {
          "output_type": "stream",
          "name": "stdout",
          "text": [
            "Generated images for epoch 324 saved to GrapeDataset/Grape Plant from Plant Village Dataset.\n",
            "Estimated time remaining: 52.14 minutes\n",
            "Current learning rates - Generator: 0.000003, Discriminator: 0.000003\n",
            "Epoch 326/1000\n"
          ]
        },
        {
          "output_type": "stream",
          "name": "stderr",
          "text": [
            "Epoch 326/1000: 100%|██████████| 13/13 [00:05<00:00,  2.33batch/s, Gen Loss=3.7974, Disc Loss=0.0469]\n"
          ]
        },
        {
          "output_type": "stream",
          "name": "stdout",
          "text": [
            "Estimated time remaining: 52.10 minutes\n",
            "Current learning rates - Generator: 0.000003, Discriminator: 0.000003\n",
            "Epoch 327/1000\n"
          ]
        },
        {
          "output_type": "stream",
          "name": "stderr",
          "text": [
            "Epoch 327/1000: 100%|██████████| 13/13 [00:04<00:00,  3.14batch/s, Gen Loss=3.5891, Disc Loss=0.1028]\n"
          ]
        },
        {
          "output_type": "stream",
          "name": "stdout",
          "text": [
            "Estimated time remaining: 52.00 minutes\n",
            "Current learning rates - Generator: 0.000003, Discriminator: 0.000003\n",
            "Epoch 328/1000\n"
          ]
        },
        {
          "output_type": "stream",
          "name": "stderr",
          "text": [
            "Epoch 328/1000: 100%|██████████| 13/13 [00:04<00:00,  3.11batch/s, Gen Loss=4.0373, Disc Loss=0.0866]\n"
          ]
        },
        {
          "output_type": "stream",
          "name": "stdout",
          "text": [
            "Estimated time remaining: 51.91 minutes\n",
            "Current learning rates - Generator: 0.000003, Discriminator: 0.000003\n",
            "Epoch 329/1000\n"
          ]
        },
        {
          "output_type": "stream",
          "name": "stderr",
          "text": [
            "Epoch 329/1000: 100%|██████████| 13/13 [00:04<00:00,  2.77batch/s, Gen Loss=4.1493, Disc Loss=0.0276]\n"
          ]
        },
        {
          "output_type": "stream",
          "name": "stdout",
          "text": [
            "Estimated time remaining: 51.84 minutes\n",
            "Current learning rates - Generator: 0.000003, Discriminator: 0.000003\n",
            "Epoch 330/1000\n"
          ]
        },
        {
          "output_type": "stream",
          "name": "stderr",
          "text": [
            "Epoch 330/1000: 100%|██████████| 13/13 [00:04<00:00,  2.61batch/s, Gen Loss=3.6089, Disc Loss=0.0871]\n"
          ]
        },
        {
          "output_type": "stream",
          "name": "stdout",
          "text": [
            "Generated images for epoch 329 saved to GrapeDataset/Grape Plant from Plant Village Dataset.\n",
            "Estimated time remaining: 51.79 minutes\n",
            "Current learning rates - Generator: 0.000003, Discriminator: 0.000003\n",
            "Epoch 331/1000\n"
          ]
        },
        {
          "output_type": "stream",
          "name": "stderr",
          "text": [
            "Epoch 331/1000: 100%|██████████| 13/13 [00:04<00:00,  3.20batch/s, Gen Loss=3.7959, Disc Loss=0.0648]\n"
          ]
        },
        {
          "output_type": "stream",
          "name": "stdout",
          "text": [
            "Estimated time remaining: 51.70 minutes\n",
            "Current learning rates - Generator: 0.000003, Discriminator: 0.000003\n",
            "Epoch 332/1000\n"
          ]
        },
        {
          "output_type": "stream",
          "name": "stderr",
          "text": [
            "Epoch 332/1000: 100%|██████████| 13/13 [00:04<00:00,  3.12batch/s, Gen Loss=3.6221, Disc Loss=0.0868]\n"
          ]
        },
        {
          "output_type": "stream",
          "name": "stdout",
          "text": [
            "Estimated time remaining: 51.60 minutes\n",
            "Current learning rates - Generator: 0.000003, Discriminator: 0.000003\n",
            "Epoch 333/1000\n"
          ]
        },
        {
          "output_type": "stream",
          "name": "stderr",
          "text": [
            "Epoch 333/1000: 100%|██████████| 13/13 [00:05<00:00,  2.38batch/s, Gen Loss=4.1659, Disc Loss=0.0605]\n"
          ]
        },
        {
          "output_type": "stream",
          "name": "stdout",
          "text": [
            "Estimated time remaining: 51.56 minutes\n",
            "Current learning rates - Generator: 0.000003, Discriminator: 0.000003\n",
            "Epoch 334/1000\n"
          ]
        },
        {
          "output_type": "stream",
          "name": "stderr",
          "text": [
            "Epoch 334/1000: 100%|██████████| 13/13 [00:04<00:00,  3.20batch/s, Gen Loss=4.3448, Disc Loss=0.0386]\n"
          ]
        },
        {
          "output_type": "stream",
          "name": "stdout",
          "text": [
            "Estimated time remaining: 51.46 minutes\n",
            "Current learning rates - Generator: 0.000003, Discriminator: 0.000003\n",
            "Epoch 335/1000\n"
          ]
        },
        {
          "output_type": "stream",
          "name": "stderr",
          "text": [
            "Epoch 335/1000: 100%|██████████| 13/13 [00:04<00:00,  3.20batch/s, Gen Loss=4.3022, Disc Loss=0.0414]\n"
          ]
        },
        {
          "output_type": "stream",
          "name": "stdout",
          "text": [
            "Generated images for epoch 334 saved to GrapeDataset/Grape Plant from Plant Village Dataset.\n",
            "Estimated time remaining: 51.39 minutes\n",
            "Current learning rates - Generator: 0.000002, Discriminator: 0.000002\n",
            "Epoch 336/1000\n"
          ]
        },
        {
          "output_type": "stream",
          "name": "stderr",
          "text": [
            "Epoch 336/1000: 100%|██████████| 13/13 [00:05<00:00,  2.37batch/s, Gen Loss=4.0567, Disc Loss=0.0263]\n"
          ]
        },
        {
          "output_type": "stream",
          "name": "stdout",
          "text": [
            "Estimated time remaining: 51.34 minutes\n",
            "Current learning rates - Generator: 0.000002, Discriminator: 0.000002\n",
            "Epoch 337/1000\n"
          ]
        },
        {
          "output_type": "stream",
          "name": "stderr",
          "text": [
            "Epoch 337/1000: 100%|██████████| 13/13 [00:04<00:00,  3.18batch/s, Gen Loss=4.0344, Disc Loss=0.0787]\n"
          ]
        },
        {
          "output_type": "stream",
          "name": "stdout",
          "text": [
            "Estimated time remaining: 51.24 minutes\n",
            "Current learning rates - Generator: 0.000002, Discriminator: 0.000002\n",
            "Epoch 338/1000\n"
          ]
        },
        {
          "output_type": "stream",
          "name": "stderr",
          "text": [
            "Epoch 338/1000: 100%|██████████| 13/13 [00:03<00:00,  3.25batch/s, Gen Loss=4.2180, Disc Loss=0.0467]\n"
          ]
        },
        {
          "output_type": "stream",
          "name": "stdout",
          "text": [
            "Estimated time remaining: 51.15 minutes\n",
            "Current learning rates - Generator: 0.000002, Discriminator: 0.000002\n",
            "Epoch 339/1000\n"
          ]
        },
        {
          "output_type": "stream",
          "name": "stderr",
          "text": [
            "Epoch 339/1000: 100%|██████████| 13/13 [00:04<00:00,  2.82batch/s, Gen Loss=4.1660, Disc Loss=0.0656]\n"
          ]
        },
        {
          "output_type": "stream",
          "name": "stdout",
          "text": [
            "Estimated time remaining: 51.07 minutes\n",
            "Current learning rates - Generator: 0.000002, Discriminator: 0.000002\n",
            "Epoch 340/1000\n"
          ]
        },
        {
          "output_type": "stream",
          "name": "stderr",
          "text": [
            "Epoch 340/1000: 100%|██████████| 13/13 [00:04<00:00,  2.68batch/s, Gen Loss=4.1833, Disc Loss=0.0887]\n"
          ]
        },
        {
          "output_type": "stream",
          "name": "stdout",
          "text": [
            "Generated images for epoch 339 saved to GrapeDataset/Grape Plant from Plant Village Dataset.\n",
            "Estimated time remaining: 51.02 minutes\n",
            "Current learning rates - Generator: 0.000002, Discriminator: 0.000002\n",
            "Epoch 341/1000\n"
          ]
        },
        {
          "output_type": "stream",
          "name": "stderr",
          "text": [
            "Epoch 341/1000: 100%|██████████| 13/13 [00:03<00:00,  3.27batch/s, Gen Loss=4.3963, Disc Loss=0.0365]\n"
          ]
        },
        {
          "output_type": "stream",
          "name": "stdout",
          "text": [
            "Estimated time remaining: 50.92 minutes\n",
            "Current learning rates - Generator: 0.000002, Discriminator: 0.000002\n",
            "Epoch 342/1000\n"
          ]
        },
        {
          "output_type": "stream",
          "name": "stderr",
          "text": [
            "Epoch 342/1000: 100%|██████████| 13/13 [00:04<00:00,  3.03batch/s, Gen Loss=4.1801, Disc Loss=0.0178]\n"
          ]
        },
        {
          "output_type": "stream",
          "name": "stdout",
          "text": [
            "Estimated time remaining: 50.83 minutes\n",
            "Current learning rates - Generator: 0.000002, Discriminator: 0.000002\n",
            "Epoch 343/1000\n"
          ]
        },
        {
          "output_type": "stream",
          "name": "stderr",
          "text": [
            "Epoch 343/1000: 100%|██████████| 13/13 [00:05<00:00,  2.30batch/s, Gen Loss=4.4150, Disc Loss=0.1200]\n"
          ]
        },
        {
          "output_type": "stream",
          "name": "stdout",
          "text": [
            "Estimated time remaining: 50.79 minutes\n",
            "Current learning rates - Generator: 0.000002, Discriminator: 0.000002\n",
            "Epoch 344/1000\n"
          ]
        },
        {
          "output_type": "stream",
          "name": "stderr",
          "text": [
            "Epoch 344/1000: 100%|██████████| 13/13 [00:04<00:00,  3.25batch/s, Gen Loss=4.4440, Disc Loss=0.0369]\n"
          ]
        },
        {
          "output_type": "stream",
          "name": "stdout",
          "text": [
            "Estimated time remaining: 50.69 minutes\n",
            "Current learning rates - Generator: 0.000002, Discriminator: 0.000002\n",
            "Epoch 345/1000\n"
          ]
        },
        {
          "output_type": "stream",
          "name": "stderr",
          "text": [
            "Epoch 345/1000: 100%|██████████| 13/13 [00:04<00:00,  3.01batch/s, Gen Loss=4.3269, Disc Loss=0.0655]\n"
          ]
        },
        {
          "output_type": "stream",
          "name": "stdout",
          "text": [
            "Generated images for epoch 344 saved to GrapeDataset/Grape Plant from Plant Village Dataset.\n",
            "Estimated time remaining: 50.62 minutes\n",
            "Current learning rates - Generator: 0.000002, Discriminator: 0.000002\n",
            "Epoch 346/1000\n"
          ]
        },
        {
          "output_type": "stream",
          "name": "stderr",
          "text": [
            "Epoch 346/1000: 100%|██████████| 13/13 [00:05<00:00,  2.32batch/s, Gen Loss=4.4018, Disc Loss=0.0172]\n"
          ]
        },
        {
          "output_type": "stream",
          "name": "stdout",
          "text": [
            "Estimated time remaining: 50.58 minutes\n",
            "Current learning rates - Generator: 0.000002, Discriminator: 0.000002\n",
            "Epoch 347/1000\n"
          ]
        },
        {
          "output_type": "stream",
          "name": "stderr",
          "text": [
            "Epoch 347/1000: 100%|██████████| 13/13 [00:04<00:00,  2.86batch/s, Gen Loss=4.5915, Disc Loss=0.0162]\n"
          ]
        },
        {
          "output_type": "stream",
          "name": "stdout",
          "text": [
            "Estimated time remaining: 50.50 minutes\n",
            "Current learning rates - Generator: 0.000002, Discriminator: 0.000002\n",
            "Epoch 348/1000\n"
          ]
        },
        {
          "output_type": "stream",
          "name": "stderr",
          "text": [
            "Epoch 348/1000: 100%|██████████| 13/13 [00:04<00:00,  3.11batch/s, Gen Loss=4.5244, Disc Loss=0.0258]\n"
          ]
        },
        {
          "output_type": "stream",
          "name": "stdout",
          "text": [
            "Estimated time remaining: 50.40 minutes\n",
            "Current learning rates - Generator: 0.000002, Discriminator: 0.000002\n",
            "Epoch 349/1000\n"
          ]
        },
        {
          "output_type": "stream",
          "name": "stderr",
          "text": [
            "Epoch 349/1000: 100%|██████████| 13/13 [00:05<00:00,  2.37batch/s, Gen Loss=4.5447, Disc Loss=0.0249]\n"
          ]
        },
        {
          "output_type": "stream",
          "name": "stdout",
          "text": [
            "Estimated time remaining: 50.35 minutes\n",
            "Current learning rates - Generator: 0.000002, Discriminator: 0.000002\n",
            "Epoch 350/1000\n"
          ]
        },
        {
          "output_type": "stream",
          "name": "stderr",
          "text": [
            "Epoch 350/1000: 100%|██████████| 13/13 [00:04<00:00,  2.73batch/s, Gen Loss=4.4944, Disc Loss=0.0556]\n"
          ]
        },
        {
          "output_type": "stream",
          "name": "stdout",
          "text": [
            "Generated images for epoch 349 saved to GrapeDataset/Grape Plant from Plant Village Dataset.\n",
            "Estimated time remaining: 50.30 minutes\n",
            "Current learning rates - Generator: 0.000002, Discriminator: 0.000002\n",
            "Epoch 351/1000\n"
          ]
        },
        {
          "output_type": "stream",
          "name": "stderr",
          "text": [
            "Epoch 351/1000: 100%|██████████| 13/13 [00:04<00:00,  3.19batch/s, Gen Loss=4.0591, Disc Loss=0.0349]\n"
          ]
        },
        {
          "output_type": "stream",
          "name": "stdout",
          "text": [
            "Estimated time remaining: 50.21 minutes\n",
            "Current learning rates - Generator: 0.000002, Discriminator: 0.000002\n",
            "Epoch 352/1000\n"
          ]
        },
        {
          "output_type": "stream",
          "name": "stderr",
          "text": [
            "Epoch 352/1000: 100%|██████████| 13/13 [00:04<00:00,  2.80batch/s, Gen Loss=3.9989, Disc Loss=0.0430]\n"
          ]
        },
        {
          "output_type": "stream",
          "name": "stdout",
          "text": [
            "Estimated time remaining: 50.13 minutes\n",
            "Current learning rates - Generator: 0.000002, Discriminator: 0.000002\n",
            "Epoch 353/1000\n"
          ]
        },
        {
          "output_type": "stream",
          "name": "stderr",
          "text": [
            "Epoch 353/1000: 100%|██████████| 13/13 [00:05<00:00,  2.58batch/s, Gen Loss=3.7788, Disc Loss=0.0644]\n"
          ]
        },
        {
          "output_type": "stream",
          "name": "stdout",
          "text": [
            "Estimated time remaining: 50.06 minutes\n",
            "Current learning rates - Generator: 0.000002, Discriminator: 0.000002\n",
            "Epoch 354/1000\n"
          ]
        },
        {
          "output_type": "stream",
          "name": "stderr",
          "text": [
            "Epoch 354/1000: 100%|██████████| 13/13 [00:04<00:00,  2.84batch/s, Gen Loss=3.6918, Disc Loss=0.0530]\n"
          ]
        },
        {
          "output_type": "stream",
          "name": "stdout",
          "text": [
            "Estimated time remaining: 49.98 minutes\n",
            "Current learning rates - Generator: 0.000002, Discriminator: 0.000002\n",
            "Epoch 355/1000\n"
          ]
        },
        {
          "output_type": "stream",
          "name": "stderr",
          "text": [
            "Epoch 355/1000: 100%|██████████| 13/13 [00:04<00:00,  3.14batch/s, Gen Loss=3.4662, Disc Loss=0.0472]\n"
          ]
        },
        {
          "output_type": "stream",
          "name": "stdout",
          "text": [
            "Generated images for epoch 354 saved to GrapeDataset/Grape Plant from Plant Village Dataset.\n",
            "Estimated time remaining: 49.92 minutes\n",
            "Current learning rates - Generator: 0.000002, Discriminator: 0.000002\n",
            "Epoch 356/1000\n"
          ]
        },
        {
          "output_type": "stream",
          "name": "stderr",
          "text": [
            "Epoch 356/1000: 100%|██████████| 13/13 [00:05<00:00,  2.49batch/s, Gen Loss=3.7611, Disc Loss=0.0595]\n"
          ]
        },
        {
          "output_type": "stream",
          "name": "stdout",
          "text": [
            "Estimated time remaining: 49.86 minutes\n",
            "Current learning rates - Generator: 0.000002, Discriminator: 0.000002\n",
            "Epoch 357/1000\n"
          ]
        },
        {
          "output_type": "stream",
          "name": "stderr",
          "text": [
            "Epoch 357/1000: 100%|██████████| 13/13 [00:03<00:00,  3.27batch/s, Gen Loss=3.2169, Disc Loss=0.0641]\n"
          ]
        },
        {
          "output_type": "stream",
          "name": "stdout",
          "text": [
            "Estimated time remaining: 49.76 minutes\n",
            "Current learning rates - Generator: 0.000002, Discriminator: 0.000002\n",
            "Epoch 358/1000\n"
          ]
        },
        {
          "output_type": "stream",
          "name": "stderr",
          "text": [
            "Epoch 358/1000: 100%|██████████| 13/13 [00:04<00:00,  3.13batch/s, Gen Loss=3.8286, Disc Loss=0.0319]\n"
          ]
        },
        {
          "output_type": "stream",
          "name": "stdout",
          "text": [
            "Estimated time remaining: 49.67 minutes\n",
            "Current learning rates - Generator: 0.000002, Discriminator: 0.000002\n",
            "Epoch 359/1000\n"
          ]
        },
        {
          "output_type": "stream",
          "name": "stderr",
          "text": [
            "Epoch 359/1000: 100%|██████████| 13/13 [00:05<00:00,  2.37batch/s, Gen Loss=4.0207, Disc Loss=0.0468]\n"
          ]
        },
        {
          "output_type": "stream",
          "name": "stdout",
          "text": [
            "Estimated time remaining: 49.62 minutes\n",
            "Current learning rates - Generator: 0.000002, Discriminator: 0.000002\n",
            "Epoch 360/1000\n"
          ]
        },
        {
          "output_type": "stream",
          "name": "stderr",
          "text": [
            "Epoch 360/1000: 100%|██████████| 13/13 [00:04<00:00,  3.23batch/s, Gen Loss=3.8273, Disc Loss=0.0961]\n"
          ]
        },
        {
          "output_type": "stream",
          "name": "stdout",
          "text": [
            "Generated images for epoch 359 saved to GrapeDataset/Grape Plant from Plant Village Dataset.\n",
            "Estimated time remaining: 49.54 minutes\n",
            "Current learning rates - Generator: 0.000002, Discriminator: 0.000002\n",
            "Epoch 361/1000\n"
          ]
        },
        {
          "output_type": "stream",
          "name": "stderr",
          "text": [
            "Epoch 361/1000: 100%|██████████| 13/13 [00:04<00:00,  3.10batch/s, Gen Loss=4.2067, Disc Loss=0.1107]\n"
          ]
        },
        {
          "output_type": "stream",
          "name": "stdout",
          "text": [
            "Estimated time remaining: 49.45 minutes\n",
            "Current learning rates - Generator: 0.000002, Discriminator: 0.000002\n",
            "Epoch 362/1000\n"
          ]
        },
        {
          "output_type": "stream",
          "name": "stderr",
          "text": [
            "Epoch 362/1000: 100%|██████████| 13/13 [00:04<00:00,  2.60batch/s, Gen Loss=4.4688, Disc Loss=0.0466]\n"
          ]
        },
        {
          "output_type": "stream",
          "name": "stdout",
          "text": [
            "Estimated time remaining: 49.39 minutes\n",
            "Current learning rates - Generator: 0.000002, Discriminator: 0.000002\n",
            "Epoch 363/1000\n"
          ]
        },
        {
          "output_type": "stream",
          "name": "stderr",
          "text": [
            "Epoch 363/1000: 100%|██████████| 13/13 [00:04<00:00,  3.00batch/s, Gen Loss=4.3762, Disc Loss=0.0311]\n"
          ]
        },
        {
          "output_type": "stream",
          "name": "stdout",
          "text": [
            "Estimated time remaining: 49.30 minutes\n",
            "Current learning rates - Generator: 0.000002, Discriminator: 0.000002\n",
            "Epoch 364/1000\n"
          ]
        },
        {
          "output_type": "stream",
          "name": "stderr",
          "text": [
            "Epoch 364/1000: 100%|██████████| 13/13 [00:03<00:00,  3.27batch/s, Gen Loss=4.5485, Disc Loss=0.0880]\n"
          ]
        },
        {
          "output_type": "stream",
          "name": "stdout",
          "text": [
            "Estimated time remaining: 49.20 minutes\n",
            "Current learning rates - Generator: 0.000002, Discriminator: 0.000002\n",
            "Epoch 365/1000\n"
          ]
        },
        {
          "output_type": "stream",
          "name": "stderr",
          "text": [
            "Epoch 365/1000: 100%|██████████| 13/13 [00:04<00:00,  2.96batch/s, Gen Loss=4.0723, Disc Loss=0.0178]\n"
          ]
        },
        {
          "output_type": "stream",
          "name": "stdout",
          "text": [
            "Generated images for epoch 364 saved to GrapeDataset/Grape Plant from Plant Village Dataset.\n",
            "Estimated time remaining: 49.15 minutes\n",
            "Current learning rates - Generator: 0.000002, Discriminator: 0.000002\n",
            "Epoch 366/1000\n"
          ]
        },
        {
          "output_type": "stream",
          "name": "stderr",
          "text": [
            "Epoch 366/1000: 100%|██████████| 13/13 [00:04<00:00,  2.67batch/s, Gen Loss=4.3323, Disc Loss=0.0457]\n"
          ]
        },
        {
          "output_type": "stream",
          "name": "stdout",
          "text": [
            "Estimated time remaining: 49.07 minutes\n",
            "Current learning rates - Generator: 0.000002, Discriminator: 0.000002\n",
            "Epoch 367/1000\n"
          ]
        },
        {
          "output_type": "stream",
          "name": "stderr",
          "text": [
            "Epoch 367/1000: 100%|██████████| 13/13 [00:04<00:00,  3.17batch/s, Gen Loss=4.4668, Disc Loss=0.0221]\n"
          ]
        },
        {
          "output_type": "stream",
          "name": "stdout",
          "text": [
            "Estimated time remaining: 48.98 minutes\n",
            "Current learning rates - Generator: 0.000002, Discriminator: 0.000002\n",
            "Epoch 368/1000\n"
          ]
        },
        {
          "output_type": "stream",
          "name": "stderr",
          "text": [
            "Epoch 368/1000: 100%|██████████| 13/13 [00:04<00:00,  3.21batch/s, Gen Loss=4.2784, Disc Loss=0.0260]\n"
          ]
        },
        {
          "output_type": "stream",
          "name": "stdout",
          "text": [
            "Estimated time remaining: 48.89 minutes\n",
            "Current learning rates - Generator: 0.000002, Discriminator: 0.000002\n",
            "Epoch 369/1000\n"
          ]
        },
        {
          "output_type": "stream",
          "name": "stderr",
          "text": [
            "Epoch 369/1000: 100%|██████████| 13/13 [00:05<00:00,  2.36batch/s, Gen Loss=4.1248, Disc Loss=0.0201]\n"
          ]
        },
        {
          "output_type": "stream",
          "name": "stdout",
          "text": [
            "Estimated time remaining: 48.84 minutes\n",
            "Current learning rates - Generator: 0.000002, Discriminator: 0.000002\n",
            "Epoch 370/1000\n"
          ]
        },
        {
          "output_type": "stream",
          "name": "stderr",
          "text": [
            "Epoch 370/1000: 100%|██████████| 13/13 [00:03<00:00,  3.25batch/s, Gen Loss=4.1303, Disc Loss=0.0240]\n"
          ]
        },
        {
          "output_type": "stream",
          "name": "stdout",
          "text": [
            "Generated images for epoch 369 saved to GrapeDataset/Grape Plant from Plant Village Dataset.\n",
            "Estimated time remaining: 48.76 minutes\n",
            "Current learning rates - Generator: 0.000002, Discriminator: 0.000002\n",
            "Epoch 371/1000\n"
          ]
        },
        {
          "output_type": "stream",
          "name": "stderr",
          "text": [
            "Epoch 371/1000: 100%|██████████| 13/13 [00:04<00:00,  3.15batch/s, Gen Loss=3.9577, Disc Loss=0.0621]\n"
          ]
        },
        {
          "output_type": "stream",
          "name": "stdout",
          "text": [
            "Estimated time remaining: 48.67 minutes\n",
            "Current learning rates - Generator: 0.000002, Discriminator: 0.000002\n",
            "Epoch 372/1000\n"
          ]
        },
        {
          "output_type": "stream",
          "name": "stderr",
          "text": [
            "Epoch 372/1000: 100%|██████████| 13/13 [00:05<00:00,  2.38batch/s, Gen Loss=3.4399, Disc Loss=0.0937]\n"
          ]
        },
        {
          "output_type": "stream",
          "name": "stdout",
          "text": [
            "Estimated time remaining: 48.62 minutes\n",
            "Current learning rates - Generator: 0.000002, Discriminator: 0.000002\n",
            "Epoch 373/1000\n"
          ]
        },
        {
          "output_type": "stream",
          "name": "stderr",
          "text": [
            "Epoch 373/1000: 100%|██████████| 13/13 [00:04<00:00,  3.04batch/s, Gen Loss=3.7148, Disc Loss=0.0511]\n"
          ]
        },
        {
          "output_type": "stream",
          "name": "stdout",
          "text": [
            "Estimated time remaining: 48.53 minutes\n",
            "Current learning rates - Generator: 0.000002, Discriminator: 0.000002\n",
            "Epoch 374/1000\n"
          ]
        },
        {
          "output_type": "stream",
          "name": "stderr",
          "text": [
            "Epoch 374/1000: 100%|██████████| 13/13 [00:04<00:00,  3.11batch/s, Gen Loss=4.1455, Disc Loss=0.0326]\n"
          ]
        },
        {
          "output_type": "stream",
          "name": "stdout",
          "text": [
            "Estimated time remaining: 48.44 minutes\n",
            "Current learning rates - Generator: 0.000002, Discriminator: 0.000002\n",
            "Epoch 375/1000\n"
          ]
        },
        {
          "output_type": "stream",
          "name": "stderr",
          "text": [
            "Epoch 375/1000: 100%|██████████| 13/13 [00:04<00:00,  2.82batch/s, Gen Loss=3.6956, Disc Loss=0.0368]\n"
          ]
        },
        {
          "output_type": "stream",
          "name": "stdout",
          "text": [
            "Generated images for epoch 374 saved to GrapeDataset/Grape Plant from Plant Village Dataset.\n",
            "Estimated time remaining: 48.39 minutes\n",
            "Current learning rates - Generator: 0.000002, Discriminator: 0.000002\n",
            "Epoch 376/1000\n"
          ]
        },
        {
          "output_type": "stream",
          "name": "stderr",
          "text": [
            "Epoch 376/1000: 100%|██████████| 13/13 [00:04<00:00,  3.13batch/s, Gen Loss=4.1348, Disc Loss=0.0734]\n"
          ]
        },
        {
          "output_type": "stream",
          "name": "stdout",
          "text": [
            "Estimated time remaining: 48.30 minutes\n",
            "Current learning rates - Generator: 0.000002, Discriminator: 0.000002\n",
            "Epoch 377/1000\n"
          ]
        },
        {
          "output_type": "stream",
          "name": "stderr",
          "text": [
            "Epoch 377/1000: 100%|██████████| 13/13 [00:04<00:00,  3.25batch/s, Gen Loss=4.1084, Disc Loss=0.0405]\n"
          ]
        },
        {
          "output_type": "stream",
          "name": "stdout",
          "text": [
            "Estimated time remaining: 48.20 minutes\n",
            "Current learning rates - Generator: 0.000002, Discriminator: 0.000002\n",
            "Epoch 378/1000\n"
          ]
        },
        {
          "output_type": "stream",
          "name": "stderr",
          "text": [
            "Epoch 378/1000: 100%|██████████| 13/13 [00:04<00:00,  3.03batch/s, Gen Loss=4.5177, Disc Loss=0.0124]\n"
          ]
        },
        {
          "output_type": "stream",
          "name": "stdout",
          "text": [
            "Estimated time remaining: 48.11 minutes\n",
            "Current learning rates - Generator: 0.000002, Discriminator: 0.000002\n",
            "Epoch 379/1000\n"
          ]
        },
        {
          "output_type": "stream",
          "name": "stderr",
          "text": [
            "Epoch 379/1000: 100%|██████████| 13/13 [00:05<00:00,  2.47batch/s, Gen Loss=4.7402, Disc Loss=0.0109]\n"
          ]
        },
        {
          "output_type": "stream",
          "name": "stdout",
          "text": [
            "Estimated time remaining: 48.05 minutes\n",
            "Current learning rates - Generator: 0.000002, Discriminator: 0.000002\n",
            "Epoch 380/1000\n"
          ]
        },
        {
          "output_type": "stream",
          "name": "stderr",
          "text": [
            "Epoch 380/1000: 100%|██████████| 13/13 [00:04<00:00,  3.18batch/s, Gen Loss=4.9466, Disc Loss=0.0239]\n"
          ]
        },
        {
          "output_type": "stream",
          "name": "stdout",
          "text": [
            "Generated images for epoch 379 saved to GrapeDataset/Grape Plant from Plant Village Dataset.\n",
            "Estimated time remaining: 47.98 minutes\n",
            "Current learning rates - Generator: 0.000002, Discriminator: 0.000002\n",
            "Epoch 381/1000\n"
          ]
        },
        {
          "output_type": "stream",
          "name": "stderr",
          "text": [
            "Epoch 381/1000: 100%|██████████| 13/13 [00:04<00:00,  3.18batch/s, Gen Loss=5.1691, Disc Loss=0.0196]\n"
          ]
        },
        {
          "output_type": "stream",
          "name": "stdout",
          "text": [
            "Estimated time remaining: 47.89 minutes\n",
            "Current learning rates - Generator: 0.000002, Discriminator: 0.000002\n",
            "Epoch 382/1000\n"
          ]
        },
        {
          "output_type": "stream",
          "name": "stderr",
          "text": [
            "Epoch 382/1000: 100%|██████████| 13/13 [00:05<00:00,  2.34batch/s, Gen Loss=4.7906, Disc Loss=0.0131]\n"
          ]
        },
        {
          "output_type": "stream",
          "name": "stdout",
          "text": [
            "Estimated time remaining: 47.84 minutes\n",
            "Current learning rates - Generator: 0.000002, Discriminator: 0.000002\n",
            "Epoch 383/1000\n"
          ]
        },
        {
          "output_type": "stream",
          "name": "stderr",
          "text": [
            "Epoch 383/1000: 100%|██████████| 13/13 [00:04<00:00,  3.19batch/s, Gen Loss=5.5133, Disc Loss=0.0271]\n"
          ]
        },
        {
          "output_type": "stream",
          "name": "stdout",
          "text": [
            "Estimated time remaining: 47.75 minutes\n",
            "Current learning rates - Generator: 0.000002, Discriminator: 0.000002\n",
            "Epoch 384/1000\n"
          ]
        },
        {
          "output_type": "stream",
          "name": "stderr",
          "text": [
            "Epoch 384/1000: 100%|██████████| 13/13 [00:04<00:00,  3.16batch/s, Gen Loss=5.1962, Disc Loss=0.0121]\n"
          ]
        },
        {
          "output_type": "stream",
          "name": "stdout",
          "text": [
            "Estimated time remaining: 47.65 minutes\n",
            "Current learning rates - Generator: 0.000002, Discriminator: 0.000002\n",
            "Epoch 385/1000\n"
          ]
        },
        {
          "output_type": "stream",
          "name": "stderr",
          "text": [
            "Epoch 385/1000: 100%|██████████| 13/13 [00:05<00:00,  2.47batch/s, Gen Loss=5.2371, Disc Loss=0.0177]\n"
          ]
        },
        {
          "output_type": "stream",
          "name": "stdout",
          "text": [
            "Generated images for epoch 384 saved to GrapeDataset/Grape Plant from Plant Village Dataset.\n",
            "Estimated time remaining: 47.62 minutes\n",
            "Current learning rates - Generator: 0.000002, Discriminator: 0.000002\n",
            "Epoch 386/1000\n"
          ]
        },
        {
          "output_type": "stream",
          "name": "stderr",
          "text": [
            "Epoch 386/1000: 100%|██████████| 13/13 [00:04<00:00,  3.11batch/s, Gen Loss=5.7641, Disc Loss=0.0345]\n"
          ]
        },
        {
          "output_type": "stream",
          "name": "stdout",
          "text": [
            "Estimated time remaining: 47.53 minutes\n",
            "Current learning rates - Generator: 0.000002, Discriminator: 0.000002\n",
            "Epoch 387/1000\n"
          ]
        },
        {
          "output_type": "stream",
          "name": "stderr",
          "text": [
            "Epoch 387/1000: 100%|██████████| 13/13 [00:04<00:00,  3.20batch/s, Gen Loss=5.3768, Disc Loss=0.0128]\n"
          ]
        },
        {
          "output_type": "stream",
          "name": "stdout",
          "text": [
            "Estimated time remaining: 47.43 minutes\n",
            "Current learning rates - Generator: 0.000002, Discriminator: 0.000002\n",
            "Epoch 388/1000\n"
          ]
        },
        {
          "output_type": "stream",
          "name": "stderr",
          "text": [
            "Epoch 388/1000: 100%|██████████| 13/13 [00:04<00:00,  2.66batch/s, Gen Loss=5.8005, Disc Loss=0.0074]\n"
          ]
        },
        {
          "output_type": "stream",
          "name": "stdout",
          "text": [
            "Estimated time remaining: 47.36 minutes\n",
            "Current learning rates - Generator: 0.000002, Discriminator: 0.000002\n",
            "Epoch 389/1000\n"
          ]
        },
        {
          "output_type": "stream",
          "name": "stderr",
          "text": [
            "Epoch 389/1000: 100%|██████████| 13/13 [00:04<00:00,  2.98batch/s, Gen Loss=6.0026, Disc Loss=0.0076]\n"
          ]
        },
        {
          "output_type": "stream",
          "name": "stdout",
          "text": [
            "Estimated time remaining: 47.28 minutes\n",
            "Current learning rates - Generator: 0.000002, Discriminator: 0.000002\n",
            "Epoch 390/1000\n"
          ]
        },
        {
          "output_type": "stream",
          "name": "stderr",
          "text": [
            "Epoch 390/1000: 100%|██████████| 13/13 [00:04<00:00,  3.22batch/s, Gen Loss=5.8249, Disc Loss=0.0052]\n"
          ]
        },
        {
          "output_type": "stream",
          "name": "stdout",
          "text": [
            "Generated images for epoch 389 saved to GrapeDataset/Grape Plant from Plant Village Dataset.\n",
            "Estimated time remaining: 47.21 minutes\n",
            "Current learning rates - Generator: 0.000001, Discriminator: 0.000001\n",
            "Epoch 391/1000\n"
          ]
        },
        {
          "output_type": "stream",
          "name": "stderr",
          "text": [
            "Epoch 391/1000: 100%|██████████| 13/13 [00:04<00:00,  2.69batch/s, Gen Loss=5.7444, Disc Loss=0.0043]\n"
          ]
        },
        {
          "output_type": "stream",
          "name": "stdout",
          "text": [
            "Estimated time remaining: 47.13 minutes\n",
            "Current learning rates - Generator: 0.000001, Discriminator: 0.000001\n",
            "Epoch 392/1000\n"
          ]
        },
        {
          "output_type": "stream",
          "name": "stderr",
          "text": [
            "Epoch 392/1000: 100%|██████████| 13/13 [00:04<00:00,  2.68batch/s, Gen Loss=5.8705, Disc Loss=0.0169]\n"
          ]
        },
        {
          "output_type": "stream",
          "name": "stdout",
          "text": [
            "Estimated time remaining: 47.06 minutes\n",
            "Current learning rates - Generator: 0.000001, Discriminator: 0.000001\n",
            "Epoch 393/1000\n"
          ]
        },
        {
          "output_type": "stream",
          "name": "stderr",
          "text": [
            "Epoch 393/1000: 100%|██████████| 13/13 [00:04<00:00,  3.18batch/s, Gen Loss=5.8670, Disc Loss=0.0054]\n"
          ]
        },
        {
          "output_type": "stream",
          "name": "stdout",
          "text": [
            "Estimated time remaining: 46.97 minutes\n",
            "Current learning rates - Generator: 0.000001, Discriminator: 0.000001\n",
            "Epoch 394/1000\n"
          ]
        },
        {
          "output_type": "stream",
          "name": "stderr",
          "text": [
            "Epoch 394/1000: 100%|██████████| 13/13 [00:04<00:00,  2.97batch/s, Gen Loss=5.5406, Disc Loss=0.0063]\n"
          ]
        },
        {
          "output_type": "stream",
          "name": "stdout",
          "text": [
            "Estimated time remaining: 46.89 minutes\n",
            "Current learning rates - Generator: 0.000001, Discriminator: 0.000001\n",
            "Epoch 395/1000\n"
          ]
        },
        {
          "output_type": "stream",
          "name": "stderr",
          "text": [
            "Epoch 395/1000: 100%|██████████| 13/13 [00:05<00:00,  2.42batch/s, Gen Loss=5.6739, Disc Loss=0.0054]\n"
          ]
        },
        {
          "output_type": "stream",
          "name": "stdout",
          "text": [
            "Generated images for epoch 394 saved to GrapeDataset/Grape Plant from Plant Village Dataset.\n",
            "Estimated time remaining: 46.85 minutes\n",
            "Current learning rates - Generator: 0.000001, Discriminator: 0.000001\n",
            "Epoch 396/1000\n"
          ]
        },
        {
          "output_type": "stream",
          "name": "stderr",
          "text": [
            "Epoch 396/1000: 100%|██████████| 13/13 [00:04<00:00,  3.18batch/s, Gen Loss=5.6175, Disc Loss=0.0041]\n"
          ]
        },
        {
          "output_type": "stream",
          "name": "stdout",
          "text": [
            "Estimated time remaining: 46.76 minutes\n",
            "Current learning rates - Generator: 0.000001, Discriminator: 0.000001\n",
            "Epoch 397/1000\n"
          ]
        },
        {
          "output_type": "stream",
          "name": "stderr",
          "text": [
            "Epoch 397/1000: 100%|██████████| 13/13 [00:04<00:00,  3.16batch/s, Gen Loss=5.7204, Disc Loss=0.0056]\n"
          ]
        },
        {
          "output_type": "stream",
          "name": "stdout",
          "text": [
            "Estimated time remaining: 46.67 minutes\n",
            "Current learning rates - Generator: 0.000001, Discriminator: 0.000001\n",
            "Epoch 398/1000\n"
          ]
        },
        {
          "output_type": "stream",
          "name": "stderr",
          "text": [
            "Epoch 398/1000: 100%|██████████| 13/13 [00:05<00:00,  2.38batch/s, Gen Loss=5.8685, Disc Loss=0.0080]\n"
          ]
        },
        {
          "output_type": "stream",
          "name": "stdout",
          "text": [
            "Estimated time remaining: 46.61 minutes\n",
            "Current learning rates - Generator: 0.000001, Discriminator: 0.000001\n",
            "Epoch 399/1000\n"
          ]
        },
        {
          "output_type": "stream",
          "name": "stderr",
          "text": [
            "Epoch 399/1000: 100%|██████████| 13/13 [00:04<00:00,  3.16batch/s, Gen Loss=5.8463, Disc Loss=0.0077]\n"
          ]
        },
        {
          "output_type": "stream",
          "name": "stdout",
          "text": [
            "Estimated time remaining: 46.52 minutes\n",
            "Current learning rates - Generator: 0.000001, Discriminator: 0.000001\n",
            "Epoch 400/1000\n"
          ]
        },
        {
          "output_type": "stream",
          "name": "stderr",
          "text": [
            "Epoch 400/1000: 100%|██████████| 13/13 [00:04<00:00,  3.03batch/s, Gen Loss=5.7011, Disc Loss=0.0073]\n"
          ]
        },
        {
          "output_type": "stream",
          "name": "stdout",
          "text": [
            "Generated images for epoch 399 saved to GrapeDataset/Grape Plant from Plant Village Dataset.\n",
            "Estimated time remaining: 46.45 minutes\n",
            "Current learning rates - Generator: 0.000001, Discriminator: 0.000001\n",
            "Epoch 401/1000\n"
          ]
        },
        {
          "output_type": "stream",
          "name": "stderr",
          "text": [
            "Epoch 401/1000: 100%|██████████| 13/13 [00:05<00:00,  2.28batch/s, Gen Loss=5.7666, Disc Loss=0.0059]\n"
          ]
        },
        {
          "output_type": "stream",
          "name": "stdout",
          "text": [
            "Estimated time remaining: 46.40 minutes\n",
            "Current learning rates - Generator: 0.000001, Discriminator: 0.000001\n",
            "Epoch 402/1000\n"
          ]
        },
        {
          "output_type": "stream",
          "name": "stderr",
          "text": [
            "Epoch 402/1000: 100%|██████████| 13/13 [00:04<00:00,  3.21batch/s, Gen Loss=5.8041, Disc Loss=0.0096]\n"
          ]
        },
        {
          "output_type": "stream",
          "name": "stdout",
          "text": [
            "Estimated time remaining: 46.31 minutes\n",
            "Current learning rates - Generator: 0.000001, Discriminator: 0.000001\n",
            "Epoch 403/1000\n"
          ]
        },
        {
          "output_type": "stream",
          "name": "stderr",
          "text": [
            "Epoch 403/1000: 100%|██████████| 13/13 [00:04<00:00,  3.19batch/s, Gen Loss=5.9479, Disc Loss=0.0080]\n"
          ]
        },
        {
          "output_type": "stream",
          "name": "stdout",
          "text": [
            "Estimated time remaining: 46.22 minutes\n",
            "Current learning rates - Generator: 0.000001, Discriminator: 0.000001\n",
            "Epoch 404/1000\n"
          ]
        },
        {
          "output_type": "stream",
          "name": "stderr",
          "text": [
            "Epoch 404/1000: 100%|██████████| 13/13 [00:05<00:00,  2.47batch/s, Gen Loss=5.5290, Disc Loss=0.0068]\n"
          ]
        },
        {
          "output_type": "stream",
          "name": "stdout",
          "text": [
            "Estimated time remaining: 46.16 minutes\n",
            "Current learning rates - Generator: 0.000001, Discriminator: 0.000001\n",
            "Epoch 405/1000\n"
          ]
        },
        {
          "output_type": "stream",
          "name": "stderr",
          "text": [
            "Epoch 405/1000: 100%|██████████| 13/13 [00:04<00:00,  3.14batch/s, Gen Loss=5.5176, Disc Loss=0.0067]\n"
          ]
        },
        {
          "output_type": "stream",
          "name": "stdout",
          "text": [
            "Generated images for epoch 404 saved to GrapeDataset/Grape Plant from Plant Village Dataset.\n",
            "Estimated time remaining: 46.09 minutes\n",
            "Current learning rates - Generator: 0.000001, Discriminator: 0.000001\n",
            "Epoch 406/1000\n"
          ]
        },
        {
          "output_type": "stream",
          "name": "stderr",
          "text": [
            "Epoch 406/1000: 100%|██████████| 13/13 [00:04<00:00,  3.13batch/s, Gen Loss=5.1702, Disc Loss=0.0087]\n"
          ]
        },
        {
          "output_type": "stream",
          "name": "stdout",
          "text": [
            "Estimated time remaining: 46.00 minutes\n",
            "Current learning rates - Generator: 0.000001, Discriminator: 0.000001\n",
            "Epoch 407/1000\n"
          ]
        },
        {
          "output_type": "stream",
          "name": "stderr",
          "text": [
            "Epoch 407/1000: 100%|██████████| 13/13 [00:04<00:00,  2.76batch/s, Gen Loss=5.3839, Disc Loss=0.0111]\n"
          ]
        },
        {
          "output_type": "stream",
          "name": "stdout",
          "text": [
            "Estimated time remaining: 45.92 minutes\n",
            "Current learning rates - Generator: 0.000001, Discriminator: 0.000001\n",
            "Epoch 408/1000\n"
          ]
        },
        {
          "output_type": "stream",
          "name": "stderr",
          "text": [
            "Epoch 408/1000: 100%|██████████| 13/13 [00:05<00:00,  2.59batch/s, Gen Loss=5.3594, Disc Loss=0.0212]\n"
          ]
        },
        {
          "output_type": "stream",
          "name": "stdout",
          "text": [
            "Estimated time remaining: 45.86 minutes\n",
            "Current learning rates - Generator: 0.000001, Discriminator: 0.000001\n",
            "Epoch 409/1000\n"
          ]
        },
        {
          "output_type": "stream",
          "name": "stderr",
          "text": [
            "Epoch 409/1000: 100%|██████████| 13/13 [00:04<00:00,  3.18batch/s, Gen Loss=5.2937, Disc Loss=0.0128]\n"
          ]
        },
        {
          "output_type": "stream",
          "name": "stdout",
          "text": [
            "Estimated time remaining: 45.77 minutes\n",
            "Current learning rates - Generator: 0.000001, Discriminator: 0.000001\n",
            "Epoch 410/1000\n"
          ]
        },
        {
          "output_type": "stream",
          "name": "stderr",
          "text": [
            "Epoch 410/1000: 100%|██████████| 13/13 [00:04<00:00,  3.10batch/s, Gen Loss=4.8459, Disc Loss=0.0094]\n"
          ]
        },
        {
          "output_type": "stream",
          "name": "stdout",
          "text": [
            "Generated images for epoch 409 saved to GrapeDataset/Grape Plant from Plant Village Dataset.\n",
            "Estimated time remaining: 45.70 minutes\n",
            "Current learning rates - Generator: 0.000001, Discriminator: 0.000001\n",
            "Epoch 411/1000\n"
          ]
        },
        {
          "output_type": "stream",
          "name": "stderr",
          "text": [
            "Epoch 411/1000: 100%|██████████| 13/13 [00:05<00:00,  2.55batch/s, Gen Loss=5.0676, Disc Loss=0.0119]\n"
          ]
        },
        {
          "output_type": "stream",
          "name": "stdout",
          "text": [
            "Estimated time remaining: 45.64 minutes\n",
            "Current learning rates - Generator: 0.000001, Discriminator: 0.000001\n",
            "Epoch 412/1000\n"
          ]
        },
        {
          "output_type": "stream",
          "name": "stderr",
          "text": [
            "Epoch 412/1000: 100%|██████████| 13/13 [00:04<00:00,  3.15batch/s, Gen Loss=4.7552, Disc Loss=0.0136]\n"
          ]
        },
        {
          "output_type": "stream",
          "name": "stdout",
          "text": [
            "Estimated time remaining: 45.55 minutes\n",
            "Current learning rates - Generator: 0.000001, Discriminator: 0.000001\n",
            "Epoch 413/1000\n"
          ]
        },
        {
          "output_type": "stream",
          "name": "stderr",
          "text": [
            "Epoch 413/1000: 100%|██████████| 13/13 [00:04<00:00,  3.09batch/s, Gen Loss=4.6352, Disc Loss=0.0235]\n"
          ]
        },
        {
          "output_type": "stream",
          "name": "stdout",
          "text": [
            "Estimated time remaining: 45.46 minutes\n",
            "Current learning rates - Generator: 0.000001, Discriminator: 0.000001\n",
            "Epoch 414/1000\n"
          ]
        },
        {
          "output_type": "stream",
          "name": "stderr",
          "text": [
            "Epoch 414/1000: 100%|██████████| 13/13 [00:05<00:00,  2.31batch/s, Gen Loss=4.5625, Disc Loss=0.0356]\n"
          ]
        },
        {
          "output_type": "stream",
          "name": "stdout",
          "text": [
            "Estimated time remaining: 45.41 minutes\n",
            "Current learning rates - Generator: 0.000001, Discriminator: 0.000001\n",
            "Epoch 415/1000\n"
          ]
        },
        {
          "output_type": "stream",
          "name": "stderr",
          "text": [
            "Epoch 415/1000: 100%|██████████| 13/13 [00:04<00:00,  3.13batch/s, Gen Loss=4.6089, Disc Loss=0.0254]\n"
          ]
        },
        {
          "output_type": "stream",
          "name": "stdout",
          "text": [
            "Generated images for epoch 414 saved to GrapeDataset/Grape Plant from Plant Village Dataset.\n",
            "Estimated time remaining: 45.34 minutes\n",
            "Current learning rates - Generator: 0.000001, Discriminator: 0.000001\n",
            "Epoch 416/1000\n"
          ]
        },
        {
          "output_type": "stream",
          "name": "stderr",
          "text": [
            "Epoch 416/1000: 100%|██████████| 13/13 [00:04<00:00,  3.08batch/s, Gen Loss=4.6159, Disc Loss=0.0334]\n"
          ]
        },
        {
          "output_type": "stream",
          "name": "stdout",
          "text": [
            "Estimated time remaining: 45.25 minutes\n",
            "Current learning rates - Generator: 0.000001, Discriminator: 0.000001\n",
            "Epoch 417/1000\n"
          ]
        },
        {
          "output_type": "stream",
          "name": "stderr",
          "text": [
            "Epoch 417/1000: 100%|██████████| 13/13 [00:05<00:00,  2.26batch/s, Gen Loss=4.4509, Disc Loss=0.0212]\n"
          ]
        },
        {
          "output_type": "stream",
          "name": "stdout",
          "text": [
            "Estimated time remaining: 45.20 minutes\n",
            "Current learning rates - Generator: 0.000001, Discriminator: 0.000001\n",
            "Epoch 418/1000\n"
          ]
        },
        {
          "output_type": "stream",
          "name": "stderr",
          "text": [
            "Epoch 418/1000: 100%|██████████| 13/13 [00:03<00:00,  3.26batch/s, Gen Loss=4.3017, Disc Loss=0.0240]\n"
          ]
        },
        {
          "output_type": "stream",
          "name": "stdout",
          "text": [
            "Estimated time remaining: 45.10 minutes\n",
            "Current learning rates - Generator: 0.000001, Discriminator: 0.000001\n",
            "Epoch 419/1000\n"
          ]
        },
        {
          "output_type": "stream",
          "name": "stderr",
          "text": [
            "Epoch 419/1000: 100%|██████████| 13/13 [00:04<00:00,  3.13batch/s, Gen Loss=4.3387, Disc Loss=0.0244]\n"
          ]
        },
        {
          "output_type": "stream",
          "name": "stdout",
          "text": [
            "Estimated time remaining: 45.02 minutes\n",
            "Current learning rates - Generator: 0.000001, Discriminator: 0.000001\n",
            "Epoch 420/1000\n"
          ]
        },
        {
          "output_type": "stream",
          "name": "stderr",
          "text": [
            "Epoch 420/1000: 100%|██████████| 13/13 [00:04<00:00,  2.75batch/s, Gen Loss=4.2624, Disc Loss=0.0192]\n"
          ]
        },
        {
          "output_type": "stream",
          "name": "stdout",
          "text": [
            "Generated images for epoch 419 saved to GrapeDataset/Grape Plant from Plant Village Dataset.\n",
            "Estimated time remaining: 44.96 minutes\n",
            "Current learning rates - Generator: 0.000001, Discriminator: 0.000001\n",
            "Epoch 421/1000\n"
          ]
        },
        {
          "output_type": "stream",
          "name": "stderr",
          "text": [
            "Epoch 421/1000: 100%|██████████| 13/13 [00:04<00:00,  3.11batch/s, Gen Loss=4.5528, Disc Loss=0.0212]\n"
          ]
        },
        {
          "output_type": "stream",
          "name": "stdout",
          "text": [
            "Estimated time remaining: 44.88 minutes\n",
            "Current learning rates - Generator: 0.000001, Discriminator: 0.000001\n",
            "Epoch 422/1000\n"
          ]
        },
        {
          "output_type": "stream",
          "name": "stderr",
          "text": [
            "Epoch 422/1000: 100%|██████████| 13/13 [00:03<00:00,  3.26batch/s, Gen Loss=4.5091, Disc Loss=0.0261]\n"
          ]
        },
        {
          "output_type": "stream",
          "name": "stdout",
          "text": [
            "Estimated time remaining: 44.78 minutes\n",
            "Current learning rates - Generator: 0.000001, Discriminator: 0.000001\n",
            "Epoch 423/1000\n"
          ]
        },
        {
          "output_type": "stream",
          "name": "stderr",
          "text": [
            "Epoch 423/1000: 100%|██████████| 13/13 [00:04<00:00,  2.89batch/s, Gen Loss=4.2574, Disc Loss=0.0239]\n"
          ]
        },
        {
          "output_type": "stream",
          "name": "stdout",
          "text": [
            "Estimated time remaining: 44.70 minutes\n",
            "Current learning rates - Generator: 0.000001, Discriminator: 0.000001\n",
            "Epoch 424/1000\n"
          ]
        },
        {
          "output_type": "stream",
          "name": "stderr",
          "text": [
            "Epoch 424/1000: 100%|██████████| 13/13 [00:05<00:00,  2.54batch/s, Gen Loss=4.5736, Disc Loss=0.0143]\n"
          ]
        },
        {
          "output_type": "stream",
          "name": "stdout",
          "text": [
            "Estimated time remaining: 44.64 minutes\n",
            "Current learning rates - Generator: 0.000001, Discriminator: 0.000001\n",
            "Epoch 425/1000\n"
          ]
        },
        {
          "output_type": "stream",
          "name": "stderr",
          "text": [
            "Epoch 425/1000: 100%|██████████| 13/13 [00:04<00:00,  3.15batch/s, Gen Loss=4.4133, Disc Loss=0.0265]\n"
          ]
        },
        {
          "output_type": "stream",
          "name": "stdout",
          "text": [
            "Generated images for epoch 424 saved to GrapeDataset/Grape Plant from Plant Village Dataset.\n",
            "Estimated time remaining: 44.57 minutes\n",
            "Current learning rates - Generator: 0.000001, Discriminator: 0.000001\n",
            "Epoch 426/1000\n"
          ]
        },
        {
          "output_type": "stream",
          "name": "stderr",
          "text": [
            "Epoch 426/1000: 100%|██████████| 13/13 [00:04<00:00,  3.02batch/s, Gen Loss=4.5338, Disc Loss=0.0230]\n"
          ]
        },
        {
          "output_type": "stream",
          "name": "stdout",
          "text": [
            "Estimated time remaining: 44.48 minutes\n",
            "Current learning rates - Generator: 0.000001, Discriminator: 0.000001\n",
            "Epoch 427/1000\n"
          ]
        },
        {
          "output_type": "stream",
          "name": "stderr",
          "text": [
            "Epoch 427/1000: 100%|██████████| 13/13 [00:05<00:00,  2.45batch/s, Gen Loss=4.6615, Disc Loss=0.0237]\n"
          ]
        },
        {
          "output_type": "stream",
          "name": "stdout",
          "text": [
            "Estimated time remaining: 44.42 minutes\n",
            "Current learning rates - Generator: 0.000001, Discriminator: 0.000001\n",
            "Epoch 428/1000\n"
          ]
        },
        {
          "output_type": "stream",
          "name": "stderr",
          "text": [
            "Epoch 428/1000: 100%|██████████| 13/13 [00:04<00:00,  3.22batch/s, Gen Loss=4.5366, Disc Loss=0.0174]\n"
          ]
        },
        {
          "output_type": "stream",
          "name": "stdout",
          "text": [
            "Estimated time remaining: 44.33 minutes\n",
            "Current learning rates - Generator: 0.000001, Discriminator: 0.000001\n",
            "Epoch 429/1000\n"
          ]
        },
        {
          "output_type": "stream",
          "name": "stderr",
          "text": [
            "Epoch 429/1000: 100%|██████████| 13/13 [00:04<00:00,  3.21batch/s, Gen Loss=4.4049, Disc Loss=0.0218]\n"
          ]
        },
        {
          "output_type": "stream",
          "name": "stdout",
          "text": [
            "Estimated time remaining: 44.24 minutes\n",
            "Current learning rates - Generator: 0.000001, Discriminator: 0.000001\n",
            "Epoch 430/1000\n"
          ]
        },
        {
          "output_type": "stream",
          "name": "stderr",
          "text": [
            "Epoch 430/1000: 100%|██████████| 13/13 [00:05<00:00,  2.35batch/s, Gen Loss=4.6451, Disc Loss=0.0301]\n"
          ]
        },
        {
          "output_type": "stream",
          "name": "stdout",
          "text": [
            "Generated images for epoch 429 saved to GrapeDataset/Grape Plant from Plant Village Dataset.\n",
            "Estimated time remaining: 44.20 minutes\n",
            "Current learning rates - Generator: 0.000001, Discriminator: 0.000001\n",
            "Epoch 431/1000\n"
          ]
        },
        {
          "output_type": "stream",
          "name": "stderr",
          "text": [
            "Epoch 431/1000: 100%|██████████| 13/13 [00:04<00:00,  3.21batch/s, Gen Loss=4.5390, Disc Loss=0.0278]\n"
          ]
        },
        {
          "output_type": "stream",
          "name": "stdout",
          "text": [
            "Estimated time remaining: 44.11 minutes\n",
            "Current learning rates - Generator: 0.000001, Discriminator: 0.000001\n",
            "Epoch 432/1000\n"
          ]
        },
        {
          "output_type": "stream",
          "name": "stderr",
          "text": [
            "Epoch 432/1000: 100%|██████████| 13/13 [00:04<00:00,  3.09batch/s, Gen Loss=4.5627, Disc Loss=0.0277]\n"
          ]
        },
        {
          "output_type": "stream",
          "name": "stdout",
          "text": [
            "Estimated time remaining: 44.02 minutes\n",
            "Current learning rates - Generator: 0.000001, Discriminator: 0.000001\n",
            "Epoch 433/1000\n"
          ]
        },
        {
          "output_type": "stream",
          "name": "stderr",
          "text": [
            "Epoch 433/1000: 100%|██████████| 13/13 [00:05<00:00,  2.57batch/s, Gen Loss=4.5547, Disc Loss=0.0237]\n"
          ]
        },
        {
          "output_type": "stream",
          "name": "stdout",
          "text": [
            "Estimated time remaining: 43.95 minutes\n",
            "Current learning rates - Generator: 0.000001, Discriminator: 0.000001\n",
            "Epoch 434/1000\n"
          ]
        },
        {
          "output_type": "stream",
          "name": "stderr",
          "text": [
            "Epoch 434/1000: 100%|██████████| 13/13 [00:04<00:00,  3.08batch/s, Gen Loss=4.6961, Disc Loss=0.0270]\n"
          ]
        },
        {
          "output_type": "stream",
          "name": "stdout",
          "text": [
            "Estimated time remaining: 43.86 minutes\n",
            "Current learning rates - Generator: 0.000001, Discriminator: 0.000001\n",
            "Epoch 435/1000\n"
          ]
        },
        {
          "output_type": "stream",
          "name": "stderr",
          "text": [
            "Epoch 435/1000: 100%|██████████| 13/13 [00:03<00:00,  3.26batch/s, Gen Loss=4.6035, Disc Loss=0.0218]\n"
          ]
        },
        {
          "output_type": "stream",
          "name": "stdout",
          "text": [
            "Generated images for epoch 434 saved to GrapeDataset/Grape Plant from Plant Village Dataset.\n",
            "Estimated time remaining: 43.79 minutes\n",
            "Current learning rates - Generator: 0.000001, Discriminator: 0.000001\n",
            "Epoch 436/1000\n"
          ]
        },
        {
          "output_type": "stream",
          "name": "stderr",
          "text": [
            "Epoch 436/1000: 100%|██████████| 13/13 [00:04<00:00,  2.71batch/s, Gen Loss=4.7111, Disc Loss=0.0271]\n"
          ]
        },
        {
          "output_type": "stream",
          "name": "stdout",
          "text": [
            "Estimated time remaining: 43.71 minutes\n",
            "Current learning rates - Generator: 0.000001, Discriminator: 0.000001\n",
            "Epoch 437/1000\n"
          ]
        },
        {
          "output_type": "stream",
          "name": "stderr",
          "text": [
            "Epoch 437/1000: 100%|██████████| 13/13 [00:04<00:00,  2.63batch/s, Gen Loss=4.8874, Disc Loss=0.0177]\n"
          ]
        },
        {
          "output_type": "stream",
          "name": "stdout",
          "text": [
            "Estimated time remaining: 43.64 minutes\n",
            "Current learning rates - Generator: 0.000001, Discriminator: 0.000001\n",
            "Epoch 438/1000\n"
          ]
        },
        {
          "output_type": "stream",
          "name": "stderr",
          "text": [
            "Epoch 438/1000: 100%|██████████| 13/13 [00:04<00:00,  3.19batch/s, Gen Loss=4.7364, Disc Loss=0.0162]\n"
          ]
        },
        {
          "output_type": "stream",
          "name": "stdout",
          "text": [
            "Estimated time remaining: 43.55 minutes\n",
            "Current learning rates - Generator: 0.000001, Discriminator: 0.000001\n",
            "Epoch 439/1000\n"
          ]
        },
        {
          "output_type": "stream",
          "name": "stderr",
          "text": [
            "Epoch 439/1000: 100%|██████████| 13/13 [00:04<00:00,  3.09batch/s, Gen Loss=4.3939, Disc Loss=0.0283]\n"
          ]
        },
        {
          "output_type": "stream",
          "name": "stdout",
          "text": [
            "Estimated time remaining: 43.47 minutes\n",
            "Current learning rates - Generator: 0.000001, Discriminator: 0.000001\n",
            "Epoch 440/1000\n"
          ]
        },
        {
          "output_type": "stream",
          "name": "stderr",
          "text": [
            "Epoch 440/1000: 100%|██████████| 13/13 [00:05<00:00,  2.38batch/s, Gen Loss=4.8096, Disc Loss=0.0107]\n"
          ]
        },
        {
          "output_type": "stream",
          "name": "stdout",
          "text": [
            "Generated images for epoch 439 saved to GrapeDataset/Grape Plant from Plant Village Dataset.\n",
            "Estimated time remaining: 43.42 minutes\n",
            "Current learning rates - Generator: 0.000001, Discriminator: 0.000001\n",
            "Epoch 441/1000\n"
          ]
        },
        {
          "output_type": "stream",
          "name": "stderr",
          "text": [
            "Epoch 441/1000: 100%|██████████| 13/13 [00:04<00:00,  3.16batch/s, Gen Loss=4.9065, Disc Loss=0.0121]\n"
          ]
        },
        {
          "output_type": "stream",
          "name": "stdout",
          "text": [
            "Estimated time remaining: 43.33 minutes\n",
            "Current learning rates - Generator: 0.000001, Discriminator: 0.000001\n",
            "Epoch 442/1000\n"
          ]
        },
        {
          "output_type": "stream",
          "name": "stderr",
          "text": [
            "Epoch 442/1000: 100%|██████████| 13/13 [00:04<00:00,  3.11batch/s, Gen Loss=4.9058, Disc Loss=0.0163]\n"
          ]
        },
        {
          "output_type": "stream",
          "name": "stdout",
          "text": [
            "Estimated time remaining: 43.25 minutes\n",
            "Current learning rates - Generator: 0.000001, Discriminator: 0.000001\n",
            "Epoch 443/1000\n"
          ]
        },
        {
          "output_type": "stream",
          "name": "stderr",
          "text": [
            "Epoch 443/1000: 100%|██████████| 13/13 [00:05<00:00,  2.34batch/s, Gen Loss=4.9834, Disc Loss=0.0139]\n"
          ]
        },
        {
          "output_type": "stream",
          "name": "stdout",
          "text": [
            "Estimated time remaining: 43.19 minutes\n",
            "Current learning rates - Generator: 0.000001, Discriminator: 0.000001\n",
            "Epoch 444/1000\n"
          ]
        },
        {
          "output_type": "stream",
          "name": "stderr",
          "text": [
            "Epoch 444/1000: 100%|██████████| 13/13 [00:04<00:00,  3.22batch/s, Gen Loss=5.0251, Disc Loss=0.0148]\n"
          ]
        },
        {
          "output_type": "stream",
          "name": "stdout",
          "text": [
            "Estimated time remaining: 43.10 minutes\n",
            "Current learning rates - Generator: 0.000001, Discriminator: 0.000001\n",
            "Epoch 445/1000\n"
          ]
        },
        {
          "output_type": "stream",
          "name": "stderr",
          "text": [
            "Epoch 445/1000: 100%|██████████| 13/13 [00:04<00:00,  3.17batch/s, Gen Loss=5.1203, Disc Loss=0.0134]\n"
          ]
        },
        {
          "output_type": "stream",
          "name": "stdout",
          "text": [
            "Generated images for epoch 444 saved to GrapeDataset/Grape Plant from Plant Village Dataset.\n",
            "Estimated time remaining: 43.03 minutes\n",
            "Current learning rates - Generator: 0.000001, Discriminator: 0.000001\n",
            "Epoch 446/1000\n"
          ]
        },
        {
          "output_type": "stream",
          "name": "stderr",
          "text": [
            "Epoch 446/1000: 100%|██████████| 13/13 [00:05<00:00,  2.43batch/s, Gen Loss=4.9445, Disc Loss=0.0110]\n"
          ]
        },
        {
          "output_type": "stream",
          "name": "stdout",
          "text": [
            "Estimated time remaining: 42.96 minutes\n",
            "Current learning rates - Generator: 0.000001, Discriminator: 0.000001\n",
            "Epoch 447/1000\n"
          ]
        },
        {
          "output_type": "stream",
          "name": "stderr",
          "text": [
            "Epoch 447/1000: 100%|██████████| 13/13 [00:04<00:00,  3.03batch/s, Gen Loss=4.9148, Disc Loss=0.0141]\n"
          ]
        },
        {
          "output_type": "stream",
          "name": "stdout",
          "text": [
            "Estimated time remaining: 42.88 minutes\n",
            "Current learning rates - Generator: 0.000001, Discriminator: 0.000001\n",
            "Epoch 448/1000\n"
          ]
        },
        {
          "output_type": "stream",
          "name": "stderr",
          "text": [
            "Epoch 448/1000: 100%|██████████| 13/13 [00:04<00:00,  3.21batch/s, Gen Loss=4.6788, Disc Loss=0.0104]\n"
          ]
        },
        {
          "output_type": "stream",
          "name": "stdout",
          "text": [
            "Estimated time remaining: 42.79 minutes\n",
            "Current learning rates - Generator: 0.000001, Discriminator: 0.000001\n",
            "Epoch 449/1000\n"
          ]
        },
        {
          "output_type": "stream",
          "name": "stderr",
          "text": [
            "Epoch 449/1000: 100%|██████████| 13/13 [00:04<00:00,  2.95batch/s, Gen Loss=5.0087, Disc Loss=0.0195]\n"
          ]
        },
        {
          "output_type": "stream",
          "name": "stdout",
          "text": [
            "Estimated time remaining: 42.71 minutes\n",
            "Current learning rates - Generator: 0.000001, Discriminator: 0.000001\n",
            "Epoch 450/1000\n"
          ]
        },
        {
          "output_type": "stream",
          "name": "stderr",
          "text": [
            "Epoch 450/1000: 100%|██████████| 13/13 [00:05<00:00,  2.51batch/s, Gen Loss=4.8181, Disc Loss=0.0156]\n"
          ]
        },
        {
          "output_type": "stream",
          "name": "stdout",
          "text": [
            "Generated images for epoch 449 saved to GrapeDataset/Grape Plant from Plant Village Dataset.\n",
            "Estimated time remaining: 42.66 minutes\n",
            "Current learning rates - Generator: 0.000001, Discriminator: 0.000001\n",
            "Epoch 451/1000\n"
          ]
        },
        {
          "output_type": "stream",
          "name": "stderr",
          "text": [
            "Epoch 451/1000: 100%|██████████| 13/13 [00:04<00:00,  3.09batch/s, Gen Loss=4.9089, Disc Loss=0.0460]\n"
          ]
        },
        {
          "output_type": "stream",
          "name": "stdout",
          "text": [
            "Estimated time remaining: 42.57 minutes\n",
            "Current learning rates - Generator: 0.000001, Discriminator: 0.000001\n",
            "Epoch 452/1000\n"
          ]
        },
        {
          "output_type": "stream",
          "name": "stderr",
          "text": [
            "Epoch 452/1000: 100%|██████████| 13/13 [00:04<00:00,  3.09batch/s, Gen Loss=4.7351, Disc Loss=0.0212]\n"
          ]
        },
        {
          "output_type": "stream",
          "name": "stdout",
          "text": [
            "Estimated time remaining: 42.48 minutes\n",
            "Current learning rates - Generator: 0.000001, Discriminator: 0.000001\n",
            "Epoch 453/1000\n"
          ]
        },
        {
          "output_type": "stream",
          "name": "stderr",
          "text": [
            "Epoch 453/1000: 100%|██████████| 13/13 [00:05<00:00,  2.40batch/s, Gen Loss=5.0559, Disc Loss=0.0134]\n"
          ]
        },
        {
          "output_type": "stream",
          "name": "stdout",
          "text": [
            "Estimated time remaining: 42.42 minutes\n",
            "Current learning rates - Generator: 0.000001, Discriminator: 0.000001\n",
            "Epoch 454/1000\n"
          ]
        },
        {
          "output_type": "stream",
          "name": "stderr",
          "text": [
            "Epoch 454/1000: 100%|██████████| 13/13 [00:04<00:00,  3.17batch/s, Gen Loss=4.8989, Disc Loss=0.0199]\n"
          ]
        },
        {
          "output_type": "stream",
          "name": "stdout",
          "text": [
            "Estimated time remaining: 42.33 minutes\n",
            "Current learning rates - Generator: 0.000001, Discriminator: 0.000001\n",
            "Epoch 455/1000\n"
          ]
        },
        {
          "output_type": "stream",
          "name": "stderr",
          "text": [
            "Epoch 455/1000: 100%|██████████| 13/13 [00:04<00:00,  3.15batch/s, Gen Loss=4.9166, Disc Loss=0.0207]\n"
          ]
        },
        {
          "output_type": "stream",
          "name": "stdout",
          "text": [
            "Generated images for epoch 454 saved to GrapeDataset/Grape Plant from Plant Village Dataset.\n",
            "Estimated time remaining: 42.27 minutes\n",
            "Current learning rates - Generator: 0.000001, Discriminator: 0.000001\n",
            "Epoch 456/1000\n"
          ]
        },
        {
          "output_type": "stream",
          "name": "stderr",
          "text": [
            "Epoch 456/1000: 100%|██████████| 13/13 [00:05<00:00,  2.37batch/s, Gen Loss=4.9399, Disc Loss=0.0157]\n"
          ]
        },
        {
          "output_type": "stream",
          "name": "stdout",
          "text": [
            "Estimated time remaining: 42.20 minutes\n",
            "Current learning rates - Generator: 0.000001, Discriminator: 0.000001\n",
            "Epoch 457/1000\n"
          ]
        },
        {
          "output_type": "stream",
          "name": "stderr",
          "text": [
            "Epoch 457/1000: 100%|██████████| 13/13 [00:04<00:00,  3.16batch/s, Gen Loss=4.8233, Disc Loss=0.0183]\n"
          ]
        },
        {
          "output_type": "stream",
          "name": "stdout",
          "text": [
            "Estimated time remaining: 42.12 minutes\n",
            "Current learning rates - Generator: 0.000001, Discriminator: 0.000001\n",
            "Epoch 458/1000\n"
          ]
        },
        {
          "output_type": "stream",
          "name": "stderr",
          "text": [
            "Epoch 458/1000: 100%|██████████| 13/13 [00:04<00:00,  3.19batch/s, Gen Loss=4.9018, Disc Loss=0.0124]\n"
          ]
        },
        {
          "output_type": "stream",
          "name": "stdout",
          "text": [
            "Estimated time remaining: 42.03 minutes\n",
            "Current learning rates - Generator: 0.000001, Discriminator: 0.000001\n",
            "Epoch 459/1000\n"
          ]
        },
        {
          "output_type": "stream",
          "name": "stderr",
          "text": [
            "Epoch 459/1000: 100%|██████████| 13/13 [00:05<00:00,  2.51batch/s, Gen Loss=4.8804, Disc Loss=0.0746]\n"
          ]
        },
        {
          "output_type": "stream",
          "name": "stdout",
          "text": [
            "Estimated time remaining: 41.96 minutes\n",
            "Current learning rates - Generator: 0.000001, Discriminator: 0.000001\n",
            "Epoch 460/1000\n"
          ]
        },
        {
          "output_type": "stream",
          "name": "stderr",
          "text": [
            "Epoch 460/1000: 100%|██████████| 13/13 [00:04<00:00,  3.04batch/s, Gen Loss=5.0129, Disc Loss=0.0201]\n"
          ]
        },
        {
          "output_type": "stream",
          "name": "stdout",
          "text": [
            "Generated images for epoch 459 saved to GrapeDataset/Grape Plant from Plant Village Dataset.\n",
            "Estimated time remaining: 41.89 minutes\n",
            "Current learning rates - Generator: 0.000001, Discriminator: 0.000001\n",
            "Epoch 461/1000\n"
          ]
        },
        {
          "output_type": "stream",
          "name": "stderr",
          "text": [
            "Epoch 461/1000: 100%|██████████| 13/13 [00:04<00:00,  3.14batch/s, Gen Loss=4.9489, Disc Loss=0.0090]\n"
          ]
        },
        {
          "output_type": "stream",
          "name": "stdout",
          "text": [
            "Estimated time remaining: 41.80 minutes\n",
            "Current learning rates - Generator: 0.000001, Discriminator: 0.000001\n",
            "Epoch 462/1000\n"
          ]
        },
        {
          "output_type": "stream",
          "name": "stderr",
          "text": [
            "Epoch 462/1000: 100%|██████████| 13/13 [00:04<00:00,  2.64batch/s, Gen Loss=4.6950, Disc Loss=0.0201]\n"
          ]
        },
        {
          "output_type": "stream",
          "name": "stdout",
          "text": [
            "Estimated time remaining: 41.73 minutes\n",
            "Current learning rates - Generator: 0.000001, Discriminator: 0.000001\n",
            "Epoch 463/1000\n"
          ]
        },
        {
          "output_type": "stream",
          "name": "stderr",
          "text": [
            "Epoch 463/1000: 100%|██████████| 13/13 [00:04<00:00,  2.73batch/s, Gen Loss=4.8338, Disc Loss=0.0108]\n"
          ]
        },
        {
          "output_type": "stream",
          "name": "stdout",
          "text": [
            "Estimated time remaining: 41.66 minutes\n",
            "Current learning rates - Generator: 0.000001, Discriminator: 0.000001\n",
            "Epoch 464/1000\n"
          ]
        },
        {
          "output_type": "stream",
          "name": "stderr",
          "text": [
            "Epoch 464/1000: 100%|██████████| 13/13 [00:04<00:00,  3.11batch/s, Gen Loss=5.2378, Disc Loss=0.0119]\n"
          ]
        },
        {
          "output_type": "stream",
          "name": "stdout",
          "text": [
            "Estimated time remaining: 41.57 minutes\n",
            "Current learning rates - Generator: 0.000001, Discriminator: 0.000001\n",
            "Epoch 465/1000\n"
          ]
        },
        {
          "output_type": "stream",
          "name": "stderr",
          "text": [
            "Epoch 465/1000: 100%|██████████| 13/13 [00:04<00:00,  3.00batch/s, Gen Loss=4.9621, Disc Loss=0.0673]\n"
          ]
        },
        {
          "output_type": "stream",
          "name": "stdout",
          "text": [
            "Generated images for epoch 464 saved to GrapeDataset/Grape Plant from Plant Village Dataset.\n",
            "Estimated time remaining: 41.51 minutes\n",
            "Current learning rates - Generator: 0.000001, Discriminator: 0.000001\n",
            "Epoch 466/1000\n"
          ]
        },
        {
          "output_type": "stream",
          "name": "stderr",
          "text": [
            "Epoch 466/1000: 100%|██████████| 13/13 [00:04<00:00,  2.71batch/s, Gen Loss=4.9897, Disc Loss=0.0273]\n"
          ]
        },
        {
          "output_type": "stream",
          "name": "stdout",
          "text": [
            "Estimated time remaining: 41.43 minutes\n",
            "Current learning rates - Generator: 0.000001, Discriminator: 0.000001\n",
            "Epoch 467/1000\n"
          ]
        },
        {
          "output_type": "stream",
          "name": "stderr",
          "text": [
            "Epoch 467/1000: 100%|██████████| 13/13 [00:04<00:00,  3.07batch/s, Gen Loss=5.0894, Disc Loss=0.0390]\n"
          ]
        },
        {
          "output_type": "stream",
          "name": "stdout",
          "text": [
            "Estimated time remaining: 41.35 minutes\n",
            "Current learning rates - Generator: 0.000001, Discriminator: 0.000001\n",
            "Epoch 468/1000\n"
          ]
        },
        {
          "output_type": "stream",
          "name": "stderr",
          "text": [
            "Epoch 468/1000: 100%|██████████| 13/13 [00:04<00:00,  3.11batch/s, Gen Loss=4.8050, Disc Loss=0.0108]\n"
          ]
        },
        {
          "output_type": "stream",
          "name": "stdout",
          "text": [
            "Estimated time remaining: 41.26 minutes\n",
            "Current learning rates - Generator: 0.000001, Discriminator: 0.000001\n",
            "Epoch 469/1000\n"
          ]
        },
        {
          "output_type": "stream",
          "name": "stderr",
          "text": [
            "Epoch 469/1000: 100%|██████████| 13/13 [00:05<00:00,  2.41batch/s, Gen Loss=4.7580, Disc Loss=0.0314]\n"
          ]
        },
        {
          "output_type": "stream",
          "name": "stdout",
          "text": [
            "Estimated time remaining: 41.20 minutes\n",
            "Current learning rates - Generator: 0.000001, Discriminator: 0.000001\n",
            "Epoch 470/1000\n"
          ]
        },
        {
          "output_type": "stream",
          "name": "stderr",
          "text": [
            "Epoch 470/1000: 100%|██████████| 13/13 [00:04<00:00,  3.11batch/s, Gen Loss=4.6087, Disc Loss=0.0185]\n"
          ]
        },
        {
          "output_type": "stream",
          "name": "stdout",
          "text": [
            "Generated images for epoch 469 saved to GrapeDataset/Grape Plant from Plant Village Dataset.\n",
            "Estimated time remaining: 41.13 minutes\n",
            "Current learning rates - Generator: 0.000001, Discriminator: 0.000001\n",
            "Epoch 471/1000\n"
          ]
        },
        {
          "output_type": "stream",
          "name": "stderr",
          "text": [
            "Epoch 471/1000: 100%|██████████| 13/13 [00:04<00:00,  3.10batch/s, Gen Loss=4.9896, Disc Loss=0.0193]\n"
          ]
        },
        {
          "output_type": "stream",
          "name": "stdout",
          "text": [
            "Estimated time remaining: 41.04 minutes\n",
            "Current learning rates - Generator: 0.000001, Discriminator: 0.000001\n",
            "Epoch 472/1000\n"
          ]
        },
        {
          "output_type": "stream",
          "name": "stderr",
          "text": [
            "Epoch 472/1000: 100%|██████████| 13/13 [00:05<00:00,  2.32batch/s, Gen Loss=4.6878, Disc Loss=0.0269]\n"
          ]
        },
        {
          "output_type": "stream",
          "name": "stdout",
          "text": [
            "Estimated time remaining: 40.98 minutes\n",
            "Current learning rates - Generator: 0.000001, Discriminator: 0.000001\n",
            "Epoch 473/1000\n"
          ]
        },
        {
          "output_type": "stream",
          "name": "stderr",
          "text": [
            "Epoch 473/1000: 100%|██████████| 13/13 [00:04<00:00,  3.16batch/s, Gen Loss=4.4494, Disc Loss=0.0157]\n"
          ]
        },
        {
          "output_type": "stream",
          "name": "stdout",
          "text": [
            "Estimated time remaining: 40.89 minutes\n",
            "Current learning rates - Generator: 0.000001, Discriminator: 0.000001\n",
            "Epoch 474/1000\n"
          ]
        },
        {
          "output_type": "stream",
          "name": "stderr",
          "text": [
            "Epoch 474/1000: 100%|██████████| 13/13 [00:04<00:00,  3.07batch/s, Gen Loss=5.1134, Disc Loss=0.0236]\n"
          ]
        },
        {
          "output_type": "stream",
          "name": "stdout",
          "text": [
            "Estimated time remaining: 40.81 minutes\n",
            "Current learning rates - Generator: 0.000001, Discriminator: 0.000001\n",
            "Epoch 475/1000\n"
          ]
        },
        {
          "output_type": "stream",
          "name": "stderr",
          "text": [
            "Epoch 475/1000: 100%|██████████| 13/13 [00:04<00:00,  2.72batch/s, Gen Loss=4.8328, Disc Loss=0.0142]\n"
          ]
        },
        {
          "output_type": "stream",
          "name": "stdout",
          "text": [
            "Generated images for epoch 474 saved to GrapeDataset/Grape Plant from Plant Village Dataset.\n",
            "Estimated time remaining: 40.75 minutes\n",
            "Current learning rates - Generator: 0.000001, Discriminator: 0.000001\n",
            "Epoch 476/1000\n"
          ]
        },
        {
          "output_type": "stream",
          "name": "stderr",
          "text": [
            "Epoch 476/1000: 100%|██████████| 13/13 [00:04<00:00,  3.08batch/s, Gen Loss=4.9362, Disc Loss=0.0145]\n"
          ]
        },
        {
          "output_type": "stream",
          "name": "stdout",
          "text": [
            "Estimated time remaining: 40.67 minutes\n",
            "Current learning rates - Generator: 0.000001, Discriminator: 0.000001\n",
            "Epoch 477/1000\n"
          ]
        },
        {
          "output_type": "stream",
          "name": "stderr",
          "text": [
            "Epoch 477/1000: 100%|██████████| 13/13 [00:04<00:00,  3.22batch/s, Gen Loss=4.8870, Disc Loss=0.0195]\n"
          ]
        },
        {
          "output_type": "stream",
          "name": "stdout",
          "text": [
            "Estimated time remaining: 40.58 minutes\n",
            "Current learning rates - Generator: 0.000001, Discriminator: 0.000001\n",
            "Epoch 478/1000\n"
          ]
        },
        {
          "output_type": "stream",
          "name": "stderr",
          "text": [
            "Epoch 478/1000: 100%|██████████| 13/13 [00:04<00:00,  2.67batch/s, Gen Loss=4.7053, Disc Loss=0.0288]\n"
          ]
        },
        {
          "output_type": "stream",
          "name": "stdout",
          "text": [
            "Estimated time remaining: 40.50 minutes\n",
            "Current learning rates - Generator: 0.000001, Discriminator: 0.000001\n",
            "Epoch 479/1000\n"
          ]
        },
        {
          "output_type": "stream",
          "name": "stderr",
          "text": [
            "Epoch 479/1000: 100%|██████████| 13/13 [00:04<00:00,  2.70batch/s, Gen Loss=4.7561, Disc Loss=0.0124]\n"
          ]
        },
        {
          "output_type": "stream",
          "name": "stdout",
          "text": [
            "Estimated time remaining: 40.43 minutes\n",
            "Current learning rates - Generator: 0.000001, Discriminator: 0.000001\n",
            "Epoch 480/1000\n"
          ]
        },
        {
          "output_type": "stream",
          "name": "stderr",
          "text": [
            "Epoch 480/1000: 100%|██████████| 13/13 [00:04<00:00,  3.13batch/s, Gen Loss=5.0130, Disc Loss=0.0342]\n"
          ]
        },
        {
          "output_type": "stream",
          "name": "stdout",
          "text": [
            "Generated images for epoch 479 saved to GrapeDataset/Grape Plant from Plant Village Dataset.\n",
            "Estimated time remaining: 40.36 minutes\n",
            "Current learning rates - Generator: 0.000001, Discriminator: 0.000001\n",
            "Epoch 481/1000\n"
          ]
        },
        {
          "output_type": "stream",
          "name": "stderr",
          "text": [
            "Epoch 481/1000: 100%|██████████| 13/13 [00:04<00:00,  3.00batch/s, Gen Loss=4.5735, Disc Loss=0.0154]\n"
          ]
        },
        {
          "output_type": "stream",
          "name": "stdout",
          "text": [
            "Estimated time remaining: 40.28 minutes\n",
            "Current learning rates - Generator: 0.000001, Discriminator: 0.000001\n",
            "Epoch 482/1000\n"
          ]
        },
        {
          "output_type": "stream",
          "name": "stderr",
          "text": [
            "Epoch 482/1000: 100%|██████████| 13/13 [00:05<00:00,  2.47batch/s, Gen Loss=4.4795, Disc Loss=0.0268]\n"
          ]
        },
        {
          "output_type": "stream",
          "name": "stdout",
          "text": [
            "Estimated time remaining: 40.21 minutes\n",
            "Current learning rates - Generator: 0.000001, Discriminator: 0.000001\n",
            "Epoch 483/1000\n"
          ]
        },
        {
          "output_type": "stream",
          "name": "stderr",
          "text": [
            "Epoch 483/1000: 100%|██████████| 13/13 [00:04<00:00,  3.12batch/s, Gen Loss=4.9328, Disc Loss=0.0127]\n"
          ]
        },
        {
          "output_type": "stream",
          "name": "stdout",
          "text": [
            "Estimated time remaining: 40.12 minutes\n",
            "Current learning rates - Generator: 0.000001, Discriminator: 0.000001\n",
            "Epoch 484/1000\n"
          ]
        },
        {
          "output_type": "stream",
          "name": "stderr",
          "text": [
            "Epoch 484/1000: 100%|██████████| 13/13 [00:04<00:00,  3.08batch/s, Gen Loss=4.3800, Disc Loss=0.0214]\n"
          ]
        },
        {
          "output_type": "stream",
          "name": "stdout",
          "text": [
            "Estimated time remaining: 40.04 minutes\n",
            "Current learning rates - Generator: 0.000001, Discriminator: 0.000001\n",
            "Epoch 485/1000\n"
          ]
        },
        {
          "output_type": "stream",
          "name": "stderr",
          "text": [
            "Epoch 485/1000: 100%|██████████| 13/13 [00:05<00:00,  2.35batch/s, Gen Loss=4.3555, Disc Loss=0.0315]\n"
          ]
        },
        {
          "output_type": "stream",
          "name": "stdout",
          "text": [
            "Generated images for epoch 484 saved to GrapeDataset/Grape Plant from Plant Village Dataset.\n",
            "Estimated time remaining: 39.99 minutes\n",
            "Current learning rates - Generator: 0.000001, Discriminator: 0.000001\n",
            "Epoch 486/1000\n"
          ]
        },
        {
          "output_type": "stream",
          "name": "stderr",
          "text": [
            "Epoch 486/1000: 100%|██████████| 13/13 [00:04<00:00,  3.06batch/s, Gen Loss=4.6758, Disc Loss=0.0262]\n"
          ]
        },
        {
          "output_type": "stream",
          "name": "stdout",
          "text": [
            "Estimated time remaining: 39.91 minutes\n",
            "Current learning rates - Generator: 0.000001, Discriminator: 0.000001\n",
            "Epoch 487/1000\n"
          ]
        },
        {
          "output_type": "stream",
          "name": "stderr",
          "text": [
            "Epoch 487/1000: 100%|██████████| 13/13 [00:04<00:00,  3.12batch/s, Gen Loss=4.5179, Disc Loss=0.0244]\n"
          ]
        },
        {
          "output_type": "stream",
          "name": "stdout",
          "text": [
            "Estimated time remaining: 39.82 minutes\n",
            "Current learning rates - Generator: 0.000001, Discriminator: 0.000001\n",
            "Epoch 488/1000\n"
          ]
        },
        {
          "output_type": "stream",
          "name": "stderr",
          "text": [
            "Epoch 488/1000: 100%|██████████| 13/13 [00:05<00:00,  2.37batch/s, Gen Loss=4.3999, Disc Loss=0.1258]\n"
          ]
        },
        {
          "output_type": "stream",
          "name": "stdout",
          "text": [
            "Estimated time remaining: 39.76 minutes\n",
            "Current learning rates - Generator: 0.000001, Discriminator: 0.000001\n",
            "Epoch 489/1000\n"
          ]
        },
        {
          "output_type": "stream",
          "name": "stderr",
          "text": [
            "Epoch 489/1000: 100%|██████████| 13/13 [00:04<00:00,  3.07batch/s, Gen Loss=4.1448, Disc Loss=0.0384]\n"
          ]
        },
        {
          "output_type": "stream",
          "name": "stdout",
          "text": [
            "Estimated time remaining: 39.67 minutes\n",
            "Current learning rates - Generator: 0.000001, Discriminator: 0.000001\n",
            "Epoch 490/1000\n"
          ]
        },
        {
          "output_type": "stream",
          "name": "stderr",
          "text": [
            "Epoch 490/1000: 100%|██████████| 13/13 [00:04<00:00,  3.18batch/s, Gen Loss=4.3823, Disc Loss=0.0322]\n"
          ]
        },
        {
          "output_type": "stream",
          "name": "stdout",
          "text": [
            "Generated images for epoch 489 saved to GrapeDataset/Grape Plant from Plant Village Dataset.\n",
            "Estimated time remaining: 39.60 minutes\n",
            "Current learning rates - Generator: 0.000001, Discriminator: 0.000001\n",
            "Epoch 491/1000\n"
          ]
        },
        {
          "output_type": "stream",
          "name": "stderr",
          "text": [
            "Epoch 491/1000: 100%|██████████| 13/13 [00:04<00:00,  2.61batch/s, Gen Loss=4.2568, Disc Loss=0.0477]\n"
          ]
        },
        {
          "output_type": "stream",
          "name": "stdout",
          "text": [
            "Estimated time remaining: 39.53 minutes\n",
            "Current learning rates - Generator: 0.000001, Discriminator: 0.000001\n",
            "Epoch 492/1000\n"
          ]
        },
        {
          "output_type": "stream",
          "name": "stderr",
          "text": [
            "Epoch 492/1000: 100%|██████████| 13/13 [00:05<00:00,  2.59batch/s, Gen Loss=4.1672, Disc Loss=0.0295]\n"
          ]
        },
        {
          "output_type": "stream",
          "name": "stdout",
          "text": [
            "Estimated time remaining: 39.46 minutes\n",
            "Current learning rates - Generator: 0.000001, Discriminator: 0.000001\n",
            "Epoch 493/1000\n"
          ]
        },
        {
          "output_type": "stream",
          "name": "stderr",
          "text": [
            "Epoch 493/1000: 100%|██████████| 13/13 [00:04<00:00,  3.06batch/s, Gen Loss=3.9619, Disc Loss=0.0564]\n"
          ]
        },
        {
          "output_type": "stream",
          "name": "stdout",
          "text": [
            "Estimated time remaining: 39.37 minutes\n",
            "Current learning rates - Generator: 0.000001, Discriminator: 0.000001\n",
            "Epoch 494/1000\n"
          ]
        },
        {
          "output_type": "stream",
          "name": "stderr",
          "text": [
            "Epoch 494/1000: 100%|██████████| 13/13 [00:04<00:00,  2.93batch/s, Gen Loss=3.9487, Disc Loss=0.0428]\n"
          ]
        },
        {
          "output_type": "stream",
          "name": "stdout",
          "text": [
            "Estimated time remaining: 39.29 minutes\n",
            "Current learning rates - Generator: 0.000001, Discriminator: 0.000001\n",
            "Epoch 495/1000\n"
          ]
        },
        {
          "output_type": "stream",
          "name": "stderr",
          "text": [
            "Epoch 495/1000: 100%|██████████| 13/13 [00:05<00:00,  2.45batch/s, Gen Loss=4.1465, Disc Loss=0.0242]\n"
          ]
        },
        {
          "output_type": "stream",
          "name": "stdout",
          "text": [
            "Generated images for epoch 494 saved to GrapeDataset/Grape Plant from Plant Village Dataset.\n",
            "Estimated time remaining: 39.24 minutes\n",
            "Current learning rates - Generator: 0.000001, Discriminator: 0.000001\n",
            "Epoch 496/1000\n"
          ]
        },
        {
          "output_type": "stream",
          "name": "stderr",
          "text": [
            "Epoch 496/1000: 100%|██████████| 13/13 [00:04<00:00,  3.16batch/s, Gen Loss=4.0117, Disc Loss=0.0279]\n"
          ]
        },
        {
          "output_type": "stream",
          "name": "stdout",
          "text": [
            "Estimated time remaining: 39.15 minutes\n",
            "Current learning rates - Generator: 0.000001, Discriminator: 0.000001\n",
            "Epoch 497/1000\n"
          ]
        },
        {
          "output_type": "stream",
          "name": "stderr",
          "text": [
            "Epoch 497/1000: 100%|██████████| 13/13 [00:04<00:00,  3.11batch/s, Gen Loss=3.8526, Disc Loss=0.0462]\n"
          ]
        },
        {
          "output_type": "stream",
          "name": "stdout",
          "text": [
            "Estimated time remaining: 39.07 minutes\n",
            "Current learning rates - Generator: 0.000001, Discriminator: 0.000001\n",
            "Epoch 498/1000\n"
          ]
        },
        {
          "output_type": "stream",
          "name": "stderr",
          "text": [
            "Epoch 498/1000: 100%|██████████| 13/13 [00:05<00:00,  2.37batch/s, Gen Loss=4.2054, Disc Loss=0.0324]\n"
          ]
        },
        {
          "output_type": "stream",
          "name": "stdout",
          "text": [
            "Estimated time remaining: 39.00 minutes\n",
            "Current learning rates - Generator: 0.000001, Discriminator: 0.000001\n",
            "Epoch 499/1000\n"
          ]
        },
        {
          "output_type": "stream",
          "name": "stderr",
          "text": [
            "Epoch 499/1000: 100%|██████████| 13/13 [00:04<00:00,  3.15batch/s, Gen Loss=4.3334, Disc Loss=0.0467]\n"
          ]
        },
        {
          "output_type": "stream",
          "name": "stdout",
          "text": [
            "Estimated time remaining: 38.92 minutes\n",
            "Current learning rates - Generator: 0.000001, Discriminator: 0.000001\n",
            "Epoch 500/1000\n"
          ]
        },
        {
          "output_type": "stream",
          "name": "stderr",
          "text": [
            "Epoch 500/1000: 100%|██████████| 13/13 [00:04<00:00,  3.12batch/s, Gen Loss=4.4336, Disc Loss=0.0258]\n"
          ]
        },
        {
          "output_type": "stream",
          "name": "stdout",
          "text": [
            "Generated images for epoch 499 saved to GrapeDataset/Grape Plant from Plant Village Dataset.\n",
            "Estimated time remaining: 38.85 minutes\n",
            "Current learning rates - Generator: 0.000001, Discriminator: 0.000001\n",
            "Epoch 501/1000\n"
          ]
        },
        {
          "output_type": "stream",
          "name": "stderr",
          "text": [
            "Epoch 501/1000: 100%|██████████| 13/13 [00:05<00:00,  2.30batch/s, Gen Loss=4.0047, Disc Loss=0.0331]\n"
          ]
        },
        {
          "output_type": "stream",
          "name": "stdout",
          "text": [
            "Estimated time remaining: 38.78 minutes\n",
            "Current learning rates - Generator: 0.000001, Discriminator: 0.000001\n",
            "Epoch 502/1000\n"
          ]
        },
        {
          "output_type": "stream",
          "name": "stderr",
          "text": [
            "Epoch 502/1000: 100%|██████████| 13/13 [00:04<00:00,  3.18batch/s, Gen Loss=4.4448, Disc Loss=0.0299]\n"
          ]
        },
        {
          "output_type": "stream",
          "name": "stdout",
          "text": [
            "Estimated time remaining: 38.70 minutes\n",
            "Current learning rates - Generator: 0.000001, Discriminator: 0.000001\n",
            "Epoch 503/1000\n"
          ]
        },
        {
          "output_type": "stream",
          "name": "stderr",
          "text": [
            "Epoch 503/1000: 100%|██████████| 13/13 [00:04<00:00,  3.13batch/s, Gen Loss=4.3053, Disc Loss=0.0303]\n"
          ]
        },
        {
          "output_type": "stream",
          "name": "stdout",
          "text": [
            "Estimated time remaining: 38.61 minutes\n",
            "Current learning rates - Generator: 0.000001, Discriminator: 0.000001\n",
            "Epoch 504/1000\n"
          ]
        },
        {
          "output_type": "stream",
          "name": "stderr",
          "text": [
            "Epoch 504/1000: 100%|██████████| 13/13 [00:05<00:00,  2.48batch/s, Gen Loss=4.3016, Disc Loss=0.0673]\n"
          ]
        },
        {
          "output_type": "stream",
          "name": "stdout",
          "text": [
            "Estimated time remaining: 38.54 minutes\n",
            "Current learning rates - Generator: 0.000001, Discriminator: 0.000001\n",
            "Epoch 505/1000\n"
          ]
        },
        {
          "output_type": "stream",
          "name": "stderr",
          "text": [
            "Epoch 505/1000: 100%|██████████| 13/13 [00:04<00:00,  3.09batch/s, Gen Loss=4.2629, Disc Loss=0.0306]\n"
          ]
        },
        {
          "output_type": "stream",
          "name": "stdout",
          "text": [
            "Generated images for epoch 504 saved to GrapeDataset/Grape Plant from Plant Village Dataset.\n",
            "Estimated time remaining: 38.47 minutes\n",
            "Current learning rates - Generator: 0.000001, Discriminator: 0.000001\n",
            "Epoch 506/1000\n"
          ]
        },
        {
          "output_type": "stream",
          "name": "stderr",
          "text": [
            "Epoch 506/1000: 100%|██████████| 13/13 [00:04<00:00,  3.10batch/s, Gen Loss=4.5567, Disc Loss=0.0822]\n"
          ]
        },
        {
          "output_type": "stream",
          "name": "stdout",
          "text": [
            "Estimated time remaining: 38.39 minutes\n",
            "Current learning rates - Generator: 0.000001, Discriminator: 0.000001\n",
            "Epoch 507/1000\n"
          ]
        },
        {
          "output_type": "stream",
          "name": "stderr",
          "text": [
            "Epoch 507/1000: 100%|██████████| 13/13 [00:04<00:00,  2.75batch/s, Gen Loss=4.2843, Disc Loss=0.0478]\n"
          ]
        },
        {
          "output_type": "stream",
          "name": "stdout",
          "text": [
            "Estimated time remaining: 38.31 minutes\n",
            "Current learning rates - Generator: 0.000001, Discriminator: 0.000001\n",
            "Epoch 508/1000\n"
          ]
        },
        {
          "output_type": "stream",
          "name": "stderr",
          "text": [
            "Epoch 508/1000: 100%|██████████| 13/13 [00:04<00:00,  2.62batch/s, Gen Loss=4.6997, Disc Loss=0.0456]\n"
          ]
        },
        {
          "output_type": "stream",
          "name": "stdout",
          "text": [
            "Estimated time remaining: 38.24 minutes\n",
            "Current learning rates - Generator: 0.000001, Discriminator: 0.000001\n",
            "Epoch 509/1000\n"
          ]
        },
        {
          "output_type": "stream",
          "name": "stderr",
          "text": [
            "Epoch 509/1000: 100%|██████████| 13/13 [00:04<00:00,  3.20batch/s, Gen Loss=4.1831, Disc Loss=0.0294]\n"
          ]
        },
        {
          "output_type": "stream",
          "name": "stdout",
          "text": [
            "Estimated time remaining: 38.15 minutes\n",
            "Current learning rates - Generator: 0.000001, Discriminator: 0.000001\n",
            "Epoch 510/1000\n"
          ]
        },
        {
          "output_type": "stream",
          "name": "stderr",
          "text": [
            "Epoch 510/1000: 100%|██████████| 13/13 [00:04<00:00,  2.97batch/s, Gen Loss=4.0676, Disc Loss=0.0539]\n"
          ]
        },
        {
          "output_type": "stream",
          "name": "stdout",
          "text": [
            "Generated images for epoch 509 saved to GrapeDataset/Grape Plant from Plant Village Dataset.\n",
            "Estimated time remaining: 38.08 minutes\n",
            "Current learning rates - Generator: 0.000001, Discriminator: 0.000001\n",
            "Epoch 511/1000\n"
          ]
        },
        {
          "output_type": "stream",
          "name": "stderr",
          "text": [
            "Epoch 511/1000: 100%|██████████| 13/13 [00:05<00:00,  2.55batch/s, Gen Loss=4.4620, Disc Loss=0.0218]\n"
          ]
        },
        {
          "output_type": "stream",
          "name": "stdout",
          "text": [
            "Estimated time remaining: 38.01 minutes\n",
            "Current learning rates - Generator: 0.000001, Discriminator: 0.000001\n",
            "Epoch 512/1000\n"
          ]
        },
        {
          "output_type": "stream",
          "name": "stderr",
          "text": [
            "Epoch 512/1000: 100%|██████████| 13/13 [00:04<00:00,  3.12batch/s, Gen Loss=4.5822, Disc Loss=0.0294]\n"
          ]
        },
        {
          "output_type": "stream",
          "name": "stdout",
          "text": [
            "Estimated time remaining: 37.93 minutes\n",
            "Current learning rates - Generator: 0.000001, Discriminator: 0.000001\n",
            "Epoch 513/1000\n"
          ]
        },
        {
          "output_type": "stream",
          "name": "stderr",
          "text": [
            "Epoch 513/1000: 100%|██████████| 13/13 [00:04<00:00,  3.19batch/s, Gen Loss=4.2478, Disc Loss=0.0298]\n"
          ]
        },
        {
          "output_type": "stream",
          "name": "stdout",
          "text": [
            "Estimated time remaining: 37.84 minutes\n",
            "Current learning rates - Generator: 0.000001, Discriminator: 0.000001\n",
            "Epoch 514/1000\n"
          ]
        },
        {
          "output_type": "stream",
          "name": "stderr",
          "text": [
            "Epoch 514/1000: 100%|██████████| 13/13 [00:05<00:00,  2.32batch/s, Gen Loss=4.4684, Disc Loss=0.0176]\n"
          ]
        },
        {
          "output_type": "stream",
          "name": "stdout",
          "text": [
            "Estimated time remaining: 37.78 minutes\n",
            "Current learning rates - Generator: 0.000001, Discriminator: 0.000001\n",
            "Epoch 515/1000\n"
          ]
        },
        {
          "output_type": "stream",
          "name": "stderr",
          "text": [
            "Epoch 515/1000: 100%|██████████| 13/13 [00:04<00:00,  3.11batch/s, Gen Loss=4.4731, Disc Loss=0.0341]\n"
          ]
        },
        {
          "output_type": "stream",
          "name": "stdout",
          "text": [
            "Generated images for epoch 514 saved to GrapeDataset/Grape Plant from Plant Village Dataset.\n",
            "Estimated time remaining: 37.70 minutes\n",
            "Current learning rates - Generator: 0.000001, Discriminator: 0.000001\n",
            "Epoch 516/1000\n"
          ]
        },
        {
          "output_type": "stream",
          "name": "stderr",
          "text": [
            "Epoch 516/1000: 100%|██████████| 13/13 [00:04<00:00,  3.20batch/s, Gen Loss=4.2310, Disc Loss=0.0523]\n"
          ]
        },
        {
          "output_type": "stream",
          "name": "stdout",
          "text": [
            "Estimated time remaining: 37.62 minutes\n",
            "Current learning rates - Generator: 0.000001, Discriminator: 0.000001\n",
            "Epoch 517/1000\n"
          ]
        },
        {
          "output_type": "stream",
          "name": "stderr",
          "text": [
            "Epoch 517/1000: 100%|██████████| 13/13 [00:05<00:00,  2.41batch/s, Gen Loss=4.4851, Disc Loss=0.0292]\n"
          ]
        },
        {
          "output_type": "stream",
          "name": "stdout",
          "text": [
            "Estimated time remaining: 37.55 minutes\n",
            "Current learning rates - Generator: 0.000001, Discriminator: 0.000001\n",
            "Epoch 518/1000\n"
          ]
        },
        {
          "output_type": "stream",
          "name": "stderr",
          "text": [
            "Epoch 518/1000: 100%|██████████| 13/13 [00:04<00:00,  3.05batch/s, Gen Loss=4.5246, Disc Loss=0.0416]\n"
          ]
        },
        {
          "output_type": "stream",
          "name": "stdout",
          "text": [
            "Estimated time remaining: 37.47 minutes\n",
            "Current learning rates - Generator: 0.000001, Discriminator: 0.000001\n",
            "Epoch 519/1000\n"
          ]
        },
        {
          "output_type": "stream",
          "name": "stderr",
          "text": [
            "Epoch 519/1000: 100%|██████████| 13/13 [00:03<00:00,  3.26batch/s, Gen Loss=4.3704, Disc Loss=0.0150]\n"
          ]
        },
        {
          "output_type": "stream",
          "name": "stdout",
          "text": [
            "Estimated time remaining: 37.38 minutes\n",
            "Current learning rates - Generator: 0.000001, Discriminator: 0.000001\n",
            "Epoch 520/1000\n"
          ]
        },
        {
          "output_type": "stream",
          "name": "stderr",
          "text": [
            "Epoch 520/1000: 100%|██████████| 13/13 [00:04<00:00,  2.93batch/s, Gen Loss=4.6317, Disc Loss=0.0249]\n"
          ]
        },
        {
          "output_type": "stream",
          "name": "stdout",
          "text": [
            "Generated images for epoch 519 saved to GrapeDataset/Grape Plant from Plant Village Dataset.\n",
            "Estimated time remaining: 37.31 minutes\n",
            "Current learning rates - Generator: 0.000001, Discriminator: 0.000001\n",
            "Epoch 521/1000\n"
          ]
        },
        {
          "output_type": "stream",
          "name": "stderr",
          "text": [
            "Epoch 521/1000: 100%|██████████| 13/13 [00:04<00:00,  2.77batch/s, Gen Loss=4.5859, Disc Loss=0.0437]\n"
          ]
        },
        {
          "output_type": "stream",
          "name": "stdout",
          "text": [
            "Estimated time remaining: 37.23 minutes\n",
            "Current learning rates - Generator: 0.000001, Discriminator: 0.000001\n",
            "Epoch 522/1000\n"
          ]
        },
        {
          "output_type": "stream",
          "name": "stderr",
          "text": [
            "Epoch 522/1000: 100%|██████████| 13/13 [00:04<00:00,  3.14batch/s, Gen Loss=4.3478, Disc Loss=0.0247]\n"
          ]
        },
        {
          "output_type": "stream",
          "name": "stdout",
          "text": [
            "Estimated time remaining: 37.15 minutes\n",
            "Current learning rates - Generator: 0.000001, Discriminator: 0.000001\n",
            "Epoch 523/1000\n"
          ]
        },
        {
          "output_type": "stream",
          "name": "stderr",
          "text": [
            "Epoch 523/1000: 100%|██████████| 13/13 [00:04<00:00,  3.03batch/s, Gen Loss=4.3379, Disc Loss=0.0262]\n"
          ]
        },
        {
          "output_type": "stream",
          "name": "stdout",
          "text": [
            "Estimated time remaining: 37.07 minutes\n",
            "Current learning rates - Generator: 0.000001, Discriminator: 0.000001\n",
            "Epoch 524/1000\n"
          ]
        },
        {
          "output_type": "stream",
          "name": "stderr",
          "text": [
            "Epoch 524/1000: 100%|██████████| 13/13 [00:05<00:00,  2.45batch/s, Gen Loss=4.5639, Disc Loss=0.0312]\n"
          ]
        },
        {
          "output_type": "stream",
          "name": "stdout",
          "text": [
            "Estimated time remaining: 37.00 minutes\n",
            "Current learning rates - Generator: 0.000001, Discriminator: 0.000001\n",
            "Epoch 525/1000\n"
          ]
        },
        {
          "output_type": "stream",
          "name": "stderr",
          "text": [
            "Epoch 525/1000: 100%|██████████| 13/13 [00:04<00:00,  3.14batch/s, Gen Loss=4.6005, Disc Loss=0.0218]\n"
          ]
        },
        {
          "output_type": "stream",
          "name": "stdout",
          "text": [
            "Generated images for epoch 524 saved to GrapeDataset/Grape Plant from Plant Village Dataset.\n",
            "Estimated time remaining: 36.92 minutes\n",
            "Current learning rates - Generator: 0.000001, Discriminator: 0.000001\n",
            "Epoch 526/1000\n"
          ]
        },
        {
          "output_type": "stream",
          "name": "stderr",
          "text": [
            "Epoch 526/1000: 100%|██████████| 13/13 [00:04<00:00,  3.13batch/s, Gen Loss=4.3741, Disc Loss=0.0280]\n"
          ]
        },
        {
          "output_type": "stream",
          "name": "stdout",
          "text": [
            "Estimated time remaining: 36.84 minutes\n",
            "Current learning rates - Generator: 0.000001, Discriminator: 0.000001\n",
            "Epoch 527/1000\n"
          ]
        },
        {
          "output_type": "stream",
          "name": "stderr",
          "text": [
            "Epoch 527/1000: 100%|██████████| 13/13 [00:05<00:00,  2.32batch/s, Gen Loss=4.4569, Disc Loss=0.0674]\n"
          ]
        },
        {
          "output_type": "stream",
          "name": "stdout",
          "text": [
            "Estimated time remaining: 36.77 minutes\n",
            "Current learning rates - Generator: 0.000001, Discriminator: 0.000001\n",
            "Epoch 528/1000\n"
          ]
        },
        {
          "output_type": "stream",
          "name": "stderr",
          "text": [
            "Epoch 528/1000: 100%|██████████| 13/13 [00:04<00:00,  3.11batch/s, Gen Loss=4.4002, Disc Loss=0.0496]\n"
          ]
        },
        {
          "output_type": "stream",
          "name": "stdout",
          "text": [
            "Estimated time remaining: 36.69 minutes\n",
            "Current learning rates - Generator: 0.000001, Discriminator: 0.000001\n",
            "Epoch 529/1000\n"
          ]
        },
        {
          "output_type": "stream",
          "name": "stderr",
          "text": [
            "Epoch 529/1000: 100%|██████████| 13/13 [00:04<00:00,  3.17batch/s, Gen Loss=4.2578, Disc Loss=0.0209]\n"
          ]
        },
        {
          "output_type": "stream",
          "name": "stdout",
          "text": [
            "Estimated time remaining: 36.60 minutes\n",
            "Current learning rates - Generator: 0.000001, Discriminator: 0.000001\n",
            "Epoch 530/1000\n"
          ]
        },
        {
          "output_type": "stream",
          "name": "stderr",
          "text": [
            "Epoch 530/1000: 100%|██████████| 13/13 [00:05<00:00,  2.41batch/s, Gen Loss=3.9950, Disc Loss=0.0839]\n"
          ]
        },
        {
          "output_type": "stream",
          "name": "stdout",
          "text": [
            "Generated images for epoch 529 saved to GrapeDataset/Grape Plant from Plant Village Dataset.\n",
            "Estimated time remaining: 36.55 minutes\n",
            "Current learning rates - Generator: 0.000001, Discriminator: 0.000001\n",
            "Epoch 531/1000\n"
          ]
        },
        {
          "output_type": "stream",
          "name": "stderr",
          "text": [
            "Epoch 531/1000: 100%|██████████| 13/13 [00:03<00:00,  3.28batch/s, Gen Loss=4.3301, Disc Loss=0.0241]\n"
          ]
        },
        {
          "output_type": "stream",
          "name": "stdout",
          "text": [
            "Estimated time remaining: 36.46 minutes\n",
            "Current learning rates - Generator: 0.000001, Discriminator: 0.000001\n",
            "Epoch 532/1000\n"
          ]
        },
        {
          "output_type": "stream",
          "name": "stderr",
          "text": [
            "Epoch 532/1000: 100%|██████████| 13/13 [00:04<00:00,  3.12batch/s, Gen Loss=4.2607, Disc Loss=0.0431]\n"
          ]
        },
        {
          "output_type": "stream",
          "name": "stdout",
          "text": [
            "Estimated time remaining: 36.38 minutes\n",
            "Current learning rates - Generator: 0.000001, Discriminator: 0.000001\n",
            "Epoch 533/1000\n"
          ]
        },
        {
          "output_type": "stream",
          "name": "stderr",
          "text": [
            "Epoch 533/1000: 100%|██████████| 13/13 [00:04<00:00,  2.76batch/s, Gen Loss=4.0922, Disc Loss=0.0290]\n"
          ]
        },
        {
          "output_type": "stream",
          "name": "stdout",
          "text": [
            "Estimated time remaining: 36.30 minutes\n",
            "Current learning rates - Generator: 0.000001, Discriminator: 0.000001\n",
            "Epoch 534/1000\n"
          ]
        },
        {
          "output_type": "stream",
          "name": "stderr",
          "text": [
            "Epoch 534/1000: 100%|██████████| 13/13 [00:04<00:00,  2.68batch/s, Gen Loss=3.8965, Disc Loss=0.0436]\n"
          ]
        },
        {
          "output_type": "stream",
          "name": "stdout",
          "text": [
            "Estimated time remaining: 36.22 minutes\n",
            "Current learning rates - Generator: 0.000001, Discriminator: 0.000001\n",
            "Epoch 535/1000\n"
          ]
        },
        {
          "output_type": "stream",
          "name": "stderr",
          "text": [
            "Epoch 535/1000: 100%|██████████| 13/13 [00:04<00:00,  3.24batch/s, Gen Loss=4.1237, Disc Loss=0.0391]\n"
          ]
        },
        {
          "output_type": "stream",
          "name": "stdout",
          "text": [
            "Generated images for epoch 534 saved to GrapeDataset/Grape Plant from Plant Village Dataset.\n",
            "Estimated time remaining: 36.15 minutes\n",
            "Current learning rates - Generator: 0.000001, Discriminator: 0.000001\n",
            "Epoch 536/1000\n"
          ]
        },
        {
          "output_type": "stream",
          "name": "stderr",
          "text": [
            "Epoch 536/1000: 100%|██████████| 13/13 [00:04<00:00,  3.00batch/s, Gen Loss=3.9692, Disc Loss=0.0300]\n"
          ]
        },
        {
          "output_type": "stream",
          "name": "stdout",
          "text": [
            "Estimated time remaining: 36.07 minutes\n",
            "Current learning rates - Generator: 0.000001, Discriminator: 0.000001\n",
            "Epoch 537/1000\n"
          ]
        },
        {
          "output_type": "stream",
          "name": "stderr",
          "text": [
            "Epoch 537/1000: 100%|██████████| 13/13 [00:05<00:00,  2.38batch/s, Gen Loss=3.3973, Disc Loss=0.0649]\n"
          ]
        },
        {
          "output_type": "stream",
          "name": "stdout",
          "text": [
            "Estimated time remaining: 36.00 minutes\n",
            "Current learning rates - Generator: 0.000001, Discriminator: 0.000001\n",
            "Epoch 538/1000\n"
          ]
        },
        {
          "output_type": "stream",
          "name": "stderr",
          "text": [
            "Epoch 538/1000: 100%|██████████| 13/13 [00:04<00:00,  3.12batch/s, Gen Loss=4.0329, Disc Loss=0.0509]\n"
          ]
        },
        {
          "output_type": "stream",
          "name": "stdout",
          "text": [
            "Estimated time remaining: 35.91 minutes\n",
            "Current learning rates - Generator: 0.000001, Discriminator: 0.000001\n",
            "Epoch 539/1000\n"
          ]
        },
        {
          "output_type": "stream",
          "name": "stderr",
          "text": [
            "Epoch 539/1000: 100%|██████████| 13/13 [00:04<00:00,  3.20batch/s, Gen Loss=3.9775, Disc Loss=0.0364]\n"
          ]
        },
        {
          "output_type": "stream",
          "name": "stdout",
          "text": [
            "Estimated time remaining: 35.83 minutes\n",
            "Current learning rates - Generator: 0.000001, Discriminator: 0.000001\n",
            "Epoch 540/1000\n"
          ]
        },
        {
          "output_type": "stream",
          "name": "stderr",
          "text": [
            "Epoch 540/1000: 100%|██████████| 13/13 [00:05<00:00,  2.34batch/s, Gen Loss=3.7685, Disc Loss=0.0449]\n"
          ]
        },
        {
          "output_type": "stream",
          "name": "stdout",
          "text": [
            "Generated images for epoch 539 saved to GrapeDataset/Grape Plant from Plant Village Dataset.\n",
            "Estimated time remaining: 35.77 minutes\n",
            "Current learning rates - Generator: 0.000001, Discriminator: 0.000001\n",
            "Epoch 541/1000\n"
          ]
        },
        {
          "output_type": "stream",
          "name": "stderr",
          "text": [
            "Epoch 541/1000: 100%|██████████| 13/13 [00:04<00:00,  3.19batch/s, Gen Loss=3.6471, Disc Loss=0.0490]\n"
          ]
        },
        {
          "output_type": "stream",
          "name": "stdout",
          "text": [
            "Estimated time remaining: 35.69 minutes\n",
            "Current learning rates - Generator: 0.000001, Discriminator: 0.000001\n",
            "Epoch 542/1000\n"
          ]
        },
        {
          "output_type": "stream",
          "name": "stderr",
          "text": [
            "Epoch 542/1000: 100%|██████████| 13/13 [00:04<00:00,  3.20batch/s, Gen Loss=3.5749, Disc Loss=0.0296]\n"
          ]
        },
        {
          "output_type": "stream",
          "name": "stdout",
          "text": [
            "Estimated time remaining: 35.60 minutes\n",
            "Current learning rates - Generator: 0.000001, Discriminator: 0.000001\n",
            "Epoch 543/1000\n"
          ]
        },
        {
          "output_type": "stream",
          "name": "stderr",
          "text": [
            "Epoch 543/1000: 100%|██████████| 13/13 [00:04<00:00,  2.61batch/s, Gen Loss=4.0298, Disc Loss=0.0397]\n"
          ]
        },
        {
          "output_type": "stream",
          "name": "stdout",
          "text": [
            "Estimated time remaining: 35.53 minutes\n",
            "Current learning rates - Generator: 0.000001, Discriminator: 0.000001\n",
            "Epoch 544/1000\n"
          ]
        },
        {
          "output_type": "stream",
          "name": "stderr",
          "text": [
            "Epoch 544/1000: 100%|██████████| 13/13 [00:04<00:00,  3.00batch/s, Gen Loss=3.8039, Disc Loss=0.0259]\n"
          ]
        },
        {
          "output_type": "stream",
          "name": "stdout",
          "text": [
            "Estimated time remaining: 35.45 minutes\n",
            "Current learning rates - Generator: 0.000001, Discriminator: 0.000001\n",
            "Epoch 545/1000\n"
          ]
        },
        {
          "output_type": "stream",
          "name": "stderr",
          "text": [
            "Epoch 545/1000: 100%|██████████| 13/13 [00:04<00:00,  3.11batch/s, Gen Loss=3.8893, Disc Loss=0.2017]\n"
          ]
        },
        {
          "output_type": "stream",
          "name": "stdout",
          "text": [
            "Generated images for epoch 544 saved to GrapeDataset/Grape Plant from Plant Village Dataset.\n",
            "Estimated time remaining: 35.37 minutes\n",
            "Current learning rates - Generator: 0.000001, Discriminator: 0.000001\n",
            "Epoch 546/1000\n"
          ]
        },
        {
          "output_type": "stream",
          "name": "stderr",
          "text": [
            "Epoch 546/1000: 100%|██████████| 13/13 [00:04<00:00,  2.65batch/s, Gen Loss=3.9243, Disc Loss=0.0359]\n"
          ]
        },
        {
          "output_type": "stream",
          "name": "stdout",
          "text": [
            "Estimated time remaining: 35.30 minutes\n",
            "Current learning rates - Generator: 0.000001, Discriminator: 0.000001\n",
            "Epoch 547/1000\n"
          ]
        },
        {
          "output_type": "stream",
          "name": "stderr",
          "text": [
            "Epoch 547/1000: 100%|██████████| 13/13 [00:04<00:00,  2.80batch/s, Gen Loss=4.0013, Disc Loss=0.0970]\n"
          ]
        },
        {
          "output_type": "stream",
          "name": "stdout",
          "text": [
            "Estimated time remaining: 35.22 minutes\n",
            "Current learning rates - Generator: 0.000001, Discriminator: 0.000001\n",
            "Epoch 548/1000\n"
          ]
        },
        {
          "output_type": "stream",
          "name": "stderr",
          "text": [
            "Epoch 548/1000: 100%|██████████| 13/13 [00:04<00:00,  3.16batch/s, Gen Loss=3.7446, Disc Loss=0.0732]\n"
          ]
        },
        {
          "output_type": "stream",
          "name": "stdout",
          "text": [
            "Estimated time remaining: 35.14 minutes\n",
            "Current learning rates - Generator: 0.000001, Discriminator: 0.000001\n",
            "Epoch 549/1000\n"
          ]
        },
        {
          "output_type": "stream",
          "name": "stderr",
          "text": [
            "Epoch 549/1000: 100%|██████████| 13/13 [00:04<00:00,  3.01batch/s, Gen Loss=4.0286, Disc Loss=0.0269]\n"
          ]
        },
        {
          "output_type": "stream",
          "name": "stdout",
          "text": [
            "Estimated time remaining: 35.05 minutes\n",
            "Current learning rates - Generator: 0.000001, Discriminator: 0.000001\n",
            "Epoch 550/1000\n"
          ]
        },
        {
          "output_type": "stream",
          "name": "stderr",
          "text": [
            "Epoch 550/1000: 100%|██████████| 13/13 [00:05<00:00,  2.43batch/s, Gen Loss=3.7306, Disc Loss=0.0454]\n"
          ]
        },
        {
          "output_type": "stream",
          "name": "stdout",
          "text": [
            "Generated images for epoch 549 saved to GrapeDataset/Grape Plant from Plant Village Dataset.\n",
            "Estimated time remaining: 35.00 minutes\n",
            "Current learning rates - Generator: 0.000001, Discriminator: 0.000001\n",
            "Epoch 551/1000\n"
          ]
        },
        {
          "output_type": "stream",
          "name": "stderr",
          "text": [
            "Epoch 551/1000: 100%|██████████| 13/13 [00:04<00:00,  3.14batch/s, Gen Loss=3.9298, Disc Loss=0.1161]\n"
          ]
        },
        {
          "output_type": "stream",
          "name": "stdout",
          "text": [
            "Estimated time remaining: 34.91 minutes\n",
            "Current learning rates - Generator: 0.000001, Discriminator: 0.000001\n",
            "Epoch 552/1000\n"
          ]
        },
        {
          "output_type": "stream",
          "name": "stderr",
          "text": [
            "Epoch 552/1000: 100%|██████████| 13/13 [00:04<00:00,  3.12batch/s, Gen Loss=4.0108, Disc Loss=0.0319]\n"
          ]
        },
        {
          "output_type": "stream",
          "name": "stdout",
          "text": [
            "Estimated time remaining: 34.83 minutes\n",
            "Current learning rates - Generator: 0.000001, Discriminator: 0.000001\n",
            "Epoch 553/1000\n"
          ]
        },
        {
          "output_type": "stream",
          "name": "stderr",
          "text": [
            "Epoch 553/1000: 100%|██████████| 13/13 [00:05<00:00,  2.34batch/s, Gen Loss=3.8778, Disc Loss=0.0322]\n"
          ]
        },
        {
          "output_type": "stream",
          "name": "stdout",
          "text": [
            "Estimated time remaining: 34.76 minutes\n",
            "Current learning rates - Generator: 0.000001, Discriminator: 0.000001\n",
            "Epoch 554/1000\n"
          ]
        },
        {
          "output_type": "stream",
          "name": "stderr",
          "text": [
            "Epoch 554/1000: 100%|██████████| 13/13 [00:04<00:00,  3.17batch/s, Gen Loss=3.9567, Disc Loss=0.1187]\n"
          ]
        },
        {
          "output_type": "stream",
          "name": "stdout",
          "text": [
            "Estimated time remaining: 34.68 minutes\n",
            "Current learning rates - Generator: 0.000001, Discriminator: 0.000001\n",
            "Epoch 555/1000\n"
          ]
        },
        {
          "output_type": "stream",
          "name": "stderr",
          "text": [
            "Epoch 555/1000: 100%|██████████| 13/13 [00:04<00:00,  3.10batch/s, Gen Loss=4.0511, Disc Loss=0.1160]\n"
          ]
        },
        {
          "output_type": "stream",
          "name": "stdout",
          "text": [
            "Generated images for epoch 554 saved to GrapeDataset/Grape Plant from Plant Village Dataset.\n",
            "Estimated time remaining: 34.60 minutes\n",
            "Current learning rates - Generator: 0.000001, Discriminator: 0.000001\n",
            "Epoch 556/1000\n"
          ]
        },
        {
          "output_type": "stream",
          "name": "stderr",
          "text": [
            "Epoch 556/1000: 100%|██████████| 13/13 [00:05<00:00,  2.33batch/s, Gen Loss=3.9330, Disc Loss=0.1376]\n"
          ]
        },
        {
          "output_type": "stream",
          "name": "stdout",
          "text": [
            "Estimated time remaining: 34.54 minutes\n",
            "Current learning rates - Generator: 0.000001, Discriminator: 0.000001\n",
            "Epoch 557/1000\n"
          ]
        },
        {
          "output_type": "stream",
          "name": "stderr",
          "text": [
            "Epoch 557/1000: 100%|██████████| 13/13 [00:04<00:00,  3.22batch/s, Gen Loss=4.2895, Disc Loss=0.0588]\n"
          ]
        },
        {
          "output_type": "stream",
          "name": "stdout",
          "text": [
            "Estimated time remaining: 34.45 minutes\n",
            "Current learning rates - Generator: 0.000001, Discriminator: 0.000001\n",
            "Epoch 558/1000\n"
          ]
        },
        {
          "output_type": "stream",
          "name": "stderr",
          "text": [
            "Epoch 558/1000: 100%|██████████| 13/13 [00:04<00:00,  3.22batch/s, Gen Loss=4.0981, Disc Loss=0.0275]\n"
          ]
        },
        {
          "output_type": "stream",
          "name": "stdout",
          "text": [
            "Estimated time remaining: 34.37 minutes\n",
            "Current learning rates - Generator: 0.000001, Discriminator: 0.000001\n",
            "Epoch 559/1000\n"
          ]
        },
        {
          "output_type": "stream",
          "name": "stderr",
          "text": [
            "Epoch 559/1000: 100%|██████████| 13/13 [00:04<00:00,  2.84batch/s, Gen Loss=4.1347, Disc Loss=0.0700]\n"
          ]
        },
        {
          "output_type": "stream",
          "name": "stdout",
          "text": [
            "Estimated time remaining: 34.29 minutes\n",
            "Current learning rates - Generator: 0.000001, Discriminator: 0.000001\n",
            "Epoch 560/1000\n"
          ]
        },
        {
          "output_type": "stream",
          "name": "stderr",
          "text": [
            "Epoch 560/1000: 100%|██████████| 13/13 [00:04<00:00,  2.61batch/s, Gen Loss=4.1286, Disc Loss=0.0483]\n"
          ]
        },
        {
          "output_type": "stream",
          "name": "stdout",
          "text": [
            "Generated images for epoch 559 saved to GrapeDataset/Grape Plant from Plant Village Dataset.\n",
            "Estimated time remaining: 34.22 minutes\n",
            "Current learning rates - Generator: 0.000001, Discriminator: 0.000001\n",
            "Epoch 561/1000\n"
          ]
        },
        {
          "output_type": "stream",
          "name": "stderr",
          "text": [
            "Epoch 561/1000: 100%|██████████| 13/13 [00:04<00:00,  3.07batch/s, Gen Loss=4.1656, Disc Loss=0.0658]\n"
          ]
        },
        {
          "output_type": "stream",
          "name": "stdout",
          "text": [
            "Estimated time remaining: 34.14 minutes\n",
            "Current learning rates - Generator: 0.000001, Discriminator: 0.000001\n",
            "Epoch 562/1000\n"
          ]
        },
        {
          "output_type": "stream",
          "name": "stderr",
          "text": [
            "Epoch 562/1000: 100%|██████████| 13/13 [00:04<00:00,  2.99batch/s, Gen Loss=3.9689, Disc Loss=0.0436]\n"
          ]
        },
        {
          "output_type": "stream",
          "name": "stdout",
          "text": [
            "Estimated time remaining: 34.06 minutes\n",
            "Current learning rates - Generator: 0.000001, Discriminator: 0.000001\n",
            "Epoch 563/1000\n"
          ]
        },
        {
          "output_type": "stream",
          "name": "stderr",
          "text": [
            "Epoch 563/1000: 100%|██████████| 13/13 [00:05<00:00,  2.47batch/s, Gen Loss=3.7754, Disc Loss=0.0515]\n"
          ]
        },
        {
          "output_type": "stream",
          "name": "stdout",
          "text": [
            "Estimated time remaining: 33.99 minutes\n",
            "Current learning rates - Generator: 0.000001, Discriminator: 0.000001\n",
            "Epoch 564/1000\n"
          ]
        },
        {
          "output_type": "stream",
          "name": "stderr",
          "text": [
            "Epoch 564/1000: 100%|██████████| 13/13 [00:04<00:00,  3.15batch/s, Gen Loss=3.9194, Disc Loss=0.0663]\n"
          ]
        },
        {
          "output_type": "stream",
          "name": "stdout",
          "text": [
            "Estimated time remaining: 33.90 minutes\n",
            "Current learning rates - Generator: 0.000001, Discriminator: 0.000001\n",
            "Epoch 565/1000\n"
          ]
        },
        {
          "output_type": "stream",
          "name": "stderr",
          "text": [
            "Epoch 565/1000: 100%|██████████| 13/13 [00:04<00:00,  3.11batch/s, Gen Loss=3.8758, Disc Loss=0.0473]\n"
          ]
        },
        {
          "output_type": "stream",
          "name": "stdout",
          "text": [
            "Generated images for epoch 564 saved to GrapeDataset/Grape Plant from Plant Village Dataset.\n",
            "Estimated time remaining: 33.83 minutes\n",
            "Current learning rates - Generator: 0.000001, Discriminator: 0.000001\n",
            "Epoch 566/1000\n"
          ]
        },
        {
          "output_type": "stream",
          "name": "stderr",
          "text": [
            "Epoch 566/1000: 100%|██████████| 13/13 [00:05<00:00,  2.34batch/s, Gen Loss=4.1513, Disc Loss=0.0963]\n"
          ]
        },
        {
          "output_type": "stream",
          "name": "stdout",
          "text": [
            "Estimated time remaining: 33.77 minutes\n",
            "Current learning rates - Generator: 0.000001, Discriminator: 0.000001\n",
            "Epoch 567/1000\n"
          ]
        },
        {
          "output_type": "stream",
          "name": "stderr",
          "text": [
            "Epoch 567/1000: 100%|██████████| 13/13 [00:03<00:00,  3.28batch/s, Gen Loss=3.8279, Disc Loss=0.1200]\n"
          ]
        },
        {
          "output_type": "stream",
          "name": "stdout",
          "text": [
            "Estimated time remaining: 33.68 minutes\n",
            "Current learning rates - Generator: 0.000001, Discriminator: 0.000001\n",
            "Epoch 568/1000\n"
          ]
        },
        {
          "output_type": "stream",
          "name": "stderr",
          "text": [
            "Epoch 568/1000: 100%|██████████| 13/13 [00:04<00:00,  3.22batch/s, Gen Loss=4.0744, Disc Loss=0.0636]\n"
          ]
        },
        {
          "output_type": "stream",
          "name": "stdout",
          "text": [
            "Estimated time remaining: 33.59 minutes\n",
            "Current learning rates - Generator: 0.000001, Discriminator: 0.000001\n",
            "Epoch 569/1000\n"
          ]
        },
        {
          "output_type": "stream",
          "name": "stderr",
          "text": [
            "Epoch 569/1000: 100%|██████████| 13/13 [00:05<00:00,  2.48batch/s, Gen Loss=3.9587, Disc Loss=0.0483]\n"
          ]
        },
        {
          "output_type": "stream",
          "name": "stdout",
          "text": [
            "Estimated time remaining: 33.52 minutes\n",
            "Current learning rates - Generator: 0.000001, Discriminator: 0.000001\n",
            "Epoch 570/1000\n"
          ]
        },
        {
          "output_type": "stream",
          "name": "stderr",
          "text": [
            "Epoch 570/1000: 100%|██████████| 13/13 [00:04<00:00,  3.16batch/s, Gen Loss=3.7145, Disc Loss=0.0770]\n"
          ]
        },
        {
          "output_type": "stream",
          "name": "stdout",
          "text": [
            "Generated images for epoch 569 saved to GrapeDataset/Grape Plant from Plant Village Dataset.\n",
            "Estimated time remaining: 33.45 minutes\n",
            "Current learning rates - Generator: 0.000001, Discriminator: 0.000001\n",
            "Epoch 571/1000\n"
          ]
        },
        {
          "output_type": "stream",
          "name": "stderr",
          "text": [
            "Epoch 571/1000: 100%|██████████| 13/13 [00:04<00:00,  3.15batch/s, Gen Loss=4.1042, Disc Loss=0.0385]\n"
          ]
        },
        {
          "output_type": "stream",
          "name": "stdout",
          "text": [
            "Estimated time remaining: 33.36 minutes\n",
            "Current learning rates - Generator: 0.000001, Discriminator: 0.000001\n",
            "Epoch 572/1000\n"
          ]
        },
        {
          "output_type": "stream",
          "name": "stderr",
          "text": [
            "Epoch 572/1000: 100%|██████████| 13/13 [00:04<00:00,  2.86batch/s, Gen Loss=4.0560, Disc Loss=0.0574]\n"
          ]
        },
        {
          "output_type": "stream",
          "name": "stdout",
          "text": [
            "Estimated time remaining: 33.28 minutes\n",
            "Current learning rates - Generator: 0.000001, Discriminator: 0.000001\n",
            "Epoch 573/1000\n"
          ]
        },
        {
          "output_type": "stream",
          "name": "stderr",
          "text": [
            "Epoch 573/1000: 100%|██████████| 13/13 [00:04<00:00,  2.67batch/s, Gen Loss=4.0985, Disc Loss=0.1341]\n"
          ]
        },
        {
          "output_type": "stream",
          "name": "stdout",
          "text": [
            "Estimated time remaining: 33.21 minutes\n",
            "Current learning rates - Generator: 0.000001, Discriminator: 0.000001\n",
            "Epoch 574/1000\n"
          ]
        },
        {
          "output_type": "stream",
          "name": "stderr",
          "text": [
            "Epoch 574/1000: 100%|██████████| 13/13 [00:04<00:00,  3.19batch/s, Gen Loss=4.1339, Disc Loss=0.0362]\n"
          ]
        },
        {
          "output_type": "stream",
          "name": "stdout",
          "text": [
            "Estimated time remaining: 33.12 minutes\n",
            "Current learning rates - Generator: 0.000001, Discriminator: 0.000001\n",
            "Epoch 575/1000\n"
          ]
        },
        {
          "output_type": "stream",
          "name": "stderr",
          "text": [
            "Epoch 575/1000: 100%|██████████| 13/13 [00:04<00:00,  3.15batch/s, Gen Loss=4.2921, Disc Loss=0.0581]\n"
          ]
        },
        {
          "output_type": "stream",
          "name": "stdout",
          "text": [
            "Generated images for epoch 574 saved to GrapeDataset/Grape Plant from Plant Village Dataset.\n",
            "Estimated time remaining: 33.05 minutes\n",
            "Current learning rates - Generator: 0.000001, Discriminator: 0.000001\n",
            "Epoch 576/1000\n"
          ]
        },
        {
          "output_type": "stream",
          "name": "stderr",
          "text": [
            "Epoch 576/1000: 100%|██████████| 13/13 [00:05<00:00,  2.42batch/s, Gen Loss=4.1106, Disc Loss=0.0280]\n"
          ]
        },
        {
          "output_type": "stream",
          "name": "stdout",
          "text": [
            "Estimated time remaining: 32.98 minutes\n",
            "Current learning rates - Generator: 0.000001, Discriminator: 0.000001\n",
            "Epoch 577/1000\n"
          ]
        },
        {
          "output_type": "stream",
          "name": "stderr",
          "text": [
            "Epoch 577/1000: 100%|██████████| 13/13 [00:04<00:00,  3.16batch/s, Gen Loss=3.8411, Disc Loss=0.0359]\n"
          ]
        },
        {
          "output_type": "stream",
          "name": "stdout",
          "text": [
            "Estimated time remaining: 32.90 minutes\n",
            "Current learning rates - Generator: 0.000001, Discriminator: 0.000001\n",
            "Epoch 578/1000\n"
          ]
        },
        {
          "output_type": "stream",
          "name": "stderr",
          "text": [
            "Epoch 578/1000: 100%|██████████| 13/13 [00:03<00:00,  3.25batch/s, Gen Loss=4.1204, Disc Loss=0.0355]\n"
          ]
        },
        {
          "output_type": "stream",
          "name": "stdout",
          "text": [
            "Estimated time remaining: 32.81 minutes\n",
            "Current learning rates - Generator: 0.000001, Discriminator: 0.000001\n",
            "Epoch 579/1000\n"
          ]
        },
        {
          "output_type": "stream",
          "name": "stderr",
          "text": [
            "Epoch 579/1000: 100%|██████████| 13/13 [00:05<00:00,  2.36batch/s, Gen Loss=4.2997, Disc Loss=0.0512]\n"
          ]
        },
        {
          "output_type": "stream",
          "name": "stdout",
          "text": [
            "Estimated time remaining: 32.74 minutes\n",
            "Current learning rates - Generator: 0.000001, Discriminator: 0.000001\n",
            "Epoch 580/1000\n"
          ]
        },
        {
          "output_type": "stream",
          "name": "stderr",
          "text": [
            "Epoch 580/1000: 100%|██████████| 13/13 [00:03<00:00,  3.31batch/s, Gen Loss=4.5381, Disc Loss=0.0513]\n"
          ]
        },
        {
          "output_type": "stream",
          "name": "stdout",
          "text": [
            "Generated images for epoch 579 saved to GrapeDataset/Grape Plant from Plant Village Dataset.\n",
            "Estimated time remaining: 32.67 minutes\n",
            "Current learning rates - Generator: 0.000001, Discriminator: 0.000001\n",
            "Epoch 581/1000\n"
          ]
        },
        {
          "output_type": "stream",
          "name": "stderr",
          "text": [
            "Epoch 581/1000: 100%|██████████| 13/13 [00:04<00:00,  3.13batch/s, Gen Loss=4.0886, Disc Loss=0.0435]\n"
          ]
        },
        {
          "output_type": "stream",
          "name": "stdout",
          "text": [
            "Estimated time remaining: 32.58 minutes\n",
            "Current learning rates - Generator: 0.000001, Discriminator: 0.000001\n",
            "Epoch 582/1000\n"
          ]
        },
        {
          "output_type": "stream",
          "name": "stderr",
          "text": [
            "Epoch 582/1000: 100%|██████████| 13/13 [00:04<00:00,  2.64batch/s, Gen Loss=4.2599, Disc Loss=0.0471]\n"
          ]
        },
        {
          "output_type": "stream",
          "name": "stdout",
          "text": [
            "Estimated time remaining: 32.51 minutes\n",
            "Current learning rates - Generator: 0.000001, Discriminator: 0.000001\n",
            "Epoch 583/1000\n"
          ]
        },
        {
          "output_type": "stream",
          "name": "stderr",
          "text": [
            "Epoch 583/1000: 100%|██████████| 13/13 [00:04<00:00,  3.02batch/s, Gen Loss=4.1424, Disc Loss=0.0408]\n"
          ]
        },
        {
          "output_type": "stream",
          "name": "stdout",
          "text": [
            "Estimated time remaining: 32.43 minutes\n",
            "Current learning rates - Generator: 0.000001, Discriminator: 0.000001\n",
            "Epoch 584/1000\n"
          ]
        },
        {
          "output_type": "stream",
          "name": "stderr",
          "text": [
            "Epoch 584/1000: 100%|██████████| 13/13 [00:04<00:00,  3.22batch/s, Gen Loss=4.1198, Disc Loss=0.0517]\n"
          ]
        },
        {
          "output_type": "stream",
          "name": "stdout",
          "text": [
            "Estimated time remaining: 32.34 minutes\n",
            "Current learning rates - Generator: 0.000001, Discriminator: 0.000001\n",
            "Epoch 585/1000\n"
          ]
        },
        {
          "output_type": "stream",
          "name": "stderr",
          "text": [
            "Epoch 585/1000: 100%|██████████| 13/13 [00:04<00:00,  3.03batch/s, Gen Loss=4.1852, Disc Loss=0.0216]\n"
          ]
        },
        {
          "output_type": "stream",
          "name": "stdout",
          "text": [
            "Generated images for epoch 584 saved to GrapeDataset/Grape Plant from Plant Village Dataset.\n",
            "Estimated time remaining: 32.27 minutes\n",
            "Current learning rates - Generator: 0.000001, Discriminator: 0.000001\n",
            "Epoch 586/1000\n"
          ]
        },
        {
          "output_type": "stream",
          "name": "stderr",
          "text": [
            "Epoch 586/1000: 100%|██████████| 13/13 [00:04<00:00,  2.67batch/s, Gen Loss=4.1480, Disc Loss=0.0375]\n"
          ]
        },
        {
          "output_type": "stream",
          "name": "stdout",
          "text": [
            "Estimated time remaining: 32.20 minutes\n",
            "Current learning rates - Generator: 0.000001, Discriminator: 0.000001\n",
            "Epoch 587/1000\n"
          ]
        },
        {
          "output_type": "stream",
          "name": "stderr",
          "text": [
            "Epoch 587/1000: 100%|██████████| 13/13 [00:04<00:00,  3.23batch/s, Gen Loss=4.0684, Disc Loss=0.0546]\n"
          ]
        },
        {
          "output_type": "stream",
          "name": "stdout",
          "text": [
            "Estimated time remaining: 32.11 minutes\n",
            "Current learning rates - Generator: 0.000001, Discriminator: 0.000001\n",
            "Epoch 588/1000\n"
          ]
        },
        {
          "output_type": "stream",
          "name": "stderr",
          "text": [
            "Epoch 588/1000: 100%|██████████| 13/13 [00:04<00:00,  3.06batch/s, Gen Loss=4.1194, Disc Loss=0.0256]\n"
          ]
        },
        {
          "output_type": "stream",
          "name": "stdout",
          "text": [
            "Estimated time remaining: 32.03 minutes\n",
            "Current learning rates - Generator: 0.000001, Discriminator: 0.000001\n",
            "Epoch 589/1000\n"
          ]
        },
        {
          "output_type": "stream",
          "name": "stderr",
          "text": [
            "Epoch 589/1000: 100%|██████████| 13/13 [00:05<00:00,  2.36batch/s, Gen Loss=3.9798, Disc Loss=0.0266]\n"
          ]
        },
        {
          "output_type": "stream",
          "name": "stdout",
          "text": [
            "Estimated time remaining: 31.96 minutes\n",
            "Current learning rates - Generator: 0.000001, Discriminator: 0.000001\n",
            "Epoch 590/1000\n"
          ]
        },
        {
          "output_type": "stream",
          "name": "stderr",
          "text": [
            "Epoch 590/1000: 100%|██████████| 13/13 [00:04<00:00,  3.09batch/s, Gen Loss=4.2396, Disc Loss=0.0699]\n"
          ]
        },
        {
          "output_type": "stream",
          "name": "stdout",
          "text": [
            "Generated images for epoch 589 saved to GrapeDataset/Grape Plant from Plant Village Dataset.\n",
            "Estimated time remaining: 31.89 minutes\n",
            "Current learning rates - Generator: 0.000001, Discriminator: 0.000001\n",
            "Epoch 591/1000\n"
          ]
        },
        {
          "output_type": "stream",
          "name": "stderr",
          "text": [
            "Epoch 591/1000: 100%|██████████| 13/13 [00:04<00:00,  3.21batch/s, Gen Loss=4.3040, Disc Loss=0.0353]\n"
          ]
        },
        {
          "output_type": "stream",
          "name": "stdout",
          "text": [
            "Estimated time remaining: 31.80 minutes\n",
            "Current learning rates - Generator: 0.000001, Discriminator: 0.000001\n",
            "Epoch 592/1000\n"
          ]
        },
        {
          "output_type": "stream",
          "name": "stderr",
          "text": [
            "Epoch 592/1000: 100%|██████████| 13/13 [00:05<00:00,  2.31batch/s, Gen Loss=3.9483, Disc Loss=0.0698]\n"
          ]
        },
        {
          "output_type": "stream",
          "name": "stdout",
          "text": [
            "Estimated time remaining: 31.74 minutes\n",
            "Current learning rates - Generator: 0.000001, Discriminator: 0.000001\n",
            "Epoch 593/1000\n"
          ]
        },
        {
          "output_type": "stream",
          "name": "stderr",
          "text": [
            "Epoch 593/1000: 100%|██████████| 13/13 [00:04<00:00,  3.08batch/s, Gen Loss=3.9731, Disc Loss=0.0466]\n"
          ]
        },
        {
          "output_type": "stream",
          "name": "stdout",
          "text": [
            "Estimated time remaining: 31.65 minutes\n",
            "Current learning rates - Generator: 0.000001, Discriminator: 0.000001\n",
            "Epoch 594/1000\n"
          ]
        },
        {
          "output_type": "stream",
          "name": "stderr",
          "text": [
            "Epoch 594/1000: 100%|██████████| 13/13 [00:04<00:00,  3.17batch/s, Gen Loss=4.1744, Disc Loss=0.0725]\n"
          ]
        },
        {
          "output_type": "stream",
          "name": "stdout",
          "text": [
            "Estimated time remaining: 31.57 minutes\n",
            "Current learning rates - Generator: 0.000001, Discriminator: 0.000001\n",
            "Epoch 595/1000\n"
          ]
        },
        {
          "output_type": "stream",
          "name": "stderr",
          "text": [
            "Epoch 595/1000: 100%|██████████| 13/13 [00:05<00:00,  2.57batch/s, Gen Loss=3.7916, Disc Loss=0.0382]\n"
          ]
        },
        {
          "output_type": "stream",
          "name": "stdout",
          "text": [
            "Generated images for epoch 594 saved to GrapeDataset/Grape Plant from Plant Village Dataset.\n",
            "Estimated time remaining: 31.51 minutes\n",
            "Current learning rates - Generator: 0.000001, Discriminator: 0.000001\n",
            "Epoch 596/1000\n"
          ]
        },
        {
          "output_type": "stream",
          "name": "stderr",
          "text": [
            "Epoch 596/1000: 100%|██████████| 13/13 [00:04<00:00,  3.19batch/s, Gen Loss=4.1488, Disc Loss=0.0247]\n"
          ]
        },
        {
          "output_type": "stream",
          "name": "stdout",
          "text": [
            "Estimated time remaining: 31.42 minutes\n",
            "Current learning rates - Generator: 0.000001, Discriminator: 0.000001\n",
            "Epoch 597/1000\n"
          ]
        },
        {
          "output_type": "stream",
          "name": "stderr",
          "text": [
            "Epoch 597/1000: 100%|██████████| 13/13 [00:04<00:00,  3.06batch/s, Gen Loss=4.3537, Disc Loss=0.0674]\n"
          ]
        },
        {
          "output_type": "stream",
          "name": "stdout",
          "text": [
            "Estimated time remaining: 31.34 minutes\n",
            "Current learning rates - Generator: 0.000001, Discriminator: 0.000001\n",
            "Epoch 598/1000\n"
          ]
        },
        {
          "output_type": "stream",
          "name": "stderr",
          "text": [
            "Epoch 598/1000: 100%|██████████| 13/13 [00:04<00:00,  2.67batch/s, Gen Loss=4.1730, Disc Loss=0.0471]\n"
          ]
        },
        {
          "output_type": "stream",
          "name": "stdout",
          "text": [
            "Estimated time remaining: 31.26 minutes\n",
            "Current learning rates - Generator: 0.000001, Discriminator: 0.000001\n",
            "Epoch 599/1000\n"
          ]
        },
        {
          "output_type": "stream",
          "name": "stderr",
          "text": [
            "Epoch 599/1000: 100%|██████████| 13/13 [00:04<00:00,  2.70batch/s, Gen Loss=4.4291, Disc Loss=0.0583]\n"
          ]
        },
        {
          "output_type": "stream",
          "name": "stdout",
          "text": [
            "Estimated time remaining: 31.19 minutes\n",
            "Current learning rates - Generator: 0.000001, Discriminator: 0.000001\n",
            "Epoch 600/1000\n"
          ]
        },
        {
          "output_type": "stream",
          "name": "stderr",
          "text": [
            "Epoch 600/1000: 100%|██████████| 13/13 [00:04<00:00,  3.19batch/s, Gen Loss=4.4212, Disc Loss=0.0172]\n"
          ]
        },
        {
          "output_type": "stream",
          "name": "stdout",
          "text": [
            "Generated images for epoch 599 saved to GrapeDataset/Grape Plant from Plant Village Dataset.\n",
            "Estimated time remaining: 31.11 minutes\n",
            "Current learning rates - Generator: 0.000001, Discriminator: 0.000001\n",
            "Epoch 601/1000\n"
          ]
        },
        {
          "output_type": "stream",
          "name": "stderr",
          "text": [
            "Epoch 601/1000: 100%|██████████| 13/13 [00:04<00:00,  2.83batch/s, Gen Loss=4.4264, Disc Loss=0.0265]\n"
          ]
        },
        {
          "output_type": "stream",
          "name": "stdout",
          "text": [
            "Estimated time remaining: 31.03 minutes\n",
            "Current learning rates - Generator: 0.000001, Discriminator: 0.000001\n",
            "Epoch 602/1000\n"
          ]
        },
        {
          "output_type": "stream",
          "name": "stderr",
          "text": [
            "Epoch 602/1000: 100%|██████████| 13/13 [00:05<00:00,  2.56batch/s, Gen Loss=4.2912, Disc Loss=0.0244]\n"
          ]
        },
        {
          "output_type": "stream",
          "name": "stdout",
          "text": [
            "Estimated time remaining: 30.96 minutes\n",
            "Current learning rates - Generator: 0.000001, Discriminator: 0.000001\n",
            "Epoch 603/1000\n"
          ]
        },
        {
          "output_type": "stream",
          "name": "stderr",
          "text": [
            "Epoch 603/1000: 100%|██████████| 13/13 [00:04<00:00,  3.14batch/s, Gen Loss=4.5703, Disc Loss=0.0391]\n"
          ]
        },
        {
          "output_type": "stream",
          "name": "stdout",
          "text": [
            "Estimated time remaining: 30.88 minutes\n",
            "Current learning rates - Generator: 0.000001, Discriminator: 0.000001\n",
            "Epoch 604/1000\n"
          ]
        },
        {
          "output_type": "stream",
          "name": "stderr",
          "text": [
            "Epoch 604/1000: 100%|██████████| 13/13 [00:04<00:00,  3.12batch/s, Gen Loss=4.2769, Disc Loss=0.0211]\n"
          ]
        },
        {
          "output_type": "stream",
          "name": "stdout",
          "text": [
            "Estimated time remaining: 30.79 minutes\n",
            "Current learning rates - Generator: 0.000001, Discriminator: 0.000001\n",
            "Epoch 605/1000\n"
          ]
        },
        {
          "output_type": "stream",
          "name": "stderr",
          "text": [
            "Epoch 605/1000: 100%|██████████| 13/13 [00:05<00:00,  2.35batch/s, Gen Loss=4.6764, Disc Loss=0.0284]\n"
          ]
        },
        {
          "output_type": "stream",
          "name": "stdout",
          "text": [
            "Generated images for epoch 604 saved to GrapeDataset/Grape Plant from Plant Village Dataset.\n",
            "Estimated time remaining: 30.73 minutes\n",
            "Current learning rates - Generator: 0.000001, Discriminator: 0.000001\n",
            "Epoch 606/1000\n"
          ]
        },
        {
          "output_type": "stream",
          "name": "stderr",
          "text": [
            "Epoch 606/1000: 100%|██████████| 13/13 [00:04<00:00,  3.12batch/s, Gen Loss=4.3384, Disc Loss=0.0375]\n"
          ]
        },
        {
          "output_type": "stream",
          "name": "stdout",
          "text": [
            "Estimated time remaining: 30.65 minutes\n",
            "Current learning rates - Generator: 0.000001, Discriminator: 0.000001\n",
            "Epoch 607/1000\n"
          ]
        },
        {
          "output_type": "stream",
          "name": "stderr",
          "text": [
            "Epoch 607/1000: 100%|██████████| 13/13 [00:04<00:00,  3.19batch/s, Gen Loss=4.5416, Disc Loss=0.0570]\n"
          ]
        },
        {
          "output_type": "stream",
          "name": "stdout",
          "text": [
            "Estimated time remaining: 30.57 minutes\n",
            "Current learning rates - Generator: 0.000001, Discriminator: 0.000001\n",
            "Epoch 608/1000\n"
          ]
        },
        {
          "output_type": "stream",
          "name": "stderr",
          "text": [
            "Epoch 608/1000: 100%|██████████| 13/13 [00:05<00:00,  2.37batch/s, Gen Loss=4.5174, Disc Loss=0.0321]\n"
          ]
        },
        {
          "output_type": "stream",
          "name": "stdout",
          "text": [
            "Estimated time remaining: 30.50 minutes\n",
            "Current learning rates - Generator: 0.000001, Discriminator: 0.000001\n",
            "Epoch 609/1000\n"
          ]
        },
        {
          "output_type": "stream",
          "name": "stderr",
          "text": [
            "Epoch 609/1000: 100%|██████████| 13/13 [00:04<00:00,  3.22batch/s, Gen Loss=4.6580, Disc Loss=0.0267]\n"
          ]
        },
        {
          "output_type": "stream",
          "name": "stdout",
          "text": [
            "Estimated time remaining: 30.41 minutes\n",
            "Current learning rates - Generator: 0.000001, Discriminator: 0.000001\n",
            "Epoch 610/1000\n"
          ]
        },
        {
          "output_type": "stream",
          "name": "stderr",
          "text": [
            "Epoch 610/1000: 100%|██████████| 13/13 [00:04<00:00,  3.07batch/s, Gen Loss=4.4508, Disc Loss=0.0318]\n"
          ]
        },
        {
          "output_type": "stream",
          "name": "stdout",
          "text": [
            "Generated images for epoch 609 saved to GrapeDataset/Grape Plant from Plant Village Dataset.\n",
            "Estimated time remaining: 30.34 minutes\n",
            "Current learning rates - Generator: 0.000001, Discriminator: 0.000001\n",
            "Epoch 611/1000\n"
          ]
        },
        {
          "output_type": "stream",
          "name": "stderr",
          "text": [
            "Epoch 611/1000: 100%|██████████| 13/13 [00:05<00:00,  2.51batch/s, Gen Loss=4.2264, Disc Loss=0.0268]\n"
          ]
        },
        {
          "output_type": "stream",
          "name": "stdout",
          "text": [
            "Estimated time remaining: 30.27 minutes\n",
            "Current learning rates - Generator: 0.000001, Discriminator: 0.000001\n",
            "Epoch 612/1000\n"
          ]
        },
        {
          "output_type": "stream",
          "name": "stderr",
          "text": [
            "Epoch 612/1000: 100%|██████████| 13/13 [00:04<00:00,  3.04batch/s, Gen Loss=4.6317, Disc Loss=0.0179]\n"
          ]
        },
        {
          "output_type": "stream",
          "name": "stdout",
          "text": [
            "Estimated time remaining: 30.19 minutes\n",
            "Current learning rates - Generator: 0.000001, Discriminator: 0.000001\n",
            "Epoch 613/1000\n"
          ]
        },
        {
          "output_type": "stream",
          "name": "stderr",
          "text": [
            "Epoch 613/1000: 100%|██████████| 13/13 [00:04<00:00,  3.16batch/s, Gen Loss=4.9414, Disc Loss=0.0559]\n"
          ]
        },
        {
          "output_type": "stream",
          "name": "stdout",
          "text": [
            "Estimated time remaining: 30.10 minutes\n",
            "Current learning rates - Generator: 0.000001, Discriminator: 0.000001\n",
            "Epoch 614/1000\n"
          ]
        },
        {
          "output_type": "stream",
          "name": "stderr",
          "text": [
            "Epoch 614/1000: 100%|██████████| 13/13 [00:04<00:00,  2.84batch/s, Gen Loss=4.7529, Disc Loss=0.0099]\n"
          ]
        },
        {
          "output_type": "stream",
          "name": "stdout",
          "text": [
            "Estimated time remaining: 30.02 minutes\n",
            "Current learning rates - Generator: 0.000001, Discriminator: 0.000001\n",
            "Epoch 615/1000\n"
          ]
        },
        {
          "output_type": "stream",
          "name": "stderr",
          "text": [
            "Epoch 615/1000: 100%|██████████| 13/13 [00:05<00:00,  2.57batch/s, Gen Loss=4.6385, Disc Loss=0.0118]\n"
          ]
        },
        {
          "output_type": "stream",
          "name": "stdout",
          "text": [
            "Generated images for epoch 614 saved to GrapeDataset/Grape Plant from Plant Village Dataset.\n",
            "Estimated time remaining: 29.96 minutes\n",
            "Current learning rates - Generator: 0.000001, Discriminator: 0.000001\n",
            "Epoch 616/1000\n"
          ]
        },
        {
          "output_type": "stream",
          "name": "stderr",
          "text": [
            "Epoch 616/1000: 100%|██████████| 13/13 [00:04<00:00,  3.25batch/s, Gen Loss=4.6258, Disc Loss=0.0225]\n"
          ]
        },
        {
          "output_type": "stream",
          "name": "stdout",
          "text": [
            "Estimated time remaining: 29.87 minutes\n",
            "Current learning rates - Generator: 0.000001, Discriminator: 0.000001\n",
            "Epoch 617/1000\n"
          ]
        },
        {
          "output_type": "stream",
          "name": "stderr",
          "text": [
            "Epoch 617/1000: 100%|██████████| 13/13 [00:04<00:00,  3.09batch/s, Gen Loss=4.3895, Disc Loss=0.0138]\n"
          ]
        },
        {
          "output_type": "stream",
          "name": "stdout",
          "text": [
            "Estimated time remaining: 29.79 minutes\n",
            "Current learning rates - Generator: 0.000001, Discriminator: 0.000001\n",
            "Epoch 618/1000\n"
          ]
        },
        {
          "output_type": "stream",
          "name": "stderr",
          "text": [
            "Epoch 618/1000: 100%|██████████| 13/13 [00:05<00:00,  2.35batch/s, Gen Loss=4.6644, Disc Loss=0.0117]\n"
          ]
        },
        {
          "output_type": "stream",
          "name": "stdout",
          "text": [
            "Estimated time remaining: 29.72 minutes\n",
            "Current learning rates - Generator: 0.000001, Discriminator: 0.000001\n",
            "Epoch 619/1000\n"
          ]
        },
        {
          "output_type": "stream",
          "name": "stderr",
          "text": [
            "Epoch 619/1000: 100%|██████████| 13/13 [00:04<00:00,  3.14batch/s, Gen Loss=4.6518, Disc Loss=0.0272]\n"
          ]
        },
        {
          "output_type": "stream",
          "name": "stdout",
          "text": [
            "Estimated time remaining: 29.64 minutes\n",
            "Current learning rates - Generator: 0.000001, Discriminator: 0.000001\n",
            "Epoch 620/1000\n"
          ]
        },
        {
          "output_type": "stream",
          "name": "stderr",
          "text": [
            "Epoch 620/1000: 100%|██████████| 13/13 [00:04<00:00,  3.17batch/s, Gen Loss=4.9424, Disc Loss=0.0106]\n"
          ]
        },
        {
          "output_type": "stream",
          "name": "stdout",
          "text": [
            "Generated images for epoch 619 saved to GrapeDataset/Grape Plant from Plant Village Dataset.\n",
            "Estimated time remaining: 29.56 minutes\n",
            "Current learning rates - Generator: 0.000001, Discriminator: 0.000001\n",
            "Epoch 621/1000\n"
          ]
        },
        {
          "output_type": "stream",
          "name": "stderr",
          "text": [
            "Epoch 621/1000: 100%|██████████| 13/13 [00:05<00:00,  2.34batch/s, Gen Loss=4.6976, Disc Loss=0.0217]\n"
          ]
        },
        {
          "output_type": "stream",
          "name": "stdout",
          "text": [
            "Estimated time remaining: 29.50 minutes\n",
            "Current learning rates - Generator: 0.000001, Discriminator: 0.000001\n",
            "Epoch 622/1000\n"
          ]
        },
        {
          "output_type": "stream",
          "name": "stderr",
          "text": [
            "Epoch 622/1000: 100%|██████████| 13/13 [00:04<00:00,  3.10batch/s, Gen Loss=4.9034, Disc Loss=0.0748]\n"
          ]
        },
        {
          "output_type": "stream",
          "name": "stdout",
          "text": [
            "Estimated time remaining: 29.41 minutes\n",
            "Current learning rates - Generator: 0.000001, Discriminator: 0.000001\n",
            "Epoch 623/1000\n"
          ]
        },
        {
          "output_type": "stream",
          "name": "stderr",
          "text": [
            "Epoch 623/1000: 100%|██████████| 13/13 [00:04<00:00,  3.06batch/s, Gen Loss=4.9169, Disc Loss=0.0213]\n"
          ]
        },
        {
          "output_type": "stream",
          "name": "stdout",
          "text": [
            "Estimated time remaining: 29.33 minutes\n",
            "Current learning rates - Generator: 0.000001, Discriminator: 0.000001\n",
            "Epoch 624/1000\n"
          ]
        },
        {
          "output_type": "stream",
          "name": "stderr",
          "text": [
            "Epoch 624/1000: 100%|██████████| 13/13 [00:05<00:00,  2.55batch/s, Gen Loss=4.9319, Disc Loss=0.0101]\n"
          ]
        },
        {
          "output_type": "stream",
          "name": "stdout",
          "text": [
            "Estimated time remaining: 29.26 minutes\n",
            "Current learning rates - Generator: 0.000001, Discriminator: 0.000001\n",
            "Epoch 625/1000\n"
          ]
        },
        {
          "output_type": "stream",
          "name": "stderr",
          "text": [
            "Epoch 625/1000: 100%|██████████| 13/13 [00:04<00:00,  3.11batch/s, Gen Loss=5.1326, Disc Loss=0.0074]\n"
          ]
        },
        {
          "output_type": "stream",
          "name": "stdout",
          "text": [
            "Generated images for epoch 624 saved to GrapeDataset/Grape Plant from Plant Village Dataset.\n",
            "Estimated time remaining: 29.18 minutes\n",
            "Current learning rates - Generator: 0.000001, Discriminator: 0.000001\n",
            "Epoch 626/1000\n"
          ]
        },
        {
          "output_type": "stream",
          "name": "stderr",
          "text": [
            "Epoch 626/1000: 100%|██████████| 13/13 [00:04<00:00,  3.07batch/s, Gen Loss=4.9190, Disc Loss=0.0177]\n"
          ]
        },
        {
          "output_type": "stream",
          "name": "stdout",
          "text": [
            "Estimated time remaining: 29.10 minutes\n",
            "Current learning rates - Generator: 0.000001, Discriminator: 0.000001\n",
            "Epoch 627/1000\n"
          ]
        },
        {
          "output_type": "stream",
          "name": "stderr",
          "text": [
            "Epoch 627/1000: 100%|██████████| 13/13 [00:05<00:00,  2.50batch/s, Gen Loss=5.2537, Disc Loss=0.0098]\n"
          ]
        },
        {
          "output_type": "stream",
          "name": "stdout",
          "text": [
            "Estimated time remaining: 29.03 minutes\n",
            "Current learning rates - Generator: 0.000001, Discriminator: 0.000001\n",
            "Epoch 628/1000\n"
          ]
        },
        {
          "output_type": "stream",
          "name": "stderr",
          "text": [
            "Epoch 628/1000: 100%|██████████| 13/13 [00:04<00:00,  3.03batch/s, Gen Loss=5.2673, Disc Loss=0.0167]\n"
          ]
        },
        {
          "output_type": "stream",
          "name": "stdout",
          "text": [
            "Estimated time remaining: 28.95 minutes\n",
            "Current learning rates - Generator: 0.000001, Discriminator: 0.000001\n",
            "Epoch 629/1000\n"
          ]
        },
        {
          "output_type": "stream",
          "name": "stderr",
          "text": [
            "Epoch 629/1000: 100%|██████████| 13/13 [00:04<00:00,  3.24batch/s, Gen Loss=5.3927, Disc Loss=0.0222]\n"
          ]
        },
        {
          "output_type": "stream",
          "name": "stdout",
          "text": [
            "Estimated time remaining: 28.86 minutes\n",
            "Current learning rates - Generator: 0.000001, Discriminator: 0.000001\n",
            "Epoch 630/1000\n"
          ]
        },
        {
          "output_type": "stream",
          "name": "stderr",
          "text": [
            "Epoch 630/1000: 100%|██████████| 13/13 [00:04<00:00,  3.03batch/s, Gen Loss=5.3423, Disc Loss=0.0061]\n"
          ]
        },
        {
          "output_type": "stream",
          "name": "stdout",
          "text": [
            "Generated images for epoch 629 saved to GrapeDataset/Grape Plant from Plant Village Dataset.\n",
            "Estimated time remaining: 28.79 minutes\n",
            "Current learning rates - Generator: 0.000001, Discriminator: 0.000001\n",
            "Epoch 631/1000\n"
          ]
        },
        {
          "output_type": "stream",
          "name": "stderr",
          "text": [
            "Epoch 631/1000: 100%|██████████| 13/13 [00:04<00:00,  2.62batch/s, Gen Loss=5.0978, Disc Loss=0.0116]\n"
          ]
        },
        {
          "output_type": "stream",
          "name": "stdout",
          "text": [
            "Estimated time remaining: 28.72 minutes\n",
            "Current learning rates - Generator: 0.000001, Discriminator: 0.000001\n",
            "Epoch 632/1000\n"
          ]
        },
        {
          "output_type": "stream",
          "name": "stderr",
          "text": [
            "Epoch 632/1000: 100%|██████████| 13/13 [00:04<00:00,  3.12batch/s, Gen Loss=5.0381, Disc Loss=0.0064]\n"
          ]
        },
        {
          "output_type": "stream",
          "name": "stdout",
          "text": [
            "Estimated time remaining: 28.63 minutes\n",
            "Current learning rates - Generator: 0.000001, Discriminator: 0.000001\n",
            "Epoch 633/1000\n"
          ]
        },
        {
          "output_type": "stream",
          "name": "stderr",
          "text": [
            "Epoch 633/1000: 100%|██████████| 13/13 [00:04<00:00,  3.15batch/s, Gen Loss=5.2063, Disc Loss=0.0098]\n"
          ]
        },
        {
          "output_type": "stream",
          "name": "stdout",
          "text": [
            "Estimated time remaining: 28.55 minutes\n",
            "Current learning rates - Generator: 0.000001, Discriminator: 0.000001\n",
            "Epoch 634/1000\n"
          ]
        },
        {
          "output_type": "stream",
          "name": "stderr",
          "text": [
            "Epoch 634/1000: 100%|██████████| 13/13 [00:05<00:00,  2.26batch/s, Gen Loss=5.2189, Disc Loss=0.0087]\n"
          ]
        },
        {
          "output_type": "stream",
          "name": "stdout",
          "text": [
            "Estimated time remaining: 28.48 minutes\n",
            "Current learning rates - Generator: 0.000001, Discriminator: 0.000001\n",
            "Epoch 635/1000\n"
          ]
        },
        {
          "output_type": "stream",
          "name": "stderr",
          "text": [
            "Epoch 635/1000: 100%|██████████| 13/13 [00:04<00:00,  3.09batch/s, Gen Loss=5.0055, Disc Loss=0.0113]\n"
          ]
        },
        {
          "output_type": "stream",
          "name": "stdout",
          "text": [
            "Generated images for epoch 634 saved to GrapeDataset/Grape Plant from Plant Village Dataset.\n",
            "Estimated time remaining: 28.41 minutes\n",
            "Current learning rates - Generator: 0.000001, Discriminator: 0.000001\n",
            "Epoch 636/1000\n"
          ]
        },
        {
          "output_type": "stream",
          "name": "stderr",
          "text": [
            "Epoch 636/1000: 100%|██████████| 13/13 [00:04<00:00,  2.94batch/s, Gen Loss=5.1261, Disc Loss=0.0097]\n"
          ]
        },
        {
          "output_type": "stream",
          "name": "stdout",
          "text": [
            "Estimated time remaining: 28.33 minutes\n",
            "Current learning rates - Generator: 0.000001, Discriminator: 0.000001\n",
            "Epoch 637/1000\n"
          ]
        },
        {
          "output_type": "stream",
          "name": "stderr",
          "text": [
            "Epoch 637/1000: 100%|██████████| 13/13 [00:05<00:00,  2.25batch/s, Gen Loss=4.8813, Disc Loss=0.0116]\n"
          ]
        },
        {
          "output_type": "stream",
          "name": "stdout",
          "text": [
            "Estimated time remaining: 28.26 minutes\n",
            "Current learning rates - Generator: 0.000001, Discriminator: 0.000001\n",
            "Epoch 638/1000\n"
          ]
        },
        {
          "output_type": "stream",
          "name": "stderr",
          "text": [
            "Epoch 638/1000: 100%|██████████| 13/13 [00:04<00:00,  3.01batch/s, Gen Loss=5.0153, Disc Loss=0.0092]\n"
          ]
        },
        {
          "output_type": "stream",
          "name": "stdout",
          "text": [
            "Estimated time remaining: 28.18 minutes\n",
            "Current learning rates - Generator: 0.000001, Discriminator: 0.000001\n",
            "Epoch 639/1000\n"
          ]
        },
        {
          "output_type": "stream",
          "name": "stderr",
          "text": [
            "Epoch 639/1000: 100%|██████████| 13/13 [00:04<00:00,  2.95batch/s, Gen Loss=5.2216, Disc Loss=0.0096]\n"
          ]
        },
        {
          "output_type": "stream",
          "name": "stdout",
          "text": [
            "Estimated time remaining: 28.10 minutes\n",
            "Current learning rates - Generator: 0.000001, Discriminator: 0.000001\n",
            "Epoch 640/1000\n"
          ]
        },
        {
          "output_type": "stream",
          "name": "stderr",
          "text": [
            "Epoch 640/1000: 100%|██████████| 13/13 [00:05<00:00,  2.25batch/s, Gen Loss=5.0797, Disc Loss=0.0097]\n"
          ]
        },
        {
          "output_type": "stream",
          "name": "stdout",
          "text": [
            "Generated images for epoch 639 saved to GrapeDataset/Grape Plant from Plant Village Dataset.\n",
            "Estimated time remaining: 28.04 minutes\n",
            "Current learning rates - Generator: 0.000001, Discriminator: 0.000001\n",
            "Epoch 641/1000\n"
          ]
        },
        {
          "output_type": "stream",
          "name": "stderr",
          "text": [
            "Epoch 641/1000: 100%|██████████| 13/13 [00:04<00:00,  2.91batch/s, Gen Loss=5.1861, Disc Loss=0.0108]\n"
          ]
        },
        {
          "output_type": "stream",
          "name": "stdout",
          "text": [
            "Estimated time remaining: 27.96 minutes\n",
            "Current learning rates - Generator: 0.000001, Discriminator: 0.000001\n",
            "Epoch 642/1000\n"
          ]
        },
        {
          "output_type": "stream",
          "name": "stderr",
          "text": [
            "Epoch 642/1000: 100%|██████████| 13/13 [00:04<00:00,  3.10batch/s, Gen Loss=4.8902, Disc Loss=0.0113]\n"
          ]
        },
        {
          "output_type": "stream",
          "name": "stdout",
          "text": [
            "Estimated time remaining: 27.88 minutes\n",
            "Current learning rates - Generator: 0.000001, Discriminator: 0.000001\n",
            "Epoch 643/1000\n"
          ]
        },
        {
          "output_type": "stream",
          "name": "stderr",
          "text": [
            "Epoch 643/1000: 100%|██████████| 13/13 [00:05<00:00,  2.29batch/s, Gen Loss=4.7905, Disc Loss=0.0109]\n"
          ]
        },
        {
          "output_type": "stream",
          "name": "stdout",
          "text": [
            "Estimated time remaining: 27.81 minutes\n",
            "Current learning rates - Generator: 0.000001, Discriminator: 0.000001\n",
            "Epoch 644/1000\n"
          ]
        },
        {
          "output_type": "stream",
          "name": "stderr",
          "text": [
            "Epoch 644/1000: 100%|██████████| 13/13 [00:04<00:00,  2.94batch/s, Gen Loss=4.8236, Disc Loss=0.0337]\n"
          ]
        },
        {
          "output_type": "stream",
          "name": "stdout",
          "text": [
            "Estimated time remaining: 27.73 minutes\n",
            "Current learning rates - Generator: 0.000001, Discriminator: 0.000001\n",
            "Epoch 645/1000\n"
          ]
        },
        {
          "output_type": "stream",
          "name": "stderr",
          "text": [
            "Epoch 645/1000: 100%|██████████| 13/13 [00:04<00:00,  2.99batch/s, Gen Loss=4.8973, Disc Loss=0.0125]\n"
          ]
        },
        {
          "output_type": "stream",
          "name": "stdout",
          "text": [
            "Generated images for epoch 644 saved to GrapeDataset/Grape Plant from Plant Village Dataset.\n",
            "Estimated time remaining: 27.66 minutes\n",
            "Current learning rates - Generator: 0.000001, Discriminator: 0.000001\n",
            "Epoch 646/1000\n"
          ]
        },
        {
          "output_type": "stream",
          "name": "stderr",
          "text": [
            "Epoch 646/1000: 100%|██████████| 13/13 [00:06<00:00,  2.16batch/s, Gen Loss=4.5960, Disc Loss=0.0208]\n"
          ]
        },
        {
          "output_type": "stream",
          "name": "stdout",
          "text": [
            "Estimated time remaining: 27.59 minutes\n",
            "Current learning rates - Generator: 0.000001, Discriminator: 0.000001\n",
            "Epoch 647/1000\n"
          ]
        },
        {
          "output_type": "stream",
          "name": "stderr",
          "text": [
            "Epoch 647/1000: 100%|██████████| 13/13 [00:04<00:00,  2.81batch/s, Gen Loss=4.8332, Disc Loss=0.0287]\n"
          ]
        },
        {
          "output_type": "stream",
          "name": "stdout",
          "text": [
            "Estimated time remaining: 27.52 minutes\n",
            "Current learning rates - Generator: 0.000001, Discriminator: 0.000001\n",
            "Epoch 648/1000\n"
          ]
        },
        {
          "output_type": "stream",
          "name": "stderr",
          "text": [
            "Epoch 648/1000: 100%|██████████| 13/13 [00:04<00:00,  2.88batch/s, Gen Loss=4.7512, Disc Loss=0.0121]\n"
          ]
        },
        {
          "output_type": "stream",
          "name": "stdout",
          "text": [
            "Estimated time remaining: 27.44 minutes\n",
            "Current learning rates - Generator: 0.000001, Discriminator: 0.000001\n",
            "Epoch 649/1000\n"
          ]
        },
        {
          "output_type": "stream",
          "name": "stderr",
          "text": [
            "Epoch 649/1000: 100%|██████████| 13/13 [00:05<00:00,  2.29batch/s, Gen Loss=4.8199, Disc Loss=0.0355]\n"
          ]
        },
        {
          "output_type": "stream",
          "name": "stdout",
          "text": [
            "Estimated time remaining: 27.37 minutes\n",
            "Current learning rates - Generator: 0.000001, Discriminator: 0.000001\n",
            "Epoch 650/1000\n"
          ]
        },
        {
          "output_type": "stream",
          "name": "stderr",
          "text": [
            "Epoch 650/1000: 100%|██████████| 13/13 [00:04<00:00,  2.77batch/s, Gen Loss=5.0140, Disc Loss=0.0480]\n"
          ]
        },
        {
          "output_type": "stream",
          "name": "stdout",
          "text": [
            "Generated images for epoch 649 saved to GrapeDataset/Grape Plant from Plant Village Dataset.\n",
            "Estimated time remaining: 27.30 minutes\n",
            "Current learning rates - Generator: 0.000001, Discriminator: 0.000001\n",
            "Epoch 651/1000\n"
          ]
        },
        {
          "output_type": "stream",
          "name": "stderr",
          "text": [
            "Epoch 651/1000: 100%|██████████| 13/13 [00:04<00:00,  2.94batch/s, Gen Loss=4.7696, Disc Loss=0.0355]\n"
          ]
        },
        {
          "output_type": "stream",
          "name": "stdout",
          "text": [
            "Estimated time remaining: 27.22 minutes\n",
            "Current learning rates - Generator: 0.000001, Discriminator: 0.000001\n",
            "Epoch 652/1000\n"
          ]
        },
        {
          "output_type": "stream",
          "name": "stderr",
          "text": [
            "Epoch 652/1000: 100%|██████████| 13/13 [00:05<00:00,  2.19batch/s, Gen Loss=4.8471, Disc Loss=0.0101]\n"
          ]
        },
        {
          "output_type": "stream",
          "name": "stdout",
          "text": [
            "Estimated time remaining: 27.15 minutes\n",
            "Current learning rates - Generator: 0.000001, Discriminator: 0.000001\n",
            "Epoch 653/1000\n"
          ]
        },
        {
          "output_type": "stream",
          "name": "stderr",
          "text": [
            "Epoch 653/1000: 100%|██████████| 13/13 [00:04<00:00,  2.86batch/s, Gen Loss=4.6673, Disc Loss=0.0190]\n"
          ]
        },
        {
          "output_type": "stream",
          "name": "stdout",
          "text": [
            "Estimated time remaining: 27.07 minutes\n",
            "Current learning rates - Generator: 0.000001, Discriminator: 0.000001\n",
            "Epoch 654/1000\n"
          ]
        },
        {
          "output_type": "stream",
          "name": "stderr",
          "text": [
            "Epoch 654/1000: 100%|██████████| 13/13 [00:04<00:00,  2.94batch/s, Gen Loss=4.5884, Disc Loss=0.0120]\n"
          ]
        },
        {
          "output_type": "stream",
          "name": "stdout",
          "text": [
            "Estimated time remaining: 26.99 minutes\n",
            "Current learning rates - Generator: 0.000001, Discriminator: 0.000001\n",
            "Epoch 655/1000\n"
          ]
        },
        {
          "output_type": "stream",
          "name": "stderr",
          "text": [
            "Epoch 655/1000: 100%|██████████| 13/13 [00:05<00:00,  2.46batch/s, Gen Loss=4.4539, Disc Loss=0.0435]\n"
          ]
        },
        {
          "output_type": "stream",
          "name": "stdout",
          "text": [
            "Generated images for epoch 654 saved to GrapeDataset/Grape Plant from Plant Village Dataset.\n",
            "Estimated time remaining: 26.93 minutes\n",
            "Current learning rates - Generator: 0.000001, Discriminator: 0.000001\n",
            "Epoch 656/1000\n"
          ]
        },
        {
          "output_type": "stream",
          "name": "stderr",
          "text": [
            "Epoch 656/1000: 100%|██████████| 13/13 [00:04<00:00,  2.95batch/s, Gen Loss=4.6528, Disc Loss=0.0297]\n"
          ]
        },
        {
          "output_type": "stream",
          "name": "stdout",
          "text": [
            "Estimated time remaining: 26.85 minutes\n",
            "Current learning rates - Generator: 0.000001, Discriminator: 0.000001\n",
            "Epoch 657/1000\n"
          ]
        },
        {
          "output_type": "stream",
          "name": "stderr",
          "text": [
            "Epoch 657/1000: 100%|██████████| 13/13 [00:04<00:00,  2.97batch/s, Gen Loss=4.7732, Disc Loss=0.0110]\n"
          ]
        },
        {
          "output_type": "stream",
          "name": "stdout",
          "text": [
            "Estimated time remaining: 26.77 minutes\n",
            "Current learning rates - Generator: 0.000001, Discriminator: 0.000001\n",
            "Epoch 658/1000\n"
          ]
        },
        {
          "output_type": "stream",
          "name": "stderr",
          "text": [
            "Epoch 658/1000: 100%|██████████| 13/13 [00:05<00:00,  2.24batch/s, Gen Loss=4.5705, Disc Loss=0.0133]\n"
          ]
        },
        {
          "output_type": "stream",
          "name": "stdout",
          "text": [
            "Estimated time remaining: 26.70 minutes\n",
            "Current learning rates - Generator: 0.000001, Discriminator: 0.000001\n",
            "Epoch 659/1000\n"
          ]
        },
        {
          "output_type": "stream",
          "name": "stderr",
          "text": [
            "Epoch 659/1000: 100%|██████████| 13/13 [00:04<00:00,  2.82batch/s, Gen Loss=4.7320, Disc Loss=0.0233]\n"
          ]
        },
        {
          "output_type": "stream",
          "name": "stdout",
          "text": [
            "Estimated time remaining: 26.62 minutes\n",
            "Current learning rates - Generator: 0.000001, Discriminator: 0.000001\n",
            "Epoch 660/1000\n"
          ]
        },
        {
          "output_type": "stream",
          "name": "stderr",
          "text": [
            "Epoch 660/1000: 100%|██████████| 13/13 [00:04<00:00,  2.96batch/s, Gen Loss=4.4286, Disc Loss=0.0408]\n"
          ]
        },
        {
          "output_type": "stream",
          "name": "stdout",
          "text": [
            "Generated images for epoch 659 saved to GrapeDataset/Grape Plant from Plant Village Dataset.\n",
            "Estimated time remaining: 26.55 minutes\n",
            "Current learning rates - Generator: 0.000001, Discriminator: 0.000001\n",
            "Epoch 661/1000\n"
          ]
        },
        {
          "output_type": "stream",
          "name": "stderr",
          "text": [
            "Epoch 661/1000: 100%|██████████| 13/13 [00:05<00:00,  2.26batch/s, Gen Loss=4.7745, Disc Loss=0.0158]\n"
          ]
        },
        {
          "output_type": "stream",
          "name": "stdout",
          "text": [
            "Estimated time remaining: 26.48 minutes\n",
            "Current learning rates - Generator: 0.000001, Discriminator: 0.000001\n",
            "Epoch 662/1000\n"
          ]
        },
        {
          "output_type": "stream",
          "name": "stderr",
          "text": [
            "Epoch 662/1000: 100%|██████████| 13/13 [00:04<00:00,  2.86batch/s, Gen Loss=4.5947, Disc Loss=0.0285]\n"
          ]
        },
        {
          "output_type": "stream",
          "name": "stdout",
          "text": [
            "Estimated time remaining: 26.40 minutes\n",
            "Current learning rates - Generator: 0.000001, Discriminator: 0.000001\n",
            "Epoch 663/1000\n"
          ]
        },
        {
          "output_type": "stream",
          "name": "stderr",
          "text": [
            "Epoch 663/1000: 100%|██████████| 13/13 [00:04<00:00,  2.98batch/s, Gen Loss=4.7551, Disc Loss=0.0280]\n"
          ]
        },
        {
          "output_type": "stream",
          "name": "stdout",
          "text": [
            "Estimated time remaining: 26.32 minutes\n",
            "Current learning rates - Generator: 0.000001, Discriminator: 0.000001\n",
            "Epoch 664/1000\n"
          ]
        },
        {
          "output_type": "stream",
          "name": "stderr",
          "text": [
            "Epoch 664/1000: 100%|██████████| 13/13 [00:05<00:00,  2.48batch/s, Gen Loss=4.9263, Disc Loss=0.0209]\n"
          ]
        },
        {
          "output_type": "stream",
          "name": "stdout",
          "text": [
            "Estimated time remaining: 26.25 minutes\n",
            "Current learning rates - Generator: 0.000001, Discriminator: 0.000001\n",
            "Epoch 665/1000\n"
          ]
        },
        {
          "output_type": "stream",
          "name": "stderr",
          "text": [
            "Epoch 665/1000: 100%|██████████| 13/13 [00:05<00:00,  2.51batch/s, Gen Loss=4.9979, Disc Loss=0.0563]\n"
          ]
        },
        {
          "output_type": "stream",
          "name": "stdout",
          "text": [
            "Generated images for epoch 664 saved to GrapeDataset/Grape Plant from Plant Village Dataset.\n",
            "Estimated time remaining: 26.18 minutes\n",
            "Current learning rates - Generator: 0.000001, Discriminator: 0.000001\n",
            "Epoch 666/1000\n"
          ]
        },
        {
          "output_type": "stream",
          "name": "stderr",
          "text": [
            "Epoch 666/1000: 100%|██████████| 13/13 [00:04<00:00,  2.98batch/s, Gen Loss=5.0452, Disc Loss=0.0311]\n"
          ]
        },
        {
          "output_type": "stream",
          "name": "stdout",
          "text": [
            "Estimated time remaining: 26.10 minutes\n",
            "Current learning rates - Generator: 0.000001, Discriminator: 0.000001\n",
            "Epoch 667/1000\n"
          ]
        },
        {
          "output_type": "stream",
          "name": "stderr",
          "text": [
            "Epoch 667/1000: 100%|██████████| 13/13 [00:04<00:00,  2.68batch/s, Gen Loss=4.8533, Disc Loss=0.0149]\n"
          ]
        },
        {
          "output_type": "stream",
          "name": "stdout",
          "text": [
            "Estimated time remaining: 26.02 minutes\n",
            "Current learning rates - Generator: 0.000001, Discriminator: 0.000001\n",
            "Epoch 668/1000\n"
          ]
        },
        {
          "output_type": "stream",
          "name": "stderr",
          "text": [
            "Epoch 668/1000: 100%|██████████| 13/13 [00:05<00:00,  2.47batch/s, Gen Loss=5.2980, Disc Loss=0.0160]\n"
          ]
        },
        {
          "output_type": "stream",
          "name": "stdout",
          "text": [
            "Estimated time remaining: 25.95 minutes\n",
            "Current learning rates - Generator: 0.000001, Discriminator: 0.000001\n",
            "Epoch 669/1000\n"
          ]
        },
        {
          "output_type": "stream",
          "name": "stderr",
          "text": [
            "Epoch 669/1000: 100%|██████████| 13/13 [00:04<00:00,  3.05batch/s, Gen Loss=4.7146, Disc Loss=0.0160]\n"
          ]
        },
        {
          "output_type": "stream",
          "name": "stdout",
          "text": [
            "Estimated time remaining: 25.87 minutes\n",
            "Current learning rates - Generator: 0.000001, Discriminator: 0.000001\n",
            "Epoch 670/1000\n"
          ]
        },
        {
          "output_type": "stream",
          "name": "stderr",
          "text": [
            "Epoch 670/1000: 100%|██████████| 13/13 [00:04<00:00,  3.06batch/s, Gen Loss=5.0414, Disc Loss=0.0256]\n"
          ]
        },
        {
          "output_type": "stream",
          "name": "stdout",
          "text": [
            "Generated images for epoch 669 saved to GrapeDataset/Grape Plant from Plant Village Dataset.\n",
            "Estimated time remaining: 25.79 minutes\n",
            "Current learning rates - Generator: 0.000001, Discriminator: 0.000001\n",
            "Epoch 671/1000\n"
          ]
        },
        {
          "output_type": "stream",
          "name": "stderr",
          "text": [
            "Epoch 671/1000: 100%|██████████| 13/13 [00:05<00:00,  2.36batch/s, Gen Loss=5.1716, Disc Loss=0.0256]\n"
          ]
        },
        {
          "output_type": "stream",
          "name": "stdout",
          "text": [
            "Estimated time remaining: 25.72 minutes\n",
            "Current learning rates - Generator: 0.000001, Discriminator: 0.000001\n",
            "Epoch 672/1000\n"
          ]
        },
        {
          "output_type": "stream",
          "name": "stderr",
          "text": [
            "Epoch 672/1000: 100%|██████████| 13/13 [00:04<00:00,  3.02batch/s, Gen Loss=5.0979, Disc Loss=0.0230]\n"
          ]
        },
        {
          "output_type": "stream",
          "name": "stdout",
          "text": [
            "Estimated time remaining: 25.64 minutes\n",
            "Current learning rates - Generator: 0.000001, Discriminator: 0.000001\n",
            "Epoch 673/1000\n"
          ]
        },
        {
          "output_type": "stream",
          "name": "stderr",
          "text": [
            "Epoch 673/1000: 100%|██████████| 13/13 [00:04<00:00,  3.07batch/s, Gen Loss=4.9057, Disc Loss=0.0353]\n"
          ]
        },
        {
          "output_type": "stream",
          "name": "stdout",
          "text": [
            "Estimated time remaining: 25.56 minutes\n",
            "Current learning rates - Generator: 0.000001, Discriminator: 0.000001\n",
            "Epoch 674/1000\n"
          ]
        },
        {
          "output_type": "stream",
          "name": "stderr",
          "text": [
            "Epoch 674/1000: 100%|██████████| 13/13 [00:05<00:00,  2.18batch/s, Gen Loss=5.1063, Disc Loss=0.0242]\n"
          ]
        },
        {
          "output_type": "stream",
          "name": "stdout",
          "text": [
            "Estimated time remaining: 25.49 minutes\n",
            "Current learning rates - Generator: 0.000001, Discriminator: 0.000001\n",
            "Epoch 675/1000\n"
          ]
        },
        {
          "output_type": "stream",
          "name": "stderr",
          "text": [
            "Epoch 675/1000: 100%|██████████| 13/13 [00:04<00:00,  3.11batch/s, Gen Loss=4.8415, Disc Loss=0.0267]\n"
          ]
        },
        {
          "output_type": "stream",
          "name": "stdout",
          "text": [
            "Generated images for epoch 674 saved to GrapeDataset/Grape Plant from Plant Village Dataset.\n",
            "Estimated time remaining: 25.42 minutes\n",
            "Current learning rates - Generator: 0.000001, Discriminator: 0.000001\n",
            "Epoch 676/1000\n"
          ]
        },
        {
          "output_type": "stream",
          "name": "stderr",
          "text": [
            "Epoch 676/1000: 100%|██████████| 13/13 [00:04<00:00,  3.00batch/s, Gen Loss=4.9887, Disc Loss=0.0300]\n"
          ]
        },
        {
          "output_type": "stream",
          "name": "stdout",
          "text": [
            "Estimated time remaining: 25.33 minutes\n",
            "Current learning rates - Generator: 0.000001, Discriminator: 0.000001\n",
            "Epoch 677/1000\n"
          ]
        },
        {
          "output_type": "stream",
          "name": "stderr",
          "text": [
            "Epoch 677/1000: 100%|██████████| 13/13 [00:06<00:00,  2.14batch/s, Gen Loss=5.2874, Disc Loss=0.0074]\n"
          ]
        },
        {
          "output_type": "stream",
          "name": "stdout",
          "text": [
            "Estimated time remaining: 25.27 minutes\n",
            "Current learning rates - Generator: 0.000001, Discriminator: 0.000001\n",
            "Epoch 678/1000\n"
          ]
        },
        {
          "output_type": "stream",
          "name": "stderr",
          "text": [
            "Epoch 678/1000: 100%|██████████| 13/13 [00:04<00:00,  3.02batch/s, Gen Loss=4.7331, Disc Loss=0.0130]\n"
          ]
        },
        {
          "output_type": "stream",
          "name": "stdout",
          "text": [
            "Estimated time remaining: 25.19 minutes\n",
            "Current learning rates - Generator: 0.000001, Discriminator: 0.000001\n",
            "Epoch 679/1000\n"
          ]
        },
        {
          "output_type": "stream",
          "name": "stderr",
          "text": [
            "Epoch 679/1000: 100%|██████████| 13/13 [00:04<00:00,  3.01batch/s, Gen Loss=5.1612, Disc Loss=0.0250]\n"
          ]
        },
        {
          "output_type": "stream",
          "name": "stdout",
          "text": [
            "Estimated time remaining: 25.11 minutes\n",
            "Current learning rates - Generator: 0.000001, Discriminator: 0.000001\n",
            "Epoch 680/1000\n"
          ]
        },
        {
          "output_type": "stream",
          "name": "stderr",
          "text": [
            "Epoch 680/1000: 100%|██████████| 13/13 [00:05<00:00,  2.35batch/s, Gen Loss=5.0002, Disc Loss=0.0231]\n"
          ]
        },
        {
          "output_type": "stream",
          "name": "stdout",
          "text": [
            "Generated images for epoch 679 saved to GrapeDataset/Grape Plant from Plant Village Dataset.\n",
            "Estimated time remaining: 25.04 minutes\n",
            "Current learning rates - Generator: 0.000001, Discriminator: 0.000001\n",
            "Epoch 681/1000\n"
          ]
        },
        {
          "output_type": "stream",
          "name": "stderr",
          "text": [
            "Epoch 681/1000: 100%|██████████| 13/13 [00:04<00:00,  3.02batch/s, Gen Loss=4.8957, Disc Loss=0.0256]\n"
          ]
        },
        {
          "output_type": "stream",
          "name": "stdout",
          "text": [
            "Estimated time remaining: 24.96 minutes\n",
            "Current learning rates - Generator: 0.000001, Discriminator: 0.000001\n",
            "Epoch 682/1000\n"
          ]
        },
        {
          "output_type": "stream",
          "name": "stderr",
          "text": [
            "Epoch 682/1000: 100%|██████████| 13/13 [00:04<00:00,  2.89batch/s, Gen Loss=4.9908, Disc Loss=0.0439]\n"
          ]
        },
        {
          "output_type": "stream",
          "name": "stdout",
          "text": [
            "Estimated time remaining: 24.88 minutes\n",
            "Current learning rates - Generator: 0.000001, Discriminator: 0.000001\n",
            "Epoch 683/1000\n"
          ]
        },
        {
          "output_type": "stream",
          "name": "stderr",
          "text": [
            "Epoch 683/1000: 100%|██████████| 13/13 [00:05<00:00,  2.32batch/s, Gen Loss=5.0920, Disc Loss=0.0304]\n"
          ]
        },
        {
          "output_type": "stream",
          "name": "stdout",
          "text": [
            "Estimated time remaining: 24.81 minutes\n",
            "Current learning rates - Generator: 0.000001, Discriminator: 0.000001\n",
            "Epoch 684/1000\n"
          ]
        },
        {
          "output_type": "stream",
          "name": "stderr",
          "text": [
            "Epoch 684/1000: 100%|██████████| 13/13 [00:04<00:00,  2.94batch/s, Gen Loss=5.0398, Disc Loss=0.0098]\n"
          ]
        },
        {
          "output_type": "stream",
          "name": "stdout",
          "text": [
            "Estimated time remaining: 24.73 minutes\n",
            "Current learning rates - Generator: 0.000001, Discriminator: 0.000001\n",
            "Epoch 685/1000\n"
          ]
        },
        {
          "output_type": "stream",
          "name": "stderr",
          "text": [
            "Epoch 685/1000: 100%|██████████| 13/13 [00:04<00:00,  3.00batch/s, Gen Loss=4.9450, Disc Loss=0.0085]\n"
          ]
        },
        {
          "output_type": "stream",
          "name": "stdout",
          "text": [
            "Generated images for epoch 684 saved to GrapeDataset/Grape Plant from Plant Village Dataset.\n",
            "Estimated time remaining: 24.65 minutes\n",
            "Current learning rates - Generator: 0.000001, Discriminator: 0.000001\n",
            "Epoch 686/1000\n"
          ]
        },
        {
          "output_type": "stream",
          "name": "stderr",
          "text": [
            "Epoch 686/1000: 100%|██████████| 13/13 [00:05<00:00,  2.42batch/s, Gen Loss=5.3158, Disc Loss=0.0088]\n"
          ]
        },
        {
          "output_type": "stream",
          "name": "stdout",
          "text": [
            "Estimated time remaining: 24.58 minutes\n",
            "Current learning rates - Generator: 0.000001, Discriminator: 0.000001\n",
            "Epoch 687/1000\n"
          ]
        },
        {
          "output_type": "stream",
          "name": "stderr",
          "text": [
            "Epoch 687/1000: 100%|██████████| 13/13 [00:04<00:00,  2.87batch/s, Gen Loss=4.9710, Disc Loss=0.0259]\n"
          ]
        },
        {
          "output_type": "stream",
          "name": "stdout",
          "text": [
            "Estimated time remaining: 24.50 minutes\n",
            "Current learning rates - Generator: 0.000001, Discriminator: 0.000001\n",
            "Epoch 688/1000\n"
          ]
        },
        {
          "output_type": "stream",
          "name": "stderr",
          "text": [
            "Epoch 688/1000: 100%|██████████| 13/13 [00:04<00:00,  2.95batch/s, Gen Loss=5.1315, Disc Loss=0.0700]\n"
          ]
        },
        {
          "output_type": "stream",
          "name": "stdout",
          "text": [
            "Estimated time remaining: 24.42 minutes\n",
            "Current learning rates - Generator: 0.000001, Discriminator: 0.000001\n",
            "Epoch 689/1000\n"
          ]
        },
        {
          "output_type": "stream",
          "name": "stderr",
          "text": [
            "Epoch 689/1000: 100%|██████████| 13/13 [00:05<00:00,  2.52batch/s, Gen Loss=4.8571, Disc Loss=0.0134]\n"
          ]
        },
        {
          "output_type": "stream",
          "name": "stdout",
          "text": [
            "Estimated time remaining: 24.35 minutes\n",
            "Current learning rates - Generator: 0.000001, Discriminator: 0.000001\n",
            "Epoch 690/1000\n"
          ]
        },
        {
          "output_type": "stream",
          "name": "stderr",
          "text": [
            "Epoch 690/1000: 100%|██████████| 13/13 [00:05<00:00,  2.54batch/s, Gen Loss=4.9832, Disc Loss=0.0098]\n"
          ]
        },
        {
          "output_type": "stream",
          "name": "stdout",
          "text": [
            "Generated images for epoch 689 saved to GrapeDataset/Grape Plant from Plant Village Dataset.\n",
            "Estimated time remaining: 24.28 minutes\n",
            "Current learning rates - Generator: 0.000001, Discriminator: 0.000001\n",
            "Epoch 691/1000\n"
          ]
        },
        {
          "output_type": "stream",
          "name": "stderr",
          "text": [
            "Epoch 691/1000: 100%|██████████| 13/13 [00:04<00:00,  3.06batch/s, Gen Loss=4.8235, Disc Loss=0.0113]\n"
          ]
        },
        {
          "output_type": "stream",
          "name": "stdout",
          "text": [
            "Estimated time remaining: 24.20 minutes\n",
            "Current learning rates - Generator: 0.000001, Discriminator: 0.000001\n",
            "Epoch 692/1000\n"
          ]
        },
        {
          "output_type": "stream",
          "name": "stderr",
          "text": [
            "Epoch 692/1000: 100%|██████████| 13/13 [00:04<00:00,  2.72batch/s, Gen Loss=4.9220, Disc Loss=0.0102]\n"
          ]
        },
        {
          "output_type": "stream",
          "name": "stdout",
          "text": [
            "Estimated time remaining: 24.12 minutes\n",
            "Current learning rates - Generator: 0.000001, Discriminator: 0.000001\n",
            "Epoch 693/1000\n"
          ]
        },
        {
          "output_type": "stream",
          "name": "stderr",
          "text": [
            "Epoch 693/1000: 100%|██████████| 13/13 [00:05<00:00,  2.35batch/s, Gen Loss=4.9044, Disc Loss=0.0126]\n"
          ]
        },
        {
          "output_type": "stream",
          "name": "stdout",
          "text": [
            "Estimated time remaining: 24.05 minutes\n",
            "Current learning rates - Generator: 0.000001, Discriminator: 0.000001\n",
            "Epoch 694/1000\n"
          ]
        },
        {
          "output_type": "stream",
          "name": "stderr",
          "text": [
            "Epoch 694/1000: 100%|██████████| 13/13 [00:04<00:00,  3.14batch/s, Gen Loss=5.2800, Disc Loss=0.0068]\n"
          ]
        },
        {
          "output_type": "stream",
          "name": "stdout",
          "text": [
            "Estimated time remaining: 23.96 minutes\n",
            "Current learning rates - Generator: 0.000001, Discriminator: 0.000001\n",
            "Epoch 695/1000\n"
          ]
        },
        {
          "output_type": "stream",
          "name": "stderr",
          "text": [
            "Epoch 695/1000: 100%|██████████| 13/13 [00:04<00:00,  3.07batch/s, Gen Loss=4.9440, Disc Loss=0.0101]\n"
          ]
        },
        {
          "output_type": "stream",
          "name": "stdout",
          "text": [
            "Generated images for epoch 694 saved to GrapeDataset/Grape Plant from Plant Village Dataset.\n",
            "Estimated time remaining: 23.89 minutes\n",
            "Current learning rates - Generator: 0.000001, Discriminator: 0.000001\n",
            "Epoch 696/1000\n"
          ]
        },
        {
          "output_type": "stream",
          "name": "stderr",
          "text": [
            "Epoch 696/1000: 100%|██████████| 13/13 [00:05<00:00,  2.34batch/s, Gen Loss=4.9783, Disc Loss=0.0404]\n"
          ]
        },
        {
          "output_type": "stream",
          "name": "stdout",
          "text": [
            "Estimated time remaining: 23.82 minutes\n",
            "Current learning rates - Generator: 0.000001, Discriminator: 0.000001\n",
            "Epoch 697/1000\n"
          ]
        },
        {
          "output_type": "stream",
          "name": "stderr",
          "text": [
            "Epoch 697/1000: 100%|██████████| 13/13 [00:04<00:00,  3.00batch/s, Gen Loss=5.0833, Disc Loss=0.0090]\n"
          ]
        },
        {
          "output_type": "stream",
          "name": "stdout",
          "text": [
            "Estimated time remaining: 23.74 minutes\n",
            "Current learning rates - Generator: 0.000001, Discriminator: 0.000001\n",
            "Epoch 698/1000\n"
          ]
        },
        {
          "output_type": "stream",
          "name": "stderr",
          "text": [
            "Epoch 698/1000: 100%|██████████| 13/13 [00:04<00:00,  3.07batch/s, Gen Loss=5.1955, Disc Loss=0.0105]\n"
          ]
        },
        {
          "output_type": "stream",
          "name": "stdout",
          "text": [
            "Estimated time remaining: 23.65 minutes\n",
            "Current learning rates - Generator: 0.000001, Discriminator: 0.000001\n",
            "Epoch 699/1000\n"
          ]
        },
        {
          "output_type": "stream",
          "name": "stderr",
          "text": [
            "Epoch 699/1000: 100%|██████████| 13/13 [00:05<00:00,  2.23batch/s, Gen Loss=4.9907, Disc Loss=0.0109]\n"
          ]
        },
        {
          "output_type": "stream",
          "name": "stdout",
          "text": [
            "Estimated time remaining: 23.58 minutes\n",
            "Current learning rates - Generator: 0.000001, Discriminator: 0.000001\n",
            "Epoch 700/1000\n"
          ]
        },
        {
          "output_type": "stream",
          "name": "stderr",
          "text": [
            "Epoch 700/1000: 100%|██████████| 13/13 [00:04<00:00,  3.12batch/s, Gen Loss=5.1308, Disc Loss=0.0152]\n"
          ]
        },
        {
          "output_type": "stream",
          "name": "stdout",
          "text": [
            "Generated images for epoch 699 saved to GrapeDataset/Grape Plant from Plant Village Dataset.\n",
            "Estimated time remaining: 23.51 minutes\n",
            "Current learning rates - Generator: 0.000001, Discriminator: 0.000001\n",
            "Epoch 701/1000\n"
          ]
        },
        {
          "output_type": "stream",
          "name": "stderr",
          "text": [
            "Epoch 701/1000: 100%|██████████| 13/13 [00:04<00:00,  3.03batch/s, Gen Loss=5.0112, Disc Loss=0.0099]\n"
          ]
        },
        {
          "output_type": "stream",
          "name": "stdout",
          "text": [
            "Estimated time remaining: 23.43 minutes\n",
            "Current learning rates - Generator: 0.000001, Discriminator: 0.000001\n",
            "Epoch 702/1000\n"
          ]
        },
        {
          "output_type": "stream",
          "name": "stderr",
          "text": [
            "Epoch 702/1000: 100%|██████████| 13/13 [00:05<00:00,  2.25batch/s, Gen Loss=5.1070, Disc Loss=0.0109]\n"
          ]
        },
        {
          "output_type": "stream",
          "name": "stdout",
          "text": [
            "Estimated time remaining: 23.36 minutes\n",
            "Current learning rates - Generator: 0.000001, Discriminator: 0.000001\n",
            "Epoch 703/1000\n"
          ]
        },
        {
          "output_type": "stream",
          "name": "stderr",
          "text": [
            "Epoch 703/1000: 100%|██████████| 13/13 [00:04<00:00,  3.08batch/s, Gen Loss=5.0037, Disc Loss=0.0164]\n"
          ]
        },
        {
          "output_type": "stream",
          "name": "stdout",
          "text": [
            "Estimated time remaining: 23.27 minutes\n",
            "Current learning rates - Generator: 0.000001, Discriminator: 0.000001\n",
            "Epoch 704/1000\n"
          ]
        },
        {
          "output_type": "stream",
          "name": "stderr",
          "text": [
            "Epoch 704/1000: 100%|██████████| 13/13 [00:04<00:00,  3.16batch/s, Gen Loss=5.4060, Disc Loss=0.0138]\n"
          ]
        },
        {
          "output_type": "stream",
          "name": "stdout",
          "text": [
            "Estimated time remaining: 23.19 minutes\n",
            "Current learning rates - Generator: 0.000001, Discriminator: 0.000001\n",
            "Epoch 705/1000\n"
          ]
        },
        {
          "output_type": "stream",
          "name": "stderr",
          "text": [
            "Epoch 705/1000: 100%|██████████| 13/13 [00:04<00:00,  2.62batch/s, Gen Loss=4.9814, Disc Loss=0.0213]\n"
          ]
        },
        {
          "output_type": "stream",
          "name": "stdout",
          "text": [
            "Generated images for epoch 704 saved to GrapeDataset/Grape Plant from Plant Village Dataset.\n",
            "Estimated time remaining: 23.12 minutes\n",
            "Current learning rates - Generator: 0.000001, Discriminator: 0.000001\n",
            "Epoch 706/1000\n"
          ]
        },
        {
          "output_type": "stream",
          "name": "stderr",
          "text": [
            "Epoch 706/1000: 100%|██████████| 13/13 [00:04<00:00,  3.06batch/s, Gen Loss=5.1827, Disc Loss=0.0101]\n"
          ]
        },
        {
          "output_type": "stream",
          "name": "stdout",
          "text": [
            "Estimated time remaining: 23.04 minutes\n",
            "Current learning rates - Generator: 0.000001, Discriminator: 0.000001\n",
            "Epoch 707/1000\n"
          ]
        },
        {
          "output_type": "stream",
          "name": "stderr",
          "text": [
            "Epoch 707/1000: 100%|██████████| 13/13 [00:04<00:00,  3.08batch/s, Gen Loss=4.9617, Disc Loss=0.0200]\n"
          ]
        },
        {
          "output_type": "stream",
          "name": "stdout",
          "text": [
            "Estimated time remaining: 22.96 minutes\n",
            "Current learning rates - Generator: 0.000001, Discriminator: 0.000001\n",
            "Epoch 708/1000\n"
          ]
        },
        {
          "output_type": "stream",
          "name": "stderr",
          "text": [
            "Epoch 708/1000: 100%|██████████| 13/13 [00:04<00:00,  2.70batch/s, Gen Loss=4.9751, Disc Loss=0.0120]\n"
          ]
        },
        {
          "output_type": "stream",
          "name": "stdout",
          "text": [
            "Estimated time remaining: 22.88 minutes\n",
            "Current learning rates - Generator: 0.000001, Discriminator: 0.000001\n",
            "Epoch 709/1000\n"
          ]
        },
        {
          "output_type": "stream",
          "name": "stderr",
          "text": [
            "Epoch 709/1000: 100%|██████████| 13/13 [00:05<00:00,  2.58batch/s, Gen Loss=4.8785, Disc Loss=0.0106]\n"
          ]
        },
        {
          "output_type": "stream",
          "name": "stdout",
          "text": [
            "Estimated time remaining: 22.81 minutes\n",
            "Current learning rates - Generator: 0.000001, Discriminator: 0.000001\n",
            "Epoch 710/1000\n"
          ]
        },
        {
          "output_type": "stream",
          "name": "stderr",
          "text": [
            "Epoch 710/1000: 100%|██████████| 13/13 [00:04<00:00,  3.16batch/s, Gen Loss=4.9193, Disc Loss=0.0133]\n"
          ]
        },
        {
          "output_type": "stream",
          "name": "stdout",
          "text": [
            "Generated images for epoch 709 saved to GrapeDataset/Grape Plant from Plant Village Dataset.\n",
            "Estimated time remaining: 22.73 minutes\n",
            "Current learning rates - Generator: 0.000001, Discriminator: 0.000001\n",
            "Epoch 711/1000\n"
          ]
        },
        {
          "output_type": "stream",
          "name": "stderr",
          "text": [
            "Epoch 711/1000: 100%|██████████| 13/13 [00:04<00:00,  3.02batch/s, Gen Loss=4.8472, Disc Loss=0.0172]\n"
          ]
        },
        {
          "output_type": "stream",
          "name": "stdout",
          "text": [
            "Estimated time remaining: 22.65 minutes\n",
            "Current learning rates - Generator: 0.000001, Discriminator: 0.000001\n",
            "Epoch 712/1000\n"
          ]
        },
        {
          "output_type": "stream",
          "name": "stderr",
          "text": [
            "Epoch 712/1000: 100%|██████████| 13/13 [00:05<00:00,  2.37batch/s, Gen Loss=4.9303, Disc Loss=0.0162]\n"
          ]
        },
        {
          "output_type": "stream",
          "name": "stdout",
          "text": [
            "Estimated time remaining: 22.58 minutes\n",
            "Current learning rates - Generator: 0.000001, Discriminator: 0.000001\n",
            "Epoch 713/1000\n"
          ]
        },
        {
          "output_type": "stream",
          "name": "stderr",
          "text": [
            "Epoch 713/1000: 100%|██████████| 13/13 [00:04<00:00,  3.04batch/s, Gen Loss=4.5476, Disc Loss=0.0177]\n"
          ]
        },
        {
          "output_type": "stream",
          "name": "stdout",
          "text": [
            "Estimated time remaining: 22.49 minutes\n",
            "Current learning rates - Generator: 0.000001, Discriminator: 0.000001\n",
            "Epoch 714/1000\n"
          ]
        },
        {
          "output_type": "stream",
          "name": "stderr",
          "text": [
            "Epoch 714/1000: 100%|██████████| 13/13 [00:04<00:00,  3.13batch/s, Gen Loss=4.6454, Disc Loss=0.0565]\n"
          ]
        },
        {
          "output_type": "stream",
          "name": "stdout",
          "text": [
            "Estimated time remaining: 22.41 minutes\n",
            "Current learning rates - Generator: 0.000001, Discriminator: 0.000001\n",
            "Epoch 715/1000\n"
          ]
        },
        {
          "output_type": "stream",
          "name": "stderr",
          "text": [
            "Epoch 715/1000: 100%|██████████| 13/13 [00:05<00:00,  2.29batch/s, Gen Loss=4.6030, Disc Loss=0.0200]\n"
          ]
        },
        {
          "output_type": "stream",
          "name": "stdout",
          "text": [
            "Generated images for epoch 714 saved to GrapeDataset/Grape Plant from Plant Village Dataset.\n",
            "Estimated time remaining: 22.35 minutes\n",
            "Current learning rates - Generator: 0.000001, Discriminator: 0.000001\n",
            "Epoch 716/1000\n"
          ]
        },
        {
          "output_type": "stream",
          "name": "stderr",
          "text": [
            "Epoch 716/1000: 100%|██████████| 13/13 [00:04<00:00,  3.00batch/s, Gen Loss=3.9020, Disc Loss=0.0525]\n"
          ]
        },
        {
          "output_type": "stream",
          "name": "stdout",
          "text": [
            "Estimated time remaining: 22.27 minutes\n",
            "Current learning rates - Generator: 0.000001, Discriminator: 0.000001\n",
            "Epoch 717/1000\n"
          ]
        },
        {
          "output_type": "stream",
          "name": "stderr",
          "text": [
            "Epoch 717/1000: 100%|██████████| 13/13 [00:04<00:00,  3.15batch/s, Gen Loss=4.1990, Disc Loss=0.0223]\n"
          ]
        },
        {
          "output_type": "stream",
          "name": "stdout",
          "text": [
            "Estimated time remaining: 22.18 minutes\n",
            "Current learning rates - Generator: 0.000001, Discriminator: 0.000001\n",
            "Epoch 718/1000\n"
          ]
        },
        {
          "output_type": "stream",
          "name": "stderr",
          "text": [
            "Epoch 718/1000: 100%|██████████| 13/13 [00:05<00:00,  2.37batch/s, Gen Loss=4.5237, Disc Loss=0.0175]\n"
          ]
        },
        {
          "output_type": "stream",
          "name": "stdout",
          "text": [
            "Estimated time remaining: 22.11 minutes\n",
            "Current learning rates - Generator: 0.000001, Discriminator: 0.000001\n",
            "Epoch 719/1000\n"
          ]
        },
        {
          "output_type": "stream",
          "name": "stderr",
          "text": [
            "Epoch 719/1000: 100%|██████████| 13/13 [00:04<00:00,  3.00batch/s, Gen Loss=4.3017, Disc Loss=0.0433]\n"
          ]
        },
        {
          "output_type": "stream",
          "name": "stdout",
          "text": [
            "Estimated time remaining: 22.03 minutes\n",
            "Current learning rates - Generator: 0.000001, Discriminator: 0.000001\n",
            "Epoch 720/1000\n"
          ]
        },
        {
          "output_type": "stream",
          "name": "stderr",
          "text": [
            "Epoch 720/1000: 100%|██████████| 13/13 [00:04<00:00,  3.03batch/s, Gen Loss=4.0635, Disc Loss=0.0341]\n"
          ]
        },
        {
          "output_type": "stream",
          "name": "stdout",
          "text": [
            "Generated images for epoch 719 saved to GrapeDataset/Grape Plant from Plant Village Dataset.\n",
            "Estimated time remaining: 21.95 minutes\n",
            "Current learning rates - Generator: 0.000001, Discriminator: 0.000001\n",
            "Epoch 721/1000\n"
          ]
        },
        {
          "output_type": "stream",
          "name": "stderr",
          "text": [
            "Epoch 721/1000: 100%|██████████| 13/13 [00:05<00:00,  2.47batch/s, Gen Loss=4.0646, Disc Loss=0.0325]\n"
          ]
        },
        {
          "output_type": "stream",
          "name": "stdout",
          "text": [
            "Estimated time remaining: 21.88 minutes\n",
            "Current learning rates - Generator: 0.000001, Discriminator: 0.000001\n",
            "Epoch 722/1000\n"
          ]
        },
        {
          "output_type": "stream",
          "name": "stderr",
          "text": [
            "Epoch 722/1000: 100%|██████████| 13/13 [00:04<00:00,  2.96batch/s, Gen Loss=4.1055, Disc Loss=0.0231]\n"
          ]
        },
        {
          "output_type": "stream",
          "name": "stdout",
          "text": [
            "Estimated time remaining: 21.80 minutes\n",
            "Current learning rates - Generator: 0.000001, Discriminator: 0.000001\n",
            "Epoch 723/1000\n"
          ]
        },
        {
          "output_type": "stream",
          "name": "stderr",
          "text": [
            "Epoch 723/1000: 100%|██████████| 13/13 [00:04<00:00,  3.06batch/s, Gen Loss=3.7851, Disc Loss=0.0377]\n"
          ]
        },
        {
          "output_type": "stream",
          "name": "stdout",
          "text": [
            "Estimated time remaining: 21.72 minutes\n",
            "Current learning rates - Generator: 0.000001, Discriminator: 0.000001\n",
            "Epoch 724/1000\n"
          ]
        },
        {
          "output_type": "stream",
          "name": "stderr",
          "text": [
            "Epoch 724/1000: 100%|██████████| 13/13 [00:04<00:00,  2.81batch/s, Gen Loss=4.2102, Disc Loss=0.1866]\n"
          ]
        },
        {
          "output_type": "stream",
          "name": "stdout",
          "text": [
            "Estimated time remaining: 21.64 minutes\n",
            "Current learning rates - Generator: 0.000001, Discriminator: 0.000001\n",
            "Epoch 725/1000\n"
          ]
        },
        {
          "output_type": "stream",
          "name": "stderr",
          "text": [
            "Epoch 725/1000: 100%|██████████| 13/13 [00:05<00:00,  2.46batch/s, Gen Loss=4.1385, Disc Loss=0.0230]\n"
          ]
        },
        {
          "output_type": "stream",
          "name": "stdout",
          "text": [
            "Generated images for epoch 724 saved to GrapeDataset/Grape Plant from Plant Village Dataset.\n",
            "Estimated time remaining: 21.57 minutes\n",
            "Current learning rates - Generator: 0.000001, Discriminator: 0.000001\n",
            "Epoch 726/1000\n"
          ]
        },
        {
          "output_type": "stream",
          "name": "stderr",
          "text": [
            "Epoch 726/1000: 100%|██████████| 13/13 [00:04<00:00,  2.96batch/s, Gen Loss=3.9530, Disc Loss=0.0483]\n"
          ]
        },
        {
          "output_type": "stream",
          "name": "stdout",
          "text": [
            "Estimated time remaining: 21.49 minutes\n",
            "Current learning rates - Generator: 0.000001, Discriminator: 0.000001\n",
            "Epoch 727/1000\n"
          ]
        },
        {
          "output_type": "stream",
          "name": "stderr",
          "text": [
            "Epoch 727/1000: 100%|██████████| 13/13 [00:04<00:00,  3.00batch/s, Gen Loss=3.9679, Disc Loss=0.1016]\n"
          ]
        },
        {
          "output_type": "stream",
          "name": "stdout",
          "text": [
            "Estimated time remaining: 21.41 minutes\n",
            "Current learning rates - Generator: 0.000001, Discriminator: 0.000001\n",
            "Epoch 728/1000\n"
          ]
        },
        {
          "output_type": "stream",
          "name": "stderr",
          "text": [
            "Epoch 728/1000: 100%|██████████| 13/13 [00:05<00:00,  2.27batch/s, Gen Loss=3.9920, Disc Loss=0.0420]\n"
          ]
        },
        {
          "output_type": "stream",
          "name": "stdout",
          "text": [
            "Estimated time remaining: 21.34 minutes\n",
            "Current learning rates - Generator: 0.000001, Discriminator: 0.000001\n",
            "Epoch 729/1000\n"
          ]
        },
        {
          "output_type": "stream",
          "name": "stderr",
          "text": [
            "Epoch 729/1000: 100%|██████████| 13/13 [00:04<00:00,  3.05batch/s, Gen Loss=3.7029, Disc Loss=0.0662]\n"
          ]
        },
        {
          "output_type": "stream",
          "name": "stdout",
          "text": [
            "Estimated time remaining: 21.26 minutes\n",
            "Current learning rates - Generator: 0.000001, Discriminator: 0.000001\n",
            "Epoch 730/1000\n"
          ]
        },
        {
          "output_type": "stream",
          "name": "stderr",
          "text": [
            "Epoch 730/1000: 100%|██████████| 13/13 [00:04<00:00,  3.15batch/s, Gen Loss=4.1447, Disc Loss=0.0285]\n"
          ]
        },
        {
          "output_type": "stream",
          "name": "stdout",
          "text": [
            "Generated images for epoch 729 saved to GrapeDataset/Grape Plant from Plant Village Dataset.\n",
            "Estimated time remaining: 21.18 minutes\n",
            "Current learning rates - Generator: 0.000001, Discriminator: 0.000001\n",
            "Epoch 731/1000\n"
          ]
        },
        {
          "output_type": "stream",
          "name": "stderr",
          "text": [
            "Epoch 731/1000: 100%|██████████| 13/13 [00:05<00:00,  2.25batch/s, Gen Loss=4.1254, Disc Loss=0.0329]\n"
          ]
        },
        {
          "output_type": "stream",
          "name": "stdout",
          "text": [
            "Estimated time remaining: 21.11 minutes\n",
            "Current learning rates - Generator: 0.000001, Discriminator: 0.000001\n",
            "Epoch 732/1000\n"
          ]
        },
        {
          "output_type": "stream",
          "name": "stderr",
          "text": [
            "Epoch 732/1000: 100%|██████████| 13/13 [00:04<00:00,  2.96batch/s, Gen Loss=4.4151, Disc Loss=0.0231]\n"
          ]
        },
        {
          "output_type": "stream",
          "name": "stdout",
          "text": [
            "Estimated time remaining: 21.03 minutes\n",
            "Current learning rates - Generator: 0.000001, Discriminator: 0.000001\n",
            "Epoch 733/1000\n"
          ]
        },
        {
          "output_type": "stream",
          "name": "stderr",
          "text": [
            "Epoch 733/1000: 100%|██████████| 13/13 [00:04<00:00,  3.10batch/s, Gen Loss=4.2571, Disc Loss=0.0227]\n"
          ]
        },
        {
          "output_type": "stream",
          "name": "stdout",
          "text": [
            "Estimated time remaining: 20.95 minutes\n",
            "Current learning rates - Generator: 0.000001, Discriminator: 0.000001\n",
            "Epoch 734/1000\n"
          ]
        },
        {
          "output_type": "stream",
          "name": "stderr",
          "text": [
            "Epoch 734/1000: 100%|██████████| 13/13 [00:05<00:00,  2.21batch/s, Gen Loss=4.5011, Disc Loss=0.0341]\n"
          ]
        },
        {
          "output_type": "stream",
          "name": "stdout",
          "text": [
            "Estimated time remaining: 20.88 minutes\n",
            "Current learning rates - Generator: 0.000001, Discriminator: 0.000001\n",
            "Epoch 735/1000\n"
          ]
        },
        {
          "output_type": "stream",
          "name": "stderr",
          "text": [
            "Epoch 735/1000: 100%|██████████| 13/13 [00:04<00:00,  3.01batch/s, Gen Loss=4.6529, Disc Loss=0.0196]\n"
          ]
        },
        {
          "output_type": "stream",
          "name": "stdout",
          "text": [
            "Generated images for epoch 734 saved to GrapeDataset/Grape Plant from Plant Village Dataset.\n",
            "Estimated time remaining: 20.80 minutes\n",
            "Current learning rates - Generator: 0.000001, Discriminator: 0.000001\n",
            "Epoch 736/1000\n"
          ]
        },
        {
          "output_type": "stream",
          "name": "stderr",
          "text": [
            "Epoch 736/1000: 100%|██████████| 13/13 [00:04<00:00,  3.09batch/s, Gen Loss=4.4951, Disc Loss=0.0349]\n"
          ]
        },
        {
          "output_type": "stream",
          "name": "stdout",
          "text": [
            "Estimated time remaining: 20.72 minutes\n",
            "Current learning rates - Generator: 0.000001, Discriminator: 0.000001\n",
            "Epoch 737/1000\n"
          ]
        },
        {
          "output_type": "stream",
          "name": "stderr",
          "text": [
            "Epoch 737/1000: 100%|██████████| 13/13 [00:05<00:00,  2.26batch/s, Gen Loss=4.3083, Disc Loss=0.0428]\n"
          ]
        },
        {
          "output_type": "stream",
          "name": "stdout",
          "text": [
            "Estimated time remaining: 20.65 minutes\n",
            "Current learning rates - Generator: 0.000001, Discriminator: 0.000001\n",
            "Epoch 738/1000\n"
          ]
        },
        {
          "output_type": "stream",
          "name": "stderr",
          "text": [
            "Epoch 738/1000: 100%|██████████| 13/13 [00:04<00:00,  2.99batch/s, Gen Loss=4.4115, Disc Loss=0.0207]\n"
          ]
        },
        {
          "output_type": "stream",
          "name": "stdout",
          "text": [
            "Estimated time remaining: 20.57 minutes\n",
            "Current learning rates - Generator: 0.000001, Discriminator: 0.000001\n",
            "Epoch 739/1000\n"
          ]
        },
        {
          "output_type": "stream",
          "name": "stderr",
          "text": [
            "Epoch 739/1000: 100%|██████████| 13/13 [00:04<00:00,  3.05batch/s, Gen Loss=4.8478, Disc Loss=0.0260]\n"
          ]
        },
        {
          "output_type": "stream",
          "name": "stdout",
          "text": [
            "Estimated time remaining: 20.49 minutes\n",
            "Current learning rates - Generator: 0.000001, Discriminator: 0.000001\n",
            "Epoch 740/1000\n"
          ]
        },
        {
          "output_type": "stream",
          "name": "stderr",
          "text": [
            "Epoch 740/1000: 100%|██████████| 13/13 [00:04<00:00,  2.71batch/s, Gen Loss=4.4429, Disc Loss=0.0244]\n"
          ]
        },
        {
          "output_type": "stream",
          "name": "stdout",
          "text": [
            "Generated images for epoch 739 saved to GrapeDataset/Grape Plant from Plant Village Dataset.\n",
            "Estimated time remaining: 20.41 minutes\n",
            "Current learning rates - Generator: 0.000001, Discriminator: 0.000001\n",
            "Epoch 741/1000\n"
          ]
        },
        {
          "output_type": "stream",
          "name": "stderr",
          "text": [
            "Epoch 741/1000: 100%|██████████| 13/13 [00:04<00:00,  3.05batch/s, Gen Loss=4.5178, Disc Loss=0.0135]\n"
          ]
        },
        {
          "output_type": "stream",
          "name": "stdout",
          "text": [
            "Estimated time remaining: 20.33 minutes\n",
            "Current learning rates - Generator: 0.000001, Discriminator: 0.000001\n",
            "Epoch 742/1000\n"
          ]
        },
        {
          "output_type": "stream",
          "name": "stderr",
          "text": [
            "Epoch 742/1000: 100%|██████████| 13/13 [00:04<00:00,  3.07batch/s, Gen Loss=4.8264, Disc Loss=0.0189]\n"
          ]
        },
        {
          "output_type": "stream",
          "name": "stdout",
          "text": [
            "Estimated time remaining: 20.25 minutes\n",
            "Current learning rates - Generator: 0.000001, Discriminator: 0.000001\n",
            "Epoch 743/1000\n"
          ]
        },
        {
          "output_type": "stream",
          "name": "stderr",
          "text": [
            "Epoch 743/1000: 100%|██████████| 13/13 [00:05<00:00,  2.57batch/s, Gen Loss=4.9859, Disc Loss=0.0167]\n"
          ]
        },
        {
          "output_type": "stream",
          "name": "stdout",
          "text": [
            "Estimated time remaining: 20.18 minutes\n",
            "Current learning rates - Generator: 0.000001, Discriminator: 0.000001\n",
            "Epoch 744/1000\n"
          ]
        },
        {
          "output_type": "stream",
          "name": "stderr",
          "text": [
            "Epoch 744/1000: 100%|██████████| 13/13 [00:05<00:00,  2.45batch/s, Gen Loss=5.0683, Disc Loss=0.0381]\n"
          ]
        },
        {
          "output_type": "stream",
          "name": "stdout",
          "text": [
            "Estimated time remaining: 20.10 minutes\n",
            "Current learning rates - Generator: 0.000001, Discriminator: 0.000001\n",
            "Epoch 745/1000\n"
          ]
        },
        {
          "output_type": "stream",
          "name": "stderr",
          "text": [
            "Epoch 745/1000: 100%|██████████| 13/13 [00:04<00:00,  2.99batch/s, Gen Loss=4.7156, Disc Loss=0.0459]\n"
          ]
        },
        {
          "output_type": "stream",
          "name": "stdout",
          "text": [
            "Generated images for epoch 744 saved to GrapeDataset/Grape Plant from Plant Village Dataset.\n",
            "Estimated time remaining: 20.03 minutes\n",
            "Current learning rates - Generator: 0.000001, Discriminator: 0.000001\n",
            "Epoch 746/1000\n"
          ]
        },
        {
          "output_type": "stream",
          "name": "stderr",
          "text": [
            "Epoch 746/1000: 100%|██████████| 13/13 [00:04<00:00,  2.77batch/s, Gen Loss=4.6038, Disc Loss=0.0259]\n"
          ]
        },
        {
          "output_type": "stream",
          "name": "stdout",
          "text": [
            "Estimated time remaining: 19.95 minutes\n",
            "Current learning rates - Generator: 0.000001, Discriminator: 0.000001\n",
            "Epoch 747/1000\n"
          ]
        },
        {
          "output_type": "stream",
          "name": "stderr",
          "text": [
            "Epoch 747/1000: 100%|██████████| 13/13 [00:05<00:00,  2.24batch/s, Gen Loss=5.0355, Disc Loss=0.0136]\n"
          ]
        },
        {
          "output_type": "stream",
          "name": "stdout",
          "text": [
            "Estimated time remaining: 19.87 minutes\n",
            "Current learning rates - Generator: 0.000001, Discriminator: 0.000001\n",
            "Epoch 748/1000\n"
          ]
        },
        {
          "output_type": "stream",
          "name": "stderr",
          "text": [
            "Epoch 748/1000: 100%|██████████| 13/13 [00:04<00:00,  2.86batch/s, Gen Loss=5.0058, Disc Loss=0.0670]\n"
          ]
        },
        {
          "output_type": "stream",
          "name": "stdout",
          "text": [
            "Estimated time remaining: 19.79 minutes\n",
            "Current learning rates - Generator: 0.000001, Discriminator: 0.000001\n",
            "Epoch 749/1000\n"
          ]
        },
        {
          "output_type": "stream",
          "name": "stderr",
          "text": [
            "Epoch 749/1000: 100%|██████████| 13/13 [00:04<00:00,  2.78batch/s, Gen Loss=4.6263, Disc Loss=0.0139]\n"
          ]
        },
        {
          "output_type": "stream",
          "name": "stdout",
          "text": [
            "Estimated time remaining: 19.72 minutes\n",
            "Current learning rates - Generator: 0.000001, Discriminator: 0.000001\n",
            "Epoch 750/1000\n"
          ]
        },
        {
          "output_type": "stream",
          "name": "stderr",
          "text": [
            "Epoch 750/1000: 100%|██████████| 13/13 [00:06<00:00,  1.98batch/s, Gen Loss=4.9123, Disc Loss=0.0129]\n"
          ]
        },
        {
          "output_type": "stream",
          "name": "stdout",
          "text": [
            "Generated images for epoch 749 saved to GrapeDataset/Grape Plant from Plant Village Dataset.\n",
            "Estimated time remaining: 19.65 minutes\n",
            "Current learning rates - Generator: 0.000001, Discriminator: 0.000001\n",
            "Epoch 751/1000\n"
          ]
        },
        {
          "output_type": "stream",
          "name": "stderr",
          "text": [
            "Epoch 751/1000: 100%|██████████| 13/13 [00:04<00:00,  2.87batch/s, Gen Loss=4.6588, Disc Loss=0.0465]\n"
          ]
        },
        {
          "output_type": "stream",
          "name": "stdout",
          "text": [
            "Estimated time remaining: 19.57 minutes\n",
            "Current learning rates - Generator: 0.000001, Discriminator: 0.000001\n",
            "Epoch 752/1000\n"
          ]
        },
        {
          "output_type": "stream",
          "name": "stderr",
          "text": [
            "Epoch 752/1000: 100%|██████████| 13/13 [00:04<00:00,  2.85batch/s, Gen Loss=4.7046, Disc Loss=0.0447]\n"
          ]
        },
        {
          "output_type": "stream",
          "name": "stdout",
          "text": [
            "Estimated time remaining: 19.49 minutes\n",
            "Current learning rates - Generator: 0.000001, Discriminator: 0.000001\n",
            "Epoch 753/1000\n"
          ]
        },
        {
          "output_type": "stream",
          "name": "stderr",
          "text": [
            "Epoch 753/1000: 100%|██████████| 13/13 [00:06<00:00,  2.03batch/s, Gen Loss=4.2080, Disc Loss=0.0327]\n"
          ]
        },
        {
          "output_type": "stream",
          "name": "stdout",
          "text": [
            "Estimated time remaining: 19.43 minutes\n",
            "Current learning rates - Generator: 0.000001, Discriminator: 0.000001\n",
            "Epoch 754/1000\n"
          ]
        },
        {
          "output_type": "stream",
          "name": "stderr",
          "text": [
            "Epoch 754/1000: 100%|██████████| 13/13 [00:04<00:00,  2.97batch/s, Gen Loss=4.6649, Disc Loss=0.0196]\n"
          ]
        },
        {
          "output_type": "stream",
          "name": "stdout",
          "text": [
            "Estimated time remaining: 19.34 minutes\n",
            "Current learning rates - Generator: 0.000001, Discriminator: 0.000001\n",
            "Epoch 755/1000\n"
          ]
        },
        {
          "output_type": "stream",
          "name": "stderr",
          "text": [
            "Epoch 755/1000: 100%|██████████| 13/13 [00:04<00:00,  2.79batch/s, Gen Loss=5.0213, Disc Loss=0.0150]\n"
          ]
        },
        {
          "output_type": "stream",
          "name": "stdout",
          "text": [
            "Generated images for epoch 754 saved to GrapeDataset/Grape Plant from Plant Village Dataset.\n",
            "Estimated time remaining: 19.27 minutes\n",
            "Current learning rates - Generator: 0.000001, Discriminator: 0.000001\n",
            "Epoch 756/1000\n"
          ]
        },
        {
          "output_type": "stream",
          "name": "stderr",
          "text": [
            "Epoch 756/1000: 100%|██████████| 13/13 [00:06<00:00,  2.07batch/s, Gen Loss=4.1571, Disc Loss=0.0290]\n"
          ]
        },
        {
          "output_type": "stream",
          "name": "stdout",
          "text": [
            "Estimated time remaining: 19.20 minutes\n",
            "Current learning rates - Generator: 0.000001, Discriminator: 0.000001\n",
            "Epoch 757/1000\n"
          ]
        },
        {
          "output_type": "stream",
          "name": "stderr",
          "text": [
            "Epoch 757/1000: 100%|██████████| 13/13 [00:04<00:00,  2.86batch/s, Gen Loss=4.3148, Disc Loss=0.0392]\n"
          ]
        },
        {
          "output_type": "stream",
          "name": "stdout",
          "text": [
            "Estimated time remaining: 19.12 minutes\n",
            "Current learning rates - Generator: 0.000001, Discriminator: 0.000001\n",
            "Epoch 758/1000\n"
          ]
        },
        {
          "output_type": "stream",
          "name": "stderr",
          "text": [
            "Epoch 758/1000: 100%|██████████| 13/13 [00:04<00:00,  2.76batch/s, Gen Loss=3.7584, Disc Loss=0.0435]\n"
          ]
        },
        {
          "output_type": "stream",
          "name": "stdout",
          "text": [
            "Estimated time remaining: 19.04 minutes\n",
            "Current learning rates - Generator: 0.000001, Discriminator: 0.000001\n",
            "Epoch 759/1000\n"
          ]
        },
        {
          "output_type": "stream",
          "name": "stderr",
          "text": [
            "Epoch 759/1000: 100%|██████████| 13/13 [00:06<00:00,  1.97batch/s, Gen Loss=4.0247, Disc Loss=0.0379]\n"
          ]
        },
        {
          "output_type": "stream",
          "name": "stdout",
          "text": [
            "Estimated time remaining: 18.98 minutes\n",
            "Current learning rates - Generator: 0.000001, Discriminator: 0.000001\n",
            "Epoch 760/1000\n"
          ]
        },
        {
          "output_type": "stream",
          "name": "stderr",
          "text": [
            "Epoch 760/1000: 100%|██████████| 13/13 [00:04<00:00,  2.86batch/s, Gen Loss=3.7892, Disc Loss=0.1204]\n"
          ]
        },
        {
          "output_type": "stream",
          "name": "stdout",
          "text": [
            "Generated images for epoch 759 saved to GrapeDataset/Grape Plant from Plant Village Dataset.\n",
            "Estimated time remaining: 18.90 minutes\n",
            "Current learning rates - Generator: 0.000001, Discriminator: 0.000001\n",
            "Epoch 761/1000\n"
          ]
        },
        {
          "output_type": "stream",
          "name": "stderr",
          "text": [
            "Epoch 761/1000: 100%|██████████| 13/13 [00:04<00:00,  2.72batch/s, Gen Loss=3.6874, Disc Loss=0.0419]\n"
          ]
        },
        {
          "output_type": "stream",
          "name": "stdout",
          "text": [
            "Estimated time remaining: 18.82 minutes\n",
            "Current learning rates - Generator: 0.000001, Discriminator: 0.000001\n",
            "Epoch 762/1000\n"
          ]
        },
        {
          "output_type": "stream",
          "name": "stderr",
          "text": [
            "Epoch 762/1000: 100%|██████████| 13/13 [00:06<00:00,  2.03batch/s, Gen Loss=3.8350, Disc Loss=0.0822]\n"
          ]
        },
        {
          "output_type": "stream",
          "name": "stdout",
          "text": [
            "Estimated time remaining: 18.75 minutes\n",
            "Current learning rates - Generator: 0.000001, Discriminator: 0.000001\n",
            "Epoch 763/1000\n"
          ]
        },
        {
          "output_type": "stream",
          "name": "stderr",
          "text": [
            "Epoch 763/1000: 100%|██████████| 13/13 [00:04<00:00,  2.88batch/s, Gen Loss=3.6374, Disc Loss=0.1008]\n"
          ]
        },
        {
          "output_type": "stream",
          "name": "stdout",
          "text": [
            "Estimated time remaining: 18.67 minutes\n",
            "Current learning rates - Generator: 0.000001, Discriminator: 0.000001\n",
            "Epoch 764/1000\n"
          ]
        },
        {
          "output_type": "stream",
          "name": "stderr",
          "text": [
            "Epoch 764/1000: 100%|██████████| 13/13 [00:04<00:00,  2.89batch/s, Gen Loss=4.1403, Disc Loss=0.1089]\n"
          ]
        },
        {
          "output_type": "stream",
          "name": "stdout",
          "text": [
            "Estimated time remaining: 18.59 minutes\n",
            "Current learning rates - Generator: 0.000001, Discriminator: 0.000001\n",
            "Epoch 765/1000\n"
          ]
        },
        {
          "output_type": "stream",
          "name": "stderr",
          "text": [
            "Epoch 765/1000: 100%|██████████| 13/13 [00:06<00:00,  2.00batch/s, Gen Loss=4.5410, Disc Loss=0.0373]\n"
          ]
        },
        {
          "output_type": "stream",
          "name": "stdout",
          "text": [
            "Generated images for epoch 764 saved to GrapeDataset/Grape Plant from Plant Village Dataset.\n",
            "Estimated time remaining: 18.53 minutes\n",
            "Current learning rates - Generator: 0.000001, Discriminator: 0.000001\n",
            "Epoch 766/1000\n"
          ]
        },
        {
          "output_type": "stream",
          "name": "stderr",
          "text": [
            "Epoch 766/1000: 100%|██████████| 13/13 [00:04<00:00,  2.82batch/s, Gen Loss=4.0711, Disc Loss=0.0224]\n"
          ]
        },
        {
          "output_type": "stream",
          "name": "stdout",
          "text": [
            "Estimated time remaining: 18.45 minutes\n",
            "Current learning rates - Generator: 0.000001, Discriminator: 0.000001\n",
            "Epoch 767/1000\n"
          ]
        },
        {
          "output_type": "stream",
          "name": "stderr",
          "text": [
            "Epoch 767/1000: 100%|██████████| 13/13 [00:04<00:00,  2.84batch/s, Gen Loss=5.0780, Disc Loss=0.0144]\n"
          ]
        },
        {
          "output_type": "stream",
          "name": "stdout",
          "text": [
            "Estimated time remaining: 18.37 minutes\n",
            "Current learning rates - Generator: 0.000001, Discriminator: 0.000001\n",
            "Epoch 768/1000\n"
          ]
        },
        {
          "output_type": "stream",
          "name": "stderr",
          "text": [
            "Epoch 768/1000: 100%|██████████| 13/13 [00:06<00:00,  2.03batch/s, Gen Loss=4.7564, Disc Loss=0.0176]\n"
          ]
        },
        {
          "output_type": "stream",
          "name": "stdout",
          "text": [
            "Estimated time remaining: 18.30 minutes\n",
            "Current learning rates - Generator: 0.000001, Discriminator: 0.000001\n",
            "Epoch 769/1000\n"
          ]
        },
        {
          "output_type": "stream",
          "name": "stderr",
          "text": [
            "Epoch 769/1000: 100%|██████████| 13/13 [00:04<00:00,  2.85batch/s, Gen Loss=4.8672, Disc Loss=0.0280]\n"
          ]
        },
        {
          "output_type": "stream",
          "name": "stdout",
          "text": [
            "Estimated time remaining: 18.22 minutes\n",
            "Current learning rates - Generator: 0.000001, Discriminator: 0.000001\n",
            "Epoch 770/1000\n"
          ]
        },
        {
          "output_type": "stream",
          "name": "stderr",
          "text": [
            "Epoch 770/1000: 100%|██████████| 13/13 [00:04<00:00,  2.86batch/s, Gen Loss=4.7718, Disc Loss=0.0223]\n"
          ]
        },
        {
          "output_type": "stream",
          "name": "stdout",
          "text": [
            "Generated images for epoch 769 saved to GrapeDataset/Grape Plant from Plant Village Dataset.\n",
            "Estimated time remaining: 18.14 minutes\n",
            "Current learning rates - Generator: 0.000001, Discriminator: 0.000001\n",
            "Epoch 771/1000\n"
          ]
        },
        {
          "output_type": "stream",
          "name": "stderr",
          "text": [
            "Epoch 771/1000: 100%|██████████| 13/13 [00:06<00:00,  2.00batch/s, Gen Loss=4.8700, Disc Loss=0.0578]\n"
          ]
        },
        {
          "output_type": "stream",
          "name": "stdout",
          "text": [
            "Estimated time remaining: 18.07 minutes\n",
            "Current learning rates - Generator: 0.000001, Discriminator: 0.000001\n",
            "Epoch 772/1000\n"
          ]
        },
        {
          "output_type": "stream",
          "name": "stderr",
          "text": [
            "Epoch 772/1000: 100%|██████████| 13/13 [00:04<00:00,  2.95batch/s, Gen Loss=5.2138, Disc Loss=0.0368]\n"
          ]
        },
        {
          "output_type": "stream",
          "name": "stdout",
          "text": [
            "Estimated time remaining: 17.99 minutes\n",
            "Current learning rates - Generator: 0.000001, Discriminator: 0.000001\n",
            "Epoch 773/1000\n"
          ]
        },
        {
          "output_type": "stream",
          "name": "stderr",
          "text": [
            "Epoch 773/1000: 100%|██████████| 13/13 [00:04<00:00,  2.76batch/s, Gen Loss=4.8043, Disc Loss=0.0163]\n"
          ]
        },
        {
          "output_type": "stream",
          "name": "stdout",
          "text": [
            "Estimated time remaining: 17.92 minutes\n",
            "Current learning rates - Generator: 0.000001, Discriminator: 0.000001\n",
            "Epoch 774/1000\n"
          ]
        },
        {
          "output_type": "stream",
          "name": "stderr",
          "text": [
            "Epoch 774/1000: 100%|██████████| 13/13 [00:06<00:00,  1.97batch/s, Gen Loss=4.9311, Disc Loss=0.0197]\n"
          ]
        },
        {
          "output_type": "stream",
          "name": "stdout",
          "text": [
            "Estimated time remaining: 17.85 minutes\n",
            "Current learning rates - Generator: 0.000001, Discriminator: 0.000001\n",
            "Epoch 775/1000\n"
          ]
        },
        {
          "output_type": "stream",
          "name": "stderr",
          "text": [
            "Epoch 775/1000: 100%|██████████| 13/13 [00:04<00:00,  2.79batch/s, Gen Loss=5.3347, Disc Loss=0.0115]\n"
          ]
        },
        {
          "output_type": "stream",
          "name": "stdout",
          "text": [
            "Generated images for epoch 774 saved to GrapeDataset/Grape Plant from Plant Village Dataset.\n",
            "Estimated time remaining: 17.77 minutes\n",
            "Current learning rates - Generator: 0.000001, Discriminator: 0.000001\n",
            "Epoch 776/1000\n"
          ]
        },
        {
          "output_type": "stream",
          "name": "stderr",
          "text": [
            "Epoch 776/1000: 100%|██████████| 13/13 [00:04<00:00,  2.78batch/s, Gen Loss=5.0605, Disc Loss=0.0142]\n"
          ]
        },
        {
          "output_type": "stream",
          "name": "stdout",
          "text": [
            "Estimated time remaining: 17.69 minutes\n",
            "Current learning rates - Generator: 0.000001, Discriminator: 0.000001\n",
            "Epoch 777/1000\n"
          ]
        },
        {
          "output_type": "stream",
          "name": "stderr",
          "text": [
            "Epoch 777/1000: 100%|██████████| 13/13 [00:06<00:00,  1.99batch/s, Gen Loss=4.7968, Disc Loss=0.0185]\n"
          ]
        },
        {
          "output_type": "stream",
          "name": "stdout",
          "text": [
            "Estimated time remaining: 17.62 minutes\n",
            "Current learning rates - Generator: 0.000001, Discriminator: 0.000001\n",
            "Epoch 778/1000\n"
          ]
        },
        {
          "output_type": "stream",
          "name": "stderr",
          "text": [
            "Epoch 778/1000: 100%|██████████| 13/13 [00:04<00:00,  2.82batch/s, Gen Loss=5.3341, Disc Loss=0.0188]\n"
          ]
        },
        {
          "output_type": "stream",
          "name": "stdout",
          "text": [
            "Estimated time remaining: 17.54 minutes\n",
            "Current learning rates - Generator: 0.000001, Discriminator: 0.000001\n",
            "Epoch 779/1000\n"
          ]
        },
        {
          "output_type": "stream",
          "name": "stderr",
          "text": [
            "Epoch 779/1000: 100%|██████████| 13/13 [00:04<00:00,  2.79batch/s, Gen Loss=5.3340, Disc Loss=0.0094]\n"
          ]
        },
        {
          "output_type": "stream",
          "name": "stdout",
          "text": [
            "Estimated time remaining: 17.46 minutes\n",
            "Current learning rates - Generator: 0.000001, Discriminator: 0.000001\n",
            "Epoch 780/1000\n"
          ]
        },
        {
          "output_type": "stream",
          "name": "stderr",
          "text": [
            "Epoch 780/1000: 100%|██████████| 13/13 [00:06<00:00,  1.97batch/s, Gen Loss=5.0314, Disc Loss=0.0346]\n"
          ]
        },
        {
          "output_type": "stream",
          "name": "stdout",
          "text": [
            "Generated images for epoch 779 saved to GrapeDataset/Grape Plant from Plant Village Dataset.\n",
            "Estimated time remaining: 17.40 minutes\n",
            "Current learning rates - Generator: 0.000001, Discriminator: 0.000001\n",
            "Epoch 781/1000\n"
          ]
        },
        {
          "output_type": "stream",
          "name": "stderr",
          "text": [
            "Epoch 781/1000: 100%|██████████| 13/13 [00:04<00:00,  3.02batch/s, Gen Loss=5.1234, Disc Loss=0.0229]\n"
          ]
        },
        {
          "output_type": "stream",
          "name": "stdout",
          "text": [
            "Estimated time remaining: 17.31 minutes\n",
            "Current learning rates - Generator: 0.000001, Discriminator: 0.000001\n",
            "Epoch 782/1000\n"
          ]
        },
        {
          "output_type": "stream",
          "name": "stderr",
          "text": [
            "Epoch 782/1000: 100%|██████████| 13/13 [00:04<00:00,  2.93batch/s, Gen Loss=4.8718, Disc Loss=0.0451]\n"
          ]
        },
        {
          "output_type": "stream",
          "name": "stdout",
          "text": [
            "Estimated time remaining: 17.23 minutes\n",
            "Current learning rates - Generator: 0.000001, Discriminator: 0.000001\n",
            "Epoch 783/1000\n"
          ]
        },
        {
          "output_type": "stream",
          "name": "stderr",
          "text": [
            "Epoch 783/1000: 100%|██████████| 13/13 [00:06<00:00,  2.02batch/s, Gen Loss=5.1222, Disc Loss=0.0101]\n"
          ]
        },
        {
          "output_type": "stream",
          "name": "stdout",
          "text": [
            "Estimated time remaining: 17.16 minutes\n",
            "Current learning rates - Generator: 0.000001, Discriminator: 0.000001\n",
            "Epoch 784/1000\n"
          ]
        },
        {
          "output_type": "stream",
          "name": "stderr",
          "text": [
            "Epoch 784/1000: 100%|██████████| 13/13 [00:04<00:00,  2.85batch/s, Gen Loss=4.9159, Disc Loss=0.0157]\n"
          ]
        },
        {
          "output_type": "stream",
          "name": "stdout",
          "text": [
            "Estimated time remaining: 17.08 minutes\n",
            "Current learning rates - Generator: 0.000001, Discriminator: 0.000001\n",
            "Epoch 785/1000\n"
          ]
        },
        {
          "output_type": "stream",
          "name": "stderr",
          "text": [
            "Epoch 785/1000: 100%|██████████| 13/13 [00:04<00:00,  2.79batch/s, Gen Loss=4.9424, Disc Loss=0.0106]\n"
          ]
        },
        {
          "output_type": "stream",
          "name": "stdout",
          "text": [
            "Generated images for epoch 784 saved to GrapeDataset/Grape Plant from Plant Village Dataset.\n",
            "Estimated time remaining: 17.01 minutes\n",
            "Current learning rates - Generator: 0.000001, Discriminator: 0.000001\n",
            "Epoch 786/1000\n"
          ]
        },
        {
          "output_type": "stream",
          "name": "stderr",
          "text": [
            "Epoch 786/1000: 100%|██████████| 13/13 [00:06<00:00,  1.97batch/s, Gen Loss=4.9536, Disc Loss=0.0421]\n"
          ]
        },
        {
          "output_type": "stream",
          "name": "stdout",
          "text": [
            "Estimated time remaining: 16.94 minutes\n",
            "Current learning rates - Generator: 0.000001, Discriminator: 0.000001\n",
            "Epoch 787/1000\n"
          ]
        },
        {
          "output_type": "stream",
          "name": "stderr",
          "text": [
            "Epoch 787/1000: 100%|██████████| 13/13 [00:04<00:00,  2.86batch/s, Gen Loss=5.0363, Disc Loss=0.0092]\n"
          ]
        },
        {
          "output_type": "stream",
          "name": "stdout",
          "text": [
            "Estimated time remaining: 16.86 minutes\n",
            "Current learning rates - Generator: 0.000001, Discriminator: 0.000001\n",
            "Epoch 788/1000\n"
          ]
        },
        {
          "output_type": "stream",
          "name": "stderr",
          "text": [
            "Epoch 788/1000: 100%|██████████| 13/13 [00:04<00:00,  2.83batch/s, Gen Loss=5.0732, Disc Loss=0.0188]\n"
          ]
        },
        {
          "output_type": "stream",
          "name": "stdout",
          "text": [
            "Estimated time remaining: 16.78 minutes\n",
            "Current learning rates - Generator: 0.000001, Discriminator: 0.000001\n",
            "Epoch 789/1000\n"
          ]
        },
        {
          "output_type": "stream",
          "name": "stderr",
          "text": [
            "Epoch 789/1000: 100%|██████████| 13/13 [00:06<00:00,  1.99batch/s, Gen Loss=5.2654, Disc Loss=0.0108]\n"
          ]
        },
        {
          "output_type": "stream",
          "name": "stdout",
          "text": [
            "Estimated time remaining: 16.71 minutes\n",
            "Current learning rates - Generator: 0.000001, Discriminator: 0.000001\n",
            "Epoch 790/1000\n"
          ]
        },
        {
          "output_type": "stream",
          "name": "stderr",
          "text": [
            "Epoch 790/1000: 100%|██████████| 13/13 [00:04<00:00,  2.72batch/s, Gen Loss=5.3055, Disc Loss=0.0093]\n"
          ]
        },
        {
          "output_type": "stream",
          "name": "stdout",
          "text": [
            "Generated images for epoch 789 saved to GrapeDataset/Grape Plant from Plant Village Dataset.\n",
            "Estimated time remaining: 16.63 minutes\n",
            "Current learning rates - Generator: 0.000001, Discriminator: 0.000001\n",
            "Epoch 791/1000\n"
          ]
        },
        {
          "output_type": "stream",
          "name": "stderr",
          "text": [
            "Epoch 791/1000: 100%|██████████| 13/13 [00:04<00:00,  2.97batch/s, Gen Loss=5.4092, Disc Loss=0.0248]\n"
          ]
        },
        {
          "output_type": "stream",
          "name": "stdout",
          "text": [
            "Estimated time remaining: 16.55 minutes\n",
            "Current learning rates - Generator: 0.000001, Discriminator: 0.000001\n",
            "Epoch 792/1000\n"
          ]
        },
        {
          "output_type": "stream",
          "name": "stderr",
          "text": [
            "Epoch 792/1000: 100%|██████████| 13/13 [00:06<00:00,  2.02batch/s, Gen Loss=4.8943, Disc Loss=0.0077]\n"
          ]
        },
        {
          "output_type": "stream",
          "name": "stdout",
          "text": [
            "Estimated time remaining: 16.48 minutes\n",
            "Current learning rates - Generator: 0.000001, Discriminator: 0.000001\n",
            "Epoch 793/1000\n"
          ]
        },
        {
          "output_type": "stream",
          "name": "stderr",
          "text": [
            "Epoch 793/1000: 100%|██████████| 13/13 [00:04<00:00,  2.88batch/s, Gen Loss=4.9679, Disc Loss=0.0238]\n"
          ]
        },
        {
          "output_type": "stream",
          "name": "stdout",
          "text": [
            "Estimated time remaining: 16.40 minutes\n",
            "Current learning rates - Generator: 0.000001, Discriminator: 0.000001\n",
            "Epoch 794/1000\n"
          ]
        },
        {
          "output_type": "stream",
          "name": "stderr",
          "text": [
            "Epoch 794/1000: 100%|██████████| 13/13 [00:04<00:00,  2.78batch/s, Gen Loss=5.0083, Disc Loss=0.0136]\n"
          ]
        },
        {
          "output_type": "stream",
          "name": "stdout",
          "text": [
            "Estimated time remaining: 16.32 minutes\n",
            "Current learning rates - Generator: 0.000001, Discriminator: 0.000001\n",
            "Epoch 795/1000\n"
          ]
        },
        {
          "output_type": "stream",
          "name": "stderr",
          "text": [
            "Epoch 795/1000: 100%|██████████| 13/13 [00:06<00:00,  2.03batch/s, Gen Loss=4.8495, Disc Loss=0.0352]\n"
          ]
        },
        {
          "output_type": "stream",
          "name": "stdout",
          "text": [
            "Generated images for epoch 794 saved to GrapeDataset/Grape Plant from Plant Village Dataset.\n",
            "Estimated time remaining: 16.25 minutes\n",
            "Current learning rates - Generator: 0.000001, Discriminator: 0.000001\n",
            "Epoch 796/1000\n"
          ]
        },
        {
          "output_type": "stream",
          "name": "stderr",
          "text": [
            "Epoch 796/1000: 100%|██████████| 13/13 [00:04<00:00,  2.87batch/s, Gen Loss=5.0812, Disc Loss=0.0099]\n"
          ]
        },
        {
          "output_type": "stream",
          "name": "stdout",
          "text": [
            "Estimated time remaining: 16.17 minutes\n",
            "Current learning rates - Generator: 0.000001, Discriminator: 0.000001\n",
            "Epoch 797/1000\n"
          ]
        },
        {
          "output_type": "stream",
          "name": "stderr",
          "text": [
            "Epoch 797/1000: 100%|██████████| 13/13 [00:04<00:00,  2.86batch/s, Gen Loss=4.8846, Disc Loss=0.0174]\n"
          ]
        },
        {
          "output_type": "stream",
          "name": "stdout",
          "text": [
            "Estimated time remaining: 16.09 minutes\n",
            "Current learning rates - Generator: 0.000001, Discriminator: 0.000001\n",
            "Epoch 798/1000\n"
          ]
        },
        {
          "output_type": "stream",
          "name": "stderr",
          "text": [
            "Epoch 798/1000: 100%|██████████| 13/13 [00:06<00:00,  2.01batch/s, Gen Loss=4.4454, Disc Loss=0.0124]\n"
          ]
        },
        {
          "output_type": "stream",
          "name": "stdout",
          "text": [
            "Estimated time remaining: 16.02 minutes\n",
            "Current learning rates - Generator: 0.000001, Discriminator: 0.000001\n",
            "Epoch 799/1000\n"
          ]
        },
        {
          "output_type": "stream",
          "name": "stderr",
          "text": [
            "Epoch 799/1000: 100%|██████████| 13/13 [00:04<00:00,  2.77batch/s, Gen Loss=4.7311, Disc Loss=0.0134]\n"
          ]
        },
        {
          "output_type": "stream",
          "name": "stdout",
          "text": [
            "Estimated time remaining: 15.94 minutes\n",
            "Current learning rates - Generator: 0.000001, Discriminator: 0.000001\n",
            "Epoch 800/1000\n"
          ]
        },
        {
          "output_type": "stream",
          "name": "stderr",
          "text": [
            "Epoch 800/1000: 100%|██████████| 13/13 [00:04<00:00,  2.93batch/s, Gen Loss=4.8097, Disc Loss=0.0246]\n"
          ]
        },
        {
          "output_type": "stream",
          "name": "stdout",
          "text": [
            "Generated images for epoch 799 saved to GrapeDataset/Grape Plant from Plant Village Dataset.\n",
            "Estimated time remaining: 15.86 minutes\n",
            "Current learning rates - Generator: 0.000001, Discriminator: 0.000001\n",
            "Epoch 801/1000\n"
          ]
        },
        {
          "output_type": "stream",
          "name": "stderr",
          "text": [
            "Epoch 801/1000: 100%|██████████| 13/13 [00:06<00:00,  2.07batch/s, Gen Loss=4.6049, Disc Loss=0.0195]\n"
          ]
        },
        {
          "output_type": "stream",
          "name": "stdout",
          "text": [
            "Estimated time remaining: 15.79 minutes\n",
            "Current learning rates - Generator: 0.000001, Discriminator: 0.000001\n",
            "Epoch 802/1000\n"
          ]
        },
        {
          "output_type": "stream",
          "name": "stderr",
          "text": [
            "Epoch 802/1000: 100%|██████████| 13/13 [00:04<00:00,  2.74batch/s, Gen Loss=4.2944, Disc Loss=0.0483]\n"
          ]
        },
        {
          "output_type": "stream",
          "name": "stdout",
          "text": [
            "Estimated time remaining: 15.71 minutes\n",
            "Current learning rates - Generator: 0.000001, Discriminator: 0.000001\n",
            "Epoch 803/1000\n"
          ]
        },
        {
          "output_type": "stream",
          "name": "stderr",
          "text": [
            "Epoch 803/1000: 100%|██████████| 13/13 [00:04<00:00,  2.85batch/s, Gen Loss=4.3693, Disc Loss=0.0699]\n"
          ]
        },
        {
          "output_type": "stream",
          "name": "stdout",
          "text": [
            "Estimated time remaining: 15.63 minutes\n",
            "Current learning rates - Generator: 0.000001, Discriminator: 0.000001\n",
            "Epoch 804/1000\n"
          ]
        },
        {
          "output_type": "stream",
          "name": "stderr",
          "text": [
            "Epoch 804/1000: 100%|██████████| 13/13 [00:05<00:00,  2.37batch/s, Gen Loss=4.5181, Disc Loss=0.1036]\n"
          ]
        },
        {
          "output_type": "stream",
          "name": "stdout",
          "text": [
            "Estimated time remaining: 15.55 minutes\n",
            "Current learning rates - Generator: 0.000001, Discriminator: 0.000001\n",
            "Epoch 805/1000\n"
          ]
        },
        {
          "output_type": "stream",
          "name": "stderr",
          "text": [
            "Epoch 805/1000: 100%|██████████| 13/13 [00:05<00:00,  2.57batch/s, Gen Loss=4.3534, Disc Loss=0.0696]\n"
          ]
        },
        {
          "output_type": "stream",
          "name": "stdout",
          "text": [
            "Generated images for epoch 804 saved to GrapeDataset/Grape Plant from Plant Village Dataset.\n",
            "Estimated time remaining: 15.48 minutes\n",
            "Current learning rates - Generator: 0.000001, Discriminator: 0.000001\n",
            "Epoch 806/1000\n"
          ]
        },
        {
          "output_type": "stream",
          "name": "stderr",
          "text": [
            "Epoch 806/1000: 100%|██████████| 13/13 [00:04<00:00,  2.91batch/s, Gen Loss=4.0031, Disc Loss=0.0361]\n"
          ]
        },
        {
          "output_type": "stream",
          "name": "stdout",
          "text": [
            "Estimated time remaining: 15.40 minutes\n",
            "Current learning rates - Generator: 0.000001, Discriminator: 0.000001\n",
            "Epoch 807/1000\n"
          ]
        },
        {
          "output_type": "stream",
          "name": "stderr",
          "text": [
            "Epoch 807/1000: 100%|██████████| 13/13 [00:05<00:00,  2.52batch/s, Gen Loss=4.2694, Disc Loss=0.0331]\n"
          ]
        },
        {
          "output_type": "stream",
          "name": "stdout",
          "text": [
            "Estimated time remaining: 15.32 minutes\n",
            "Current learning rates - Generator: 0.000001, Discriminator: 0.000001\n",
            "Epoch 808/1000\n"
          ]
        },
        {
          "output_type": "stream",
          "name": "stderr",
          "text": [
            "Epoch 808/1000: 100%|██████████| 13/13 [00:05<00:00,  2.40batch/s, Gen Loss=4.7615, Disc Loss=0.0531]\n"
          ]
        },
        {
          "output_type": "stream",
          "name": "stdout",
          "text": [
            "Estimated time remaining: 15.24 minutes\n",
            "Current learning rates - Generator: 0.000001, Discriminator: 0.000001\n",
            "Epoch 809/1000\n"
          ]
        },
        {
          "output_type": "stream",
          "name": "stderr",
          "text": [
            "Epoch 809/1000: 100%|██████████| 13/13 [00:04<00:00,  3.01batch/s, Gen Loss=4.0828, Disc Loss=0.0444]\n"
          ]
        },
        {
          "output_type": "stream",
          "name": "stdout",
          "text": [
            "Estimated time remaining: 15.16 minutes\n",
            "Current learning rates - Generator: 0.000001, Discriminator: 0.000001\n",
            "Epoch 810/1000\n"
          ]
        },
        {
          "output_type": "stream",
          "name": "stderr",
          "text": [
            "Epoch 810/1000: 100%|██████████| 13/13 [00:04<00:00,  2.94batch/s, Gen Loss=4.7879, Disc Loss=0.0471]\n"
          ]
        },
        {
          "output_type": "stream",
          "name": "stdout",
          "text": [
            "Generated images for epoch 809 saved to GrapeDataset/Grape Plant from Plant Village Dataset.\n",
            "Estimated time remaining: 15.09 minutes\n",
            "Current learning rates - Generator: 0.000001, Discriminator: 0.000001\n",
            "Epoch 811/1000\n"
          ]
        },
        {
          "output_type": "stream",
          "name": "stderr",
          "text": [
            "Epoch 811/1000: 100%|██████████| 13/13 [00:05<00:00,  2.17batch/s, Gen Loss=4.2683, Disc Loss=0.0195]\n"
          ]
        },
        {
          "output_type": "stream",
          "name": "stdout",
          "text": [
            "Estimated time remaining: 15.01 minutes\n",
            "Current learning rates - Generator: 0.000001, Discriminator: 0.000001\n",
            "Epoch 812/1000\n"
          ]
        },
        {
          "output_type": "stream",
          "name": "stderr",
          "text": [
            "Epoch 812/1000: 100%|██████████| 13/13 [00:04<00:00,  2.84batch/s, Gen Loss=4.4627, Disc Loss=0.0171]\n"
          ]
        },
        {
          "output_type": "stream",
          "name": "stdout",
          "text": [
            "Estimated time remaining: 14.93 minutes\n",
            "Current learning rates - Generator: 0.000001, Discriminator: 0.000001\n",
            "Epoch 813/1000\n"
          ]
        },
        {
          "output_type": "stream",
          "name": "stderr",
          "text": [
            "Epoch 813/1000: 100%|██████████| 13/13 [00:04<00:00,  2.69batch/s, Gen Loss=4.1817, Disc Loss=0.1288]\n"
          ]
        },
        {
          "output_type": "stream",
          "name": "stdout",
          "text": [
            "Estimated time remaining: 14.85 minutes\n",
            "Current learning rates - Generator: 0.000001, Discriminator: 0.000001\n",
            "Epoch 814/1000\n"
          ]
        },
        {
          "output_type": "stream",
          "name": "stderr",
          "text": [
            "Epoch 814/1000: 100%|██████████| 13/13 [00:06<00:00,  2.03batch/s, Gen Loss=4.1789, Disc Loss=0.0325]\n"
          ]
        },
        {
          "output_type": "stream",
          "name": "stdout",
          "text": [
            "Estimated time remaining: 14.78 minutes\n",
            "Current learning rates - Generator: 0.000001, Discriminator: 0.000001\n",
            "Epoch 815/1000\n"
          ]
        },
        {
          "output_type": "stream",
          "name": "stderr",
          "text": [
            "Epoch 815/1000: 100%|██████████| 13/13 [00:04<00:00,  2.82batch/s, Gen Loss=4.2491, Disc Loss=0.0386]\n"
          ]
        },
        {
          "output_type": "stream",
          "name": "stdout",
          "text": [
            "Generated images for epoch 814 saved to GrapeDataset/Grape Plant from Plant Village Dataset.\n",
            "Estimated time remaining: 14.70 minutes\n",
            "Current learning rates - Generator: 0.000001, Discriminator: 0.000001\n",
            "Epoch 816/1000\n"
          ]
        },
        {
          "output_type": "stream",
          "name": "stderr",
          "text": [
            "Epoch 816/1000: 100%|██████████| 13/13 [00:04<00:00,  2.69batch/s, Gen Loss=4.2319, Disc Loss=0.0449]\n"
          ]
        },
        {
          "output_type": "stream",
          "name": "stdout",
          "text": [
            "Estimated time remaining: 14.62 minutes\n",
            "Current learning rates - Generator: 0.000001, Discriminator: 0.000001\n",
            "Epoch 817/1000\n"
          ]
        },
        {
          "output_type": "stream",
          "name": "stderr",
          "text": [
            "Epoch 817/1000: 100%|██████████| 13/13 [00:06<00:00,  2.06batch/s, Gen Loss=4.5045, Disc Loss=0.0554]\n"
          ]
        },
        {
          "output_type": "stream",
          "name": "stdout",
          "text": [
            "Estimated time remaining: 14.55 minutes\n",
            "Current learning rates - Generator: 0.000001, Discriminator: 0.000001\n",
            "Epoch 818/1000\n"
          ]
        },
        {
          "output_type": "stream",
          "name": "stderr",
          "text": [
            "Epoch 818/1000: 100%|██████████| 13/13 [00:04<00:00,  2.94batch/s, Gen Loss=4.4804, Disc Loss=0.0211]\n"
          ]
        },
        {
          "output_type": "stream",
          "name": "stdout",
          "text": [
            "Estimated time remaining: 14.47 minutes\n",
            "Current learning rates - Generator: 0.000001, Discriminator: 0.000001\n",
            "Epoch 819/1000\n"
          ]
        },
        {
          "output_type": "stream",
          "name": "stderr",
          "text": [
            "Epoch 819/1000: 100%|██████████| 13/13 [00:04<00:00,  2.72batch/s, Gen Loss=4.3673, Disc Loss=0.0141]\n"
          ]
        },
        {
          "output_type": "stream",
          "name": "stdout",
          "text": [
            "Estimated time remaining: 14.39 minutes\n",
            "Current learning rates - Generator: 0.000001, Discriminator: 0.000001\n",
            "Epoch 820/1000\n"
          ]
        },
        {
          "output_type": "stream",
          "name": "stderr",
          "text": [
            "Epoch 820/1000: 100%|██████████| 13/13 [00:06<00:00,  2.05batch/s, Gen Loss=4.2700, Disc Loss=0.0462]\n"
          ]
        },
        {
          "output_type": "stream",
          "name": "stdout",
          "text": [
            "Generated images for epoch 819 saved to GrapeDataset/Grape Plant from Plant Village Dataset.\n",
            "Estimated time remaining: 14.32 minutes\n",
            "Current learning rates - Generator: 0.000001, Discriminator: 0.000001\n",
            "Epoch 821/1000\n"
          ]
        },
        {
          "output_type": "stream",
          "name": "stderr",
          "text": [
            "Epoch 821/1000: 100%|██████████| 13/13 [00:04<00:00,  2.87batch/s, Gen Loss=4.1436, Disc Loss=0.0442]\n"
          ]
        },
        {
          "output_type": "stream",
          "name": "stdout",
          "text": [
            "Estimated time remaining: 14.24 minutes\n",
            "Current learning rates - Generator: 0.000001, Discriminator: 0.000001\n",
            "Epoch 822/1000\n"
          ]
        },
        {
          "output_type": "stream",
          "name": "stderr",
          "text": [
            "Epoch 822/1000: 100%|██████████| 13/13 [00:04<00:00,  2.79batch/s, Gen Loss=4.2749, Disc Loss=0.0200]\n"
          ]
        },
        {
          "output_type": "stream",
          "name": "stdout",
          "text": [
            "Estimated time remaining: 14.16 minutes\n",
            "Current learning rates - Generator: 0.000001, Discriminator: 0.000001\n",
            "Epoch 823/1000\n"
          ]
        },
        {
          "output_type": "stream",
          "name": "stderr",
          "text": [
            "Epoch 823/1000: 100%|██████████| 13/13 [00:06<00:00,  1.98batch/s, Gen Loss=4.4492, Disc Loss=0.0151]\n"
          ]
        },
        {
          "output_type": "stream",
          "name": "stdout",
          "text": [
            "Estimated time remaining: 14.09 minutes\n",
            "Current learning rates - Generator: 0.000001, Discriminator: 0.000001\n",
            "Epoch 824/1000\n"
          ]
        },
        {
          "output_type": "stream",
          "name": "stderr",
          "text": [
            "Epoch 824/1000: 100%|██████████| 13/13 [00:04<00:00,  2.89batch/s, Gen Loss=4.3013, Disc Loss=0.0191]\n"
          ]
        },
        {
          "output_type": "stream",
          "name": "stdout",
          "text": [
            "Estimated time remaining: 14.00 minutes\n",
            "Current learning rates - Generator: 0.000001, Discriminator: 0.000001\n",
            "Epoch 825/1000\n"
          ]
        },
        {
          "output_type": "stream",
          "name": "stderr",
          "text": [
            "Epoch 825/1000: 100%|██████████| 13/13 [00:04<00:00,  2.81batch/s, Gen Loss=4.5734, Disc Loss=0.0995]\n"
          ]
        },
        {
          "output_type": "stream",
          "name": "stdout",
          "text": [
            "Generated images for epoch 824 saved to GrapeDataset/Grape Plant from Plant Village Dataset.\n",
            "Estimated time remaining: 13.93 minutes\n",
            "Current learning rates - Generator: 0.000001, Discriminator: 0.000001\n",
            "Epoch 826/1000\n"
          ]
        },
        {
          "output_type": "stream",
          "name": "stderr",
          "text": [
            "Epoch 826/1000: 100%|██████████| 13/13 [00:06<00:00,  2.05batch/s, Gen Loss=4.0820, Disc Loss=0.0729]\n"
          ]
        },
        {
          "output_type": "stream",
          "name": "stdout",
          "text": [
            "Estimated time remaining: 13.86 minutes\n",
            "Current learning rates - Generator: 0.000001, Discriminator: 0.000001\n",
            "Epoch 827/1000\n"
          ]
        },
        {
          "output_type": "stream",
          "name": "stderr",
          "text": [
            "Epoch 827/1000: 100%|██████████| 13/13 [00:04<00:00,  2.81batch/s, Gen Loss=3.9654, Disc Loss=0.0452]\n"
          ]
        },
        {
          "output_type": "stream",
          "name": "stdout",
          "text": [
            "Estimated time remaining: 13.78 minutes\n",
            "Current learning rates - Generator: 0.000001, Discriminator: 0.000001\n",
            "Epoch 828/1000\n"
          ]
        },
        {
          "output_type": "stream",
          "name": "stderr",
          "text": [
            "Epoch 828/1000: 100%|██████████| 13/13 [00:04<00:00,  2.77batch/s, Gen Loss=4.2687, Disc Loss=0.0553]\n"
          ]
        },
        {
          "output_type": "stream",
          "name": "stdout",
          "text": [
            "Estimated time remaining: 13.70 minutes\n",
            "Current learning rates - Generator: 0.000001, Discriminator: 0.000001\n",
            "Epoch 829/1000\n"
          ]
        },
        {
          "output_type": "stream",
          "name": "stderr",
          "text": [
            "Epoch 829/1000: 100%|██████████| 13/13 [00:06<00:00,  1.99batch/s, Gen Loss=3.9187, Disc Loss=0.0662]\n"
          ]
        },
        {
          "output_type": "stream",
          "name": "stdout",
          "text": [
            "Estimated time remaining: 13.62 minutes\n",
            "Current learning rates - Generator: 0.000001, Discriminator: 0.000001\n",
            "Epoch 830/1000\n"
          ]
        },
        {
          "output_type": "stream",
          "name": "stderr",
          "text": [
            "Epoch 830/1000: 100%|██████████| 13/13 [00:04<00:00,  2.78batch/s, Gen Loss=4.1597, Disc Loss=0.0326]\n"
          ]
        },
        {
          "output_type": "stream",
          "name": "stdout",
          "text": [
            "Generated images for epoch 829 saved to GrapeDataset/Grape Plant from Plant Village Dataset.\n",
            "Estimated time remaining: 13.54 minutes\n",
            "Current learning rates - Generator: 0.000001, Discriminator: 0.000001\n",
            "Epoch 831/1000\n"
          ]
        },
        {
          "output_type": "stream",
          "name": "stderr",
          "text": [
            "Epoch 831/1000: 100%|██████████| 13/13 [00:04<00:00,  2.68batch/s, Gen Loss=4.1632, Disc Loss=0.0709]\n"
          ]
        },
        {
          "output_type": "stream",
          "name": "stdout",
          "text": [
            "Estimated time remaining: 13.47 minutes\n",
            "Current learning rates - Generator: 0.000001, Discriminator: 0.000001\n",
            "Epoch 832/1000\n"
          ]
        },
        {
          "output_type": "stream",
          "name": "stderr",
          "text": [
            "Epoch 832/1000: 100%|██████████| 13/13 [00:06<00:00,  2.12batch/s, Gen Loss=4.5105, Disc Loss=0.0526]\n"
          ]
        },
        {
          "output_type": "stream",
          "name": "stdout",
          "text": [
            "Estimated time remaining: 13.39 minutes\n",
            "Current learning rates - Generator: 0.000001, Discriminator: 0.000001\n",
            "Epoch 833/1000\n"
          ]
        },
        {
          "output_type": "stream",
          "name": "stderr",
          "text": [
            "Epoch 833/1000: 100%|██████████| 13/13 [00:04<00:00,  2.78batch/s, Gen Loss=4.2823, Disc Loss=0.0159]\n"
          ]
        },
        {
          "output_type": "stream",
          "name": "stdout",
          "text": [
            "Estimated time remaining: 13.31 minutes\n",
            "Current learning rates - Generator: 0.000001, Discriminator: 0.000001\n",
            "Epoch 834/1000\n"
          ]
        },
        {
          "output_type": "stream",
          "name": "stderr",
          "text": [
            "Epoch 834/1000: 100%|██████████| 13/13 [00:04<00:00,  2.85batch/s, Gen Loss=4.7525, Disc Loss=0.0230]\n"
          ]
        },
        {
          "output_type": "stream",
          "name": "stdout",
          "text": [
            "Estimated time remaining: 13.23 minutes\n",
            "Current learning rates - Generator: 0.000001, Discriminator: 0.000001\n",
            "Epoch 835/1000\n"
          ]
        },
        {
          "output_type": "stream",
          "name": "stderr",
          "text": [
            "Epoch 835/1000: 100%|██████████| 13/13 [00:06<00:00,  2.05batch/s, Gen Loss=4.1580, Disc Loss=0.0258]\n"
          ]
        },
        {
          "output_type": "stream",
          "name": "stdout",
          "text": [
            "Generated images for epoch 834 saved to GrapeDataset/Grape Plant from Plant Village Dataset.\n",
            "Estimated time remaining: 13.16 minutes\n",
            "Current learning rates - Generator: 0.000001, Discriminator: 0.000001\n",
            "Epoch 836/1000\n"
          ]
        },
        {
          "output_type": "stream",
          "name": "stderr",
          "text": [
            "Epoch 836/1000: 100%|██████████| 13/13 [00:04<00:00,  2.81batch/s, Gen Loss=3.9427, Disc Loss=0.0348]\n"
          ]
        },
        {
          "output_type": "stream",
          "name": "stdout",
          "text": [
            "Estimated time remaining: 13.08 minutes\n",
            "Current learning rates - Generator: 0.000001, Discriminator: 0.000001\n",
            "Epoch 837/1000\n"
          ]
        },
        {
          "output_type": "stream",
          "name": "stderr",
          "text": [
            "Epoch 837/1000: 100%|██████████| 13/13 [00:04<00:00,  2.76batch/s, Gen Loss=4.5761, Disc Loss=0.0564]\n"
          ]
        },
        {
          "output_type": "stream",
          "name": "stdout",
          "text": [
            "Estimated time remaining: 13.00 minutes\n",
            "Current learning rates - Generator: 0.000001, Discriminator: 0.000001\n",
            "Epoch 838/1000\n"
          ]
        },
        {
          "output_type": "stream",
          "name": "stderr",
          "text": [
            "Epoch 838/1000: 100%|██████████| 13/13 [00:06<00:00,  1.93batch/s, Gen Loss=4.4650, Disc Loss=0.0418]\n"
          ]
        },
        {
          "output_type": "stream",
          "name": "stdout",
          "text": [
            "Estimated time remaining: 12.92 minutes\n",
            "Current learning rates - Generator: 0.000001, Discriminator: 0.000001\n",
            "Epoch 839/1000\n"
          ]
        },
        {
          "output_type": "stream",
          "name": "stderr",
          "text": [
            "Epoch 839/1000: 100%|██████████| 13/13 [00:04<00:00,  2.81batch/s, Gen Loss=4.6161, Disc Loss=0.0161]\n"
          ]
        },
        {
          "output_type": "stream",
          "name": "stdout",
          "text": [
            "Estimated time remaining: 12.84 minutes\n",
            "Current learning rates - Generator: 0.000001, Discriminator: 0.000001\n",
            "Epoch 840/1000\n"
          ]
        },
        {
          "output_type": "stream",
          "name": "stderr",
          "text": [
            "Epoch 840/1000: 100%|██████████| 13/13 [00:04<00:00,  2.81batch/s, Gen Loss=4.5721, Disc Loss=0.0150]\n"
          ]
        },
        {
          "output_type": "stream",
          "name": "stdout",
          "text": [
            "Generated images for epoch 839 saved to GrapeDataset/Grape Plant from Plant Village Dataset.\n",
            "Estimated time remaining: 12.77 minutes\n",
            "Current learning rates - Generator: 0.000001, Discriminator: 0.000001\n",
            "Epoch 841/1000\n"
          ]
        },
        {
          "output_type": "stream",
          "name": "stderr",
          "text": [
            "Epoch 841/1000: 100%|██████████| 13/13 [00:06<00:00,  2.12batch/s, Gen Loss=4.4769, Disc Loss=0.0521]\n"
          ]
        },
        {
          "output_type": "stream",
          "name": "stdout",
          "text": [
            "Estimated time remaining: 12.69 minutes\n",
            "Current learning rates - Generator: 0.000001, Discriminator: 0.000001\n",
            "Epoch 842/1000\n"
          ]
        },
        {
          "output_type": "stream",
          "name": "stderr",
          "text": [
            "Epoch 842/1000: 100%|██████████| 13/13 [00:04<00:00,  2.82batch/s, Gen Loss=4.7340, Disc Loss=0.0191]\n"
          ]
        },
        {
          "output_type": "stream",
          "name": "stdout",
          "text": [
            "Estimated time remaining: 12.61 minutes\n",
            "Current learning rates - Generator: 0.000001, Discriminator: 0.000001\n",
            "Epoch 843/1000\n"
          ]
        },
        {
          "output_type": "stream",
          "name": "stderr",
          "text": [
            "Epoch 843/1000: 100%|██████████| 13/13 [00:04<00:00,  2.88batch/s, Gen Loss=4.2987, Disc Loss=0.0246]\n"
          ]
        },
        {
          "output_type": "stream",
          "name": "stdout",
          "text": [
            "Estimated time remaining: 12.53 minutes\n",
            "Current learning rates - Generator: 0.000001, Discriminator: 0.000001\n",
            "Epoch 844/1000\n"
          ]
        },
        {
          "output_type": "stream",
          "name": "stderr",
          "text": [
            "Epoch 844/1000: 100%|██████████| 13/13 [00:06<00:00,  1.90batch/s, Gen Loss=4.6690, Disc Loss=0.0273]\n"
          ]
        },
        {
          "output_type": "stream",
          "name": "stdout",
          "text": [
            "Estimated time remaining: 12.46 minutes\n",
            "Current learning rates - Generator: 0.000001, Discriminator: 0.000001\n",
            "Epoch 845/1000\n"
          ]
        },
        {
          "output_type": "stream",
          "name": "stderr",
          "text": [
            "Epoch 845/1000: 100%|██████████| 13/13 [00:04<00:00,  2.88batch/s, Gen Loss=4.6691, Disc Loss=0.0384]\n"
          ]
        },
        {
          "output_type": "stream",
          "name": "stdout",
          "text": [
            "Generated images for epoch 844 saved to GrapeDataset/Grape Plant from Plant Village Dataset.\n",
            "Estimated time remaining: 12.38 minutes\n",
            "Current learning rates - Generator: 0.000001, Discriminator: 0.000001\n",
            "Epoch 846/1000\n"
          ]
        },
        {
          "output_type": "stream",
          "name": "stderr",
          "text": [
            "Epoch 846/1000: 100%|██████████| 13/13 [00:04<00:00,  2.75batch/s, Gen Loss=4.8906, Disc Loss=0.0158]\n"
          ]
        },
        {
          "output_type": "stream",
          "name": "stdout",
          "text": [
            "Estimated time remaining: 12.30 minutes\n",
            "Current learning rates - Generator: 0.000001, Discriminator: 0.000001\n",
            "Epoch 847/1000\n"
          ]
        },
        {
          "output_type": "stream",
          "name": "stderr",
          "text": [
            "Epoch 847/1000: 100%|██████████| 13/13 [00:06<00:00,  2.03batch/s, Gen Loss=4.6933, Disc Loss=0.0333]\n"
          ]
        },
        {
          "output_type": "stream",
          "name": "stdout",
          "text": [
            "Estimated time remaining: 12.23 minutes\n",
            "Current learning rates - Generator: 0.000001, Discriminator: 0.000001\n",
            "Epoch 848/1000\n"
          ]
        },
        {
          "output_type": "stream",
          "name": "stderr",
          "text": [
            "Epoch 848/1000: 100%|██████████| 13/13 [00:04<00:00,  2.86batch/s, Gen Loss=4.5570, Disc Loss=0.0123]\n"
          ]
        },
        {
          "output_type": "stream",
          "name": "stdout",
          "text": [
            "Estimated time remaining: 12.15 minutes\n",
            "Current learning rates - Generator: 0.000001, Discriminator: 0.000001\n",
            "Epoch 849/1000\n"
          ]
        },
        {
          "output_type": "stream",
          "name": "stderr",
          "text": [
            "Epoch 849/1000: 100%|██████████| 13/13 [00:04<00:00,  2.92batch/s, Gen Loss=4.8256, Disc Loss=0.0445]\n"
          ]
        },
        {
          "output_type": "stream",
          "name": "stdout",
          "text": [
            "Estimated time remaining: 12.06 minutes\n",
            "Current learning rates - Generator: 0.000001, Discriminator: 0.000001\n",
            "Epoch 850/1000\n"
          ]
        },
        {
          "output_type": "stream",
          "name": "stderr",
          "text": [
            "Epoch 850/1000: 100%|██████████| 13/13 [00:06<00:00,  1.99batch/s, Gen Loss=4.7762, Disc Loss=0.0152]\n"
          ]
        },
        {
          "output_type": "stream",
          "name": "stdout",
          "text": [
            "Generated images for epoch 849 saved to GrapeDataset/Grape Plant from Plant Village Dataset.\n",
            "Estimated time remaining: 11.99 minutes\n",
            "Current learning rates - Generator: 0.000001, Discriminator: 0.000001\n",
            "Epoch 851/1000\n"
          ]
        },
        {
          "output_type": "stream",
          "name": "stderr",
          "text": [
            "Epoch 851/1000: 100%|██████████| 13/13 [00:04<00:00,  2.82batch/s, Gen Loss=4.5257, Disc Loss=0.0148]\n"
          ]
        },
        {
          "output_type": "stream",
          "name": "stdout",
          "text": [
            "Estimated time remaining: 11.91 minutes\n",
            "Current learning rates - Generator: 0.000001, Discriminator: 0.000001\n",
            "Epoch 852/1000\n"
          ]
        },
        {
          "output_type": "stream",
          "name": "stderr",
          "text": [
            "Epoch 852/1000: 100%|██████████| 13/13 [00:04<00:00,  2.75batch/s, Gen Loss=4.8060, Disc Loss=0.0602]\n"
          ]
        },
        {
          "output_type": "stream",
          "name": "stdout",
          "text": [
            "Estimated time remaining: 11.83 minutes\n",
            "Current learning rates - Generator: 0.000001, Discriminator: 0.000001\n",
            "Epoch 853/1000\n"
          ]
        },
        {
          "output_type": "stream",
          "name": "stderr",
          "text": [
            "Epoch 853/1000: 100%|██████████| 13/13 [00:06<00:00,  1.95batch/s, Gen Loss=4.6146, Disc Loss=0.0456]\n"
          ]
        },
        {
          "output_type": "stream",
          "name": "stdout",
          "text": [
            "Estimated time remaining: 11.76 minutes\n",
            "Current learning rates - Generator: 0.000001, Discriminator: 0.000001\n",
            "Epoch 854/1000\n"
          ]
        },
        {
          "output_type": "stream",
          "name": "stderr",
          "text": [
            "Epoch 854/1000: 100%|██████████| 13/13 [00:04<00:00,  2.83batch/s, Gen Loss=4.7295, Disc Loss=0.0256]\n"
          ]
        },
        {
          "output_type": "stream",
          "name": "stdout",
          "text": [
            "Estimated time remaining: 11.68 minutes\n",
            "Current learning rates - Generator: 0.000001, Discriminator: 0.000001\n",
            "Epoch 855/1000\n"
          ]
        },
        {
          "output_type": "stream",
          "name": "stderr",
          "text": [
            "Epoch 855/1000: 100%|██████████| 13/13 [00:04<00:00,  2.82batch/s, Gen Loss=4.9987, Disc Loss=0.0527]\n"
          ]
        },
        {
          "output_type": "stream",
          "name": "stdout",
          "text": [
            "Generated images for epoch 854 saved to GrapeDataset/Grape Plant from Plant Village Dataset.\n",
            "Estimated time remaining: 11.60 minutes\n",
            "Current learning rates - Generator: 0.000001, Discriminator: 0.000001\n",
            "Epoch 856/1000\n"
          ]
        },
        {
          "output_type": "stream",
          "name": "stderr",
          "text": [
            "Epoch 856/1000: 100%|██████████| 13/13 [00:06<00:00,  1.95batch/s, Gen Loss=4.7121, Disc Loss=0.0205]\n"
          ]
        },
        {
          "output_type": "stream",
          "name": "stdout",
          "text": [
            "Estimated time remaining: 11.52 minutes\n",
            "Current learning rates - Generator: 0.000001, Discriminator: 0.000001\n",
            "Epoch 857/1000\n"
          ]
        },
        {
          "output_type": "stream",
          "name": "stderr",
          "text": [
            "Epoch 857/1000: 100%|██████████| 13/13 [00:04<00:00,  2.83batch/s, Gen Loss=4.9765, Disc Loss=0.0423]\n"
          ]
        },
        {
          "output_type": "stream",
          "name": "stdout",
          "text": [
            "Estimated time remaining: 11.44 minutes\n",
            "Current learning rates - Generator: 0.000001, Discriminator: 0.000001\n",
            "Epoch 858/1000\n"
          ]
        },
        {
          "output_type": "stream",
          "name": "stderr",
          "text": [
            "Epoch 858/1000: 100%|██████████| 13/13 [00:04<00:00,  2.73batch/s, Gen Loss=4.7290, Disc Loss=0.0217]\n"
          ]
        },
        {
          "output_type": "stream",
          "name": "stdout",
          "text": [
            "Estimated time remaining: 11.36 minutes\n",
            "Current learning rates - Generator: 0.000001, Discriminator: 0.000001\n",
            "Epoch 859/1000\n"
          ]
        },
        {
          "output_type": "stream",
          "name": "stderr",
          "text": [
            "Epoch 859/1000: 100%|██████████| 13/13 [00:06<00:00,  1.93batch/s, Gen Loss=4.9873, Disc Loss=0.0450]\n"
          ]
        },
        {
          "output_type": "stream",
          "name": "stdout",
          "text": [
            "Estimated time remaining: 11.29 minutes\n",
            "Current learning rates - Generator: 0.000001, Discriminator: 0.000001\n",
            "Epoch 860/1000\n"
          ]
        },
        {
          "output_type": "stream",
          "name": "stderr",
          "text": [
            "Epoch 860/1000: 100%|██████████| 13/13 [00:04<00:00,  2.84batch/s, Gen Loss=4.4273, Disc Loss=0.0213]\n"
          ]
        },
        {
          "output_type": "stream",
          "name": "stdout",
          "text": [
            "Generated images for epoch 859 saved to GrapeDataset/Grape Plant from Plant Village Dataset.\n",
            "Estimated time remaining: 11.21 minutes\n",
            "Current learning rates - Generator: 0.000001, Discriminator: 0.000001\n",
            "Epoch 861/1000\n"
          ]
        },
        {
          "output_type": "stream",
          "name": "stderr",
          "text": [
            "Epoch 861/1000: 100%|██████████| 13/13 [00:04<00:00,  2.66batch/s, Gen Loss=4.6803, Disc Loss=0.0173]\n"
          ]
        },
        {
          "output_type": "stream",
          "name": "stdout",
          "text": [
            "Estimated time remaining: 11.13 minutes\n",
            "Current learning rates - Generator: 0.000001, Discriminator: 0.000001\n",
            "Epoch 862/1000\n"
          ]
        },
        {
          "output_type": "stream",
          "name": "stderr",
          "text": [
            "Epoch 862/1000: 100%|██████████| 13/13 [00:06<00:00,  2.00batch/s, Gen Loss=4.8485, Disc Loss=0.0136]\n"
          ]
        },
        {
          "output_type": "stream",
          "name": "stdout",
          "text": [
            "Estimated time remaining: 11.06 minutes\n",
            "Current learning rates - Generator: 0.000001, Discriminator: 0.000001\n",
            "Epoch 863/1000\n"
          ]
        },
        {
          "output_type": "stream",
          "name": "stderr",
          "text": [
            "Epoch 863/1000: 100%|██████████| 13/13 [00:04<00:00,  2.80batch/s, Gen Loss=4.4818, Disc Loss=0.0156]\n"
          ]
        },
        {
          "output_type": "stream",
          "name": "stdout",
          "text": [
            "Estimated time remaining: 10.98 minutes\n",
            "Current learning rates - Generator: 0.000001, Discriminator: 0.000001\n",
            "Epoch 864/1000\n"
          ]
        },
        {
          "output_type": "stream",
          "name": "stderr",
          "text": [
            "Epoch 864/1000: 100%|██████████| 13/13 [00:04<00:00,  2.68batch/s, Gen Loss=4.1754, Disc Loss=0.0255]\n"
          ]
        },
        {
          "output_type": "stream",
          "name": "stdout",
          "text": [
            "Estimated time remaining: 10.90 minutes\n",
            "Current learning rates - Generator: 0.000001, Discriminator: 0.000001\n",
            "Epoch 865/1000\n"
          ]
        },
        {
          "output_type": "stream",
          "name": "stderr",
          "text": [
            "Epoch 865/1000: 100%|██████████| 13/13 [00:06<00:00,  1.90batch/s, Gen Loss=4.8625, Disc Loss=0.0177]\n"
          ]
        },
        {
          "output_type": "stream",
          "name": "stdout",
          "text": [
            "Generated images for epoch 864 saved to GrapeDataset/Grape Plant from Plant Village Dataset.\n",
            "Estimated time remaining: 10.82 minutes\n",
            "Current learning rates - Generator: 0.000001, Discriminator: 0.000001\n",
            "Epoch 866/1000\n"
          ]
        },
        {
          "output_type": "stream",
          "name": "stderr",
          "text": [
            "Epoch 866/1000: 100%|██████████| 13/13 [00:04<00:00,  2.79batch/s, Gen Loss=4.7677, Disc Loss=0.0316]\n"
          ]
        },
        {
          "output_type": "stream",
          "name": "stdout",
          "text": [
            "Estimated time remaining: 10.74 minutes\n",
            "Current learning rates - Generator: 0.000001, Discriminator: 0.000001\n",
            "Epoch 867/1000\n"
          ]
        },
        {
          "output_type": "stream",
          "name": "stderr",
          "text": [
            "Epoch 867/1000: 100%|██████████| 13/13 [00:05<00:00,  2.55batch/s, Gen Loss=4.7769, Disc Loss=0.0291]\n"
          ]
        },
        {
          "output_type": "stream",
          "name": "stdout",
          "text": [
            "Estimated time remaining: 10.66 minutes\n",
            "Current learning rates - Generator: 0.000001, Discriminator: 0.000001\n",
            "Epoch 868/1000\n"
          ]
        },
        {
          "output_type": "stream",
          "name": "stderr",
          "text": [
            "Epoch 868/1000: 100%|██████████| 13/13 [00:06<00:00,  2.08batch/s, Gen Loss=4.9509, Disc Loss=0.0223]\n"
          ]
        },
        {
          "output_type": "stream",
          "name": "stdout",
          "text": [
            "Estimated time remaining: 10.59 minutes\n",
            "Current learning rates - Generator: 0.000001, Discriminator: 0.000001\n",
            "Epoch 869/1000\n"
          ]
        },
        {
          "output_type": "stream",
          "name": "stderr",
          "text": [
            "Epoch 869/1000: 100%|██████████| 13/13 [00:04<00:00,  2.66batch/s, Gen Loss=4.7599, Disc Loss=0.0165]\n"
          ]
        },
        {
          "output_type": "stream",
          "name": "stdout",
          "text": [
            "Estimated time remaining: 10.51 minutes\n",
            "Current learning rates - Generator: 0.000001, Discriminator: 0.000001\n",
            "Epoch 870/1000\n"
          ]
        },
        {
          "output_type": "stream",
          "name": "stderr",
          "text": [
            "Epoch 870/1000: 100%|██████████| 13/13 [00:04<00:00,  2.68batch/s, Gen Loss=5.0066, Disc Loss=0.0122]\n"
          ]
        },
        {
          "output_type": "stream",
          "name": "stdout",
          "text": [
            "Generated images for epoch 869 saved to GrapeDataset/Grape Plant from Plant Village Dataset.\n",
            "Estimated time remaining: 10.43 minutes\n",
            "Current learning rates - Generator: 0.000001, Discriminator: 0.000001\n",
            "Epoch 871/1000\n"
          ]
        },
        {
          "output_type": "stream",
          "name": "stderr",
          "text": [
            "Epoch 871/1000: 100%|██████████| 13/13 [00:05<00:00,  2.20batch/s, Gen Loss=4.5868, Disc Loss=0.0274]\n"
          ]
        },
        {
          "output_type": "stream",
          "name": "stdout",
          "text": [
            "Estimated time remaining: 10.35 minutes\n",
            "Current learning rates - Generator: 0.000001, Discriminator: 0.000001\n",
            "Epoch 872/1000\n"
          ]
        },
        {
          "output_type": "stream",
          "name": "stderr",
          "text": [
            "Epoch 872/1000: 100%|██████████| 13/13 [00:04<00:00,  2.77batch/s, Gen Loss=4.8958, Disc Loss=0.0181]\n"
          ]
        },
        {
          "output_type": "stream",
          "name": "stdout",
          "text": [
            "Estimated time remaining: 10.27 minutes\n",
            "Current learning rates - Generator: 0.000001, Discriminator: 0.000001\n",
            "Epoch 873/1000\n"
          ]
        },
        {
          "output_type": "stream",
          "name": "stderr",
          "text": [
            "Epoch 873/1000: 100%|██████████| 13/13 [00:05<00:00,  2.48batch/s, Gen Loss=4.2016, Disc Loss=0.0195]\n"
          ]
        },
        {
          "output_type": "stream",
          "name": "stdout",
          "text": [
            "Estimated time remaining: 10.19 minutes\n",
            "Current learning rates - Generator: 0.000001, Discriminator: 0.000001\n",
            "Epoch 874/1000\n"
          ]
        },
        {
          "output_type": "stream",
          "name": "stderr",
          "text": [
            "Epoch 874/1000: 100%|██████████| 13/13 [00:06<00:00,  2.07batch/s, Gen Loss=4.7859, Disc Loss=0.0150]\n"
          ]
        },
        {
          "output_type": "stream",
          "name": "stdout",
          "text": [
            "Estimated time remaining: 10.12 minutes\n",
            "Current learning rates - Generator: 0.000001, Discriminator: 0.000001\n",
            "Epoch 875/1000\n"
          ]
        },
        {
          "output_type": "stream",
          "name": "stderr",
          "text": [
            "Epoch 875/1000: 100%|██████████| 13/13 [00:04<00:00,  2.72batch/s, Gen Loss=4.8925, Disc Loss=0.0424]\n"
          ]
        },
        {
          "output_type": "stream",
          "name": "stdout",
          "text": [
            "Generated images for epoch 874 saved to GrapeDataset/Grape Plant from Plant Village Dataset.\n",
            "Estimated time remaining: 10.04 minutes\n",
            "Current learning rates - Generator: 0.000001, Discriminator: 0.000001\n",
            "Epoch 876/1000\n"
          ]
        },
        {
          "output_type": "stream",
          "name": "stderr",
          "text": [
            "Epoch 876/1000: 100%|██████████| 13/13 [00:05<00:00,  2.38batch/s, Gen Loss=4.4617, Disc Loss=0.0164]\n"
          ]
        },
        {
          "output_type": "stream",
          "name": "stdout",
          "text": [
            "Estimated time remaining: 9.96 minutes\n",
            "Current learning rates - Generator: 0.000001, Discriminator: 0.000001\n",
            "Epoch 877/1000\n"
          ]
        },
        {
          "output_type": "stream",
          "name": "stderr",
          "text": [
            "Epoch 877/1000: 100%|██████████| 13/13 [00:05<00:00,  2.24batch/s, Gen Loss=4.7175, Disc Loss=0.0441]\n"
          ]
        },
        {
          "output_type": "stream",
          "name": "stdout",
          "text": [
            "Estimated time remaining: 9.88 minutes\n",
            "Current learning rates - Generator: 0.000001, Discriminator: 0.000001\n",
            "Epoch 878/1000\n"
          ]
        },
        {
          "output_type": "stream",
          "name": "stderr",
          "text": [
            "Epoch 878/1000: 100%|██████████| 13/13 [00:04<00:00,  2.82batch/s, Gen Loss=4.5571, Disc Loss=0.0162]\n"
          ]
        },
        {
          "output_type": "stream",
          "name": "stdout",
          "text": [
            "Estimated time remaining: 9.80 minutes\n",
            "Current learning rates - Generator: 0.000001, Discriminator: 0.000001\n",
            "Epoch 879/1000\n"
          ]
        },
        {
          "output_type": "stream",
          "name": "stderr",
          "text": [
            "Epoch 879/1000: 100%|██████████| 13/13 [00:05<00:00,  2.54batch/s, Gen Loss=4.4518, Disc Loss=0.0166]\n"
          ]
        },
        {
          "output_type": "stream",
          "name": "stdout",
          "text": [
            "Estimated time remaining: 9.72 minutes\n",
            "Current learning rates - Generator: 0.000001, Discriminator: 0.000001\n",
            "Epoch 880/1000\n"
          ]
        },
        {
          "output_type": "stream",
          "name": "stderr",
          "text": [
            "Epoch 880/1000: 100%|██████████| 13/13 [00:06<00:00,  2.10batch/s, Gen Loss=4.8393, Disc Loss=0.0207]\n"
          ]
        },
        {
          "output_type": "stream",
          "name": "stdout",
          "text": [
            "Generated images for epoch 879 saved to GrapeDataset/Grape Plant from Plant Village Dataset.\n",
            "Estimated time remaining: 9.65 minutes\n",
            "Current learning rates - Generator: 0.000001, Discriminator: 0.000001\n",
            "Epoch 881/1000\n"
          ]
        },
        {
          "output_type": "stream",
          "name": "stderr",
          "text": [
            "Epoch 881/1000: 100%|██████████| 13/13 [00:04<00:00,  2.80batch/s, Gen Loss=4.8016, Disc Loss=0.0154]\n"
          ]
        },
        {
          "output_type": "stream",
          "name": "stdout",
          "text": [
            "Estimated time remaining: 9.57 minutes\n",
            "Current learning rates - Generator: 0.000001, Discriminator: 0.000001\n",
            "Epoch 882/1000\n"
          ]
        },
        {
          "output_type": "stream",
          "name": "stderr",
          "text": [
            "Epoch 882/1000: 100%|██████████| 13/13 [00:05<00:00,  2.31batch/s, Gen Loss=4.7453, Disc Loss=0.0393]\n"
          ]
        },
        {
          "output_type": "stream",
          "name": "stdout",
          "text": [
            "Estimated time remaining: 9.49 minutes\n",
            "Current learning rates - Generator: 0.000001, Discriminator: 0.000001\n",
            "Epoch 883/1000\n"
          ]
        },
        {
          "output_type": "stream",
          "name": "stderr",
          "text": [
            "Epoch 883/1000: 100%|██████████| 13/13 [00:05<00:00,  2.27batch/s, Gen Loss=4.6437, Disc Loss=0.0216]\n"
          ]
        },
        {
          "output_type": "stream",
          "name": "stdout",
          "text": [
            "Estimated time remaining: 9.41 minutes\n",
            "Current learning rates - Generator: 0.000001, Discriminator: 0.000001\n",
            "Epoch 884/1000\n"
          ]
        },
        {
          "output_type": "stream",
          "name": "stderr",
          "text": [
            "Epoch 884/1000: 100%|██████████| 13/13 [00:04<00:00,  2.89batch/s, Gen Loss=5.0768, Disc Loss=0.0452]\n"
          ]
        },
        {
          "output_type": "stream",
          "name": "stdout",
          "text": [
            "Estimated time remaining: 9.33 minutes\n",
            "Current learning rates - Generator: 0.000001, Discriminator: 0.000001\n",
            "Epoch 885/1000\n"
          ]
        },
        {
          "output_type": "stream",
          "name": "stderr",
          "text": [
            "Epoch 885/1000: 100%|██████████| 13/13 [00:04<00:00,  2.61batch/s, Gen Loss=4.5532, Disc Loss=0.0157]\n"
          ]
        },
        {
          "output_type": "stream",
          "name": "stdout",
          "text": [
            "Generated images for epoch 884 saved to GrapeDataset/Grape Plant from Plant Village Dataset.\n",
            "Estimated time remaining: 9.25 minutes\n",
            "Current learning rates - Generator: 0.000001, Discriminator: 0.000001\n",
            "Epoch 886/1000\n"
          ]
        },
        {
          "output_type": "stream",
          "name": "stderr",
          "text": [
            "Epoch 886/1000: 100%|██████████| 13/13 [00:05<00:00,  2.29batch/s, Gen Loss=4.5648, Disc Loss=0.0149]\n"
          ]
        },
        {
          "output_type": "stream",
          "name": "stdout",
          "text": [
            "Estimated time remaining: 9.17 minutes\n",
            "Current learning rates - Generator: 0.000001, Discriminator: 0.000001\n",
            "Epoch 887/1000\n"
          ]
        },
        {
          "output_type": "stream",
          "name": "stderr",
          "text": [
            "Epoch 887/1000: 100%|██████████| 13/13 [00:04<00:00,  2.84batch/s, Gen Loss=4.8238, Disc Loss=0.0116]\n"
          ]
        },
        {
          "output_type": "stream",
          "name": "stdout",
          "text": [
            "Estimated time remaining: 9.09 minutes\n",
            "Current learning rates - Generator: 0.000001, Discriminator: 0.000001\n",
            "Epoch 888/1000\n"
          ]
        },
        {
          "output_type": "stream",
          "name": "stderr",
          "text": [
            "Epoch 888/1000: 100%|██████████| 13/13 [00:05<00:00,  2.53batch/s, Gen Loss=4.7864, Disc Loss=0.0208]\n"
          ]
        },
        {
          "output_type": "stream",
          "name": "stdout",
          "text": [
            "Estimated time remaining: 9.01 minutes\n",
            "Current learning rates - Generator: 0.000001, Discriminator: 0.000001\n",
            "Epoch 889/1000\n"
          ]
        },
        {
          "output_type": "stream",
          "name": "stderr",
          "text": [
            "Epoch 889/1000: 100%|██████████| 13/13 [00:06<00:00,  2.09batch/s, Gen Loss=4.6777, Disc Loss=0.0138]\n"
          ]
        },
        {
          "output_type": "stream",
          "name": "stdout",
          "text": [
            "Estimated time remaining: 8.93 minutes\n",
            "Current learning rates - Generator: 0.000001, Discriminator: 0.000001\n",
            "Epoch 890/1000\n"
          ]
        },
        {
          "output_type": "stream",
          "name": "stderr",
          "text": [
            "Epoch 890/1000: 100%|██████████| 13/13 [00:04<00:00,  2.77batch/s, Gen Loss=4.6082, Disc Loss=0.0464]\n"
          ]
        },
        {
          "output_type": "stream",
          "name": "stdout",
          "text": [
            "Generated images for epoch 889 saved to GrapeDataset/Grape Plant from Plant Village Dataset.\n",
            "Estimated time remaining: 8.85 minutes\n",
            "Current learning rates - Generator: 0.000001, Discriminator: 0.000001\n",
            "Epoch 891/1000\n"
          ]
        },
        {
          "output_type": "stream",
          "name": "stderr",
          "text": [
            "Epoch 891/1000: 100%|██████████| 13/13 [00:05<00:00,  2.33batch/s, Gen Loss=4.4819, Disc Loss=0.0245]\n"
          ]
        },
        {
          "output_type": "stream",
          "name": "stdout",
          "text": [
            "Estimated time remaining: 8.78 minutes\n",
            "Current learning rates - Generator: 0.000001, Discriminator: 0.000001\n",
            "Epoch 892/1000\n"
          ]
        },
        {
          "output_type": "stream",
          "name": "stderr",
          "text": [
            "Epoch 892/1000: 100%|██████████| 13/13 [00:05<00:00,  2.19batch/s, Gen Loss=4.7267, Disc Loss=0.0450]\n"
          ]
        },
        {
          "output_type": "stream",
          "name": "stdout",
          "text": [
            "Estimated time remaining: 8.70 minutes\n",
            "Current learning rates - Generator: 0.000001, Discriminator: 0.000001\n",
            "Epoch 893/1000\n"
          ]
        },
        {
          "output_type": "stream",
          "name": "stderr",
          "text": [
            "Epoch 893/1000: 100%|██████████| 13/13 [00:04<00:00,  2.79batch/s, Gen Loss=4.9721, Disc Loss=0.0473]\n"
          ]
        },
        {
          "output_type": "stream",
          "name": "stdout",
          "text": [
            "Estimated time remaining: 8.62 minutes\n",
            "Current learning rates - Generator: 0.000001, Discriminator: 0.000001\n",
            "Epoch 894/1000\n"
          ]
        },
        {
          "output_type": "stream",
          "name": "stderr",
          "text": [
            "Epoch 894/1000: 100%|██████████| 13/13 [00:05<00:00,  2.60batch/s, Gen Loss=4.8029, Disc Loss=0.0250]\n"
          ]
        },
        {
          "output_type": "stream",
          "name": "stdout",
          "text": [
            "Estimated time remaining: 8.54 minutes\n",
            "Current learning rates - Generator: 0.000001, Discriminator: 0.000001\n",
            "Epoch 895/1000\n"
          ]
        },
        {
          "output_type": "stream",
          "name": "stderr",
          "text": [
            "Epoch 895/1000: 100%|██████████| 13/13 [00:06<00:00,  2.05batch/s, Gen Loss=4.6958, Disc Loss=0.0383]\n"
          ]
        },
        {
          "output_type": "stream",
          "name": "stdout",
          "text": [
            "Generated images for epoch 894 saved to GrapeDataset/Grape Plant from Plant Village Dataset.\n",
            "Estimated time remaining: 8.46 minutes\n",
            "Current learning rates - Generator: 0.000001, Discriminator: 0.000001\n",
            "Epoch 896/1000\n"
          ]
        },
        {
          "output_type": "stream",
          "name": "stderr",
          "text": [
            "Epoch 896/1000: 100%|██████████| 13/13 [00:04<00:00,  2.74batch/s, Gen Loss=4.5446, Disc Loss=0.0670]\n"
          ]
        },
        {
          "output_type": "stream",
          "name": "stdout",
          "text": [
            "Estimated time remaining: 8.38 minutes\n",
            "Current learning rates - Generator: 0.000001, Discriminator: 0.000001\n",
            "Epoch 897/1000\n"
          ]
        },
        {
          "output_type": "stream",
          "name": "stderr",
          "text": [
            "Epoch 897/1000: 100%|██████████| 13/13 [00:05<00:00,  2.42batch/s, Gen Loss=4.3952, Disc Loss=0.0230]\n"
          ]
        },
        {
          "output_type": "stream",
          "name": "stdout",
          "text": [
            "Estimated time remaining: 8.30 minutes\n",
            "Current learning rates - Generator: 0.000001, Discriminator: 0.000001\n",
            "Epoch 898/1000\n"
          ]
        },
        {
          "output_type": "stream",
          "name": "stderr",
          "text": [
            "Epoch 898/1000: 100%|██████████| 13/13 [00:05<00:00,  2.19batch/s, Gen Loss=4.7828, Disc Loss=0.1018]\n"
          ]
        },
        {
          "output_type": "stream",
          "name": "stdout",
          "text": [
            "Estimated time remaining: 8.22 minutes\n",
            "Current learning rates - Generator: 0.000001, Discriminator: 0.000001\n",
            "Epoch 899/1000\n"
          ]
        },
        {
          "output_type": "stream",
          "name": "stderr",
          "text": [
            "Epoch 899/1000: 100%|██████████| 13/13 [00:04<00:00,  2.77batch/s, Gen Loss=4.5949, Disc Loss=0.0330]\n"
          ]
        },
        {
          "output_type": "stream",
          "name": "stdout",
          "text": [
            "Estimated time remaining: 8.14 minutes\n",
            "Current learning rates - Generator: 0.000001, Discriminator: 0.000001\n",
            "Epoch 900/1000\n"
          ]
        },
        {
          "output_type": "stream",
          "name": "stderr",
          "text": [
            "Epoch 900/1000: 100%|██████████| 13/13 [00:05<00:00,  2.57batch/s, Gen Loss=4.3314, Disc Loss=0.0217]\n"
          ]
        },
        {
          "output_type": "stream",
          "name": "stdout",
          "text": [
            "Generated images for epoch 899 saved to GrapeDataset/Grape Plant from Plant Village Dataset.\n",
            "Estimated time remaining: 8.06 minutes\n",
            "Current learning rates - Generator: 0.000001, Discriminator: 0.000001\n",
            "Epoch 901/1000\n"
          ]
        },
        {
          "output_type": "stream",
          "name": "stderr",
          "text": [
            "Epoch 901/1000: 100%|██████████| 13/13 [00:05<00:00,  2.32batch/s, Gen Loss=4.6452, Disc Loss=0.0178]\n"
          ]
        },
        {
          "output_type": "stream",
          "name": "stdout",
          "text": [
            "Estimated time remaining: 7.98 minutes\n",
            "Current learning rates - Generator: 0.000001, Discriminator: 0.000001\n",
            "Epoch 902/1000\n"
          ]
        },
        {
          "output_type": "stream",
          "name": "stderr",
          "text": [
            "Epoch 902/1000: 100%|██████████| 13/13 [00:04<00:00,  2.70batch/s, Gen Loss=4.4106, Disc Loss=0.0454]\n"
          ]
        },
        {
          "output_type": "stream",
          "name": "stdout",
          "text": [
            "Estimated time remaining: 7.90 minutes\n",
            "Current learning rates - Generator: 0.000001, Discriminator: 0.000001\n",
            "Epoch 903/1000\n"
          ]
        },
        {
          "output_type": "stream",
          "name": "stderr",
          "text": [
            "Epoch 903/1000: 100%|██████████| 13/13 [00:04<00:00,  2.64batch/s, Gen Loss=4.6609, Disc Loss=0.0814]\n"
          ]
        },
        {
          "output_type": "stream",
          "name": "stdout",
          "text": [
            "Estimated time remaining: 7.82 minutes\n",
            "Current learning rates - Generator: 0.000001, Discriminator: 0.000001\n",
            "Epoch 904/1000\n"
          ]
        },
        {
          "output_type": "stream",
          "name": "stderr",
          "text": [
            "Epoch 904/1000: 100%|██████████| 13/13 [00:06<00:00,  2.04batch/s, Gen Loss=4.7804, Disc Loss=0.0224]\n"
          ]
        },
        {
          "output_type": "stream",
          "name": "stdout",
          "text": [
            "Estimated time remaining: 7.75 minutes\n",
            "Current learning rates - Generator: 0.000001, Discriminator: 0.000001\n",
            "Epoch 905/1000\n"
          ]
        },
        {
          "output_type": "stream",
          "name": "stderr",
          "text": [
            "Epoch 905/1000: 100%|██████████| 13/13 [00:04<00:00,  2.85batch/s, Gen Loss=4.8499, Disc Loss=0.0106]\n"
          ]
        },
        {
          "output_type": "stream",
          "name": "stdout",
          "text": [
            "Generated images for epoch 904 saved to GrapeDataset/Grape Plant from Plant Village Dataset.\n",
            "Estimated time remaining: 7.67 minutes\n",
            "Current learning rates - Generator: 0.000001, Discriminator: 0.000001\n",
            "Epoch 906/1000\n"
          ]
        },
        {
          "output_type": "stream",
          "name": "stderr",
          "text": [
            "Epoch 906/1000: 100%|██████████| 13/13 [00:05<00:00,  2.51batch/s, Gen Loss=4.7572, Disc Loss=0.0238]\n"
          ]
        },
        {
          "output_type": "stream",
          "name": "stdout",
          "text": [
            "Estimated time remaining: 7.59 minutes\n",
            "Current learning rates - Generator: 0.000001, Discriminator: 0.000001\n",
            "Epoch 907/1000\n"
          ]
        },
        {
          "output_type": "stream",
          "name": "stderr",
          "text": [
            "Epoch 907/1000: 100%|██████████| 13/13 [00:06<00:00,  2.13batch/s, Gen Loss=4.9928, Disc Loss=0.0178]\n"
          ]
        },
        {
          "output_type": "stream",
          "name": "stdout",
          "text": [
            "Estimated time remaining: 7.51 minutes\n",
            "Current learning rates - Generator: 0.000001, Discriminator: 0.000001\n",
            "Epoch 908/1000\n"
          ]
        },
        {
          "output_type": "stream",
          "name": "stderr",
          "text": [
            "Epoch 908/1000: 100%|██████████| 13/13 [00:04<00:00,  2.81batch/s, Gen Loss=4.8254, Disc Loss=0.0624]\n"
          ]
        },
        {
          "output_type": "stream",
          "name": "stdout",
          "text": [
            "Estimated time remaining: 7.43 minutes\n",
            "Current learning rates - Generator: 0.000001, Discriminator: 0.000001\n",
            "Epoch 909/1000\n"
          ]
        },
        {
          "output_type": "stream",
          "name": "stderr",
          "text": [
            "Epoch 909/1000: 100%|██████████| 13/13 [00:04<00:00,  2.71batch/s, Gen Loss=5.0172, Disc Loss=0.0130]\n"
          ]
        },
        {
          "output_type": "stream",
          "name": "stdout",
          "text": [
            "Estimated time remaining: 7.35 minutes\n",
            "Current learning rates - Generator: 0.000001, Discriminator: 0.000001\n",
            "Epoch 910/1000\n"
          ]
        },
        {
          "output_type": "stream",
          "name": "stderr",
          "text": [
            "Epoch 910/1000: 100%|██████████| 13/13 [00:06<00:00,  2.03batch/s, Gen Loss=4.8637, Disc Loss=0.0197]\n"
          ]
        },
        {
          "output_type": "stream",
          "name": "stdout",
          "text": [
            "Generated images for epoch 909 saved to GrapeDataset/Grape Plant from Plant Village Dataset.\n",
            "Estimated time remaining: 7.27 minutes\n",
            "Current learning rates - Generator: 0.000001, Discriminator: 0.000001\n",
            "Epoch 911/1000\n"
          ]
        },
        {
          "output_type": "stream",
          "name": "stderr",
          "text": [
            "Epoch 911/1000: 100%|██████████| 13/13 [00:04<00:00,  2.81batch/s, Gen Loss=4.5909, Disc Loss=0.0294]\n"
          ]
        },
        {
          "output_type": "stream",
          "name": "stdout",
          "text": [
            "Estimated time remaining: 7.19 minutes\n",
            "Current learning rates - Generator: 0.000001, Discriminator: 0.000001\n",
            "Epoch 912/1000\n"
          ]
        },
        {
          "output_type": "stream",
          "name": "stderr",
          "text": [
            "Epoch 912/1000: 100%|██████████| 13/13 [00:05<00:00,  2.55batch/s, Gen Loss=4.7600, Disc Loss=0.0096]\n"
          ]
        },
        {
          "output_type": "stream",
          "name": "stdout",
          "text": [
            "Estimated time remaining: 7.11 minutes\n",
            "Current learning rates - Generator: 0.000001, Discriminator: 0.000001\n",
            "Epoch 913/1000\n"
          ]
        },
        {
          "output_type": "stream",
          "name": "stderr",
          "text": [
            "Epoch 913/1000: 100%|██████████| 13/13 [00:06<00:00,  2.03batch/s, Gen Loss=4.6635, Disc Loss=0.0208]\n"
          ]
        },
        {
          "output_type": "stream",
          "name": "stdout",
          "text": [
            "Estimated time remaining: 7.03 minutes\n",
            "Current learning rates - Generator: 0.000001, Discriminator: 0.000001\n",
            "Epoch 914/1000\n"
          ]
        },
        {
          "output_type": "stream",
          "name": "stderr",
          "text": [
            "Epoch 914/1000: 100%|██████████| 13/13 [00:04<00:00,  2.85batch/s, Gen Loss=4.0695, Disc Loss=0.0265]\n"
          ]
        },
        {
          "output_type": "stream",
          "name": "stdout",
          "text": [
            "Estimated time remaining: 6.95 minutes\n",
            "Current learning rates - Generator: 0.000001, Discriminator: 0.000001\n",
            "Epoch 915/1000\n"
          ]
        },
        {
          "output_type": "stream",
          "name": "stderr",
          "text": [
            "Epoch 915/1000: 100%|██████████| 13/13 [00:04<00:00,  2.84batch/s, Gen Loss=4.5811, Disc Loss=0.0596]\n"
          ]
        },
        {
          "output_type": "stream",
          "name": "stdout",
          "text": [
            "Generated images for epoch 914 saved to GrapeDataset/Grape Plant from Plant Village Dataset.\n",
            "Estimated time remaining: 6.87 minutes\n",
            "Current learning rates - Generator: 0.000001, Discriminator: 0.000001\n",
            "Epoch 916/1000\n"
          ]
        },
        {
          "output_type": "stream",
          "name": "stderr",
          "text": [
            "Epoch 916/1000: 100%|██████████| 13/13 [00:06<00:00,  2.12batch/s, Gen Loss=4.5893, Disc Loss=0.0233]\n"
          ]
        },
        {
          "output_type": "stream",
          "name": "stdout",
          "text": [
            "Estimated time remaining: 6.79 minutes\n",
            "Current learning rates - Generator: 0.000001, Discriminator: 0.000001\n",
            "Epoch 917/1000\n"
          ]
        },
        {
          "output_type": "stream",
          "name": "stderr",
          "text": [
            "Epoch 917/1000: 100%|██████████| 13/13 [00:04<00:00,  2.69batch/s, Gen Loss=4.6103, Disc Loss=0.0155]\n"
          ]
        },
        {
          "output_type": "stream",
          "name": "stdout",
          "text": [
            "Estimated time remaining: 6.71 minutes\n",
            "Current learning rates - Generator: 0.000001, Discriminator: 0.000001\n",
            "Epoch 918/1000\n"
          ]
        },
        {
          "output_type": "stream",
          "name": "stderr",
          "text": [
            "Epoch 918/1000: 100%|██████████| 13/13 [00:04<00:00,  2.61batch/s, Gen Loss=4.6872, Disc Loss=0.0562]\n"
          ]
        },
        {
          "output_type": "stream",
          "name": "stdout",
          "text": [
            "Estimated time remaining: 6.63 minutes\n",
            "Current learning rates - Generator: 0.000001, Discriminator: 0.000001\n",
            "Epoch 919/1000\n"
          ]
        },
        {
          "output_type": "stream",
          "name": "stderr",
          "text": [
            "Epoch 919/1000: 100%|██████████| 13/13 [00:06<00:00,  2.03batch/s, Gen Loss=4.2603, Disc Loss=0.0702]\n"
          ]
        },
        {
          "output_type": "stream",
          "name": "stdout",
          "text": [
            "Estimated time remaining: 6.55 minutes\n",
            "Current learning rates - Generator: 0.000001, Discriminator: 0.000001\n",
            "Epoch 920/1000\n"
          ]
        },
        {
          "output_type": "stream",
          "name": "stderr",
          "text": [
            "Epoch 920/1000: 100%|██████████| 13/13 [00:04<00:00,  2.82batch/s, Gen Loss=4.3004, Disc Loss=0.0207]\n"
          ]
        },
        {
          "output_type": "stream",
          "name": "stdout",
          "text": [
            "Generated images for epoch 919 saved to GrapeDataset/Grape Plant from Plant Village Dataset.\n",
            "Estimated time remaining: 6.47 minutes\n",
            "Current learning rates - Generator: 0.000001, Discriminator: 0.000001\n",
            "Epoch 921/1000\n"
          ]
        },
        {
          "output_type": "stream",
          "name": "stderr",
          "text": [
            "Epoch 921/1000: 100%|██████████| 13/13 [00:05<00:00,  2.58batch/s, Gen Loss=4.5293, Disc Loss=0.0479]\n"
          ]
        },
        {
          "output_type": "stream",
          "name": "stdout",
          "text": [
            "Estimated time remaining: 6.39 minutes\n",
            "Current learning rates - Generator: 0.000001, Discriminator: 0.000001\n",
            "Epoch 922/1000\n"
          ]
        },
        {
          "output_type": "stream",
          "name": "stderr",
          "text": [
            "Epoch 922/1000: 100%|██████████| 13/13 [00:06<00:00,  2.13batch/s, Gen Loss=4.7200, Disc Loss=0.0238]\n"
          ]
        },
        {
          "output_type": "stream",
          "name": "stdout",
          "text": [
            "Estimated time remaining: 6.31 minutes\n",
            "Current learning rates - Generator: 0.000001, Discriminator: 0.000001\n",
            "Epoch 923/1000\n"
          ]
        },
        {
          "output_type": "stream",
          "name": "stderr",
          "text": [
            "Epoch 923/1000: 100%|██████████| 13/13 [00:04<00:00,  2.85batch/s, Gen Loss=4.6797, Disc Loss=0.0147]\n"
          ]
        },
        {
          "output_type": "stream",
          "name": "stdout",
          "text": [
            "Estimated time remaining: 6.23 minutes\n",
            "Current learning rates - Generator: 0.000001, Discriminator: 0.000001\n",
            "Epoch 924/1000\n"
          ]
        },
        {
          "output_type": "stream",
          "name": "stderr",
          "text": [
            "Epoch 924/1000: 100%|██████████| 13/13 [00:04<00:00,  2.73batch/s, Gen Loss=4.3170, Disc Loss=0.0434]\n"
          ]
        },
        {
          "output_type": "stream",
          "name": "stdout",
          "text": [
            "Estimated time remaining: 6.15 minutes\n",
            "Current learning rates - Generator: 0.000001, Discriminator: 0.000001\n",
            "Epoch 925/1000\n"
          ]
        },
        {
          "output_type": "stream",
          "name": "stderr",
          "text": [
            "Epoch 925/1000: 100%|██████████| 13/13 [00:06<00:00,  1.92batch/s, Gen Loss=4.0758, Disc Loss=0.0310]\n"
          ]
        },
        {
          "output_type": "stream",
          "name": "stdout",
          "text": [
            "Generated images for epoch 924 saved to GrapeDataset/Grape Plant from Plant Village Dataset.\n",
            "Estimated time remaining: 6.07 minutes\n",
            "Current learning rates - Generator: 0.000001, Discriminator: 0.000001\n",
            "Epoch 926/1000\n"
          ]
        },
        {
          "output_type": "stream",
          "name": "stderr",
          "text": [
            "Epoch 926/1000: 100%|██████████| 13/13 [00:04<00:00,  2.76batch/s, Gen Loss=4.4868, Disc Loss=0.0402]\n"
          ]
        },
        {
          "output_type": "stream",
          "name": "stdout",
          "text": [
            "Estimated time remaining: 5.99 minutes\n",
            "Current learning rates - Generator: 0.000001, Discriminator: 0.000001\n",
            "Epoch 927/1000\n"
          ]
        },
        {
          "output_type": "stream",
          "name": "stderr",
          "text": [
            "Epoch 927/1000: 100%|██████████| 13/13 [00:04<00:00,  2.64batch/s, Gen Loss=3.8132, Disc Loss=0.0664]\n"
          ]
        },
        {
          "output_type": "stream",
          "name": "stdout",
          "text": [
            "Estimated time remaining: 5.91 minutes\n",
            "Current learning rates - Generator: 0.000001, Discriminator: 0.000001\n",
            "Epoch 928/1000\n"
          ]
        },
        {
          "output_type": "stream",
          "name": "stderr",
          "text": [
            "Epoch 928/1000: 100%|██████████| 13/13 [00:06<00:00,  2.00batch/s, Gen Loss=4.4351, Disc Loss=0.0396]\n"
          ]
        },
        {
          "output_type": "stream",
          "name": "stdout",
          "text": [
            "Estimated time remaining: 5.83 minutes\n",
            "Current learning rates - Generator: 0.000001, Discriminator: 0.000001\n",
            "Epoch 929/1000\n"
          ]
        },
        {
          "output_type": "stream",
          "name": "stderr",
          "text": [
            "Epoch 929/1000: 100%|██████████| 13/13 [00:04<00:00,  2.76batch/s, Gen Loss=4.0344, Disc Loss=0.0383]\n"
          ]
        },
        {
          "output_type": "stream",
          "name": "stdout",
          "text": [
            "Estimated time remaining: 5.75 minutes\n",
            "Current learning rates - Generator: 0.000001, Discriminator: 0.000001\n",
            "Epoch 930/1000\n"
          ]
        },
        {
          "output_type": "stream",
          "name": "stderr",
          "text": [
            "Epoch 930/1000: 100%|██████████| 13/13 [00:04<00:00,  2.70batch/s, Gen Loss=4.7059, Disc Loss=0.0230]\n"
          ]
        },
        {
          "output_type": "stream",
          "name": "stdout",
          "text": [
            "Generated images for epoch 929 saved to GrapeDataset/Grape Plant from Plant Village Dataset.\n",
            "Estimated time remaining: 5.67 minutes\n",
            "Current learning rates - Generator: 0.000001, Discriminator: 0.000001\n",
            "Epoch 931/1000\n"
          ]
        },
        {
          "output_type": "stream",
          "name": "stderr",
          "text": [
            "Epoch 931/1000: 100%|██████████| 13/13 [00:05<00:00,  2.18batch/s, Gen Loss=4.1360, Disc Loss=0.0451]\n"
          ]
        },
        {
          "output_type": "stream",
          "name": "stdout",
          "text": [
            "Estimated time remaining: 5.59 minutes\n",
            "Current learning rates - Generator: 0.000001, Discriminator: 0.000001\n",
            "Epoch 932/1000\n"
          ]
        },
        {
          "output_type": "stream",
          "name": "stderr",
          "text": [
            "Epoch 932/1000: 100%|██████████| 13/13 [00:04<00:00,  2.82batch/s, Gen Loss=4.5855, Disc Loss=0.0280]\n"
          ]
        },
        {
          "output_type": "stream",
          "name": "stdout",
          "text": [
            "Estimated time remaining: 5.51 minutes\n",
            "Current learning rates - Generator: 0.000001, Discriminator: 0.000001\n",
            "Epoch 933/1000\n"
          ]
        },
        {
          "output_type": "stream",
          "name": "stderr",
          "text": [
            "Epoch 933/1000: 100%|██████████| 13/13 [00:04<00:00,  2.63batch/s, Gen Loss=4.3905, Disc Loss=0.0460]\n"
          ]
        },
        {
          "output_type": "stream",
          "name": "stdout",
          "text": [
            "Estimated time remaining: 5.43 minutes\n",
            "Current learning rates - Generator: 0.000001, Discriminator: 0.000001\n",
            "Epoch 934/1000\n"
          ]
        },
        {
          "output_type": "stream",
          "name": "stderr",
          "text": [
            "Epoch 934/1000: 100%|██████████| 13/13 [00:06<00:00,  2.08batch/s, Gen Loss=4.5885, Disc Loss=0.0210]\n"
          ]
        },
        {
          "output_type": "stream",
          "name": "stdout",
          "text": [
            "Estimated time remaining: 5.35 minutes\n",
            "Current learning rates - Generator: 0.000001, Discriminator: 0.000001\n",
            "Epoch 935/1000\n"
          ]
        },
        {
          "output_type": "stream",
          "name": "stderr",
          "text": [
            "Epoch 935/1000: 100%|██████████| 13/13 [00:04<00:00,  2.80batch/s, Gen Loss=4.5570, Disc Loss=0.0122]\n"
          ]
        },
        {
          "output_type": "stream",
          "name": "stdout",
          "text": [
            "Generated images for epoch 934 saved to GrapeDataset/Grape Plant from Plant Village Dataset.\n",
            "Estimated time remaining: 5.27 minutes\n",
            "Current learning rates - Generator: 0.000001, Discriminator: 0.000001\n",
            "Epoch 936/1000\n"
          ]
        },
        {
          "output_type": "stream",
          "name": "stderr",
          "text": [
            "Epoch 936/1000: 100%|██████████| 13/13 [00:05<00:00,  2.54batch/s, Gen Loss=4.7095, Disc Loss=0.0583]\n"
          ]
        },
        {
          "output_type": "stream",
          "name": "stdout",
          "text": [
            "Estimated time remaining: 5.19 minutes\n",
            "Current learning rates - Generator: 0.000001, Discriminator: 0.000001\n",
            "Epoch 937/1000\n"
          ]
        },
        {
          "output_type": "stream",
          "name": "stderr",
          "text": [
            "Epoch 937/1000: 100%|██████████| 13/13 [00:06<00:00,  2.05batch/s, Gen Loss=4.5848, Disc Loss=0.0285]\n"
          ]
        },
        {
          "output_type": "stream",
          "name": "stdout",
          "text": [
            "Estimated time remaining: 5.11 minutes\n",
            "Current learning rates - Generator: 0.000001, Discriminator: 0.000001\n",
            "Epoch 938/1000\n"
          ]
        },
        {
          "output_type": "stream",
          "name": "stderr",
          "text": [
            "Epoch 938/1000: 100%|██████████| 13/13 [00:04<00:00,  2.81batch/s, Gen Loss=5.0662, Disc Loss=0.0614]\n"
          ]
        },
        {
          "output_type": "stream",
          "name": "stdout",
          "text": [
            "Estimated time remaining: 5.03 minutes\n",
            "Current learning rates - Generator: 0.000001, Discriminator: 0.000001\n",
            "Epoch 939/1000\n"
          ]
        },
        {
          "output_type": "stream",
          "name": "stderr",
          "text": [
            "Epoch 939/1000: 100%|██████████| 13/13 [00:04<00:00,  2.63batch/s, Gen Loss=4.7603, Disc Loss=0.0112]\n"
          ]
        },
        {
          "output_type": "stream",
          "name": "stdout",
          "text": [
            "Estimated time remaining: 4.95 minutes\n",
            "Current learning rates - Generator: 0.000001, Discriminator: 0.000001\n",
            "Epoch 940/1000\n"
          ]
        },
        {
          "output_type": "stream",
          "name": "stderr",
          "text": [
            "Epoch 940/1000: 100%|██████████| 13/13 [00:06<00:00,  1.96batch/s, Gen Loss=4.6565, Disc Loss=0.0109]\n"
          ]
        },
        {
          "output_type": "stream",
          "name": "stdout",
          "text": [
            "Generated images for epoch 939 saved to GrapeDataset/Grape Plant from Plant Village Dataset.\n",
            "Estimated time remaining: 4.87 minutes\n",
            "Current learning rates - Generator: 0.000001, Discriminator: 0.000001\n",
            "Epoch 941/1000\n"
          ]
        },
        {
          "output_type": "stream",
          "name": "stderr",
          "text": [
            "Epoch 941/1000: 100%|██████████| 13/13 [00:04<00:00,  2.66batch/s, Gen Loss=4.4632, Disc Loss=0.0262]\n"
          ]
        },
        {
          "output_type": "stream",
          "name": "stdout",
          "text": [
            "Estimated time remaining: 4.79 minutes\n",
            "Current learning rates - Generator: 0.000001, Discriminator: 0.000001\n",
            "Epoch 942/1000\n"
          ]
        },
        {
          "output_type": "stream",
          "name": "stderr",
          "text": [
            "Epoch 942/1000: 100%|██████████| 13/13 [00:05<00:00,  2.53batch/s, Gen Loss=4.9087, Disc Loss=0.0070]\n"
          ]
        },
        {
          "output_type": "stream",
          "name": "stdout",
          "text": [
            "Estimated time remaining: 4.71 minutes\n",
            "Current learning rates - Generator: 0.000001, Discriminator: 0.000001\n",
            "Epoch 943/1000\n"
          ]
        },
        {
          "output_type": "stream",
          "name": "stderr",
          "text": [
            "Epoch 943/1000: 100%|██████████| 13/13 [00:06<00:00,  2.07batch/s, Gen Loss=4.9341, Disc Loss=0.0369]\n"
          ]
        },
        {
          "output_type": "stream",
          "name": "stdout",
          "text": [
            "Estimated time remaining: 4.63 minutes\n",
            "Current learning rates - Generator: 0.000001, Discriminator: 0.000001\n",
            "Epoch 944/1000\n"
          ]
        },
        {
          "output_type": "stream",
          "name": "stderr",
          "text": [
            "Epoch 944/1000: 100%|██████████| 13/13 [00:04<00:00,  2.76batch/s, Gen Loss=4.9601, Disc Loss=0.0083]\n"
          ]
        },
        {
          "output_type": "stream",
          "name": "stdout",
          "text": [
            "Estimated time remaining: 4.54 minutes\n",
            "Current learning rates - Generator: 0.000001, Discriminator: 0.000001\n",
            "Epoch 945/1000\n"
          ]
        },
        {
          "output_type": "stream",
          "name": "stderr",
          "text": [
            "Epoch 945/1000: 100%|██████████| 13/13 [00:04<00:00,  2.68batch/s, Gen Loss=4.9812, Disc Loss=0.0479]\n"
          ]
        },
        {
          "output_type": "stream",
          "name": "stdout",
          "text": [
            "Generated images for epoch 944 saved to GrapeDataset/Grape Plant from Plant Village Dataset.\n",
            "Estimated time remaining: 4.46 minutes\n",
            "Current learning rates - Generator: 0.000001, Discriminator: 0.000001\n",
            "Epoch 946/1000\n"
          ]
        },
        {
          "output_type": "stream",
          "name": "stderr",
          "text": [
            "Epoch 946/1000: 100%|██████████| 13/13 [00:06<00:00,  2.07batch/s, Gen Loss=4.9916, Disc Loss=0.0082]\n"
          ]
        },
        {
          "output_type": "stream",
          "name": "stdout",
          "text": [
            "Estimated time remaining: 4.38 minutes\n",
            "Current learning rates - Generator: 0.000001, Discriminator: 0.000001\n",
            "Epoch 947/1000\n"
          ]
        },
        {
          "output_type": "stream",
          "name": "stderr",
          "text": [
            "Epoch 947/1000: 100%|██████████| 13/13 [00:04<00:00,  2.76batch/s, Gen Loss=5.0565, Disc Loss=0.0131]\n"
          ]
        },
        {
          "output_type": "stream",
          "name": "stdout",
          "text": [
            "Estimated time remaining: 4.30 minutes\n",
            "Current learning rates - Generator: 0.000001, Discriminator: 0.000001\n",
            "Epoch 948/1000\n"
          ]
        },
        {
          "output_type": "stream",
          "name": "stderr",
          "text": [
            "Epoch 948/1000: 100%|██████████| 13/13 [00:05<00:00,  2.53batch/s, Gen Loss=5.1722, Disc Loss=0.0375]\n"
          ]
        },
        {
          "output_type": "stream",
          "name": "stdout",
          "text": [
            "Estimated time remaining: 4.22 minutes\n",
            "Current learning rates - Generator: 0.000001, Discriminator: 0.000001\n",
            "Epoch 949/1000\n"
          ]
        },
        {
          "output_type": "stream",
          "name": "stderr",
          "text": [
            "Epoch 949/1000: 100%|██████████| 13/13 [00:06<00:00,  2.14batch/s, Gen Loss=4.8863, Disc Loss=0.0194]\n"
          ]
        },
        {
          "output_type": "stream",
          "name": "stdout",
          "text": [
            "Estimated time remaining: 4.14 minutes\n",
            "Current learning rates - Generator: 0.000001, Discriminator: 0.000001\n",
            "Epoch 950/1000\n"
          ]
        },
        {
          "output_type": "stream",
          "name": "stderr",
          "text": [
            "Epoch 950/1000: 100%|██████████| 13/13 [00:04<00:00,  2.79batch/s, Gen Loss=4.8560, Disc Loss=0.0410]\n"
          ]
        },
        {
          "output_type": "stream",
          "name": "stdout",
          "text": [
            "Generated images for epoch 949 saved to GrapeDataset/Grape Plant from Plant Village Dataset.\n",
            "Estimated time remaining: 4.06 minutes\n",
            "Current learning rates - Generator: 0.000001, Discriminator: 0.000001\n",
            "Epoch 951/1000\n"
          ]
        },
        {
          "output_type": "stream",
          "name": "stderr",
          "text": [
            "Epoch 951/1000: 100%|██████████| 13/13 [00:05<00:00,  2.56batch/s, Gen Loss=5.3569, Disc Loss=0.0072]\n"
          ]
        },
        {
          "output_type": "stream",
          "name": "stdout",
          "text": [
            "Estimated time remaining: 3.98 minutes\n",
            "Current learning rates - Generator: 0.000001, Discriminator: 0.000001\n",
            "Epoch 952/1000\n"
          ]
        },
        {
          "output_type": "stream",
          "name": "stderr",
          "text": [
            "Epoch 952/1000: 100%|██████████| 13/13 [00:05<00:00,  2.24batch/s, Gen Loss=4.9301, Disc Loss=0.0262]\n"
          ]
        },
        {
          "output_type": "stream",
          "name": "stdout",
          "text": [
            "Estimated time remaining: 3.90 minutes\n",
            "Current learning rates - Generator: 0.000001, Discriminator: 0.000001\n",
            "Epoch 953/1000\n"
          ]
        },
        {
          "output_type": "stream",
          "name": "stderr",
          "text": [
            "Epoch 953/1000: 100%|██████████| 13/13 [00:04<00:00,  2.89batch/s, Gen Loss=4.6700, Disc Loss=0.0168]\n"
          ]
        },
        {
          "output_type": "stream",
          "name": "stdout",
          "text": [
            "Estimated time remaining: 3.82 minutes\n",
            "Current learning rates - Generator: 0.000001, Discriminator: 0.000001\n",
            "Epoch 954/1000\n"
          ]
        },
        {
          "output_type": "stream",
          "name": "stderr",
          "text": [
            "Epoch 954/1000: 100%|██████████| 13/13 [00:04<00:00,  2.85batch/s, Gen Loss=4.9698, Disc Loss=0.0118]\n"
          ]
        },
        {
          "output_type": "stream",
          "name": "stdout",
          "text": [
            "Estimated time remaining: 3.74 minutes\n",
            "Current learning rates - Generator: 0.000001, Discriminator: 0.000001\n",
            "Epoch 955/1000\n"
          ]
        },
        {
          "output_type": "stream",
          "name": "stderr",
          "text": [
            "Epoch 955/1000: 100%|██████████| 13/13 [00:06<00:00,  2.00batch/s, Gen Loss=4.8512, Disc Loss=0.0387]\n"
          ]
        },
        {
          "output_type": "stream",
          "name": "stdout",
          "text": [
            "Generated images for epoch 954 saved to GrapeDataset/Grape Plant from Plant Village Dataset.\n",
            "Estimated time remaining: 3.66 minutes\n",
            "Current learning rates - Generator: 0.000001, Discriminator: 0.000001\n",
            "Epoch 956/1000\n"
          ]
        },
        {
          "output_type": "stream",
          "name": "stderr",
          "text": [
            "Epoch 956/1000: 100%|██████████| 13/13 [00:04<00:00,  2.83batch/s, Gen Loss=4.7991, Disc Loss=0.0129]\n"
          ]
        },
        {
          "output_type": "stream",
          "name": "stdout",
          "text": [
            "Estimated time remaining: 3.58 minutes\n",
            "Current learning rates - Generator: 0.000001, Discriminator: 0.000001\n",
            "Epoch 957/1000\n"
          ]
        },
        {
          "output_type": "stream",
          "name": "stderr",
          "text": [
            "Epoch 957/1000: 100%|██████████| 13/13 [00:04<00:00,  2.79batch/s, Gen Loss=5.0967, Disc Loss=0.0162]\n"
          ]
        },
        {
          "output_type": "stream",
          "name": "stdout",
          "text": [
            "Estimated time remaining: 3.50 minutes\n",
            "Current learning rates - Generator: 0.000001, Discriminator: 0.000001\n",
            "Epoch 958/1000\n"
          ]
        },
        {
          "output_type": "stream",
          "name": "stderr",
          "text": [
            "Epoch 958/1000: 100%|██████████| 13/13 [00:06<00:00,  2.05batch/s, Gen Loss=4.7142, Disc Loss=0.0143]\n"
          ]
        },
        {
          "output_type": "stream",
          "name": "stdout",
          "text": [
            "Estimated time remaining: 3.41 minutes\n",
            "Current learning rates - Generator: 0.000001, Discriminator: 0.000001\n",
            "Epoch 959/1000\n"
          ]
        },
        {
          "output_type": "stream",
          "name": "stderr",
          "text": [
            "Epoch 959/1000: 100%|██████████| 13/13 [00:04<00:00,  2.90batch/s, Gen Loss=4.7394, Disc Loss=0.0147]\n"
          ]
        },
        {
          "output_type": "stream",
          "name": "stdout",
          "text": [
            "Estimated time remaining: 3.33 minutes\n",
            "Current learning rates - Generator: 0.000001, Discriminator: 0.000001\n",
            "Epoch 960/1000\n"
          ]
        },
        {
          "output_type": "stream",
          "name": "stderr",
          "text": [
            "Epoch 960/1000: 100%|██████████| 13/13 [00:04<00:00,  2.89batch/s, Gen Loss=5.0546, Disc Loss=0.0572]\n"
          ]
        },
        {
          "output_type": "stream",
          "name": "stdout",
          "text": [
            "Generated images for epoch 959 saved to GrapeDataset/Grape Plant from Plant Village Dataset.\n",
            "Estimated time remaining: 3.25 minutes\n",
            "Current learning rates - Generator: 0.000001, Discriminator: 0.000001\n",
            "Epoch 961/1000\n"
          ]
        },
        {
          "output_type": "stream",
          "name": "stderr",
          "text": [
            "Epoch 961/1000: 100%|██████████| 13/13 [00:05<00:00,  2.17batch/s, Gen Loss=4.9603, Disc Loss=0.0089]\n"
          ]
        },
        {
          "output_type": "stream",
          "name": "stdout",
          "text": [
            "Estimated time remaining: 3.17 minutes\n",
            "Current learning rates - Generator: 0.000001, Discriminator: 0.000001\n",
            "Epoch 962/1000\n"
          ]
        },
        {
          "output_type": "stream",
          "name": "stderr",
          "text": [
            "Epoch 962/1000: 100%|██████████| 13/13 [00:04<00:00,  2.93batch/s, Gen Loss=4.8191, Disc Loss=0.0204]\n"
          ]
        },
        {
          "output_type": "stream",
          "name": "stdout",
          "text": [
            "Estimated time remaining: 3.09 minutes\n",
            "Current learning rates - Generator: 0.000001, Discriminator: 0.000001\n",
            "Epoch 963/1000\n"
          ]
        },
        {
          "output_type": "stream",
          "name": "stderr",
          "text": [
            "Epoch 963/1000: 100%|██████████| 13/13 [00:04<00:00,  2.80batch/s, Gen Loss=4.5449, Disc Loss=0.0275]\n"
          ]
        },
        {
          "output_type": "stream",
          "name": "stdout",
          "text": [
            "Estimated time remaining: 3.01 minutes\n",
            "Current learning rates - Generator: 0.000001, Discriminator: 0.000001\n",
            "Epoch 964/1000\n"
          ]
        },
        {
          "output_type": "stream",
          "name": "stderr",
          "text": [
            "Epoch 964/1000: 100%|██████████| 13/13 [00:06<00:00,  1.99batch/s, Gen Loss=4.4716, Disc Loss=0.0169]\n"
          ]
        },
        {
          "output_type": "stream",
          "name": "stdout",
          "text": [
            "Estimated time remaining: 2.93 minutes\n",
            "Current learning rates - Generator: 0.000001, Discriminator: 0.000001\n",
            "Epoch 965/1000\n"
          ]
        },
        {
          "output_type": "stream",
          "name": "stderr",
          "text": [
            "Epoch 965/1000: 100%|██████████| 13/13 [00:04<00:00,  2.94batch/s, Gen Loss=4.6393, Disc Loss=0.0118]\n"
          ]
        },
        {
          "output_type": "stream",
          "name": "stdout",
          "text": [
            "Generated images for epoch 964 saved to GrapeDataset/Grape Plant from Plant Village Dataset.\n",
            "Estimated time remaining: 2.85 minutes\n",
            "Current learning rates - Generator: 0.000001, Discriminator: 0.000001\n",
            "Epoch 966/1000\n"
          ]
        },
        {
          "output_type": "stream",
          "name": "stderr",
          "text": [
            "Epoch 966/1000: 100%|██████████| 13/13 [00:04<00:00,  2.83batch/s, Gen Loss=4.3893, Disc Loss=0.0333]\n"
          ]
        },
        {
          "output_type": "stream",
          "name": "stdout",
          "text": [
            "Estimated time remaining: 2.77 minutes\n",
            "Current learning rates - Generator: 0.000001, Discriminator: 0.000001\n",
            "Epoch 967/1000\n"
          ]
        },
        {
          "output_type": "stream",
          "name": "stderr",
          "text": [
            "Epoch 967/1000: 100%|██████████| 13/13 [00:06<00:00,  1.94batch/s, Gen Loss=4.4602, Disc Loss=0.0261]\n"
          ]
        },
        {
          "output_type": "stream",
          "name": "stdout",
          "text": [
            "Estimated time remaining: 2.69 minutes\n",
            "Current learning rates - Generator: 0.000001, Discriminator: 0.000001\n",
            "Epoch 968/1000\n"
          ]
        },
        {
          "output_type": "stream",
          "name": "stderr",
          "text": [
            "Epoch 968/1000: 100%|██████████| 13/13 [00:04<00:00,  2.87batch/s, Gen Loss=4.6091, Disc Loss=0.0178]\n"
          ]
        },
        {
          "output_type": "stream",
          "name": "stdout",
          "text": [
            "Estimated time remaining: 2.60 minutes\n",
            "Current learning rates - Generator: 0.000001, Discriminator: 0.000001\n",
            "Epoch 969/1000\n"
          ]
        },
        {
          "output_type": "stream",
          "name": "stderr",
          "text": [
            "Epoch 969/1000: 100%|██████████| 13/13 [00:04<00:00,  2.75batch/s, Gen Loss=4.5625, Disc Loss=0.0301]\n"
          ]
        },
        {
          "output_type": "stream",
          "name": "stdout",
          "text": [
            "Estimated time remaining: 2.52 minutes\n",
            "Current learning rates - Generator: 0.000001, Discriminator: 0.000001\n",
            "Epoch 970/1000\n"
          ]
        },
        {
          "output_type": "stream",
          "name": "stderr",
          "text": [
            "Epoch 970/1000: 100%|██████████| 13/13 [00:06<00:00,  1.94batch/s, Gen Loss=4.8428, Disc Loss=0.0121]\n"
          ]
        },
        {
          "output_type": "stream",
          "name": "stdout",
          "text": [
            "Generated images for epoch 969 saved to GrapeDataset/Grape Plant from Plant Village Dataset.\n",
            "Estimated time remaining: 2.44 minutes\n",
            "Current learning rates - Generator: 0.000001, Discriminator: 0.000001\n",
            "Epoch 971/1000\n"
          ]
        },
        {
          "output_type": "stream",
          "name": "stderr",
          "text": [
            "Epoch 971/1000: 100%|██████████| 13/13 [00:04<00:00,  2.87batch/s, Gen Loss=4.4596, Disc Loss=0.0267]\n"
          ]
        },
        {
          "output_type": "stream",
          "name": "stdout",
          "text": [
            "Estimated time remaining: 2.36 minutes\n",
            "Current learning rates - Generator: 0.000001, Discriminator: 0.000001\n",
            "Epoch 972/1000\n"
          ]
        },
        {
          "output_type": "stream",
          "name": "stderr",
          "text": [
            "Epoch 972/1000: 100%|██████████| 13/13 [00:04<00:00,  2.97batch/s, Gen Loss=4.6062, Disc Loss=0.0359]\n"
          ]
        },
        {
          "output_type": "stream",
          "name": "stdout",
          "text": [
            "Estimated time remaining: 2.28 minutes\n",
            "Current learning rates - Generator: 0.000001, Discriminator: 0.000001\n",
            "Epoch 973/1000\n"
          ]
        },
        {
          "output_type": "stream",
          "name": "stderr",
          "text": [
            "Epoch 973/1000: 100%|██████████| 13/13 [00:06<00:00,  2.03batch/s, Gen Loss=5.1450, Disc Loss=0.0117]\n"
          ]
        },
        {
          "output_type": "stream",
          "name": "stdout",
          "text": [
            "Estimated time remaining: 2.20 minutes\n",
            "Current learning rates - Generator: 0.000001, Discriminator: 0.000001\n",
            "Epoch 974/1000\n"
          ]
        },
        {
          "output_type": "stream",
          "name": "stderr",
          "text": [
            "Epoch 974/1000: 100%|██████████| 13/13 [00:04<00:00,  2.92batch/s, Gen Loss=5.0935, Disc Loss=0.0194]\n"
          ]
        },
        {
          "output_type": "stream",
          "name": "stdout",
          "text": [
            "Estimated time remaining: 2.12 minutes\n",
            "Current learning rates - Generator: 0.000001, Discriminator: 0.000001\n",
            "Epoch 975/1000\n"
          ]
        },
        {
          "output_type": "stream",
          "name": "stderr",
          "text": [
            "Epoch 975/1000: 100%|██████████| 13/13 [00:04<00:00,  2.71batch/s, Gen Loss=5.1961, Disc Loss=0.0516]\n"
          ]
        },
        {
          "output_type": "stream",
          "name": "stdout",
          "text": [
            "Generated images for epoch 974 saved to GrapeDataset/Grape Plant from Plant Village Dataset.\n",
            "Estimated time remaining: 2.04 minutes\n",
            "Current learning rates - Generator: 0.000001, Discriminator: 0.000001\n",
            "Epoch 976/1000\n"
          ]
        },
        {
          "output_type": "stream",
          "name": "stderr",
          "text": [
            "Epoch 976/1000: 100%|██████████| 13/13 [00:06<00:00,  2.14batch/s, Gen Loss=5.0758, Disc Loss=0.0183]\n"
          ]
        },
        {
          "output_type": "stream",
          "name": "stdout",
          "text": [
            "Estimated time remaining: 1.96 minutes\n",
            "Current learning rates - Generator: 0.000001, Discriminator: 0.000001\n",
            "Epoch 977/1000\n"
          ]
        },
        {
          "output_type": "stream",
          "name": "stderr",
          "text": [
            "Epoch 977/1000: 100%|██████████| 13/13 [00:04<00:00,  2.84batch/s, Gen Loss=4.8954, Disc Loss=0.0074]\n"
          ]
        },
        {
          "output_type": "stream",
          "name": "stdout",
          "text": [
            "Estimated time remaining: 1.87 minutes\n",
            "Current learning rates - Generator: 0.000001, Discriminator: 0.000001\n",
            "Epoch 978/1000\n"
          ]
        },
        {
          "output_type": "stream",
          "name": "stderr",
          "text": [
            "Epoch 978/1000: 100%|██████████| 13/13 [00:04<00:00,  2.87batch/s, Gen Loss=5.2999, Disc Loss=0.0185]\n"
          ]
        },
        {
          "output_type": "stream",
          "name": "stdout",
          "text": [
            "Estimated time remaining: 1.79 minutes\n",
            "Current learning rates - Generator: 0.000001, Discriminator: 0.000001\n",
            "Epoch 979/1000\n"
          ]
        },
        {
          "output_type": "stream",
          "name": "stderr",
          "text": [
            "Epoch 979/1000: 100%|██████████| 13/13 [00:06<00:00,  2.07batch/s, Gen Loss=4.8926, Disc Loss=0.0112]\n"
          ]
        },
        {
          "output_type": "stream",
          "name": "stdout",
          "text": [
            "Estimated time remaining: 1.71 minutes\n",
            "Current learning rates - Generator: 0.000001, Discriminator: 0.000001\n",
            "Epoch 980/1000\n"
          ]
        },
        {
          "output_type": "stream",
          "name": "stderr",
          "text": [
            "Epoch 980/1000: 100%|██████████| 13/13 [00:04<00:00,  2.89batch/s, Gen Loss=5.2468, Disc Loss=0.0127]\n"
          ]
        },
        {
          "output_type": "stream",
          "name": "stdout",
          "text": [
            "Generated images for epoch 979 saved to GrapeDataset/Grape Plant from Plant Village Dataset.\n",
            "Estimated time remaining: 1.63 minutes\n",
            "Current learning rates - Generator: 0.000001, Discriminator: 0.000001\n",
            "Epoch 981/1000\n"
          ]
        },
        {
          "output_type": "stream",
          "name": "stderr",
          "text": [
            "Epoch 981/1000: 100%|██████████| 13/13 [00:04<00:00,  2.83batch/s, Gen Loss=5.1457, Disc Loss=0.0079]\n"
          ]
        },
        {
          "output_type": "stream",
          "name": "stdout",
          "text": [
            "Estimated time remaining: 1.55 minutes\n",
            "Current learning rates - Generator: 0.000001, Discriminator: 0.000001\n",
            "Epoch 982/1000\n"
          ]
        },
        {
          "output_type": "stream",
          "name": "stderr",
          "text": [
            "Epoch 982/1000: 100%|██████████| 13/13 [00:06<00:00,  2.00batch/s, Gen Loss=4.9686, Disc Loss=0.0113]\n"
          ]
        },
        {
          "output_type": "stream",
          "name": "stdout",
          "text": [
            "Estimated time remaining: 1.47 minutes\n",
            "Current learning rates - Generator: 0.000001, Discriminator: 0.000001\n",
            "Epoch 983/1000\n"
          ]
        },
        {
          "output_type": "stream",
          "name": "stderr",
          "text": [
            "Epoch 983/1000: 100%|██████████| 13/13 [00:04<00:00,  2.87batch/s, Gen Loss=5.2257, Disc Loss=0.0090]\n"
          ]
        },
        {
          "output_type": "stream",
          "name": "stdout",
          "text": [
            "Estimated time remaining: 1.39 minutes\n",
            "Current learning rates - Generator: 0.000001, Discriminator: 0.000001\n",
            "Epoch 984/1000\n"
          ]
        },
        {
          "output_type": "stream",
          "name": "stderr",
          "text": [
            "Epoch 984/1000: 100%|██████████| 13/13 [00:04<00:00,  2.85batch/s, Gen Loss=5.4763, Disc Loss=0.0052]\n"
          ]
        },
        {
          "output_type": "stream",
          "name": "stdout",
          "text": [
            "Estimated time remaining: 1.30 minutes\n",
            "Current learning rates - Generator: 0.000001, Discriminator: 0.000001\n",
            "Epoch 985/1000\n"
          ]
        },
        {
          "output_type": "stream",
          "name": "stderr",
          "text": [
            "Epoch 985/1000: 100%|██████████| 13/13 [00:06<00:00,  2.09batch/s, Gen Loss=5.5005, Disc Loss=0.0053]\n"
          ]
        },
        {
          "output_type": "stream",
          "name": "stdout",
          "text": [
            "Generated images for epoch 984 saved to GrapeDataset/Grape Plant from Plant Village Dataset.\n",
            "Estimated time remaining: 1.22 minutes\n",
            "Current learning rates - Generator: 0.000001, Discriminator: 0.000001\n",
            "Epoch 986/1000\n"
          ]
        },
        {
          "output_type": "stream",
          "name": "stderr",
          "text": [
            "Epoch 986/1000: 100%|██████████| 13/13 [00:04<00:00,  2.93batch/s, Gen Loss=4.8917, Disc Loss=0.0218]\n"
          ]
        },
        {
          "output_type": "stream",
          "name": "stdout",
          "text": [
            "Estimated time remaining: 1.14 minutes\n",
            "Current learning rates - Generator: 0.000001, Discriminator: 0.000001\n",
            "Epoch 987/1000\n"
          ]
        },
        {
          "output_type": "stream",
          "name": "stderr",
          "text": [
            "Epoch 987/1000: 100%|██████████| 13/13 [00:04<00:00,  2.81batch/s, Gen Loss=4.9572, Disc Loss=0.0315]\n"
          ]
        },
        {
          "output_type": "stream",
          "name": "stdout",
          "text": [
            "Estimated time remaining: 1.06 minutes\n",
            "Current learning rates - Generator: 0.000001, Discriminator: 0.000001\n",
            "Epoch 988/1000\n"
          ]
        },
        {
          "output_type": "stream",
          "name": "stderr",
          "text": [
            "Epoch 988/1000: 100%|██████████| 13/13 [00:06<00:00,  2.04batch/s, Gen Loss=5.1644, Disc Loss=0.0246]\n"
          ]
        },
        {
          "output_type": "stream",
          "name": "stdout",
          "text": [
            "Estimated time remaining: 0.98 minutes\n",
            "Current learning rates - Generator: 0.000001, Discriminator: 0.000001\n",
            "Epoch 989/1000\n"
          ]
        },
        {
          "output_type": "stream",
          "name": "stderr",
          "text": [
            "Epoch 989/1000: 100%|██████████| 13/13 [00:04<00:00,  2.75batch/s, Gen Loss=4.9623, Disc Loss=0.0159]\n"
          ]
        },
        {
          "output_type": "stream",
          "name": "stdout",
          "text": [
            "Estimated time remaining: 0.90 minutes\n",
            "Current learning rates - Generator: 0.000001, Discriminator: 0.000001\n",
            "Epoch 990/1000\n"
          ]
        },
        {
          "output_type": "stream",
          "name": "stderr",
          "text": [
            "Epoch 990/1000: 100%|██████████| 13/13 [00:04<00:00,  2.91batch/s, Gen Loss=4.7809, Disc Loss=0.0478]\n"
          ]
        },
        {
          "output_type": "stream",
          "name": "stdout",
          "text": [
            "Generated images for epoch 989 saved to GrapeDataset/Grape Plant from Plant Village Dataset.\n",
            "Estimated time remaining: 0.82 minutes\n",
            "Current learning rates - Generator: 0.000001, Discriminator: 0.000001\n",
            "Epoch 991/1000\n"
          ]
        },
        {
          "output_type": "stream",
          "name": "stderr",
          "text": [
            "Epoch 991/1000: 100%|██████████| 13/13 [00:06<00:00,  2.08batch/s, Gen Loss=4.6212, Disc Loss=0.0247]\n"
          ]
        },
        {
          "output_type": "stream",
          "name": "stdout",
          "text": [
            "Estimated time remaining: 0.73 minutes\n",
            "Current learning rates - Generator: 0.000001, Discriminator: 0.000001\n",
            "Epoch 992/1000\n"
          ]
        },
        {
          "output_type": "stream",
          "name": "stderr",
          "text": [
            "Epoch 992/1000: 100%|██████████| 13/13 [00:04<00:00,  2.72batch/s, Gen Loss=4.3494, Disc Loss=0.0519]\n"
          ]
        },
        {
          "output_type": "stream",
          "name": "stdout",
          "text": [
            "Estimated time remaining: 0.65 minutes\n",
            "Current learning rates - Generator: 0.000001, Discriminator: 0.000001\n",
            "Epoch 993/1000\n"
          ]
        },
        {
          "output_type": "stream",
          "name": "stderr",
          "text": [
            "Epoch 993/1000: 100%|██████████| 13/13 [00:04<00:00,  2.92batch/s, Gen Loss=4.2234, Disc Loss=0.0246]\n"
          ]
        },
        {
          "output_type": "stream",
          "name": "stdout",
          "text": [
            "Estimated time remaining: 0.57 minutes\n",
            "Current learning rates - Generator: 0.000001, Discriminator: 0.000001\n",
            "Epoch 994/1000\n"
          ]
        },
        {
          "output_type": "stream",
          "name": "stderr",
          "text": [
            "Epoch 994/1000: 100%|██████████| 13/13 [00:05<00:00,  2.28batch/s, Gen Loss=4.1576, Disc Loss=0.0351]\n"
          ]
        },
        {
          "output_type": "stream",
          "name": "stdout",
          "text": [
            "Estimated time remaining: 0.49 minutes\n",
            "Current learning rates - Generator: 0.000001, Discriminator: 0.000001\n",
            "Epoch 995/1000\n"
          ]
        },
        {
          "output_type": "stream",
          "name": "stderr",
          "text": [
            "Epoch 995/1000: 100%|██████████| 13/13 [00:05<00:00,  2.45batch/s, Gen Loss=3.8777, Disc Loss=0.0978]\n"
          ]
        },
        {
          "output_type": "stream",
          "name": "stdout",
          "text": [
            "Generated images for epoch 994 saved to GrapeDataset/Grape Plant from Plant Village Dataset.\n",
            "Estimated time remaining: 0.41 minutes\n",
            "Current learning rates - Generator: 0.000001, Discriminator: 0.000001\n",
            "Epoch 996/1000\n"
          ]
        },
        {
          "output_type": "stream",
          "name": "stderr",
          "text": [
            "Epoch 996/1000: 100%|██████████| 13/13 [00:04<00:00,  2.95batch/s, Gen Loss=4.3777, Disc Loss=0.0620]\n"
          ]
        },
        {
          "output_type": "stream",
          "name": "stdout",
          "text": [
            "Estimated time remaining: 0.33 minutes\n",
            "Current learning rates - Generator: 0.000001, Discriminator: 0.000001\n",
            "Epoch 997/1000\n"
          ]
        },
        {
          "output_type": "stream",
          "name": "stderr",
          "text": [
            "Epoch 997/1000: 100%|██████████| 13/13 [00:05<00:00,  2.35batch/s, Gen Loss=3.9551, Disc Loss=0.0268]\n"
          ]
        },
        {
          "output_type": "stream",
          "name": "stdout",
          "text": [
            "Estimated time remaining: 0.24 minutes\n",
            "Current learning rates - Generator: 0.000001, Discriminator: 0.000001\n",
            "Epoch 998/1000\n"
          ]
        },
        {
          "output_type": "stream",
          "name": "stderr",
          "text": [
            "Epoch 998/1000: 100%|██████████| 13/13 [00:05<00:00,  2.27batch/s, Gen Loss=4.0047, Disc Loss=0.0483]\n"
          ]
        },
        {
          "output_type": "stream",
          "name": "stdout",
          "text": [
            "Estimated time remaining: 0.16 minutes\n",
            "Current learning rates - Generator: 0.000001, Discriminator: 0.000001\n",
            "Epoch 999/1000\n"
          ]
        },
        {
          "output_type": "stream",
          "name": "stderr",
          "text": [
            "Epoch 999/1000: 100%|██████████| 13/13 [00:04<00:00,  2.95batch/s, Gen Loss=3.8170, Disc Loss=0.0352]\n"
          ]
        },
        {
          "output_type": "stream",
          "name": "stdout",
          "text": [
            "Estimated time remaining: 0.08 minutes\n",
            "Current learning rates - Generator: 0.000001, Discriminator: 0.000001\n",
            "Epoch 1000/1000\n"
          ]
        },
        {
          "output_type": "stream",
          "name": "stderr",
          "text": [
            "Epoch 1000/1000: 100%|██████████| 13/13 [00:04<00:00,  2.67batch/s, Gen Loss=4.2340, Disc Loss=0.0655]\n"
          ]
        },
        {
          "output_type": "stream",
          "name": "stdout",
          "text": [
            "Generated images for epoch 999 saved to GrapeDataset/Grape Plant from Plant Village Dataset.\n",
            "Estimated time remaining: 0.00 minutes\n",
            "Current learning rates - Generator: 0.000001, Discriminator: 0.000001\n"
          ]
        }
      ]
    },
    {
      "cell_type": "code",
      "source": [
        "import shutil\n",
        "\n",
        "# Replace `folder_path` with the path to your GAN-generated images folder\n",
        "folder_path = \"/content/GrapeDataset/Grape Plant from Plant Village Dataset\"\n",
        "output_zip = \"/content/GrapeDataset.zip\"\n",
        "shutil.make_archive(output_zip.replace(\".zip\", \"\"), 'zip', folder_path)\n"
      ],
      "metadata": {
        "colab": {
          "base_uri": "https://localhost:8080/",
          "height": 36
        },
        "id": "-18ISfIHvU75",
        "outputId": "59f16d53-a412-4b1a-9c25-e4e33b56a8e6"
      },
      "execution_count": null,
      "outputs": [
        {
          "output_type": "execute_result",
          "data": {
            "text/plain": [
              "'/content/GrapeDataset.zip'"
            ],
            "application/vnd.google.colaboratory.intrinsic+json": {
              "type": "string"
            }
          },
          "metadata": {},
          "execution_count": 8
        }
      ]
    },
    {
      "cell_type": "code",
      "source": [
        "from google.colab import files\n",
        "files.download(output_zip)\n"
      ],
      "metadata": {
        "id": "tvJBvGj_voUj",
        "outputId": "735d6c30-a85f-4bda-fe7a-8269bc4880da",
        "colab": {
          "base_uri": "https://localhost:8080/",
          "height": 34
        }
      },
      "execution_count": null,
      "outputs": [
        {
          "output_type": "display_data",
          "data": {
            "text/plain": [
              "<IPython.core.display.Javascript object>"
            ],
            "application/javascript": [
              "\n",
              "    async function download(id, filename, size) {\n",
              "      if (!google.colab.kernel.accessAllowed) {\n",
              "        return;\n",
              "      }\n",
              "      const div = document.createElement('div');\n",
              "      const label = document.createElement('label');\n",
              "      label.textContent = `Downloading \"${filename}\": `;\n",
              "      div.appendChild(label);\n",
              "      const progress = document.createElement('progress');\n",
              "      progress.max = size;\n",
              "      div.appendChild(progress);\n",
              "      document.body.appendChild(div);\n",
              "\n",
              "      const buffers = [];\n",
              "      let downloaded = 0;\n",
              "\n",
              "      const channel = await google.colab.kernel.comms.open(id);\n",
              "      // Send a message to notify the kernel that we're ready.\n",
              "      channel.send({})\n",
              "\n",
              "      for await (const message of channel.messages) {\n",
              "        // Send a message to notify the kernel that we're ready.\n",
              "        channel.send({})\n",
              "        if (message.buffers) {\n",
              "          for (const buffer of message.buffers) {\n",
              "            buffers.push(buffer);\n",
              "            downloaded += buffer.byteLength;\n",
              "            progress.value = downloaded;\n",
              "          }\n",
              "        }\n",
              "      }\n",
              "      const blob = new Blob(buffers, {type: 'application/binary'});\n",
              "      const a = document.createElement('a');\n",
              "      a.href = window.URL.createObjectURL(blob);\n",
              "      a.download = filename;\n",
              "      div.appendChild(a);\n",
              "      a.click();\n",
              "      div.remove();\n",
              "    }\n",
              "  "
            ]
          },
          "metadata": {}
        },
        {
          "output_type": "display_data",
          "data": {
            "text/plain": [
              "<IPython.core.display.Javascript object>"
            ],
            "application/javascript": [
              "download(\"download_86eecb43-1391-42d0-b2da-3591bc3b16af\", \"GrapeDataset.zip\", 549940963)"
            ]
          },
          "metadata": {}
        }
      ]
    }
  ]
}